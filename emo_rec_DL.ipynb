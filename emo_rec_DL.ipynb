{
  "nbformat": 4,
  "nbformat_minor": 0,
  "metadata": {
    "colab": {
      "name": "emo_rec_DL.ipynb",
      "provenance": [],
      "collapsed_sections": [],
      "mount_file_id": "1Opzktxg-e2evdfRTQHCM8i_Wpv-F_fe3",
      "authorship_tag": "ABX9TyNqcQCIx7B8TZMR/n7kt7WL",
      "include_colab_link": true
    },
    "kernelspec": {
      "name": "python3",
      "display_name": "Python 3"
    },
    "language_info": {
      "name": "python"
    }
  },
  "cells": [
    {
      "cell_type": "markdown",
      "metadata": {
        "id": "view-in-github",
        "colab_type": "text"
      },
      "source": [
        "<a href=\"https://colab.research.google.com/github/NK2108/Deep-Learning/blob/main/emo_rec_DL.ipynb\" target=\"_parent\"><img src=\"https://colab.research.google.com/assets/colab-badge.svg\" alt=\"Open In Colab\"/></a>"
      ]
    },
    {
      "cell_type": "code",
      "execution_count": 15,
      "metadata": {
        "id": "yfUXwLiy21pO"
      },
      "outputs": [],
      "source": [
        "import os\n",
        "Root = \"/content/drive/MyDrive/speech-emotion-recognition-ravdess-data/samples/\"\n",
        "os.chdir(Root)\n",
        "#load dataset and check list directory"
      ]
    },
    {
      "cell_type": "code",
      "source": [
        "import librosa\n",
        "import soundfile as sf\n",
        "import os, glob, pickle\n",
        "import numpy as np\n",
        "from sklearn.model_selection import train_test_split\n",
        "from sklearn.metrics import accuracy_score\n",
        "#import all necessary libraries"
      ],
      "metadata": {
        "id": "Jw_-bgeg4am9"
      },
      "execution_count": 16,
      "outputs": []
    },
    {
      "cell_type": "code",
      "source": [
        "def extract_feature(file_name, mfcc, chroma, mel):\n",
        "    with sf.SoundFile(file_name) as sound_file:\n",
        "        X = sound_file.read(dtype=\"float32\")\n",
        "        sample_rate=sound_file.samplerate\n",
        "        if chroma:\n",
        "            stft=np.abs(librosa.stft(X))\n",
        "        result=np.array([])\n",
        "        if mfcc:\n",
        "            mfccs=np.mean(librosa.feature.mfcc(y=X, sr=sample_rate, n_mfcc=40).T, axis=0)\n",
        "            result=np.hstack((result, mfccs))\n",
        "        if chroma:\n",
        "            chroma=np.mean(librosa.feature.chroma_stft(S=stft, sr=sample_rate).T,axis=0)\n",
        "            result=np.hstack((result, chroma))\n",
        "        if mel:\n",
        "            mel=np.mean(librosa.feature.melspectrogram(X, sr=sample_rate).T,axis=0)\n",
        "            result=np.hstack((result, mel))\n",
        "    return result\n",
        "#Extract mfcc, chroma, mel from a sound file\n",
        "#Soundfile can read and write sound files and represents audio data as NumPy arrays\n",
        "#librosa.stft: Short-time Fourier transform, represents a signal in the time-frequency \n",
        "#domain by computing discrete Fourier transforms (DFT) over short overlapping windows\n",
        "#librosa.feature.mfcc: peak loudness in decibels across all channels, we take the average\n",
        "#librosa.feature.melspectrogram: computes a mel-scaled spectogram, logarithmically renders frequencies above a certain threshold\n"
      ],
      "metadata": {
        "id": "UqdGypys4z-a"
      },
      "execution_count": 18,
      "outputs": []
    },
    {
      "cell_type": "code",
      "source": [
        "# Emotions in the RAVDESS dataset\n",
        "emotions={\n",
        "  '01':'neutral',\n",
        "  '02':'calm',\n",
        "  '03':'happy',\n",
        "  '04':'sad',\n",
        "  '05':'angry',\n",
        "  '06':'fearful',\n",
        "  '07':'disgust',\n",
        "  '08':'surprised'\n",
        "}\n",
        "\n",
        "#Emotions to observe\n",
        "observed_emotions=['neutral', 'calm', 'happy','sad','angry', 'fearful', 'disgust', 'surprised']"
      ],
      "metadata": {
        "id": "adPq8Q-qgImG"
      },
      "execution_count": 19,
      "outputs": []
    },
    {
      "cell_type": "code",
      "source": [
        "#data load, using glob to implement \"*\" all wav files\n",
        "def load_data(t_size):\n",
        "    x,y=[],[]\n",
        "    for file in glob.glob(\"/content/drive/MyDrive/speech-emotion-recognition-ravdess-data/samples/*.wav\"):\n",
        "        file_name=os.path.basename(file)\n",
        "        emotion=emotions[file_name.split(\"-\")[2]]\n",
        "        if emotion not in observed_emotions:\n",
        "            continue\n",
        "        feature=extract_feature(file, mfcc=True, chroma=True, mel=True)\n",
        "        x.append(feature)\n",
        "        y.append(emotion)\n",
        "    return train_test_split(np.array(x), np.array(y), test_size=t_size, random_state=9)"
      ],
      "metadata": {
        "id": "eDqE4-cBmjbN"
      },
      "execution_count": 24,
      "outputs": []
    },
    {
      "cell_type": "code",
      "source": [
        "#Split the dataset\n",
        "t_size=0.2\n",
        "x_train,x_test,y_train,y_test=load_data(t_size)"
      ],
      "metadata": {
        "id": "9VjHKtW3m_uN"
      },
      "execution_count": 25,
      "outputs": []
    },
    {
      "cell_type": "code",
      "source": [
        ""
      ],
      "metadata": {
        "id": "95TItiRRyz8N"
      },
      "execution_count": null,
      "outputs": []
    }
  ]
}