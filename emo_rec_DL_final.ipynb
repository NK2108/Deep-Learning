{
  "nbformat": 4,
  "nbformat_minor": 0,
  "metadata": {
    "colab": {
      "name": "emo_rec_DL_final.ipynb",
      "provenance": [],
      "collapsed_sections": [],
      "authorship_tag": "ABX9TyPBTBJlBSM1SyBUg4B0Vvdk",
      "include_colab_link": true
    },
    "kernelspec": {
      "name": "python3",
      "display_name": "Python 3"
    },
    "language_info": {
      "name": "python"
    }
  },
  "cells": [
    {
      "cell_type": "markdown",
      "metadata": {
        "id": "view-in-github",
        "colab_type": "text"
      },
      "source": [
        "<a href=\"https://colab.research.google.com/github/NK2108/Deep-Learning/blob/main/emo_rec_DL_final.ipynb\" target=\"_parent\"><img src=\"https://colab.research.google.com/assets/colab-badge.svg\" alt=\"Open In Colab\"/></a>"
      ]
    },
    {
      "cell_type": "code",
      "execution_count": null,
      "metadata": {
        "colab": {
          "base_uri": "https://localhost:8080/"
        },
        "id": "h9my-lZ5BQ4g",
        "outputId": "b8643188-61e0-49b4-e7ef-ec931f4f9484"
      },
      "outputs": [
        {
          "output_type": "stream",
          "name": "stdout",
          "text": [
            "Drive already mounted at /content/drive; to attempt to forcibly remount, call drive.mount(\"/content/drive\", force_remount=True).\n"
          ]
        }
      ],
      "source": [
        "from google.colab import drive\n",
        "drive.mount('/content/drive')"
      ]
    },
    {
      "cell_type": "code",
      "source": [
        "import pandas as pd\n",
        "import numpy as np\n",
        "\n",
        "import os, glob, pickle\n",
        "import sys\n",
        "\n",
        "import librosa\n",
        "import librosa.display\n",
        "\n",
        "import seaborn as sns\n",
        "import matplotlib.pyplot as plt\n",
        "\n",
        "from sklearn.preprocessing import StandardScaler, OneHotEncoder\n",
        "from sklearn.metrics import confusion_matrix, classification_report\n",
        "from sklearn.model_selection import train_test_split, KFold\n",
        "from IPython.display import Audio\n",
        "\n",
        "import tensorflow as tf\n",
        "import keras\n",
        "from keras.callbacks import ReduceLROnPlateau, EarlyStopping\n",
        "from keras.models import Sequential, load_model\n",
        "from keras.layers import Dense, Conv1D, MaxPooling1D, Flatten, Dropout, BatchNormalization\n",
        "from keras.utils import np_utils\n",
        "from keras.callbacks import ModelCheckpoint\n",
        "\n",
        "import warnings\n",
        "if not sys.warnoptions:\n",
        "    warnings.simplefilter(\"ignore\")\n",
        "warnings.filterwarnings(\"ignore\", category=DeprecationWarning)\n",
        "Ravdess = \"/content/drive/MyDrive/speech-emotion-recognition-ravdess-data/samples/\""
      ],
      "metadata": {
        "id": "zsJnsDX1Bcky"
      },
      "execution_count": null,
      "outputs": []
    },
    {
      "cell_type": "code",
      "source": [
        "# Emotions in the RAVDESS dataset\n",
        "emotions={\n",
        "  '01':'neutral',\n",
        "  '02':'calm',\n",
        "  '03':'happy',\n",
        "  '04':'sad',\n",
        "  '05':'angry',\n",
        "  '06':'fearful',\n",
        "  '07':'disgust',\n",
        "  '08':'surprised'\n",
        "}"
      ],
      "metadata": {
        "id": "DwOUC9eGBXTE"
      },
      "execution_count": null,
      "outputs": []
    },
    {
      "cell_type": "code",
      "source": [
        "file_emotion,file_path = [],[]\n",
        "\n",
        "for file in glob.glob(\"/content/drive/MyDrive/speech-emotion-recognition-ravdess-data/samples/*.wav\"):\n",
        "\n",
        "    file_name=os.path.basename(file)\n",
        "    emotion=emotions[file_name.split(\"-\")[2]]\n",
        "\n",
        "    file_emotion.append(emotion)\n",
        "    file_path.append(Ravdess+file_name)\n",
        "        \n",
        "# dataframe for emotion of files\n",
        "emotion_df = pd.DataFrame(file_emotion, columns=['Emotions'])\n",
        "\n",
        "# dataframe for path of files.\n",
        "path_df = pd.DataFrame(file_path, columns=['Path'])\n",
        "Ravdess_df = pd.concat([emotion_df, path_df], axis=1)\n",
        "Ravdess_df = Ravdess_df[Ravdess_df.Emotions != 'neutral']\n",
        "Ravdess_df"
      ],
      "metadata": {
        "id": "-GIZWBFzBk_q",
        "colab": {
          "base_uri": "https://localhost:8080/",
          "height": 424
        },
        "outputId": "a7f05e24-dd13-4ad5-bb38-0c29d89bfd6d"
      },
      "execution_count": null,
      "outputs": [
        {
          "output_type": "execute_result",
          "data": {
            "text/plain": [
              "     Emotions                                               Path\n",
              "1         sad  /content/drive/MyDrive/speech-emotion-recognit...\n",
              "2     disgust  /content/drive/MyDrive/speech-emotion-recognit...\n",
              "3        calm  /content/drive/MyDrive/speech-emotion-recognit...\n",
              "4       happy  /content/drive/MyDrive/speech-emotion-recognit...\n",
              "5       angry  /content/drive/MyDrive/speech-emotion-recognit...\n",
              "...       ...                                                ...\n",
              "1438    angry  /content/drive/MyDrive/speech-emotion-recognit...\n",
              "1439     calm  /content/drive/MyDrive/speech-emotion-recognit...\n",
              "1440     calm  /content/drive/MyDrive/speech-emotion-recognit...\n",
              "1441      sad  /content/drive/MyDrive/speech-emotion-recognit...\n",
              "1442  disgust  /content/drive/MyDrive/speech-emotion-recognit...\n",
              "\n",
              "[1347 rows x 2 columns]"
            ],
            "text/html": [
              "\n",
              "  <div id=\"df-45291507-052c-4b52-a610-890c4f2311eb\">\n",
              "    <div class=\"colab-df-container\">\n",
              "      <div>\n",
              "<style scoped>\n",
              "    .dataframe tbody tr th:only-of-type {\n",
              "        vertical-align: middle;\n",
              "    }\n",
              "\n",
              "    .dataframe tbody tr th {\n",
              "        vertical-align: top;\n",
              "    }\n",
              "\n",
              "    .dataframe thead th {\n",
              "        text-align: right;\n",
              "    }\n",
              "</style>\n",
              "<table border=\"1\" class=\"dataframe\">\n",
              "  <thead>\n",
              "    <tr style=\"text-align: right;\">\n",
              "      <th></th>\n",
              "      <th>Emotions</th>\n",
              "      <th>Path</th>\n",
              "    </tr>\n",
              "  </thead>\n",
              "  <tbody>\n",
              "    <tr>\n",
              "      <th>1</th>\n",
              "      <td>sad</td>\n",
              "      <td>/content/drive/MyDrive/speech-emotion-recognit...</td>\n",
              "    </tr>\n",
              "    <tr>\n",
              "      <th>2</th>\n",
              "      <td>disgust</td>\n",
              "      <td>/content/drive/MyDrive/speech-emotion-recognit...</td>\n",
              "    </tr>\n",
              "    <tr>\n",
              "      <th>3</th>\n",
              "      <td>calm</td>\n",
              "      <td>/content/drive/MyDrive/speech-emotion-recognit...</td>\n",
              "    </tr>\n",
              "    <tr>\n",
              "      <th>4</th>\n",
              "      <td>happy</td>\n",
              "      <td>/content/drive/MyDrive/speech-emotion-recognit...</td>\n",
              "    </tr>\n",
              "    <tr>\n",
              "      <th>5</th>\n",
              "      <td>angry</td>\n",
              "      <td>/content/drive/MyDrive/speech-emotion-recognit...</td>\n",
              "    </tr>\n",
              "    <tr>\n",
              "      <th>...</th>\n",
              "      <td>...</td>\n",
              "      <td>...</td>\n",
              "    </tr>\n",
              "    <tr>\n",
              "      <th>1438</th>\n",
              "      <td>angry</td>\n",
              "      <td>/content/drive/MyDrive/speech-emotion-recognit...</td>\n",
              "    </tr>\n",
              "    <tr>\n",
              "      <th>1439</th>\n",
              "      <td>calm</td>\n",
              "      <td>/content/drive/MyDrive/speech-emotion-recognit...</td>\n",
              "    </tr>\n",
              "    <tr>\n",
              "      <th>1440</th>\n",
              "      <td>calm</td>\n",
              "      <td>/content/drive/MyDrive/speech-emotion-recognit...</td>\n",
              "    </tr>\n",
              "    <tr>\n",
              "      <th>1441</th>\n",
              "      <td>sad</td>\n",
              "      <td>/content/drive/MyDrive/speech-emotion-recognit...</td>\n",
              "    </tr>\n",
              "    <tr>\n",
              "      <th>1442</th>\n",
              "      <td>disgust</td>\n",
              "      <td>/content/drive/MyDrive/speech-emotion-recognit...</td>\n",
              "    </tr>\n",
              "  </tbody>\n",
              "</table>\n",
              "<p>1347 rows × 2 columns</p>\n",
              "</div>\n",
              "      <button class=\"colab-df-convert\" onclick=\"convertToInteractive('df-45291507-052c-4b52-a610-890c4f2311eb')\"\n",
              "              title=\"Convert this dataframe to an interactive table.\"\n",
              "              style=\"display:none;\">\n",
              "        \n",
              "  <svg xmlns=\"http://www.w3.org/2000/svg\" height=\"24px\"viewBox=\"0 0 24 24\"\n",
              "       width=\"24px\">\n",
              "    <path d=\"M0 0h24v24H0V0z\" fill=\"none\"/>\n",
              "    <path d=\"M18.56 5.44l.94 2.06.94-2.06 2.06-.94-2.06-.94-.94-2.06-.94 2.06-2.06.94zm-11 1L8.5 8.5l.94-2.06 2.06-.94-2.06-.94L8.5 2.5l-.94 2.06-2.06.94zm10 10l.94 2.06.94-2.06 2.06-.94-2.06-.94-.94-2.06-.94 2.06-2.06.94z\"/><path d=\"M17.41 7.96l-1.37-1.37c-.4-.4-.92-.59-1.43-.59-.52 0-1.04.2-1.43.59L10.3 9.45l-7.72 7.72c-.78.78-.78 2.05 0 2.83L4 21.41c.39.39.9.59 1.41.59.51 0 1.02-.2 1.41-.59l7.78-7.78 2.81-2.81c.8-.78.8-2.07 0-2.86zM5.41 20L4 18.59l7.72-7.72 1.47 1.35L5.41 20z\"/>\n",
              "  </svg>\n",
              "      </button>\n",
              "      \n",
              "  <style>\n",
              "    .colab-df-container {\n",
              "      display:flex;\n",
              "      flex-wrap:wrap;\n",
              "      gap: 12px;\n",
              "    }\n",
              "\n",
              "    .colab-df-convert {\n",
              "      background-color: #E8F0FE;\n",
              "      border: none;\n",
              "      border-radius: 50%;\n",
              "      cursor: pointer;\n",
              "      display: none;\n",
              "      fill: #1967D2;\n",
              "      height: 32px;\n",
              "      padding: 0 0 0 0;\n",
              "      width: 32px;\n",
              "    }\n",
              "\n",
              "    .colab-df-convert:hover {\n",
              "      background-color: #E2EBFA;\n",
              "      box-shadow: 0px 1px 2px rgba(60, 64, 67, 0.3), 0px 1px 3px 1px rgba(60, 64, 67, 0.15);\n",
              "      fill: #174EA6;\n",
              "    }\n",
              "\n",
              "    [theme=dark] .colab-df-convert {\n",
              "      background-color: #3B4455;\n",
              "      fill: #D2E3FC;\n",
              "    }\n",
              "\n",
              "    [theme=dark] .colab-df-convert:hover {\n",
              "      background-color: #434B5C;\n",
              "      box-shadow: 0px 1px 3px 1px rgba(0, 0, 0, 0.15);\n",
              "      filter: drop-shadow(0px 1px 2px rgba(0, 0, 0, 0.3));\n",
              "      fill: #FFFFFF;\n",
              "    }\n",
              "  </style>\n",
              "\n",
              "      <script>\n",
              "        const buttonEl =\n",
              "          document.querySelector('#df-45291507-052c-4b52-a610-890c4f2311eb button.colab-df-convert');\n",
              "        buttonEl.style.display =\n",
              "          google.colab.kernel.accessAllowed ? 'block' : 'none';\n",
              "\n",
              "        async function convertToInteractive(key) {\n",
              "          const element = document.querySelector('#df-45291507-052c-4b52-a610-890c4f2311eb');\n",
              "          const dataTable =\n",
              "            await google.colab.kernel.invokeFunction('convertToInteractive',\n",
              "                                                     [key], {});\n",
              "          if (!dataTable) return;\n",
              "\n",
              "          const docLinkHtml = 'Like what you see? Visit the ' +\n",
              "            '<a target=\"_blank\" href=https://colab.research.google.com/notebooks/data_table.ipynb>data table notebook</a>'\n",
              "            + ' to learn more about interactive tables.';\n",
              "          element.innerHTML = '';\n",
              "          dataTable['output_type'] = 'display_data';\n",
              "          await google.colab.output.renderOutput(dataTable, element);\n",
              "          const docLink = document.createElement('div');\n",
              "          docLink.innerHTML = docLinkHtml;\n",
              "          element.appendChild(docLink);\n",
              "        }\n",
              "      </script>\n",
              "    </div>\n",
              "  </div>\n",
              "  "
            ]
          },
          "metadata": {},
          "execution_count": 51
        }
      ]
    },
    {
      "cell_type": "code",
      "source": [
        "plt.title('Samples per Emotions', size=14)\n",
        "sns.countplot(Ravdess_df.Emotions)\n",
        "plt.ylabel('Count', size=12)\n",
        "plt.xlabel('Emotions', size=12)\n",
        "sns.despine(top=True, right=True, left=False, bottom=False)\n",
        "plt.show()"
      ],
      "metadata": {
        "colab": {
          "base_uri": "https://localhost:8080/",
          "height": 354
        },
        "id": "Rfopn4HfBl02",
        "outputId": "faefa45e-0f04-424d-b255-d057f9f37bd2"
      },
      "execution_count": null,
      "outputs": [
        {
          "output_type": "stream",
          "name": "stderr",
          "text": [
            "/usr/local/lib/python3.7/dist-packages/seaborn/_decorators.py:43: FutureWarning: Pass the following variable as a keyword arg: x. From version 0.12, the only valid positional argument will be `data`, and passing other arguments without an explicit keyword will result in an error or misinterpretation.\n",
            "  FutureWarning\n"
          ]
        },
        {
          "output_type": "display_data",
          "data": {
            "text/plain": [
              "<Figure size 432x288 with 1 Axes>"
            ],
            "image/png": "[encoded data removed]"
          },
          "metadata": {
            "needs_background": "light"
          }
        }
      ]
    },
    {
      "cell_type": "markdown",
      "source": [
        "**Extras**\n",
        "\n",
        "\n",
        "*   Waveplots - Waveplots let us know the loudness of the audio at a given time.\n",
        "*   Spectograms - A spectrogram is a visual representation of the spectrum of frequencies of sound or other signals as they vary with time. It’s a representation of frequencies changing with respect to time for given audio/music signals.\n",
        "\n"
      ],
      "metadata": {
        "id": "9J-6kEKmZAaj"
      }
    },
    {
      "cell_type": "code",
      "source": [
        "def create_waveplot(data, sr, e):\n",
        "    plt.figure(figsize=(10, 3))\n",
        "    plt.title('Waveplot for audio with {} emotion'.format(e), size=15)\n",
        "    librosa.display.waveplot(data, sr=sr)\n",
        "    plt.show()\n",
        "\n",
        "def create_spectrogram(data, sr, e):\n",
        "    # stft function converts the data into short term fourier transform\n",
        "    X = librosa.stft(data)\n",
        "    Xdb = librosa.amplitude_to_db(abs(X))\n",
        "    plt.figure(figsize=(12, 3))\n",
        "    plt.title('Spectrogram for audio with {} emotion'.format(e), size=15)\n",
        "    librosa.display.specshow(Xdb, sr=sr, x_axis='time', y_axis='hz')   \n",
        "    #librosa.display.specshow(Xdb, sr=sr, x_axis='time', y_axis='log')\n",
        "    plt.colorbar()\n",
        "\n",
        "#emotion='fear'\n",
        "#path = np.array(Ravdess_df.Path[Ravdess_df.Emotions==emotion])[1]\n",
        "#data, sampling_rate = librosa.load(path)\n",
        "#create_waveplot(data, sampling_rate, emotion)\n",
        "#create_spectrogram(data, sampling_rate, emotion)\n",
        "#Audio(path)\n",
        "\n",
        "#emotion='angry'\n",
        "#path = np.array(Ravdess_df.Path[Ravdess_df.Emotions==emotion])[1]\n",
        "#data, sampling_rate = librosa.load(path)\n",
        "#create_waveplot(data, sampling_rate, emotion)\n",
        "#create_spectrogram(data, sampling_rate, emotion)\n",
        "#Audio(path)\n",
        "\n",
        "#emotion='sad'\n",
        "#path = np.array(Ravdess_df.Path[Ravdess_df.Emotions==emotion])[1]\n",
        "#data, sampling_rate = librosa.load(path)\n",
        "#create_waveplot(data, sampling_rate, emotion)\n",
        "#create_spectrogram(data, sampling_rate, emotion)\n",
        "#Audio(path)\n",
        "\n",
        "#emotion='happy'\n",
        "#path = np.array(data_path.Path[data_path.Emotions==emotion])[1]\n",
        "#data, sampling_rate = librosa.load(path)\n",
        "#create_waveplot(data, sampling_rate, emotion)\n",
        "#create_spectrogram(data, sampling_rate, emotion)\n",
        "#Audio(path)"
      ],
      "metadata": {
        "id": "uFUSijExY_xu"
      },
      "execution_count": null,
      "outputs": []
    },
    {
      "cell_type": "markdown",
      "source": [
        "**Adding noise, stretch, shift, or pitch**"
      ],
      "metadata": {
        "id": "nZLSceX3acGd"
      }
    },
    {
      "cell_type": "code",
      "source": [
        "def noise(data):\n",
        "    noise_amp = 0.035*np.random.uniform()*np.amax(data)\n",
        "    data = data + noise_amp*np.random.normal(size=data.shape[0])\n",
        "    return data\n",
        "\n",
        "def stretch(data, rate=0.8):\n",
        "    return librosa.effects.time_stretch(data, rate)\n",
        "\n",
        "def shift(data):\n",
        "    shift_range = int(np.random.uniform(low=-5, high = 5)*1000)\n",
        "    return np.roll(data, shift_range)\n",
        "\n",
        "def pitch(data, sampling_rate, pitch_factor=0.7):\n",
        "    return librosa.effects.pitch_shift(data, sampling_rate, pitch_factor)\n",
        "\n",
        "# taking any example and checking for techniques.\n",
        "path = np.array(Ravdess_df.Path)[1]\n",
        "data, sample_rate = librosa.load(path)\n",
        "\n",
        "#plt.figure(figsize=(14,4))\n",
        "#librosa.display.waveplot(y=data, sr=sample_rate)\n",
        "#Audio(path)\n",
        "\n",
        "#x = noise(data)\n",
        "#plt.figure(figsize=(14,4))\n",
        "#librosa.display.waveplot(y=x, sr=sample_rate)\n",
        "#Audio(x, rate=sample_rate)\n",
        "\n",
        "#x = stretch(data)\n",
        "#plt.figure(figsize=(14,4))\n",
        "#librosa.display.waveplot(y=x, sr=sample_rate)\n",
        "#Audio(x, rate=sample_rate)\n",
        "\n",
        "#x = shift(data)\n",
        "#plt.figure(figsize=(14,4))\n",
        "#librosa.display.waveplot(y=x, sr=sample_rate)\n",
        "#Audio(x, rate=sample_rate)\n",
        "\n",
        "#x = pitch(data, sample_rate)\n",
        "#plt.figure(figsize=(14,4))\n",
        "#librosa.display.waveplot(y=x, sr=sample_rate)\n",
        "#Audio(x, rate=sample_rate)"
      ],
      "metadata": {
        "id": "0ErVHKIeahFY"
      },
      "execution_count": null,
      "outputs": []
    },
    {
      "cell_type": "code",
      "source": [
        "def extract_features(data):\n",
        "    # Zero Crossing Rate: Signal-change rate\n",
        "    result = np.array([])\n",
        "    zcr = np.mean(librosa.feature.zero_crossing_rate(y=data).T, axis=0)\n",
        "    result=np.hstack((result, zcr)) # stacking horizontally\n",
        "\n",
        "    # Chroma standard Furrier transfer: represent the intensity of the twelve distinctive pitch classes\n",
        "    stft = np.abs(librosa.stft(data))\n",
        "    chroma_stft = np.mean(librosa.feature.chroma_stft(S=stft, sr=sample_rate).T, axis=0)\n",
        "    result = np.hstack((result, chroma_stft)) # stacking horizontally\n",
        "\n",
        "    # Mel Frequency Cepstral Coefficients: from a spectral representation, freq bands distributed in mel-scale\n",
        "    mfcc = np.mean(librosa.feature.mfcc(y=data, sr=sample_rate).T, axis=0)\n",
        "    result = np.hstack((result, mfcc)) # stacking horizontally\n",
        "\n",
        "    # Root Mean Square Value for each frame of sample\n",
        "    rms = np.mean(librosa.feature.rms(y=data).T, axis=0)\n",
        "    result = np.hstack((result, rms)) # stacking horizontally\n",
        "\n",
        "    # MelSpectogram: visualization of the freq spectrum of a signal, mel-scale mimics how the human ear works\n",
        "    mel = np.mean(librosa.feature.melspectrogram(y=data, sr=sample_rate).T, axis=0)\n",
        "    result = np.hstack((result, mel)) # stacking horizontally\n",
        "    \n",
        "    return result\n",
        "\n",
        "def get_features(path): #first step of pre-processing\n",
        "    # duration and offset are used to take care of the no audio in start and the ending of each audio files as seen above.\n",
        "    data, sample_rate = librosa.load(path, duration=2.6, offset=0.4)\n",
        "    \n",
        "    # without augmentation\n",
        "    res1 = extract_features(data)\n",
        "    result = np.array(res1)\n",
        "    \n",
        "    # data with noise\n",
        "    noise_data = noise(data)\n",
        "    res2 = extract_features(noise_data)\n",
        "    result = np.vstack((result, res2)) # stacking vertically\n",
        "    \n",
        "    # data with stretching and pitching\n",
        "    new_data = stretch(data)\n",
        "    data_stretch_pitch = pitch(new_data, sample_rate)\n",
        "    res3 = extract_features(data_stretch_pitch)\n",
        "    result = np.vstack((result, res3)) # stacking vertically\n",
        "    \n",
        "    return result"
      ],
      "metadata": {
        "id": "E3nVLnpoDG6b"
      },
      "execution_count": null,
      "outputs": []
    },
    {
      "cell_type": "code",
      "source": [
        "X, Y = [], []\n",
        "for path, emotion in zip(Ravdess_df.Path, Ravdess_df.Emotions):\n",
        "    feature = get_features(path)\n",
        "    for ele in feature:\n",
        "        X.append(ele)\n",
        "        # appending emotion 3 times as we have made 3 augmentation techniques on each audio file.\n",
        "        Y.append(emotion)\n",
        "\n",
        "len(X), len(Y), Ravdess_df.Path.shape"
      ],
      "metadata": {
        "colab": {
          "base_uri": "https://localhost:8080/"
        },
        "id": "_mPdPwqrYrBN",
        "outputId": "f571a62e-d1ab-4071-bf42-c5c711c28301"
      },
      "execution_count": null,
      "outputs": [
        {
          "output_type": "execute_result",
          "data": {
            "text/plain": [
              "(4041, 4041, (1347,))"
            ]
          },
          "metadata": {},
          "execution_count": 56
        }
      ]
    },
    {
      "cell_type": "code",
      "source": [
        "Features = pd.DataFrame(X)\n",
        "Features['labels'] = Y\n",
        "#extract features to csv\n",
        "#Features.to_csv('features.csv', index=False)\n",
        "Features"
      ],
      "metadata": {
        "colab": {
          "base_uri": "https://localhost:8080/",
          "height": 661
        },
        "id": "keyn62eMdhrc",
        "outputId": "3922e219-778c-41c7-887f-64d23eec4259"
      },
      "execution_count": null,
      "outputs": [
        {
          "output_type": "execute_result",
          "data": {
            "text/plain": [
              "             0         1         2         3         4         5         6  \\\n",
              "0     0.146205  0.667742  0.650311  0.605284  0.640242  0.584214  0.554824   \n",
              "1     0.238155  0.730797  0.709899  0.699673  0.743651  0.693966  0.637862   \n",
              "2     0.145794  0.622263  0.696846  0.669922  0.648794  0.670240  0.557148   \n",
              "3     0.131553  0.511452  0.517433  0.523196  0.569519  0.541172  0.582609   \n",
              "4     0.216195  0.563484  0.567376  0.573103  0.608631  0.583587  0.582651   \n",
              "...        ...       ...       ...       ...       ...       ...       ...   \n",
              "4036  0.291840  0.589594  0.591000  0.655741  0.701490  0.650959  0.631581   \n",
              "4037  0.093481  0.468669  0.430125  0.426217  0.525552  0.577744  0.539737   \n",
              "4038  0.157022  0.601161  0.642363  0.591389  0.599222  0.567285  0.537874   \n",
              "4039  0.249843  0.774179  0.815885  0.765511  0.784651  0.753496  0.667381   \n",
              "4040  0.149487  0.555345  0.638129  0.710143  0.621567  0.592498  0.558367   \n",
              "\n",
              "             7         8         9  ...           153           154  \\\n",
              "0     0.560428  0.653882  0.703217  ...  4.851268e-12  4.311642e-12   \n",
              "1     0.612920  0.663789  0.700250  ...  3.954669e-05  4.042420e-05   \n",
              "2     0.536304  0.582282  0.706324  ...  7.884864e-12  9.023218e-12   \n",
              "3     0.571208  0.617602  0.674876  ...  1.027169e-13  9.975344e-14   \n",
              "4     0.556596  0.606219  0.665101  ...  2.394155e-06  2.641947e-06   \n",
              "...        ...       ...       ...  ...           ...           ...   \n",
              "4036  0.622465  0.749211  0.839587  ...  7.508753e-06  7.817934e-06   \n",
              "4037  0.577869  0.627450  0.773411  ...  3.919815e-12  1.799201e-12   \n",
              "4038  0.562058  0.590552  0.649399  ...  5.162014e-14  4.336369e-14   \n",
              "4039  0.662019  0.692743  0.752164  ...  1.761932e-06  1.698211e-06   \n",
              "4040  0.570863  0.632932  0.584296  ...  1.532507e-12  1.394742e-12   \n",
              "\n",
              "               155           156           157           158           159  \\\n",
              "0     3.908758e-12  3.596597e-12  3.354412e-12  3.170622e-12  3.032781e-12   \n",
              "1     4.215315e-05  3.988911e-05  4.014457e-05  3.983463e-05  4.147463e-05   \n",
              "2     6.872001e-12  6.366100e-12  5.126208e-12  4.455651e-12  4.067148e-12   \n",
              "3     9.628800e-14  9.274737e-14  8.946512e-14  8.669277e-14  8.446525e-14   \n",
              "4     2.609134e-06  2.466454e-06  2.674698e-06  2.676718e-06  2.779092e-06   \n",
              "...            ...           ...           ...           ...           ...   \n",
              "4036  7.559982e-06  7.739756e-06  7.700972e-06  7.464576e-06  7.264522e-06   \n",
              "4037  1.148143e-12  1.852405e-12  1.885976e-12  1.062264e-12  9.862020e-13   \n",
              "4038  3.761053e-14  3.341838e-14  3.030565e-14  2.803135e-14  2.636821e-14   \n",
              "4039  1.719838e-06  1.746740e-06  1.815245e-06  1.782527e-06  1.909268e-06   \n",
              "4040  1.281365e-12  9.985526e-13  9.712038e-13  9.329200e-13  9.192670e-13   \n",
              "\n",
              "               160           161   labels  \n",
              "0     2.938114e-12  2.880097e-12      sad  \n",
              "1     4.153127e-05  3.999790e-05      sad  \n",
              "2     4.626031e-12  6.272078e-12      sad  \n",
              "3     8.280891e-14  8.180561e-14  disgust  \n",
              "4     2.692016e-06  2.681582e-06  disgust  \n",
              "...            ...           ...      ...  \n",
              "4036  7.547160e-06  7.618376e-06      sad  \n",
              "4037  1.501526e-12  1.249907e-12      sad  \n",
              "4038  2.523700e-14  2.457089e-14  disgust  \n",
              "4039  1.949501e-06  1.885537e-06  disgust  \n",
              "4040  7.862846e-13  7.955981e-13  disgust  \n",
              "\n",
              "[4041 rows x 163 columns]"
            ],
            "text/html": [
              "\n",
              "  <div id=\"df-5d803b3c-fa0e-45de-873a-da5a8fae48ca\">\n",
              "    <div class=\"colab-df-container\">\n",
              "      <div>\n",
              "<style scoped>\n",
              "    .dataframe tbody tr th:only-of-type {\n",
              "        vertical-align: middle;\n",
              "    }\n",
              "\n",
              "    .dataframe tbody tr th {\n",
              "        vertical-align: top;\n",
              "    }\n",
              "\n",
              "    .dataframe thead th {\n",
              "        text-align: right;\n",
              "    }\n",
              "</style>\n",
              "<table border=\"1\" class=\"dataframe\">\n",
              "  <thead>\n",
              "    <tr style=\"text-align: right;\">\n",
              "      <th></th>\n",
              "      <th>0</th>\n",
              "      <th>1</th>\n",
              "      <th>2</th>\n",
              "      <th>3</th>\n",
              "      <th>4</th>\n",
              "      <th>5</th>\n",
              "      <th>6</th>\n",
              "      <th>7</th>\n",
              "      <th>8</th>\n",
              "      <th>9</th>\n",
              "      <th>...</th>\n",
              "      <th>153</th>\n",
              "      <th>154</th>\n",
              "      <th>155</th>\n",
              "      <th>156</th>\n",
              "      <th>157</th>\n",
              "      <th>158</th>\n",
              "      <th>159</th>\n",
              "      <th>160</th>\n",
              "      <th>161</th>\n",
              "      <th>labels</th>\n",
              "    </tr>\n",
              "  </thead>\n",
              "  <tbody>\n",
              "    <tr>\n",
              "      <th>0</th>\n",
              "      <td>0.146205</td>\n",
              "      <td>0.667742</td>\n",
              "      <td>0.650311</td>\n",
              "      <td>0.605284</td>\n",
              "      <td>0.640242</td>\n",
              "      <td>0.584214</td>\n",
              "      <td>0.554824</td>\n",
              "      <td>0.560428</td>\n",
              "      <td>0.653882</td>\n",
              "      <td>0.703217</td>\n",
              "      <td>...</td>\n",
              "      <td>4.851268e-12</td>\n",
              "      <td>4.311642e-12</td>\n",
              "      <td>3.908758e-12</td>\n",
              "      <td>3.596597e-12</td>\n",
              "      <td>3.354412e-12</td>\n",
              "      <td>3.170622e-12</td>\n",
              "      <td>3.032781e-12</td>\n",
              "      <td>2.938114e-12</td>\n",
              "      <td>2.880097e-12</td>\n",
              "      <td>sad</td>\n",
              "    </tr>\n",
              "    <tr>\n",
              "      <th>1</th>\n",
              "      <td>0.238155</td>\n",
              "      <td>0.730797</td>\n",
              "      <td>0.709899</td>\n",
              "      <td>0.699673</td>\n",
              "      <td>0.743651</td>\n",
              "      <td>0.693966</td>\n",
              "      <td>0.637862</td>\n",
              "      <td>0.612920</td>\n",
              "      <td>0.663789</td>\n",
              "      <td>0.700250</td>\n",
              "      <td>...</td>\n",
              "      <td>3.954669e-05</td>\n",
              "      <td>4.042420e-05</td>\n",
              "      <td>4.215315e-05</td>\n",
              "      <td>3.988911e-05</td>\n",
              "      <td>4.014457e-05</td>\n",
              "      <td>3.983463e-05</td>\n",
              "      <td>4.147463e-05</td>\n",
              "      <td>4.153127e-05</td>\n",
              "      <td>3.999790e-05</td>\n",
              "      <td>sad</td>\n",
              "    </tr>\n",
              "    <tr>\n",
              "      <th>2</th>\n",
              "      <td>0.145794</td>\n",
              "      <td>0.622263</td>\n",
              "      <td>0.696846</td>\n",
              "      <td>0.669922</td>\n",
              "      <td>0.648794</td>\n",
              "      <td>0.670240</td>\n",
              "      <td>0.557148</td>\n",
              "      <td>0.536304</td>\n",
              "      <td>0.582282</td>\n",
              "      <td>0.706324</td>\n",
              "      <td>...</td>\n",
              "      <td>7.884864e-12</td>\n",
              "      <td>9.023218e-12</td>\n",
              "      <td>6.872001e-12</td>\n",
              "      <td>6.366100e-12</td>\n",
              "      <td>5.126208e-12</td>\n",
              "      <td>4.455651e-12</td>\n",
              "      <td>4.067148e-12</td>\n",
              "      <td>4.626031e-12</td>\n",
              "      <td>6.272078e-12</td>\n",
              "      <td>sad</td>\n",
              "    </tr>\n",
              "    <tr>\n",
              "      <th>3</th>\n",
              "      <td>0.131553</td>\n",
              "      <td>0.511452</td>\n",
              "      <td>0.517433</td>\n",
              "      <td>0.523196</td>\n",
              "      <td>0.569519</td>\n",
              "      <td>0.541172</td>\n",
              "      <td>0.582609</td>\n",
              "      <td>0.571208</td>\n",
              "      <td>0.617602</td>\n",
              "      <td>0.674876</td>\n",
              "      <td>...</td>\n",
              "      <td>1.027169e-13</td>\n",
              "      <td>9.975344e-14</td>\n",
              "      <td>9.628800e-14</td>\n",
              "      <td>9.274737e-14</td>\n",
              "      <td>8.946512e-14</td>\n",
              "      <td>8.669277e-14</td>\n",
              "      <td>8.446525e-14</td>\n",
              "      <td>8.280891e-14</td>\n",
              "      <td>8.180561e-14</td>\n",
              "      <td>disgust</td>\n",
              "    </tr>\n",
              "    <tr>\n",
              "      <th>4</th>\n",
              "      <td>0.216195</td>\n",
              "      <td>0.563484</td>\n",
              "      <td>0.567376</td>\n",
              "      <td>0.573103</td>\n",
              "      <td>0.608631</td>\n",
              "      <td>0.583587</td>\n",
              "      <td>0.582651</td>\n",
              "      <td>0.556596</td>\n",
              "      <td>0.606219</td>\n",
              "      <td>0.665101</td>\n",
              "      <td>...</td>\n",
              "      <td>2.394155e-06</td>\n",
              "      <td>2.641947e-06</td>\n",
              "      <td>2.609134e-06</td>\n",
              "      <td>2.466454e-06</td>\n",
              "      <td>2.674698e-06</td>\n",
              "      <td>2.676718e-06</td>\n",
              "      <td>2.779092e-06</td>\n",
              "      <td>2.692016e-06</td>\n",
              "      <td>2.681582e-06</td>\n",
              "      <td>disgust</td>\n",
              "    </tr>\n",
              "    <tr>\n",
              "      <th>...</th>\n",
              "      <td>...</td>\n",
              "      <td>...</td>\n",
              "      <td>...</td>\n",
              "      <td>...</td>\n",
              "      <td>...</td>\n",
              "      <td>...</td>\n",
              "      <td>...</td>\n",
              "      <td>...</td>\n",
              "      <td>...</td>\n",
              "      <td>...</td>\n",
              "      <td>...</td>\n",
              "      <td>...</td>\n",
              "      <td>...</td>\n",
              "      <td>...</td>\n",
              "      <td>...</td>\n",
              "      <td>...</td>\n",
              "      <td>...</td>\n",
              "      <td>...</td>\n",
              "      <td>...</td>\n",
              "      <td>...</td>\n",
              "      <td>...</td>\n",
              "    </tr>\n",
              "    <tr>\n",
              "      <th>4036</th>\n",
              "      <td>0.291840</td>\n",
              "      <td>0.589594</td>\n",
              "      <td>0.591000</td>\n",
              "      <td>0.655741</td>\n",
              "      <td>0.701490</td>\n",
              "      <td>0.650959</td>\n",
              "      <td>0.631581</td>\n",
              "      <td>0.622465</td>\n",
              "      <td>0.749211</td>\n",
              "      <td>0.839587</td>\n",
              "      <td>...</td>\n",
              "      <td>7.508753e-06</td>\n",
              "      <td>7.817934e-06</td>\n",
              "      <td>7.559982e-06</td>\n",
              "      <td>7.739756e-06</td>\n",
              "      <td>7.700972e-06</td>\n",
              "      <td>7.464576e-06</td>\n",
              "      <td>7.264522e-06</td>\n",
              "      <td>7.547160e-06</td>\n",
              "      <td>7.618376e-06</td>\n",
              "      <td>sad</td>\n",
              "    </tr>\n",
              "    <tr>\n",
              "      <th>4037</th>\n",
              "      <td>0.093481</td>\n",
              "      <td>0.468669</td>\n",
              "      <td>0.430125</td>\n",
              "      <td>0.426217</td>\n",
              "      <td>0.525552</td>\n",
              "      <td>0.577744</td>\n",
              "      <td>0.539737</td>\n",
              "      <td>0.577869</td>\n",
              "      <td>0.627450</td>\n",
              "      <td>0.773411</td>\n",
              "      <td>...</td>\n",
              "      <td>3.919815e-12</td>\n",
              "      <td>1.799201e-12</td>\n",
              "      <td>1.148143e-12</td>\n",
              "      <td>1.852405e-12</td>\n",
              "      <td>1.885976e-12</td>\n",
              "      <td>1.062264e-12</td>\n",
              "      <td>9.862020e-13</td>\n",
              "      <td>1.501526e-12</td>\n",
              "      <td>1.249907e-12</td>\n",
              "      <td>sad</td>\n",
              "    </tr>\n",
              "    <tr>\n",
              "      <th>4038</th>\n",
              "      <td>0.157022</td>\n",
              "      <td>0.601161</td>\n",
              "      <td>0.642363</td>\n",
              "      <td>0.591389</td>\n",
              "      <td>0.599222</td>\n",
              "      <td>0.567285</td>\n",
              "      <td>0.537874</td>\n",
              "      <td>0.562058</td>\n",
              "      <td>0.590552</td>\n",
              "      <td>0.649399</td>\n",
              "      <td>...</td>\n",
              "      <td>5.162014e-14</td>\n",
              "      <td>4.336369e-14</td>\n",
              "      <td>3.761053e-14</td>\n",
              "      <td>3.341838e-14</td>\n",
              "      <td>3.030565e-14</td>\n",
              "      <td>2.803135e-14</td>\n",
              "      <td>2.636821e-14</td>\n",
              "      <td>2.523700e-14</td>\n",
              "      <td>2.457089e-14</td>\n",
              "      <td>disgust</td>\n",
              "    </tr>\n",
              "    <tr>\n",
              "      <th>4039</th>\n",
              "      <td>0.249843</td>\n",
              "      <td>0.774179</td>\n",
              "      <td>0.815885</td>\n",
              "      <td>0.765511</td>\n",
              "      <td>0.784651</td>\n",
              "      <td>0.753496</td>\n",
              "      <td>0.667381</td>\n",
              "      <td>0.662019</td>\n",
              "      <td>0.692743</td>\n",
              "      <td>0.752164</td>\n",
              "      <td>...</td>\n",
              "      <td>1.761932e-06</td>\n",
              "      <td>1.698211e-06</td>\n",
              "      <td>1.719838e-06</td>\n",
              "      <td>1.746740e-06</td>\n",
              "      <td>1.815245e-06</td>\n",
              "      <td>1.782527e-06</td>\n",
              "      <td>1.909268e-06</td>\n",
              "      <td>1.949501e-06</td>\n",
              "      <td>1.885537e-06</td>\n",
              "      <td>disgust</td>\n",
              "    </tr>\n",
              "    <tr>\n",
              "      <th>4040</th>\n",
              "      <td>0.149487</td>\n",
              "      <td>0.555345</td>\n",
              "      <td>0.638129</td>\n",
              "      <td>0.710143</td>\n",
              "      <td>0.621567</td>\n",
              "      <td>0.592498</td>\n",
              "      <td>0.558367</td>\n",
              "      <td>0.570863</td>\n",
              "      <td>0.632932</td>\n",
              "      <td>0.584296</td>\n",
              "      <td>...</td>\n",
              "      <td>1.532507e-12</td>\n",
              "      <td>1.394742e-12</td>\n",
              "      <td>1.281365e-12</td>\n",
              "      <td>9.985526e-13</td>\n",
              "      <td>9.712038e-13</td>\n",
              "      <td>9.329200e-13</td>\n",
              "      <td>9.192670e-13</td>\n",
              "      <td>7.862846e-13</td>\n",
              "      <td>7.955981e-13</td>\n",
              "      <td>disgust</td>\n",
              "    </tr>\n",
              "  </tbody>\n",
              "</table>\n",
              "<p>4041 rows × 163 columns</p>\n",
              "</div>\n",
              "      <button class=\"colab-df-convert\" onclick=\"convertToInteractive('df-5d803b3c-fa0e-45de-873a-da5a8fae48ca')\"\n",
              "              title=\"Convert this dataframe to an interactive table.\"\n",
              "              style=\"display:none;\">\n",
              "        \n",
              "  <svg xmlns=\"http://www.w3.org/2000/svg\" height=\"24px\"viewBox=\"0 0 24 24\"\n",
              "       width=\"24px\">\n",
              "    <path d=\"M0 0h24v24H0V0z\" fill=\"none\"/>\n",
              "    <path d=\"M18.56 5.44l.94 2.06.94-2.06 2.06-.94-2.06-.94-.94-2.06-.94 2.06-2.06.94zm-11 1L8.5 8.5l.94-2.06 2.06-.94-2.06-.94L8.5 2.5l-.94 2.06-2.06.94zm10 10l.94 2.06.94-2.06 2.06-.94-2.06-.94-.94-2.06-.94 2.06-2.06.94z\"/><path d=\"M17.41 7.96l-1.37-1.37c-.4-.4-.92-.59-1.43-.59-.52 0-1.04.2-1.43.59L10.3 9.45l-7.72 7.72c-.78.78-.78 2.05 0 2.83L4 21.41c.39.39.9.59 1.41.59.51 0 1.02-.2 1.41-.59l7.78-7.78 2.81-2.81c.8-.78.8-2.07 0-2.86zM5.41 20L4 18.59l7.72-7.72 1.47 1.35L5.41 20z\"/>\n",
              "  </svg>\n",
              "      </button>\n",
              "      \n",
              "  <style>\n",
              "    .colab-df-container {\n",
              "      display:flex;\n",
              "      flex-wrap:wrap;\n",
              "      gap: 12px;\n",
              "    }\n",
              "\n",
              "    .colab-df-convert {\n",
              "      background-color: #E8F0FE;\n",
              "      border: none;\n",
              "      border-radius: 50%;\n",
              "      cursor: pointer;\n",
              "      display: none;\n",
              "      fill: #1967D2;\n",
              "      height: 32px;\n",
              "      padding: 0 0 0 0;\n",
              "      width: 32px;\n",
              "    }\n",
              "\n",
              "    .colab-df-convert:hover {\n",
              "      background-color: #E2EBFA;\n",
              "      box-shadow: 0px 1px 2px rgba(60, 64, 67, 0.3), 0px 1px 3px 1px rgba(60, 64, 67, 0.15);\n",
              "      fill: #174EA6;\n",
              "    }\n",
              "\n",
              "    [theme=dark] .colab-df-convert {\n",
              "      background-color: #3B4455;\n",
              "      fill: #D2E3FC;\n",
              "    }\n",
              "\n",
              "    [theme=dark] .colab-df-convert:hover {\n",
              "      background-color: #434B5C;\n",
              "      box-shadow: 0px 1px 3px 1px rgba(0, 0, 0, 0.15);\n",
              "      filter: drop-shadow(0px 1px 2px rgba(0, 0, 0, 0.3));\n",
              "      fill: #FFFFFF;\n",
              "    }\n",
              "  </style>\n",
              "\n",
              "      <script>\n",
              "        const buttonEl =\n",
              "          document.querySelector('#df-5d803b3c-fa0e-45de-873a-da5a8fae48ca button.colab-df-convert');\n",
              "        buttonEl.style.display =\n",
              "          google.colab.kernel.accessAllowed ? 'block' : 'none';\n",
              "\n",
              "        async function convertToInteractive(key) {\n",
              "          const element = document.querySelector('#df-5d803b3c-fa0e-45de-873a-da5a8fae48ca');\n",
              "          const dataTable =\n",
              "            await google.colab.kernel.invokeFunction('convertToInteractive',\n",
              "                                                     [key], {});\n",
              "          if (!dataTable) return;\n",
              "\n",
              "          const docLinkHtml = 'Like what you see? Visit the ' +\n",
              "            '<a target=\"_blank\" href=https://colab.research.google.com/notebooks/data_table.ipynb>data table notebook</a>'\n",
              "            + ' to learn more about interactive tables.';\n",
              "          element.innerHTML = '';\n",
              "          dataTable['output_type'] = 'display_data';\n",
              "          await google.colab.output.renderOutput(dataTable, element);\n",
              "          const docLink = document.createElement('div');\n",
              "          docLink.innerHTML = docLinkHtml;\n",
              "          element.appendChild(docLink);\n",
              "        }\n",
              "      </script>\n",
              "    </div>\n",
              "  </div>\n",
              "  "
            ]
          },
          "metadata": {},
          "execution_count": 57
        }
      ]
    },
    {
      "cell_type": "markdown",
      "source": [
        "**Second step of Pre-Processing**"
      ],
      "metadata": {
        "id": "ednKzi1keBPi"
      }
    },
    {
      "cell_type": "code",
      "source": [
        "X = Features.iloc[: ,:-1].values\n",
        "Y = Features['labels'].values"
      ],
      "metadata": {
        "id": "7vwvKNQcd571"
      },
      "execution_count": null,
      "outputs": []
    },
    {
      "cell_type": "code",
      "source": [
        "# As this is a multiclass classification problem onehotencoding our Y.\n",
        "encoder = OneHotEncoder()\n",
        "Y = encoder.fit_transform(np.array(Y).reshape(-1,1)).toarray()"
      ],
      "metadata": {
        "id": "41PEdmOoe36V"
      },
      "execution_count": null,
      "outputs": []
    },
    {
      "cell_type": "code",
      "source": [
        "x_train, x_test, y_train, y_test = train_test_split(X, Y, random_state=6, shuffle=True)\n",
        "x_train.shape, y_train.shape, x_test.shape, y_test.shape"
      ],
      "metadata": {
        "colab": {
          "base_uri": "https://localhost:8080/"
        },
        "id": "c0jySuxse7w_",
        "outputId": "dfcb26c1-5e80-47d3-d37e-6f0ba35d84ce"
      },
      "execution_count": null,
      "outputs": [
        {
          "output_type": "execute_result",
          "data": {
            "text/plain": [
              "((3030, 162), (3030, 7), (1011, 162), (1011, 7))"
            ]
          },
          "metadata": {},
          "execution_count": 60
        }
      ]
    },
    {
      "cell_type": "code",
      "source": [
        "# scaling our data with sklearn's Standard scaler\n",
        "scaler = StandardScaler()\n",
        "x_train = scaler.fit_transform(x_train)\n",
        "x_test = scaler.transform(x_test)\n",
        "x_train.shape, y_train.shape, x_test.shape, y_test.shape"
      ],
      "metadata": {
        "colab": {
          "base_uri": "https://localhost:8080/"
        },
        "id": "iKqTXaVxfBAq",
        "outputId": "649de0a7-c863-4731-e74e-e1da79e09e04"
      },
      "execution_count": null,
      "outputs": [
        {
          "output_type": "execute_result",
          "data": {
            "text/plain": [
              "((3030, 162), (3030, 7), (1011, 162), (1011, 7))"
            ]
          },
          "metadata": {},
          "execution_count": 61
        }
      ]
    },
    {
      "cell_type": "code",
      "source": [
        "# making our data compatible to model.\n",
        "x_train = np.expand_dims(x_train, axis=2)\n",
        "x_test = np.expand_dims(x_test, axis=2)\n",
        "x_train.shape, y_train.shape, x_test.shape, y_test.shape"
      ],
      "metadata": {
        "colab": {
          "base_uri": "https://localhost:8080/"
        },
        "id": "szs1xIkYfDrA",
        "outputId": "a25cc6ae-97e1-44a2-c00c-9a13326e8ed2"
      },
      "execution_count": null,
      "outputs": [
        {
          "output_type": "execute_result",
          "data": {
            "text/plain": [
              "((3030, 162, 1), (3030, 7), (1011, 162, 1), (1011, 7))"
            ]
          },
          "metadata": {},
          "execution_count": 62
        }
      ]
    },
    {
      "cell_type": "markdown",
      "source": [
        "**Model deployment**"
      ],
      "metadata": {
        "id": "RSgmwMZcY_Q0"
      }
    },
    {
      "cell_type": "code",
      "source": [
        "!pip install pyyaml h5py"
      ],
      "metadata": {
        "id": "FVl6_iAShPat",
        "colab": {
          "base_uri": "https://localhost:8080/"
        },
        "outputId": "d0b2d24f-3fe1-406f-dcfb-304939bc7c54"
      },
      "execution_count": null,
      "outputs": [
        {
          "output_type": "stream",
          "name": "stdout",
          "text": [
            "Looking in indexes: https://pypi.org/simple, https://us-python.pkg.dev/colab-wheels/public/simple/\n",
            "Requirement already satisfied: pyyaml in /usr/local/lib/python3.7/dist-packages (3.13)\n",
            "Requirement already satisfied: h5py in /usr/local/lib/python3.7/dist-packages (3.1.0)\n",
            "Requirement already satisfied: numpy>=1.14.5 in /usr/local/lib/python3.7/dist-packages (from h5py) (1.21.6)\n",
            "Requirement already satisfied: cached-property in /usr/local/lib/python3.7/dist-packages (from h5py) (1.5.2)\n"
          ]
        }
      ]
    },
    {
      "cell_type": "code",
      "source": [
        "model=Sequential()\n",
        "\n",
        "model.add(Conv1D(256, kernel_size=5, strides=1, padding='same', activation='relu', input_shape=(x_train.shape[1], 1)))\n",
        "model.add(MaxPooling1D(pool_size=5, strides = 2, padding = 'same'))\n",
        "\n",
        "model.add(Conv1D(256, kernel_size=5, strides=1, padding='same', activation='relu'))\n",
        "model.add(MaxPooling1D(pool_size=5, strides = 2, padding = 'same'))\n",
        "\n",
        "model.add(Conv1D(128, kernel_size=5, strides=1, padding='same', activation='relu'))\n",
        "model.add(MaxPooling1D(pool_size=5, strides = 2, padding = 'same'))\n",
        "model.add(Dropout(0.2))\n",
        "\n",
        "model.add(Conv1D(64, kernel_size=5, strides=1, padding='same', activation='relu'))\n",
        "model.add(MaxPooling1D(pool_size=5, strides = 2, padding = 'same'))\n",
        "\n",
        "model.add(Conv1D(32, kernel_size=5, strides=1, padding='same', activation='relu'))\n",
        "model.add(MaxPooling1D(pool_size=5, strides = 2, padding = 'same'))\n",
        "\n",
        "\n",
        "model.add(keras.layers.LSTM(128, input_shape=(x_train.shape[1], x_train.shape[2]), return_sequences=True))\n",
        "model.add(keras.layers.LSTM(128))\n",
        "model.add(Dense(units=32, activation='relu'))\n",
        "model.add(Dropout(0.2))\n",
        "\n",
        "model.add(Dense(units=7, activation='softmax'))\n",
        "model.compile(optimizer = 'adam' , loss = 'categorical_crossentropy' , metrics = ['accuracy'])\n",
        "\n",
        "model.summary()"
      ],
      "metadata": {
        "colab": {
          "base_uri": "https://localhost:8080/"
        },
        "id": "9Q7-cR2KfJxn",
        "outputId": "30f1c686-81c0-47de-cc13-56829c26d3f6"
      },
      "execution_count": null,
      "outputs": [
        {
          "output_type": "stream",
          "name": "stdout",
          "text": [
            "Model: \"sequential_1\"\n",
            "_________________________________________________________________\n",
            " Layer (type)                Output Shape              Param #   \n",
            "=================================================================\n",
            " conv1d_5 (Conv1D)           (None, 162, 256)          1536      \n",
            "                                                                 \n",
            " max_pooling1d_5 (MaxPooling  (None, 81, 256)          0         \n",
            " 1D)                                                             \n",
            "                                                                 \n",
            " conv1d_6 (Conv1D)           (None, 81, 256)           327936    \n",
            "                                                                 \n",
            " max_pooling1d_6 (MaxPooling  (None, 41, 256)          0         \n",
            " 1D)                                                             \n",
            "                                                                 \n",
            " conv1d_7 (Conv1D)           (None, 41, 128)           163968    \n",
            "                                                                 \n",
            " max_pooling1d_7 (MaxPooling  (None, 21, 128)          0         \n",
            " 1D)                                                             \n",
            "                                                                 \n",
            " dropout_2 (Dropout)         (None, 21, 128)           0         \n",
            "                                                                 \n",
            " conv1d_8 (Conv1D)           (None, 21, 64)            41024     \n",
            "                                                                 \n",
            " max_pooling1d_8 (MaxPooling  (None, 11, 64)           0         \n",
            " 1D)                                                             \n",
            "                                                                 \n",
            " conv1d_9 (Conv1D)           (None, 11, 32)            10272     \n",
            "                                                                 \n",
            " max_pooling1d_9 (MaxPooling  (None, 6, 32)            0         \n",
            " 1D)                                                             \n",
            "                                                                 \n",
            " lstm_2 (LSTM)               (None, 6, 128)            82432     \n",
            "                                                                 \n",
            " lstm_3 (LSTM)               (None, 128)               131584    \n",
            "                                                                 \n",
            " dense_2 (Dense)             (None, 32)                4128      \n",
            "                                                                 \n",
            " dropout_3 (Dropout)         (None, 32)                0         \n",
            "                                                                 \n",
            " dense_3 (Dense)             (None, 7)                 231       \n",
            "                                                                 \n",
            "=================================================================\n",
            "Total params: 763,111\n",
            "Trainable params: 763,111\n",
            "Non-trainable params: 0\n",
            "_________________________________________________________________\n"
          ]
        }
      ]
    },
    {
      "cell_type": "markdown",
      "source": [
        "**Loop**"
      ],
      "metadata": {
        "id": "A7GOrq16G3mX"
      }
    },
    {
      "cell_type": "code",
      "source": [
        "#model.save(\"/content/drive/MyDrive/speech-emotion-recognition-ravdess-data/speech_model_wo_kfold_1moreConv.tf\", save_format='tf')"
      ],
      "metadata": {
        "id": "f44u5gPcgR1U"
      },
      "execution_count": null,
      "outputs": []
    },
    {
      "cell_type": "code",
      "source": [
        "eps=60\n",
        "rlrp = ReduceLROnPlateau(monitor='loss', factor=0.4, verbose=0, patience=3, min_lr=0.0000001)\n",
        "mcp_save = ModelCheckpoint('/content/drive/MyDrive/speech-emotion-recognition-ravdess-data/speech_model_wo_kfold_1moreConv.tf', save_best_only=True, monitor='accuracy', \n",
        "                           mode='max', save_freq='epoch')\n",
        "\n",
        "history=model.fit(x_train, y_train, batch_size=64, epochs=eps, validation_data=(x_test, y_test), callbacks=[rlrp, mcp_save])"
      ],
      "metadata": {
        "colab": {
          "base_uri": "https://localhost:8080/"
        },
        "id": "U1DjzlSefi4M",
        "outputId": "2ceb30a3-d992-419c-cb2a-dcdbbffcfb43"
      },
      "execution_count": null,
      "outputs": [
        {
          "output_type": "stream",
          "name": "stdout",
          "text": [
            "Epoch 1/60\n",
            "48/48 [==============================] - ETA: 0s - loss: 1.8956 - accuracy: 0.1875"
          ]
        },
        {
          "output_type": "stream",
          "name": "stderr",
          "text": [
            "WARNING:absl:Found untraced functions such as lstm_cell_14_layer_call_fn, lstm_cell_14_layer_call_and_return_conditional_losses, lstm_cell_15_layer_call_fn, lstm_cell_15_layer_call_and_return_conditional_losses while saving (showing 4 of 4). These functions will not be directly callable after loading.\n"
          ]
        },
        {
          "output_type": "stream",
          "name": "stdout",
          "text": [
            "INFO:tensorflow:Assets written to: /content/drive/MyDrive/speech-emotion-recognition-ravdess-data/speech_model_wo_kfold_1moreConv.tf/assets\n"
          ]
        },
        {
          "output_type": "stream",
          "name": "stderr",
          "text": [
            "INFO:tensorflow:Assets written to: /content/drive/MyDrive/speech-emotion-recognition-ravdess-data/speech_model_wo_kfold_1moreConv.tf/assets\n",
            "WARNING:absl:<keras.layers.recurrent.LSTMCell object at 0x7f968fe12490> has the same name 'LSTMCell' as a built-in Keras object. Consider renaming <class 'keras.layers.recurrent.LSTMCell'> to avoid naming conflicts when loading with `tf.keras.models.load_model`. If renaming is not possible, pass the object in the `custom_objects` parameter of the load function.\n",
            "WARNING:absl:<keras.layers.recurrent.LSTMCell object at 0x7f96927d8890> has the same name 'LSTMCell' as a built-in Keras object. Consider renaming <class 'keras.layers.recurrent.LSTMCell'> to avoid naming conflicts when loading with `tf.keras.models.load_model`. If renaming is not possible, pass the object in the `custom_objects` parameter of the load function.\n"
          ]
        },
        {
          "output_type": "stream",
          "name": "stdout",
          "text": [
            "\b\b\b\b\b\b\b\b\b\b\b\b\b\b\b\b\b\b\b\b\b\b\b\b\b\b\b\b\b\b\b\b\b\b\b\b\b\b\b\b\b\b\b\b\b\b\b\b\b\b\b\b\b\b\b\b\b\b\b\b\b\b\b\b\b\b\b\b\b\b\b\b\b\b\b\b\b\b\b\b\b\b\r48/48 [==============================] - 65s 1s/step - loss: 1.8956 - accuracy: 0.1875 - val_loss: 1.8818 - val_accuracy: 0.2038 - lr: 0.0010\n",
            "Epoch 2/60\n",
            "48/48 [==============================] - ETA: 0s - loss: 1.8406 - accuracy: 0.2221"
          ]
        },
        {
          "output_type": "stream",
          "name": "stderr",
          "text": [
            "WARNING:absl:Found untraced functions such as lstm_cell_14_layer_call_fn, lstm_cell_14_layer_call_and_return_conditional_losses, lstm_cell_15_layer_call_fn, lstm_cell_15_layer_call_and_return_conditional_losses while saving (showing 4 of 4). These functions will not be directly callable after loading.\n"
          ]
        },
        {
          "output_type": "stream",
          "name": "stdout",
          "text": [
            "INFO:tensorflow:Assets written to: /content/drive/MyDrive/speech-emotion-recognition-ravdess-data/speech_model_wo_kfold_1moreConv.tf/assets\n"
          ]
        },
        {
          "output_type": "stream",
          "name": "stderr",
          "text": [
            "INFO:tensorflow:Assets written to: /content/drive/MyDrive/speech-emotion-recognition-ravdess-data/speech_model_wo_kfold_1moreConv.tf/assets\n",
            "WARNING:absl:<keras.layers.recurrent.LSTMCell object at 0x7f968fe12490> has the same name 'LSTMCell' as a built-in Keras object. Consider renaming <class 'keras.layers.recurrent.LSTMCell'> to avoid naming conflicts when loading with `tf.keras.models.load_model`. If renaming is not possible, pass the object in the `custom_objects` parameter of the load function.\n",
            "WARNING:absl:<keras.layers.recurrent.LSTMCell object at 0x7f96927d8890> has the same name 'LSTMCell' as a built-in Keras object. Consider renaming <class 'keras.layers.recurrent.LSTMCell'> to avoid naming conflicts when loading with `tf.keras.models.load_model`. If renaming is not possible, pass the object in the `custom_objects` parameter of the load function.\n"
          ]
        },
        {
          "output_type": "stream",
          "name": "stdout",
          "text": [
            "\b\b\b\b\b\b\b\b\b\b\b\b\b\b\b\b\b\b\b\b\b\b\b\b\b\b\b\b\b\b\b\b\b\b\b\b\b\b\b\b\b\b\b\b\b\b\b\b\b\b\b\b\b\b\b\b\b\b\b\b\b\b\b\b\b\b\b\b\b\b\b\b\b\b\b\b\b\b\b\b\b\b\r48/48 [==============================] - 33s 684ms/step - loss: 1.8406 - accuracy: 0.2221 - val_loss: 1.8071 - val_accuracy: 0.2156 - lr: 0.0010\n",
            "Epoch 3/60\n",
            "48/48 [==============================] - ETA: 0s - loss: 1.8073 - accuracy: 0.2383"
          ]
        },
        {
          "output_type": "stream",
          "name": "stderr",
          "text": [
            "WARNING:absl:Found untraced functions such as lstm_cell_14_layer_call_fn, lstm_cell_14_layer_call_and_return_conditional_losses, lstm_cell_15_layer_call_fn, lstm_cell_15_layer_call_and_return_conditional_losses while saving (showing 4 of 4). These functions will not be directly callable after loading.\n"
          ]
        },
        {
          "output_type": "stream",
          "name": "stdout",
          "text": [
            "INFO:tensorflow:Assets written to: /content/drive/MyDrive/speech-emotion-recognition-ravdess-data/speech_model_wo_kfold_1moreConv.tf/assets\n"
          ]
        },
        {
          "output_type": "stream",
          "name": "stderr",
          "text": [
            "INFO:tensorflow:Assets written to: /content/drive/MyDrive/speech-emotion-recognition-ravdess-data/speech_model_wo_kfold_1moreConv.tf/assets\n",
            "WARNING:absl:<keras.layers.recurrent.LSTMCell object at 0x7f968fe12490> has the same name 'LSTMCell' as a built-in Keras object. Consider renaming <class 'keras.layers.recurrent.LSTMCell'> to avoid naming conflicts when loading with `tf.keras.models.load_model`. If renaming is not possible, pass the object in the `custom_objects` parameter of the load function.\n",
            "WARNING:absl:<keras.layers.recurrent.LSTMCell object at 0x7f96927d8890> has the same name 'LSTMCell' as a built-in Keras object. Consider renaming <class 'keras.layers.recurrent.LSTMCell'> to avoid naming conflicts when loading with `tf.keras.models.load_model`. If renaming is not possible, pass the object in the `custom_objects` parameter of the load function.\n"
          ]
        },
        {
          "output_type": "stream",
          "name": "stdout",
          "text": [
            "\b\b\b\b\b\b\b\b\b\b\b\b\b\b\b\b\b\b\b\b\b\b\b\b\b\b\b\b\b\b\b\b\b\b\b\b\b\b\b\b\b\b\b\b\b\b\b\b\b\b\b\b\b\b\b\b\b\b\b\b\b\b\b\b\b\b\b\b\b\b\b\b\b\b\b\b\b\b\b\b\b\b\r48/48 [==============================] - 33s 682ms/step - loss: 1.8073 - accuracy: 0.2383 - val_loss: 1.7474 - val_accuracy: 0.2700 - lr: 0.0010\n",
            "Epoch 4/60\n",
            "48/48 [==============================] - ETA: 0s - loss: 1.7643 - accuracy: 0.2673"
          ]
        },
        {
          "output_type": "stream",
          "name": "stderr",
          "text": [
            "WARNING:absl:Found untraced functions such as lstm_cell_14_layer_call_fn, lstm_cell_14_layer_call_and_return_conditional_losses, lstm_cell_15_layer_call_fn, lstm_cell_15_layer_call_and_return_conditional_losses while saving (showing 4 of 4). These functions will not be directly callable after loading.\n"
          ]
        },
        {
          "output_type": "stream",
          "name": "stdout",
          "text": [
            "INFO:tensorflow:Assets written to: /content/drive/MyDrive/speech-emotion-recognition-ravdess-data/speech_model_wo_kfold_1moreConv.tf/assets\n"
          ]
        },
        {
          "output_type": "stream",
          "name": "stderr",
          "text": [
            "INFO:tensorflow:Assets written to: /content/drive/MyDrive/speech-emotion-recognition-ravdess-data/speech_model_wo_kfold_1moreConv.tf/assets\n",
            "WARNING:absl:<keras.layers.recurrent.LSTMCell object at 0x7f968fe12490> has the same name 'LSTMCell' as a built-in Keras object. Consider renaming <class 'keras.layers.recurrent.LSTMCell'> to avoid naming conflicts when loading with `tf.keras.models.load_model`. If renaming is not possible, pass the object in the `custom_objects` parameter of the load function.\n",
            "WARNING:absl:<keras.layers.recurrent.LSTMCell object at 0x7f96927d8890> has the same name 'LSTMCell' as a built-in Keras object. Consider renaming <class 'keras.layers.recurrent.LSTMCell'> to avoid naming conflicts when loading with `tf.keras.models.load_model`. If renaming is not possible, pass the object in the `custom_objects` parameter of the load function.\n"
          ]
        },
        {
          "output_type": "stream",
          "name": "stdout",
          "text": [
            "\b\b\b\b\b\b\b\b\b\b\b\b\b\b\b\b\b\b\b\b\b\b\b\b\b\b\b\b\b\b\b\b\b\b\b\b\b\b\b\b\b\b\b\b\b\b\b\b\b\b\b\b\b\b\b\b\b\b\b\b\b\b\b\b\b\b\b\b\b\b\b\b\b\b\b\b\b\b\b\b\b\b\r48/48 [==============================] - 33s 692ms/step - loss: 1.7643 - accuracy: 0.2673 - val_loss: 1.7248 - val_accuracy: 0.2839 - lr: 0.0010\n",
            "Epoch 5/60\n",
            "48/48 [==============================] - ETA: 0s - loss: 1.7244 - accuracy: 0.2941"
          ]
        },
        {
          "output_type": "stream",
          "name": "stderr",
          "text": [
            "WARNING:absl:Found untraced functions such as lstm_cell_14_layer_call_fn, lstm_cell_14_layer_call_and_return_conditional_losses, lstm_cell_15_layer_call_fn, lstm_cell_15_layer_call_and_return_conditional_losses while saving (showing 4 of 4). These functions will not be directly callable after loading.\n"
          ]
        },
        {
          "output_type": "stream",
          "name": "stdout",
          "text": [
            "INFO:tensorflow:Assets written to: /content/drive/MyDrive/speech-emotion-recognition-ravdess-data/speech_model_wo_kfold_1moreConv.tf/assets\n"
          ]
        },
        {
          "output_type": "stream",
          "name": "stderr",
          "text": [
            "INFO:tensorflow:Assets written to: /content/drive/MyDrive/speech-emotion-recognition-ravdess-data/speech_model_wo_kfold_1moreConv.tf/assets\n",
            "WARNING:absl:<keras.layers.recurrent.LSTMCell object at 0x7f968fe12490> has the same name 'LSTMCell' as a built-in Keras object. Consider renaming <class 'keras.layers.recurrent.LSTMCell'> to avoid naming conflicts when loading with `tf.keras.models.load_model`. If renaming is not possible, pass the object in the `custom_objects` parameter of the load function.\n",
            "WARNING:absl:<keras.layers.recurrent.LSTMCell object at 0x7f96927d8890> has the same name 'LSTMCell' as a built-in Keras object. Consider renaming <class 'keras.layers.recurrent.LSTMCell'> to avoid naming conflicts when loading with `tf.keras.models.load_model`. If renaming is not possible, pass the object in the `custom_objects` parameter of the load function.\n"
          ]
        },
        {
          "output_type": "stream",
          "name": "stdout",
          "text": [
            "\b\b\b\b\b\b\b\b\b\b\b\b\b\b\b\b\b\b\b\b\b\b\b\b\b\b\b\b\b\b\b\b\b\b\b\b\b\b\b\b\b\b\b\b\b\b\b\b\b\b\b\b\b\b\b\b\b\b\b\b\b\b\b\b\b\b\b\b\b\b\b\b\b\b\b\b\b\b\b\b\b\b\r48/48 [==============================] - 33s 684ms/step - loss: 1.7244 - accuracy: 0.2941 - val_loss: 1.7077 - val_accuracy: 0.2938 - lr: 0.0010\n",
            "Epoch 6/60\n",
            "48/48 [==============================] - ETA: 0s - loss: 1.6684 - accuracy: 0.3152"
          ]
        },
        {
          "output_type": "stream",
          "name": "stderr",
          "text": [
            "WARNING:absl:Found untraced functions such as lstm_cell_14_layer_call_fn, lstm_cell_14_layer_call_and_return_conditional_losses, lstm_cell_15_layer_call_fn, lstm_cell_15_layer_call_and_return_conditional_losses while saving (showing 4 of 4). These functions will not be directly callable after loading.\n"
          ]
        },
        {
          "output_type": "stream",
          "name": "stdout",
          "text": [
            "INFO:tensorflow:Assets written to: /content/drive/MyDrive/speech-emotion-recognition-ravdess-data/speech_model_wo_kfold_1moreConv.tf/assets\n"
          ]
        },
        {
          "output_type": "stream",
          "name": "stderr",
          "text": [
            "INFO:tensorflow:Assets written to: /content/drive/MyDrive/speech-emotion-recognition-ravdess-data/speech_model_wo_kfold_1moreConv.tf/assets\n",
            "WARNING:absl:<keras.layers.recurrent.LSTMCell object at 0x7f968fe12490> has the same name 'LSTMCell' as a built-in Keras object. Consider renaming <class 'keras.layers.recurrent.LSTMCell'> to avoid naming conflicts when loading with `tf.keras.models.load_model`. If renaming is not possible, pass the object in the `custom_objects` parameter of the load function.\n",
            "WARNING:absl:<keras.layers.recurrent.LSTMCell object at 0x7f96927d8890> has the same name 'LSTMCell' as a built-in Keras object. Consider renaming <class 'keras.layers.recurrent.LSTMCell'> to avoid naming conflicts when loading with `tf.keras.models.load_model`. If renaming is not possible, pass the object in the `custom_objects` parameter of the load function.\n"
          ]
        },
        {
          "output_type": "stream",
          "name": "stdout",
          "text": [
            "\b\b\b\b\b\b\b\b\b\b\b\b\b\b\b\b\b\b\b\b\b\b\b\b\b\b\b\b\b\b\b\b\b\b\b\b\b\b\b\b\b\b\b\b\b\b\b\b\b\b\b\b\b\b\b\b\b\b\b\b\b\b\b\b\b\b\b\b\b\b\b\b\b\b\b\b\b\b\b\b\b\b\r48/48 [==============================] - 33s 684ms/step - loss: 1.6684 - accuracy: 0.3152 - val_loss: 1.6682 - val_accuracy: 0.3403 - lr: 0.0010\n",
            "Epoch 7/60\n",
            "48/48 [==============================] - ETA: 0s - loss: 1.6205 - accuracy: 0.3373"
          ]
        },
        {
          "output_type": "stream",
          "name": "stderr",
          "text": [
            "WARNING:absl:Found untraced functions such as lstm_cell_14_layer_call_fn, lstm_cell_14_layer_call_and_return_conditional_losses, lstm_cell_15_layer_call_fn, lstm_cell_15_layer_call_and_return_conditional_losses while saving (showing 4 of 4). These functions will not be directly callable after loading.\n"
          ]
        },
        {
          "output_type": "stream",
          "name": "stdout",
          "text": [
            "INFO:tensorflow:Assets written to: /content/drive/MyDrive/speech-emotion-recognition-ravdess-data/speech_model_wo_kfold_1moreConv.tf/assets\n"
          ]
        },
        {
          "output_type": "stream",
          "name": "stderr",
          "text": [
            "INFO:tensorflow:Assets written to: /content/drive/MyDrive/speech-emotion-recognition-ravdess-data/speech_model_wo_kfold_1moreConv.tf/assets\n",
            "WARNING:absl:<keras.layers.recurrent.LSTMCell object at 0x7f968fe12490> has the same name 'LSTMCell' as a built-in Keras object. Consider renaming <class 'keras.layers.recurrent.LSTMCell'> to avoid naming conflicts when loading with `tf.keras.models.load_model`. If renaming is not possible, pass the object in the `custom_objects` parameter of the load function.\n",
            "WARNING:absl:<keras.layers.recurrent.LSTMCell object at 0x7f96927d8890> has the same name 'LSTMCell' as a built-in Keras object. Consider renaming <class 'keras.layers.recurrent.LSTMCell'> to avoid naming conflicts when loading with `tf.keras.models.load_model`. If renaming is not possible, pass the object in the `custom_objects` parameter of the load function.\n"
          ]
        },
        {
          "output_type": "stream",
          "name": "stdout",
          "text": [
            "\b\b\b\b\b\b\b\b\b\b\b\b\b\b\b\b\b\b\b\b\b\b\b\b\b\b\b\b\b\b\b\b\b\b\b\b\b\b\b\b\b\b\b\b\b\b\b\b\b\b\b\b\b\b\b\b\b\b\b\b\b\b\b\b\b\b\b\b\b\b\b\b\b\b\b\b\b\b\b\b\b\b\r48/48 [==============================] - 35s 744ms/step - loss: 1.6205 - accuracy: 0.3373 - val_loss: 1.5503 - val_accuracy: 0.3759 - lr: 0.0010\n",
            "Epoch 8/60\n",
            "48/48 [==============================] - ETA: 0s - loss: 1.5802 - accuracy: 0.3657"
          ]
        },
        {
          "output_type": "stream",
          "name": "stderr",
          "text": [
            "WARNING:absl:Found untraced functions such as lstm_cell_14_layer_call_fn, lstm_cell_14_layer_call_and_return_conditional_losses, lstm_cell_15_layer_call_fn, lstm_cell_15_layer_call_and_return_conditional_losses while saving (showing 4 of 4). These functions will not be directly callable after loading.\n"
          ]
        },
        {
          "output_type": "stream",
          "name": "stdout",
          "text": [
            "INFO:tensorflow:Assets written to: /content/drive/MyDrive/speech-emotion-recognition-ravdess-data/speech_model_wo_kfold_1moreConv.tf/assets\n"
          ]
        },
        {
          "output_type": "stream",
          "name": "stderr",
          "text": [
            "INFO:tensorflow:Assets written to: /content/drive/MyDrive/speech-emotion-recognition-ravdess-data/speech_model_wo_kfold_1moreConv.tf/assets\n",
            "WARNING:absl:<keras.layers.recurrent.LSTMCell object at 0x7f968fe12490> has the same name 'LSTMCell' as a built-in Keras object. Consider renaming <class 'keras.layers.recurrent.LSTMCell'> to avoid naming conflicts when loading with `tf.keras.models.load_model`. If renaming is not possible, pass the object in the `custom_objects` parameter of the load function.\n",
            "WARNING:absl:<keras.layers.recurrent.LSTMCell object at 0x7f96927d8890> has the same name 'LSTMCell' as a built-in Keras object. Consider renaming <class 'keras.layers.recurrent.LSTMCell'> to avoid naming conflicts when loading with `tf.keras.models.load_model`. If renaming is not possible, pass the object in the `custom_objects` parameter of the load function.\n"
          ]
        },
        {
          "output_type": "stream",
          "name": "stdout",
          "text": [
            "\b\b\b\b\b\b\b\b\b\b\b\b\b\b\b\b\b\b\b\b\b\b\b\b\b\b\b\b\b\b\b\b\b\b\b\b\b\b\b\b\b\b\b\b\b\b\b\b\b\b\b\b\b\b\b\b\b\b\b\b\b\b\b\b\b\b\b\b\b\b\b\b\b\b\b\b\b\b\b\b\b\b\r48/48 [==============================] - 31s 655ms/step - loss: 1.5802 - accuracy: 0.3657 - val_loss: 1.5438 - val_accuracy: 0.3966 - lr: 0.0010\n",
            "Epoch 9/60\n",
            "48/48 [==============================] - ETA: 0s - loss: 1.5477 - accuracy: 0.3848"
          ]
        },
        {
          "output_type": "stream",
          "name": "stderr",
          "text": [
            "WARNING:absl:Found untraced functions such as lstm_cell_14_layer_call_fn, lstm_cell_14_layer_call_and_return_conditional_losses, lstm_cell_15_layer_call_fn, lstm_cell_15_layer_call_and_return_conditional_losses while saving (showing 4 of 4). These functions will not be directly callable after loading.\n"
          ]
        },
        {
          "output_type": "stream",
          "name": "stdout",
          "text": [
            "INFO:tensorflow:Assets written to: /content/drive/MyDrive/speech-emotion-recognition-ravdess-data/speech_model_wo_kfold_1moreConv.tf/assets\n"
          ]
        },
        {
          "output_type": "stream",
          "name": "stderr",
          "text": [
            "INFO:tensorflow:Assets written to: /content/drive/MyDrive/speech-emotion-recognition-ravdess-data/speech_model_wo_kfold_1moreConv.tf/assets\n",
            "WARNING:absl:<keras.layers.recurrent.LSTMCell object at 0x7f968fe12490> has the same name 'LSTMCell' as a built-in Keras object. Consider renaming <class 'keras.layers.recurrent.LSTMCell'> to avoid naming conflicts when loading with `tf.keras.models.load_model`. If renaming is not possible, pass the object in the `custom_objects` parameter of the load function.\n",
            "WARNING:absl:<keras.layers.recurrent.LSTMCell object at 0x7f96927d8890> has the same name 'LSTMCell' as a built-in Keras object. Consider renaming <class 'keras.layers.recurrent.LSTMCell'> to avoid naming conflicts when loading with `tf.keras.models.load_model`. If renaming is not possible, pass the object in the `custom_objects` parameter of the load function.\n"
          ]
        },
        {
          "output_type": "stream",
          "name": "stdout",
          "text": [
            "\b\b\b\b\b\b\b\b\b\b\b\b\b\b\b\b\b\b\b\b\b\b\b\b\b\b\b\b\b\b\b\b\b\b\b\b\b\b\b\b\b\b\b\b\b\b\b\b\b\b\b\b\b\b\b\b\b\b\b\b\b\b\b\b\b\b\b\b\b\b\b\b\b\b\b\b\b\b\b\b\b\b\r48/48 [==============================] - 33s 688ms/step - loss: 1.5477 - accuracy: 0.3848 - val_loss: 1.4986 - val_accuracy: 0.3996 - lr: 0.0010\n",
            "Epoch 10/60\n",
            "48/48 [==============================] - ETA: 0s - loss: 1.5246 - accuracy: 0.3908"
          ]
        },
        {
          "output_type": "stream",
          "name": "stderr",
          "text": [
            "WARNING:absl:Found untraced functions such as lstm_cell_14_layer_call_fn, lstm_cell_14_layer_call_and_return_conditional_losses, lstm_cell_15_layer_call_fn, lstm_cell_15_layer_call_and_return_conditional_losses while saving (showing 4 of 4). These functions will not be directly callable after loading.\n"
          ]
        },
        {
          "output_type": "stream",
          "name": "stdout",
          "text": [
            "INFO:tensorflow:Assets written to: /content/drive/MyDrive/speech-emotion-recognition-ravdess-data/speech_model_wo_kfold_1moreConv.tf/assets\n"
          ]
        },
        {
          "output_type": "stream",
          "name": "stderr",
          "text": [
            "INFO:tensorflow:Assets written to: /content/drive/MyDrive/speech-emotion-recognition-ravdess-data/speech_model_wo_kfold_1moreConv.tf/assets\n",
            "WARNING:absl:<keras.layers.recurrent.LSTMCell object at 0x7f968fe12490> has the same name 'LSTMCell' as a built-in Keras object. Consider renaming <class 'keras.layers.recurrent.LSTMCell'> to avoid naming conflicts when loading with `tf.keras.models.load_model`. If renaming is not possible, pass the object in the `custom_objects` parameter of the load function.\n",
            "WARNING:absl:<keras.layers.recurrent.LSTMCell object at 0x7f96927d8890> has the same name 'LSTMCell' as a built-in Keras object. Consider renaming <class 'keras.layers.recurrent.LSTMCell'> to avoid naming conflicts when loading with `tf.keras.models.load_model`. If renaming is not possible, pass the object in the `custom_objects` parameter of the load function.\n"
          ]
        },
        {
          "output_type": "stream",
          "name": "stdout",
          "text": [
            "\b\b\b\b\b\b\b\b\b\b\b\b\b\b\b\b\b\b\b\b\b\b\b\b\b\b\b\b\b\b\b\b\b\b\b\b\b\b\b\b\b\b\b\b\b\b\b\b\b\b\b\b\b\b\b\b\b\b\b\b\b\b\b\b\b\b\b\b\b\b\b\b\b\b\b\b\b\b\b\b\b\b\r48/48 [==============================] - 33s 697ms/step - loss: 1.5246 - accuracy: 0.3908 - val_loss: 1.4553 - val_accuracy: 0.4184 - lr: 0.0010\n",
            "Epoch 11/60\n",
            "48/48 [==============================] - ETA: 0s - loss: 1.4916 - accuracy: 0.3990"
          ]
        },
        {
          "output_type": "stream",
          "name": "stderr",
          "text": [
            "WARNING:absl:Found untraced functions such as lstm_cell_14_layer_call_fn, lstm_cell_14_layer_call_and_return_conditional_losses, lstm_cell_15_layer_call_fn, lstm_cell_15_layer_call_and_return_conditional_losses while saving (showing 4 of 4). These functions will not be directly callable after loading.\n"
          ]
        },
        {
          "output_type": "stream",
          "name": "stdout",
          "text": [
            "INFO:tensorflow:Assets written to: /content/drive/MyDrive/speech-emotion-recognition-ravdess-data/speech_model_wo_kfold_1moreConv.tf/assets\n"
          ]
        },
        {
          "output_type": "stream",
          "name": "stderr",
          "text": [
            "INFO:tensorflow:Assets written to: /content/drive/MyDrive/speech-emotion-recognition-ravdess-data/speech_model_wo_kfold_1moreConv.tf/assets\n",
            "WARNING:absl:<keras.layers.recurrent.LSTMCell object at 0x7f968fe12490> has the same name 'LSTMCell' as a built-in Keras object. Consider renaming <class 'keras.layers.recurrent.LSTMCell'> to avoid naming conflicts when loading with `tf.keras.models.load_model`. If renaming is not possible, pass the object in the `custom_objects` parameter of the load function.\n",
            "WARNING:absl:<keras.layers.recurrent.LSTMCell object at 0x7f96927d8890> has the same name 'LSTMCell' as a built-in Keras object. Consider renaming <class 'keras.layers.recurrent.LSTMCell'> to avoid naming conflicts when loading with `tf.keras.models.load_model`. If renaming is not possible, pass the object in the `custom_objects` parameter of the load function.\n"
          ]
        },
        {
          "output_type": "stream",
          "name": "stdout",
          "text": [
            "\b\b\b\b\b\b\b\b\b\b\b\b\b\b\b\b\b\b\b\b\b\b\b\b\b\b\b\b\b\b\b\b\b\b\b\b\b\b\b\b\b\b\b\b\b\b\b\b\b\b\b\b\b\b\b\b\b\b\b\b\b\b\b\b\b\b\b\b\b\b\b\b\b\b\b\b\b\b\b\b\b\b\r48/48 [==============================] - 32s 678ms/step - loss: 1.4916 - accuracy: 0.3990 - val_loss: 1.4474 - val_accuracy: 0.4224 - lr: 0.0010\n",
            "Epoch 12/60\n",
            "48/48 [==============================] - ETA: 0s - loss: 1.4582 - accuracy: 0.4231"
          ]
        },
        {
          "output_type": "stream",
          "name": "stderr",
          "text": [
            "WARNING:absl:Found untraced functions such as lstm_cell_14_layer_call_fn, lstm_cell_14_layer_call_and_return_conditional_losses, lstm_cell_15_layer_call_fn, lstm_cell_15_layer_call_and_return_conditional_losses while saving (showing 4 of 4). These functions will not be directly callable after loading.\n"
          ]
        },
        {
          "output_type": "stream",
          "name": "stdout",
          "text": [
            "INFO:tensorflow:Assets written to: /content/drive/MyDrive/speech-emotion-recognition-ravdess-data/speech_model_wo_kfold_1moreConv.tf/assets\n"
          ]
        },
        {
          "output_type": "stream",
          "name": "stderr",
          "text": [
            "INFO:tensorflow:Assets written to: /content/drive/MyDrive/speech-emotion-recognition-ravdess-data/speech_model_wo_kfold_1moreConv.tf/assets\n",
            "WARNING:absl:<keras.layers.recurrent.LSTMCell object at 0x7f968fe12490> has the same name 'LSTMCell' as a built-in Keras object. Consider renaming <class 'keras.layers.recurrent.LSTMCell'> to avoid naming conflicts when loading with `tf.keras.models.load_model`. If renaming is not possible, pass the object in the `custom_objects` parameter of the load function.\n",
            "WARNING:absl:<keras.layers.recurrent.LSTMCell object at 0x7f96927d8890> has the same name 'LSTMCell' as a built-in Keras object. Consider renaming <class 'keras.layers.recurrent.LSTMCell'> to avoid naming conflicts when loading with `tf.keras.models.load_model`. If renaming is not possible, pass the object in the `custom_objects` parameter of the load function.\n"
          ]
        },
        {
          "output_type": "stream",
          "name": "stdout",
          "text": [
            "\b\b\b\b\b\b\b\b\b\b\b\b\b\b\b\b\b\b\b\b\b\b\b\b\b\b\b\b\b\b\b\b\b\b\b\b\b\b\b\b\b\b\b\b\b\b\b\b\b\b\b\b\b\b\b\b\b\b\b\b\b\b\b\b\b\b\b\b\b\b\b\b\b\b\b\b\b\b\b\b\b\b\r48/48 [==============================] - 31s 657ms/step - loss: 1.4582 - accuracy: 0.4231 - val_loss: 1.4614 - val_accuracy: 0.4095 - lr: 0.0010\n",
            "Epoch 13/60\n",
            "48/48 [==============================] - ETA: 0s - loss: 1.4261 - accuracy: 0.4360"
          ]
        },
        {
          "output_type": "stream",
          "name": "stderr",
          "text": [
            "WARNING:absl:Found untraced functions such as lstm_cell_14_layer_call_fn, lstm_cell_14_layer_call_and_return_conditional_losses, lstm_cell_15_layer_call_fn, lstm_cell_15_layer_call_and_return_conditional_losses while saving (showing 4 of 4). These functions will not be directly callable after loading.\n"
          ]
        },
        {
          "output_type": "stream",
          "name": "stdout",
          "text": [
            "INFO:tensorflow:Assets written to: /content/drive/MyDrive/speech-emotion-recognition-ravdess-data/speech_model_wo_kfold_1moreConv.tf/assets\n"
          ]
        },
        {
          "output_type": "stream",
          "name": "stderr",
          "text": [
            "INFO:tensorflow:Assets written to: /content/drive/MyDrive/speech-emotion-recognition-ravdess-data/speech_model_wo_kfold_1moreConv.tf/assets\n",
            "WARNING:absl:<keras.layers.recurrent.LSTMCell object at 0x7f968fe12490> has the same name 'LSTMCell' as a built-in Keras object. Consider renaming <class 'keras.layers.recurrent.LSTMCell'> to avoid naming conflicts when loading with `tf.keras.models.load_model`. If renaming is not possible, pass the object in the `custom_objects` parameter of the load function.\n",
            "WARNING:absl:<keras.layers.recurrent.LSTMCell object at 0x7f96927d8890> has the same name 'LSTMCell' as a built-in Keras object. Consider renaming <class 'keras.layers.recurrent.LSTMCell'> to avoid naming conflicts when loading with `tf.keras.models.load_model`. If renaming is not possible, pass the object in the `custom_objects` parameter of the load function.\n"
          ]
        },
        {
          "output_type": "stream",
          "name": "stdout",
          "text": [
            "\b\b\b\b\b\b\b\b\b\b\b\b\b\b\b\b\b\b\b\b\b\b\b\b\b\b\b\b\b\b\b\b\b\b\b\b\b\b\b\b\b\b\b\b\b\b\b\b\b\b\b\b\b\b\b\b\b\b\b\b\b\b\b\b\b\b\b\b\b\b\b\b\b\b\b\b\b\b\b\b\b\b\r48/48 [==============================] - 33s 684ms/step - loss: 1.4261 - accuracy: 0.4360 - val_loss: 1.4538 - val_accuracy: 0.4204 - lr: 0.0010\n",
            "Epoch 14/60\n",
            "48/48 [==============================] - ETA: 0s - loss: 1.4165 - accuracy: 0.4508"
          ]
        },
        {
          "output_type": "stream",
          "name": "stderr",
          "text": [
            "WARNING:absl:Found untraced functions such as lstm_cell_14_layer_call_fn, lstm_cell_14_layer_call_and_return_conditional_losses, lstm_cell_15_layer_call_fn, lstm_cell_15_layer_call_and_return_conditional_losses while saving (showing 4 of 4). These functions will not be directly callable after loading.\n"
          ]
        },
        {
          "output_type": "stream",
          "name": "stdout",
          "text": [
            "INFO:tensorflow:Assets written to: /content/drive/MyDrive/speech-emotion-recognition-ravdess-data/speech_model_wo_kfold_1moreConv.tf/assets\n"
          ]
        },
        {
          "output_type": "stream",
          "name": "stderr",
          "text": [
            "INFO:tensorflow:Assets written to: /content/drive/MyDrive/speech-emotion-recognition-ravdess-data/speech_model_wo_kfold_1moreConv.tf/assets\n",
            "WARNING:absl:<keras.layers.recurrent.LSTMCell object at 0x7f968fe12490> has the same name 'LSTMCell' as a built-in Keras object. Consider renaming <class 'keras.layers.recurrent.LSTMCell'> to avoid naming conflicts when loading with `tf.keras.models.load_model`. If renaming is not possible, pass the object in the `custom_objects` parameter of the load function.\n",
            "WARNING:absl:<keras.layers.recurrent.LSTMCell object at 0x7f96927d8890> has the same name 'LSTMCell' as a built-in Keras object. Consider renaming <class 'keras.layers.recurrent.LSTMCell'> to avoid naming conflicts when loading with `tf.keras.models.load_model`. If renaming is not possible, pass the object in the `custom_objects` parameter of the load function.\n"
          ]
        },
        {
          "output_type": "stream",
          "name": "stdout",
          "text": [
            "\b\b\b\b\b\b\b\b\b\b\b\b\b\b\b\b\b\b\b\b\b\b\b\b\b\b\b\b\b\b\b\b\b\b\b\b\b\b\b\b\b\b\b\b\b\b\b\b\b\b\b\b\b\b\b\b\b\b\b\b\b\b\b\b\b\b\b\b\b\b\b\b\b\b\b\b\b\b\b\b\b\b\r48/48 [==============================] - 32s 673ms/step - loss: 1.4165 - accuracy: 0.4508 - val_loss: 1.4494 - val_accuracy: 0.4491 - lr: 0.0010\n",
            "Epoch 15/60\n",
            "48/48 [==============================] - ETA: 0s - loss: 1.3601 - accuracy: 0.4630"
          ]
        },
        {
          "output_type": "stream",
          "name": "stderr",
          "text": [
            "WARNING:absl:Found untraced functions such as lstm_cell_14_layer_call_fn, lstm_cell_14_layer_call_and_return_conditional_losses, lstm_cell_15_layer_call_fn, lstm_cell_15_layer_call_and_return_conditional_losses while saving (showing 4 of 4). These functions will not be directly callable after loading.\n"
          ]
        },
        {
          "output_type": "stream",
          "name": "stdout",
          "text": [
            "INFO:tensorflow:Assets written to: /content/drive/MyDrive/speech-emotion-recognition-ravdess-data/speech_model_wo_kfold_1moreConv.tf/assets\n"
          ]
        },
        {
          "output_type": "stream",
          "name": "stderr",
          "text": [
            "INFO:tensorflow:Assets written to: /content/drive/MyDrive/speech-emotion-recognition-ravdess-data/speech_model_wo_kfold_1moreConv.tf/assets\n",
            "WARNING:absl:<keras.layers.recurrent.LSTMCell object at 0x7f968fe12490> has the same name 'LSTMCell' as a built-in Keras object. Consider renaming <class 'keras.layers.recurrent.LSTMCell'> to avoid naming conflicts when loading with `tf.keras.models.load_model`. If renaming is not possible, pass the object in the `custom_objects` parameter of the load function.\n",
            "WARNING:absl:<keras.layers.recurrent.LSTMCell object at 0x7f96927d8890> has the same name 'LSTMCell' as a built-in Keras object. Consider renaming <class 'keras.layers.recurrent.LSTMCell'> to avoid naming conflicts when loading with `tf.keras.models.load_model`. If renaming is not possible, pass the object in the `custom_objects` parameter of the load function.\n"
          ]
        },
        {
          "output_type": "stream",
          "name": "stdout",
          "text": [
            "\b\b\b\b\b\b\b\b\b\b\b\b\b\b\b\b\b\b\b\b\b\b\b\b\b\b\b\b\b\b\b\b\b\b\b\b\b\b\b\b\b\b\b\b\b\b\b\b\b\b\b\b\b\b\b\b\b\b\b\b\b\b\b\b\b\b\b\b\b\b\b\b\b\b\b\b\b\b\b\b\b\b\r48/48 [==============================] - 32s 672ms/step - loss: 1.3601 - accuracy: 0.4630 - val_loss: 1.4436 - val_accuracy: 0.4342 - lr: 0.0010\n",
            "Epoch 16/60\n",
            "48/48 [==============================] - ETA: 0s - loss: 1.3481 - accuracy: 0.4723"
          ]
        },
        {
          "output_type": "stream",
          "name": "stderr",
          "text": [
            "WARNING:absl:Found untraced functions such as lstm_cell_14_layer_call_fn, lstm_cell_14_layer_call_and_return_conditional_losses, lstm_cell_15_layer_call_fn, lstm_cell_15_layer_call_and_return_conditional_losses while saving (showing 4 of 4). These functions will not be directly callable after loading.\n"
          ]
        },
        {
          "output_type": "stream",
          "name": "stdout",
          "text": [
            "INFO:tensorflow:Assets written to: /content/drive/MyDrive/speech-emotion-recognition-ravdess-data/speech_model_wo_kfold_1moreConv.tf/assets\n"
          ]
        },
        {
          "output_type": "stream",
          "name": "stderr",
          "text": [
            "INFO:tensorflow:Assets written to: /content/drive/MyDrive/speech-emotion-recognition-ravdess-data/speech_model_wo_kfold_1moreConv.tf/assets\n",
            "WARNING:absl:<keras.layers.recurrent.LSTMCell object at 0x7f968fe12490> has the same name 'LSTMCell' as a built-in Keras object. Consider renaming <class 'keras.layers.recurrent.LSTMCell'> to avoid naming conflicts when loading with `tf.keras.models.load_model`. If renaming is not possible, pass the object in the `custom_objects` parameter of the load function.\n",
            "WARNING:absl:<keras.layers.recurrent.LSTMCell object at 0x7f96927d8890> has the same name 'LSTMCell' as a built-in Keras object. Consider renaming <class 'keras.layers.recurrent.LSTMCell'> to avoid naming conflicts when loading with `tf.keras.models.load_model`. If renaming is not possible, pass the object in the `custom_objects` parameter of the load function.\n"
          ]
        },
        {
          "output_type": "stream",
          "name": "stdout",
          "text": [
            "\b\b\b\b\b\b\b\b\b\b\b\b\b\b\b\b\b\b\b\b\b\b\b\b\b\b\b\b\b\b\b\b\b\b\b\b\b\b\b\b\b\b\b\b\b\b\b\b\b\b\b\b\b\b\b\b\b\b\b\b\b\b\b\b\b\b\b\b\b\b\b\b\b\b\b\b\b\b\b\b\b\b\r48/48 [==============================] - 33s 687ms/step - loss: 1.3481 - accuracy: 0.4723 - val_loss: 1.3733 - val_accuracy: 0.4550 - lr: 0.0010\n",
            "Epoch 17/60\n",
            "48/48 [==============================] - ETA: 0s - loss: 1.3085 - accuracy: 0.4908"
          ]
        },
        {
          "output_type": "stream",
          "name": "stderr",
          "text": [
            "WARNING:absl:Found untraced functions such as lstm_cell_14_layer_call_fn, lstm_cell_14_layer_call_and_return_conditional_losses, lstm_cell_15_layer_call_fn, lstm_cell_15_layer_call_and_return_conditional_losses while saving (showing 4 of 4). These functions will not be directly callable after loading.\n"
          ]
        },
        {
          "output_type": "stream",
          "name": "stdout",
          "text": [
            "INFO:tensorflow:Assets written to: /content/drive/MyDrive/speech-emotion-recognition-ravdess-data/speech_model_wo_kfold_1moreConv.tf/assets\n"
          ]
        },
        {
          "output_type": "stream",
          "name": "stderr",
          "text": [
            "INFO:tensorflow:Assets written to: /content/drive/MyDrive/speech-emotion-recognition-ravdess-data/speech_model_wo_kfold_1moreConv.tf/assets\n",
            "WARNING:absl:<keras.layers.recurrent.LSTMCell object at 0x7f968fe12490> has the same name 'LSTMCell' as a built-in Keras object. Consider renaming <class 'keras.layers.recurrent.LSTMCell'> to avoid naming conflicts when loading with `tf.keras.models.load_model`. If renaming is not possible, pass the object in the `custom_objects` parameter of the load function.\n",
            "WARNING:absl:<keras.layers.recurrent.LSTMCell object at 0x7f96927d8890> has the same name 'LSTMCell' as a built-in Keras object. Consider renaming <class 'keras.layers.recurrent.LSTMCell'> to avoid naming conflicts when loading with `tf.keras.models.load_model`. If renaming is not possible, pass the object in the `custom_objects` parameter of the load function.\n"
          ]
        },
        {
          "output_type": "stream",
          "name": "stdout",
          "text": [
            "\b\b\b\b\b\b\b\b\b\b\b\b\b\b\b\b\b\b\b\b\b\b\b\b\b\b\b\b\b\b\b\b\b\b\b\b\b\b\b\b\b\b\b\b\b\b\b\b\b\b\b\b\b\b\b\b\b\b\b\b\b\b\b\b\b\b\b\b\b\b\b\b\b\b\b\b\b\b\b\b\b\b\r48/48 [==============================] - 31s 658ms/step - loss: 1.3085 - accuracy: 0.4908 - val_loss: 1.3489 - val_accuracy: 0.4827 - lr: 0.0010\n",
            "Epoch 18/60\n",
            "48/48 [==============================] - ETA: 0s - loss: 1.3009 - accuracy: 0.5050"
          ]
        },
        {
          "output_type": "stream",
          "name": "stderr",
          "text": [
            "WARNING:absl:Found untraced functions such as lstm_cell_14_layer_call_fn, lstm_cell_14_layer_call_and_return_conditional_losses, lstm_cell_15_layer_call_fn, lstm_cell_15_layer_call_and_return_conditional_losses while saving (showing 4 of 4). These functions will not be directly callable after loading.\n"
          ]
        },
        {
          "output_type": "stream",
          "name": "stdout",
          "text": [
            "INFO:tensorflow:Assets written to: /content/drive/MyDrive/speech-emotion-recognition-ravdess-data/speech_model_wo_kfold_1moreConv.tf/assets\n"
          ]
        },
        {
          "output_type": "stream",
          "name": "stderr",
          "text": [
            "INFO:tensorflow:Assets written to: /content/drive/MyDrive/speech-emotion-recognition-ravdess-data/speech_model_wo_kfold_1moreConv.tf/assets\n",
            "WARNING:absl:<keras.layers.recurrent.LSTMCell object at 0x7f968fe12490> has the same name 'LSTMCell' as a built-in Keras object. Consider renaming <class 'keras.layers.recurrent.LSTMCell'> to avoid naming conflicts when loading with `tf.keras.models.load_model`. If renaming is not possible, pass the object in the `custom_objects` parameter of the load function.\n",
            "WARNING:absl:<keras.layers.recurrent.LSTMCell object at 0x7f96927d8890> has the same name 'LSTMCell' as a built-in Keras object. Consider renaming <class 'keras.layers.recurrent.LSTMCell'> to avoid naming conflicts when loading with `tf.keras.models.load_model`. If renaming is not possible, pass the object in the `custom_objects` parameter of the load function.\n"
          ]
        },
        {
          "output_type": "stream",
          "name": "stdout",
          "text": [
            "\b\b\b\b\b\b\b\b\b\b\b\b\b\b\b\b\b\b\b\b\b\b\b\b\b\b\b\b\b\b\b\b\b\b\b\b\b\b\b\b\b\b\b\b\b\b\b\b\b\b\b\b\b\b\b\b\b\b\b\b\b\b\b\b\b\b\b\b\b\b\b\b\b\b\b\b\b\b\b\b\b\b\r48/48 [==============================] - 34s 716ms/step - loss: 1.3009 - accuracy: 0.5050 - val_loss: 1.3395 - val_accuracy: 0.4768 - lr: 0.0010\n",
            "Epoch 19/60\n",
            "48/48 [==============================] - ETA: 0s - loss: 1.2467 - accuracy: 0.5205"
          ]
        },
        {
          "output_type": "stream",
          "name": "stderr",
          "text": [
            "WARNING:absl:Found untraced functions such as lstm_cell_14_layer_call_fn, lstm_cell_14_layer_call_and_return_conditional_losses, lstm_cell_15_layer_call_fn, lstm_cell_15_layer_call_and_return_conditional_losses while saving (showing 4 of 4). These functions will not be directly callable after loading.\n"
          ]
        },
        {
          "output_type": "stream",
          "name": "stdout",
          "text": [
            "INFO:tensorflow:Assets written to: /content/drive/MyDrive/speech-emotion-recognition-ravdess-data/speech_model_wo_kfold_1moreConv.tf/assets\n"
          ]
        },
        {
          "output_type": "stream",
          "name": "stderr",
          "text": [
            "INFO:tensorflow:Assets written to: /content/drive/MyDrive/speech-emotion-recognition-ravdess-data/speech_model_wo_kfold_1moreConv.tf/assets\n",
            "WARNING:absl:<keras.layers.recurrent.LSTMCell object at 0x7f968fe12490> has the same name 'LSTMCell' as a built-in Keras object. Consider renaming <class 'keras.layers.recurrent.LSTMCell'> to avoid naming conflicts when loading with `tf.keras.models.load_model`. If renaming is not possible, pass the object in the `custom_objects` parameter of the load function.\n",
            "WARNING:absl:<keras.layers.recurrent.LSTMCell object at 0x7f96927d8890> has the same name 'LSTMCell' as a built-in Keras object. Consider renaming <class 'keras.layers.recurrent.LSTMCell'> to avoid naming conflicts when loading with `tf.keras.models.load_model`. If renaming is not possible, pass the object in the `custom_objects` parameter of the load function.\n"
          ]
        },
        {
          "output_type": "stream",
          "name": "stdout",
          "text": [
            "\b\b\b\b\b\b\b\b\b\b\b\b\b\b\b\b\b\b\b\b\b\b\b\b\b\b\b\b\b\b\b\b\b\b\b\b\b\b\b\b\b\b\b\b\b\b\b\b\b\b\b\b\b\b\b\b\b\b\b\b\b\b\b\b\b\b\b\b\b\b\b\b\b\b\b\b\b\b\b\b\b\b\r48/48 [==============================] - 32s 676ms/step - loss: 1.2467 - accuracy: 0.5205 - val_loss: 1.3326 - val_accuracy: 0.4985 - lr: 0.0010\n",
            "Epoch 20/60\n",
            "48/48 [==============================] - ETA: 0s - loss: 1.2123 - accuracy: 0.5389"
          ]
        },
        {
          "output_type": "stream",
          "name": "stderr",
          "text": [
            "WARNING:absl:Found untraced functions such as lstm_cell_14_layer_call_fn, lstm_cell_14_layer_call_and_return_conditional_losses, lstm_cell_15_layer_call_fn, lstm_cell_15_layer_call_and_return_conditional_losses while saving (showing 4 of 4). These functions will not be directly callable after loading.\n"
          ]
        },
        {
          "output_type": "stream",
          "name": "stdout",
          "text": [
            "INFO:tensorflow:Assets written to: /content/drive/MyDrive/speech-emotion-recognition-ravdess-data/speech_model_wo_kfold_1moreConv.tf/assets\n"
          ]
        },
        {
          "output_type": "stream",
          "name": "stderr",
          "text": [
            "INFO:tensorflow:Assets written to: /content/drive/MyDrive/speech-emotion-recognition-ravdess-data/speech_model_wo_kfold_1moreConv.tf/assets\n",
            "WARNING:absl:<keras.layers.recurrent.LSTMCell object at 0x7f968fe12490> has the same name 'LSTMCell' as a built-in Keras object. Consider renaming <class 'keras.layers.recurrent.LSTMCell'> to avoid naming conflicts when loading with `tf.keras.models.load_model`. If renaming is not possible, pass the object in the `custom_objects` parameter of the load function.\n",
            "WARNING:absl:<keras.layers.recurrent.LSTMCell object at 0x7f96927d8890> has the same name 'LSTMCell' as a built-in Keras object. Consider renaming <class 'keras.layers.recurrent.LSTMCell'> to avoid naming conflicts when loading with `tf.keras.models.load_model`. If renaming is not possible, pass the object in the `custom_objects` parameter of the load function.\n"
          ]
        },
        {
          "output_type": "stream",
          "name": "stdout",
          "text": [
            "\b\b\b\b\b\b\b\b\b\b\b\b\b\b\b\b\b\b\b\b\b\b\b\b\b\b\b\b\b\b\b\b\b\b\b\b\b\b\b\b\b\b\b\b\b\b\b\b\b\b\b\b\b\b\b\b\b\b\b\b\b\b\b\b\b\b\b\b\b\b\b\b\b\b\b\b\b\b\b\b\b\b\r48/48 [==============================] - 32s 681ms/step - loss: 1.2123 - accuracy: 0.5389 - val_loss: 1.3207 - val_accuracy: 0.5064 - lr: 0.0010\n",
            "Epoch 21/60\n",
            "48/48 [==============================] - ETA: 0s - loss: 1.1657 - accuracy: 0.5597"
          ]
        },
        {
          "output_type": "stream",
          "name": "stderr",
          "text": [
            "WARNING:absl:Found untraced functions such as lstm_cell_14_layer_call_fn, lstm_cell_14_layer_call_and_return_conditional_losses, lstm_cell_15_layer_call_fn, lstm_cell_15_layer_call_and_return_conditional_losses while saving (showing 4 of 4). These functions will not be directly callable after loading.\n"
          ]
        },
        {
          "output_type": "stream",
          "name": "stdout",
          "text": [
            "INFO:tensorflow:Assets written to: /content/drive/MyDrive/speech-emotion-recognition-ravdess-data/speech_model_wo_kfold_1moreConv.tf/assets\n"
          ]
        },
        {
          "output_type": "stream",
          "name": "stderr",
          "text": [
            "INFO:tensorflow:Assets written to: /content/drive/MyDrive/speech-emotion-recognition-ravdess-data/speech_model_wo_kfold_1moreConv.tf/assets\n",
            "WARNING:absl:<keras.layers.recurrent.LSTMCell object at 0x7f968fe12490> has the same name 'LSTMCell' as a built-in Keras object. Consider renaming <class 'keras.layers.recurrent.LSTMCell'> to avoid naming conflicts when loading with `tf.keras.models.load_model`. If renaming is not possible, pass the object in the `custom_objects` parameter of the load function.\n",
            "WARNING:absl:<keras.layers.recurrent.LSTMCell object at 0x7f96927d8890> has the same name 'LSTMCell' as a built-in Keras object. Consider renaming <class 'keras.layers.recurrent.LSTMCell'> to avoid naming conflicts when loading with `tf.keras.models.load_model`. If renaming is not possible, pass the object in the `custom_objects` parameter of the load function.\n"
          ]
        },
        {
          "output_type": "stream",
          "name": "stdout",
          "text": [
            "\b\b\b\b\b\b\b\b\b\b\b\b\b\b\b\b\b\b\b\b\b\b\b\b\b\b\b\b\b\b\b\b\b\b\b\b\b\b\b\b\b\b\b\b\b\b\b\b\b\b\b\b\b\b\b\b\b\b\b\b\b\b\b\b\b\b\b\b\b\b\b\b\b\b\b\b\b\b\b\b\b\b\r48/48 [==============================] - 31s 644ms/step - loss: 1.1657 - accuracy: 0.5597 - val_loss: 1.3235 - val_accuracy: 0.5114 - lr: 0.0010\n",
            "Epoch 22/60\n",
            "48/48 [==============================] - 22s 466ms/step - loss: 1.1507 - accuracy: 0.5548 - val_loss: 1.2865 - val_accuracy: 0.5054 - lr: 0.0010\n",
            "Epoch 23/60\n",
            "48/48 [==============================] - ETA: 0s - loss: 1.1045 - accuracy: 0.5825"
          ]
        },
        {
          "output_type": "stream",
          "name": "stderr",
          "text": [
            "WARNING:absl:Found untraced functions such as lstm_cell_14_layer_call_fn, lstm_cell_14_layer_call_and_return_conditional_losses, lstm_cell_15_layer_call_fn, lstm_cell_15_layer_call_and_return_conditional_losses while saving (showing 4 of 4). These functions will not be directly callable after loading.\n"
          ]
        },
        {
          "output_type": "stream",
          "name": "stdout",
          "text": [
            "INFO:tensorflow:Assets written to: /content/drive/MyDrive/speech-emotion-recognition-ravdess-data/speech_model_wo_kfold_1moreConv.tf/assets\n"
          ]
        },
        {
          "output_type": "stream",
          "name": "stderr",
          "text": [
            "INFO:tensorflow:Assets written to: /content/drive/MyDrive/speech-emotion-recognition-ravdess-data/speech_model_wo_kfold_1moreConv.tf/assets\n",
            "WARNING:absl:<keras.layers.recurrent.LSTMCell object at 0x7f968fe12490> has the same name 'LSTMCell' as a built-in Keras object. Consider renaming <class 'keras.layers.recurrent.LSTMCell'> to avoid naming conflicts when loading with `tf.keras.models.load_model`. If renaming is not possible, pass the object in the `custom_objects` parameter of the load function.\n",
            "WARNING:absl:<keras.layers.recurrent.LSTMCell object at 0x7f96927d8890> has the same name 'LSTMCell' as a built-in Keras object. Consider renaming <class 'keras.layers.recurrent.LSTMCell'> to avoid naming conflicts when loading with `tf.keras.models.load_model`. If renaming is not possible, pass the object in the `custom_objects` parameter of the load function.\n"
          ]
        },
        {
          "output_type": "stream",
          "name": "stdout",
          "text": [
            "\b\b\b\b\b\b\b\b\b\b\b\b\b\b\b\b\b\b\b\b\b\b\b\b\b\b\b\b\b\b\b\b\b\b\b\b\b\b\b\b\b\b\b\b\b\b\b\b\b\b\b\b\b\b\b\b\b\b\b\b\b\b\b\b\b\b\b\b\b\b\b\b\b\b\b\b\b\b\b\b\b\b\r48/48 [==============================] - 33s 701ms/step - loss: 1.1045 - accuracy: 0.5825 - val_loss: 1.3702 - val_accuracy: 0.4916 - lr: 0.0010\n",
            "Epoch 24/60\n",
            "48/48 [==============================] - ETA: 0s - loss: 1.0823 - accuracy: 0.5990"
          ]
        },
        {
          "output_type": "stream",
          "name": "stderr",
          "text": [
            "WARNING:absl:Found untraced functions such as lstm_cell_14_layer_call_fn, lstm_cell_14_layer_call_and_return_conditional_losses, lstm_cell_15_layer_call_fn, lstm_cell_15_layer_call_and_return_conditional_losses while saving (showing 4 of 4). These functions will not be directly callable after loading.\n"
          ]
        },
        {
          "output_type": "stream",
          "name": "stdout",
          "text": [
            "INFO:tensorflow:Assets written to: /content/drive/MyDrive/speech-emotion-recognition-ravdess-data/speech_model_wo_kfold_1moreConv.tf/assets\n"
          ]
        },
        {
          "output_type": "stream",
          "name": "stderr",
          "text": [
            "INFO:tensorflow:Assets written to: /content/drive/MyDrive/speech-emotion-recognition-ravdess-data/speech_model_wo_kfold_1moreConv.tf/assets\n",
            "WARNING:absl:<keras.layers.recurrent.LSTMCell object at 0x7f968fe12490> has the same name 'LSTMCell' as a built-in Keras object. Consider renaming <class 'keras.layers.recurrent.LSTMCell'> to avoid naming conflicts when loading with `tf.keras.models.load_model`. If renaming is not possible, pass the object in the `custom_objects` parameter of the load function.\n",
            "WARNING:absl:<keras.layers.recurrent.LSTMCell object at 0x7f96927d8890> has the same name 'LSTMCell' as a built-in Keras object. Consider renaming <class 'keras.layers.recurrent.LSTMCell'> to avoid naming conflicts when loading with `tf.keras.models.load_model`. If renaming is not possible, pass the object in the `custom_objects` parameter of the load function.\n"
          ]
        },
        {
          "output_type": "stream",
          "name": "stdout",
          "text": [
            "\b\b\b\b\b\b\b\b\b\b\b\b\b\b\b\b\b\b\b\b\b\b\b\b\b\b\b\b\b\b\b\b\b\b\b\b\b\b\b\b\b\b\b\b\b\b\b\b\b\b\b\b\b\b\b\b\b\b\b\b\b\b\b\b\b\b\b\b\b\b\b\b\b\b\b\b\b\b\b\b\b\b\r48/48 [==============================] - 31s 661ms/step - loss: 1.0823 - accuracy: 0.5990 - val_loss: 1.3126 - val_accuracy: 0.5153 - lr: 0.0010\n",
            "Epoch 25/60\n",
            "48/48 [==============================] - 21s 433ms/step - loss: 1.0893 - accuracy: 0.5891 - val_loss: 1.3078 - val_accuracy: 0.5035 - lr: 0.0010\n",
            "Epoch 26/60\n",
            "48/48 [==============================] - ETA: 0s - loss: 1.0200 - accuracy: 0.6135"
          ]
        },
        {
          "output_type": "stream",
          "name": "stderr",
          "text": [
            "WARNING:absl:Found untraced functions such as lstm_cell_14_layer_call_fn, lstm_cell_14_layer_call_and_return_conditional_losses, lstm_cell_15_layer_call_fn, lstm_cell_15_layer_call_and_return_conditional_losses while saving (showing 4 of 4). These functions will not be directly callable after loading.\n"
          ]
        },
        {
          "output_type": "stream",
          "name": "stdout",
          "text": [
            "INFO:tensorflow:Assets written to: /content/drive/MyDrive/speech-emotion-recognition-ravdess-data/speech_model_wo_kfold_1moreConv.tf/assets\n"
          ]
        },
        {
          "output_type": "stream",
          "name": "stderr",
          "text": [
            "INFO:tensorflow:Assets written to: /content/drive/MyDrive/speech-emotion-recognition-ravdess-data/speech_model_wo_kfold_1moreConv.tf/assets\n",
            "WARNING:absl:<keras.layers.recurrent.LSTMCell object at 0x7f968fe12490> has the same name 'LSTMCell' as a built-in Keras object. Consider renaming <class 'keras.layers.recurrent.LSTMCell'> to avoid naming conflicts when loading with `tf.keras.models.load_model`. If renaming is not possible, pass the object in the `custom_objects` parameter of the load function.\n",
            "WARNING:absl:<keras.layers.recurrent.LSTMCell object at 0x7f96927d8890> has the same name 'LSTMCell' as a built-in Keras object. Consider renaming <class 'keras.layers.recurrent.LSTMCell'> to avoid naming conflicts when loading with `tf.keras.models.load_model`. If renaming is not possible, pass the object in the `custom_objects` parameter of the load function.\n"
          ]
        },
        {
          "output_type": "stream",
          "name": "stdout",
          "text": [
            "\b\b\b\b\b\b\b\b\b\b\b\b\b\b\b\b\b\b\b\b\b\b\b\b\b\b\b\b\b\b\b\b\b\b\b\b\b\b\b\b\b\b\b\b\b\b\b\b\b\b\b\b\b\b\b\b\b\b\b\b\b\b\b\b\b\b\b\b\b\b\b\b\b\b\b\b\b\b\b\b\b\b\r48/48 [==============================] - 33s 698ms/step - loss: 1.0200 - accuracy: 0.6135 - val_loss: 1.3021 - val_accuracy: 0.5143 - lr: 0.0010\n",
            "Epoch 27/60\n",
            "48/48 [==============================] - ETA: 0s - loss: 1.0144 - accuracy: 0.6182"
          ]
        },
        {
          "output_type": "stream",
          "name": "stderr",
          "text": [
            "WARNING:absl:Found untraced functions such as lstm_cell_14_layer_call_fn, lstm_cell_14_layer_call_and_return_conditional_losses, lstm_cell_15_layer_call_fn, lstm_cell_15_layer_call_and_return_conditional_losses while saving (showing 4 of 4). These functions will not be directly callable after loading.\n"
          ]
        },
        {
          "output_type": "stream",
          "name": "stdout",
          "text": [
            "INFO:tensorflow:Assets written to: /content/drive/MyDrive/speech-emotion-recognition-ravdess-data/speech_model_wo_kfold_1moreConv.tf/assets\n"
          ]
        },
        {
          "output_type": "stream",
          "name": "stderr",
          "text": [
            "INFO:tensorflow:Assets written to: /content/drive/MyDrive/speech-emotion-recognition-ravdess-data/speech_model_wo_kfold_1moreConv.tf/assets\n",
            "WARNING:absl:<keras.layers.recurrent.LSTMCell object at 0x7f968fe12490> has the same name 'LSTMCell' as a built-in Keras object. Consider renaming <class 'keras.layers.recurrent.LSTMCell'> to avoid naming conflicts when loading with `tf.keras.models.load_model`. If renaming is not possible, pass the object in the `custom_objects` parameter of the load function.\n",
            "WARNING:absl:<keras.layers.recurrent.LSTMCell object at 0x7f96927d8890> has the same name 'LSTMCell' as a built-in Keras object. Consider renaming <class 'keras.layers.recurrent.LSTMCell'> to avoid naming conflicts when loading with `tf.keras.models.load_model`. If renaming is not possible, pass the object in the `custom_objects` parameter of the load function.\n"
          ]
        },
        {
          "output_type": "stream",
          "name": "stdout",
          "text": [
            "\b\b\b\b\b\b\b\b\b\b\b\b\b\b\b\b\b\b\b\b\b\b\b\b\b\b\b\b\b\b\b\b\b\b\b\b\b\b\b\b\b\b\b\b\b\b\b\b\b\b\b\b\b\b\b\b\b\b\b\b\b\b\b\b\b\b\b\b\b\b\b\b\b\b\b\b\b\b\b\b\b\b\r48/48 [==============================] - 33s 690ms/step - loss: 1.0144 - accuracy: 0.6182 - val_loss: 1.3291 - val_accuracy: 0.5134 - lr: 0.0010\n",
            "Epoch 28/60\n",
            "48/48 [==============================] - ETA: 0s - loss: 0.9547 - accuracy: 0.6452"
          ]
        },
        {
          "output_type": "stream",
          "name": "stderr",
          "text": [
            "WARNING:absl:Found untraced functions such as lstm_cell_14_layer_call_fn, lstm_cell_14_layer_call_and_return_conditional_losses, lstm_cell_15_layer_call_fn, lstm_cell_15_layer_call_and_return_conditional_losses while saving (showing 4 of 4). These functions will not be directly callable after loading.\n"
          ]
        },
        {
          "output_type": "stream",
          "name": "stdout",
          "text": [
            "INFO:tensorflow:Assets written to: /content/drive/MyDrive/speech-emotion-recognition-ravdess-data/speech_model_wo_kfold_1moreConv.tf/assets\n"
          ]
        },
        {
          "output_type": "stream",
          "name": "stderr",
          "text": [
            "INFO:tensorflow:Assets written to: /content/drive/MyDrive/speech-emotion-recognition-ravdess-data/speech_model_wo_kfold_1moreConv.tf/assets\n",
            "WARNING:absl:<keras.layers.recurrent.LSTMCell object at 0x7f968fe12490> has the same name 'LSTMCell' as a built-in Keras object. Consider renaming <class 'keras.layers.recurrent.LSTMCell'> to avoid naming conflicts when loading with `tf.keras.models.load_model`. If renaming is not possible, pass the object in the `custom_objects` parameter of the load function.\n",
            "WARNING:absl:<keras.layers.recurrent.LSTMCell object at 0x7f96927d8890> has the same name 'LSTMCell' as a built-in Keras object. Consider renaming <class 'keras.layers.recurrent.LSTMCell'> to avoid naming conflicts when loading with `tf.keras.models.load_model`. If renaming is not possible, pass the object in the `custom_objects` parameter of the load function.\n"
          ]
        },
        {
          "output_type": "stream",
          "name": "stdout",
          "text": [
            "\b\b\b\b\b\b\b\b\b\b\b\b\b\b\b\b\b\b\b\b\b\b\b\b\b\b\b\b\b\b\b\b\b\b\b\b\b\b\b\b\b\b\b\b\b\b\b\b\b\b\b\b\b\b\b\b\b\b\b\b\b\b\b\b\b\b\b\b\b\b\b\b\b\b\b\b\b\b\b\b\b\b\r48/48 [==============================] - 33s 690ms/step - loss: 0.9547 - accuracy: 0.6452 - val_loss: 1.2631 - val_accuracy: 0.5559 - lr: 0.0010\n",
            "Epoch 29/60\n",
            "48/48 [==============================] - ETA: 0s - loss: 0.9047 - accuracy: 0.6690"
          ]
        },
        {
          "output_type": "stream",
          "name": "stderr",
          "text": [
            "WARNING:absl:Found untraced functions such as lstm_cell_14_layer_call_fn, lstm_cell_14_layer_call_and_return_conditional_losses, lstm_cell_15_layer_call_fn, lstm_cell_15_layer_call_and_return_conditional_losses while saving (showing 4 of 4). These functions will not be directly callable after loading.\n"
          ]
        },
        {
          "output_type": "stream",
          "name": "stdout",
          "text": [
            "INFO:tensorflow:Assets written to: /content/drive/MyDrive/speech-emotion-recognition-ravdess-data/speech_model_wo_kfold_1moreConv.tf/assets\n"
          ]
        },
        {
          "output_type": "stream",
          "name": "stderr",
          "text": [
            "INFO:tensorflow:Assets written to: /content/drive/MyDrive/speech-emotion-recognition-ravdess-data/speech_model_wo_kfold_1moreConv.tf/assets\n",
            "WARNING:absl:<keras.layers.recurrent.LSTMCell object at 0x7f968fe12490> has the same name 'LSTMCell' as a built-in Keras object. Consider renaming <class 'keras.layers.recurrent.LSTMCell'> to avoid naming conflicts when loading with `tf.keras.models.load_model`. If renaming is not possible, pass the object in the `custom_objects` parameter of the load function.\n",
            "WARNING:absl:<keras.layers.recurrent.LSTMCell object at 0x7f96927d8890> has the same name 'LSTMCell' as a built-in Keras object. Consider renaming <class 'keras.layers.recurrent.LSTMCell'> to avoid naming conflicts when loading with `tf.keras.models.load_model`. If renaming is not possible, pass the object in the `custom_objects` parameter of the load function.\n"
          ]
        },
        {
          "output_type": "stream",
          "name": "stdout",
          "text": [
            "\b\b\b\b\b\b\b\b\b\b\b\b\b\b\b\b\b\b\b\b\b\b\b\b\b\b\b\b\b\b\b\b\b\b\b\b\b\b\b\b\b\b\b\b\b\b\b\b\b\b\b\b\b\b\b\b\b\b\b\b\b\b\b\b\b\b\b\b\b\b\b\b\b\b\b\b\b\b\b\b\b\b\r48/48 [==============================] - 33s 686ms/step - loss: 0.9047 - accuracy: 0.6690 - val_loss: 1.2651 - val_accuracy: 0.5361 - lr: 0.0010\n",
            "Epoch 30/60\n",
            "48/48 [==============================] - ETA: 0s - loss: 0.8879 - accuracy: 0.6752"
          ]
        },
        {
          "output_type": "stream",
          "name": "stderr",
          "text": [
            "WARNING:absl:Found untraced functions such as lstm_cell_14_layer_call_fn, lstm_cell_14_layer_call_and_return_conditional_losses, lstm_cell_15_layer_call_fn, lstm_cell_15_layer_call_and_return_conditional_losses while saving (showing 4 of 4). These functions will not be directly callable after loading.\n"
          ]
        },
        {
          "output_type": "stream",
          "name": "stdout",
          "text": [
            "INFO:tensorflow:Assets written to: /content/drive/MyDrive/speech-emotion-recognition-ravdess-data/speech_model_wo_kfold_1moreConv.tf/assets\n"
          ]
        },
        {
          "output_type": "stream",
          "name": "stderr",
          "text": [
            "INFO:tensorflow:Assets written to: /content/drive/MyDrive/speech-emotion-recognition-ravdess-data/speech_model_wo_kfold_1moreConv.tf/assets\n",
            "WARNING:absl:<keras.layers.recurrent.LSTMCell object at 0x7f968fe12490> has the same name 'LSTMCell' as a built-in Keras object. Consider renaming <class 'keras.layers.recurrent.LSTMCell'> to avoid naming conflicts when loading with `tf.keras.models.load_model`. If renaming is not possible, pass the object in the `custom_objects` parameter of the load function.\n",
            "WARNING:absl:<keras.layers.recurrent.LSTMCell object at 0x7f96927d8890> has the same name 'LSTMCell' as a built-in Keras object. Consider renaming <class 'keras.layers.recurrent.LSTMCell'> to avoid naming conflicts when loading with `tf.keras.models.load_model`. If renaming is not possible, pass the object in the `custom_objects` parameter of the load function.\n"
          ]
        },
        {
          "output_type": "stream",
          "name": "stdout",
          "text": [
            "\b\b\b\b\b\b\b\b\b\b\b\b\b\b\b\b\b\b\b\b\b\b\b\b\b\b\b\b\b\b\b\b\b\b\b\b\b\b\b\b\b\b\b\b\b\b\b\b\b\b\b\b\b\b\b\b\b\b\b\b\b\b\b\b\b\b\b\b\b\b\b\b\b\b\b\b\b\b\b\b\b\b\r48/48 [==============================] - 35s 727ms/step - loss: 0.8879 - accuracy: 0.6752 - val_loss: 1.3547 - val_accuracy: 0.5252 - lr: 0.0010\n",
            "Epoch 31/60\n",
            "48/48 [==============================] - ETA: 0s - loss: 0.8846 - accuracy: 0.6759"
          ]
        },
        {
          "output_type": "stream",
          "name": "stderr",
          "text": [
            "WARNING:absl:Found untraced functions such as lstm_cell_14_layer_call_fn, lstm_cell_14_layer_call_and_return_conditional_losses, lstm_cell_15_layer_call_fn, lstm_cell_15_layer_call_and_return_conditional_losses while saving (showing 4 of 4). These functions will not be directly callable after loading.\n"
          ]
        },
        {
          "output_type": "stream",
          "name": "stdout",
          "text": [
            "INFO:tensorflow:Assets written to: /content/drive/MyDrive/speech-emotion-recognition-ravdess-data/speech_model_wo_kfold_1moreConv.tf/assets\n"
          ]
        },
        {
          "output_type": "stream",
          "name": "stderr",
          "text": [
            "INFO:tensorflow:Assets written to: /content/drive/MyDrive/speech-emotion-recognition-ravdess-data/speech_model_wo_kfold_1moreConv.tf/assets\n",
            "WARNING:absl:<keras.layers.recurrent.LSTMCell object at 0x7f968fe12490> has the same name 'LSTMCell' as a built-in Keras object. Consider renaming <class 'keras.layers.recurrent.LSTMCell'> to avoid naming conflicts when loading with `tf.keras.models.load_model`. If renaming is not possible, pass the object in the `custom_objects` parameter of the load function.\n",
            "WARNING:absl:<keras.layers.recurrent.LSTMCell object at 0x7f96927d8890> has the same name 'LSTMCell' as a built-in Keras object. Consider renaming <class 'keras.layers.recurrent.LSTMCell'> to avoid naming conflicts when loading with `tf.keras.models.load_model`. If renaming is not possible, pass the object in the `custom_objects` parameter of the load function.\n"
          ]
        },
        {
          "output_type": "stream",
          "name": "stdout",
          "text": [
            "\b\b\b\b\b\b\b\b\b\b\b\b\b\b\b\b\b\b\b\b\b\b\b\b\b\b\b\b\b\b\b\b\b\b\b\b\b\b\b\b\b\b\b\b\b\b\b\b\b\b\b\b\b\b\b\b\b\b\b\b\b\b\b\b\b\b\b\b\b\b\b\b\b\b\b\b\b\b\b\b\b\b\r48/48 [==============================] - 32s 664ms/step - loss: 0.8846 - accuracy: 0.6759 - val_loss: 1.3037 - val_accuracy: 0.5490 - lr: 0.0010\n",
            "Epoch 32/60\n",
            "48/48 [==============================] - ETA: 0s - loss: 0.8618 - accuracy: 0.6950"
          ]
        },
        {
          "output_type": "stream",
          "name": "stderr",
          "text": [
            "WARNING:absl:Found untraced functions such as lstm_cell_14_layer_call_fn, lstm_cell_14_layer_call_and_return_conditional_losses, lstm_cell_15_layer_call_fn, lstm_cell_15_layer_call_and_return_conditional_losses while saving (showing 4 of 4). These functions will not be directly callable after loading.\n"
          ]
        },
        {
          "output_type": "stream",
          "name": "stdout",
          "text": [
            "INFO:tensorflow:Assets written to: /content/drive/MyDrive/speech-emotion-recognition-ravdess-data/speech_model_wo_kfold_1moreConv.tf/assets\n"
          ]
        },
        {
          "output_type": "stream",
          "name": "stderr",
          "text": [
            "INFO:tensorflow:Assets written to: /content/drive/MyDrive/speech-emotion-recognition-ravdess-data/speech_model_wo_kfold_1moreConv.tf/assets\n",
            "WARNING:absl:<keras.layers.recurrent.LSTMCell object at 0x7f968fe12490> has the same name 'LSTMCell' as a built-in Keras object. Consider renaming <class 'keras.layers.recurrent.LSTMCell'> to avoid naming conflicts when loading with `tf.keras.models.load_model`. If renaming is not possible, pass the object in the `custom_objects` parameter of the load function.\n",
            "WARNING:absl:<keras.layers.recurrent.LSTMCell object at 0x7f96927d8890> has the same name 'LSTMCell' as a built-in Keras object. Consider renaming <class 'keras.layers.recurrent.LSTMCell'> to avoid naming conflicts when loading with `tf.keras.models.load_model`. If renaming is not possible, pass the object in the `custom_objects` parameter of the load function.\n"
          ]
        },
        {
          "output_type": "stream",
          "name": "stdout",
          "text": [
            "\b\b\b\b\b\b\b\b\b\b\b\b\b\b\b\b\b\b\b\b\b\b\b\b\b\b\b\b\b\b\b\b\b\b\b\b\b\b\b\b\b\b\b\b\b\b\b\b\b\b\b\b\b\b\b\b\b\b\b\b\b\b\b\b\b\b\b\b\b\b\b\b\b\b\b\b\b\b\b\b\b\b\r48/48 [==============================] - 33s 687ms/step - loss: 0.8618 - accuracy: 0.6950 - val_loss: 1.2975 - val_accuracy: 0.5648 - lr: 0.0010\n",
            "Epoch 33/60\n",
            "48/48 [==============================] - ETA: 0s - loss: 0.8032 - accuracy: 0.6983"
          ]
        },
        {
          "output_type": "stream",
          "name": "stderr",
          "text": [
            "WARNING:absl:Found untraced functions such as lstm_cell_14_layer_call_fn, lstm_cell_14_layer_call_and_return_conditional_losses, lstm_cell_15_layer_call_fn, lstm_cell_15_layer_call_and_return_conditional_losses while saving (showing 4 of 4). These functions will not be directly callable after loading.\n"
          ]
        },
        {
          "output_type": "stream",
          "name": "stdout",
          "text": [
            "INFO:tensorflow:Assets written to: /content/drive/MyDrive/speech-emotion-recognition-ravdess-data/speech_model_wo_kfold_1moreConv.tf/assets\n"
          ]
        },
        {
          "output_type": "stream",
          "name": "stderr",
          "text": [
            "INFO:tensorflow:Assets written to: /content/drive/MyDrive/speech-emotion-recognition-ravdess-data/speech_model_wo_kfold_1moreConv.tf/assets\n",
            "WARNING:absl:<keras.layers.recurrent.LSTMCell object at 0x7f968fe12490> has the same name 'LSTMCell' as a built-in Keras object. Consider renaming <class 'keras.layers.recurrent.LSTMCell'> to avoid naming conflicts when loading with `tf.keras.models.load_model`. If renaming is not possible, pass the object in the `custom_objects` parameter of the load function.\n",
            "WARNING:absl:<keras.layers.recurrent.LSTMCell object at 0x7f96927d8890> has the same name 'LSTMCell' as a built-in Keras object. Consider renaming <class 'keras.layers.recurrent.LSTMCell'> to avoid naming conflicts when loading with `tf.keras.models.load_model`. If renaming is not possible, pass the object in the `custom_objects` parameter of the load function.\n"
          ]
        },
        {
          "output_type": "stream",
          "name": "stdout",
          "text": [
            "\b\b\b\b\b\b\b\b\b\b\b\b\b\b\b\b\b\b\b\b\b\b\b\b\b\b\b\b\b\b\b\b\b\b\b\b\b\b\b\b\b\b\b\b\b\b\b\b\b\b\b\b\b\b\b\b\b\b\b\b\b\b\b\b\b\b\b\b\b\b\b\b\b\b\b\b\b\b\b\b\b\b\r48/48 [==============================] - 31s 662ms/step - loss: 0.8032 - accuracy: 0.6983 - val_loss: 1.3062 - val_accuracy: 0.5618 - lr: 0.0010\n",
            "Epoch 34/60\n",
            "48/48 [==============================] - 21s 432ms/step - loss: 0.8494 - accuracy: 0.6941 - val_loss: 1.2230 - val_accuracy: 0.5638 - lr: 0.0010\n",
            "Epoch 35/60\n",
            "48/48 [==============================] - ETA: 0s - loss: 0.7557 - accuracy: 0.7208"
          ]
        },
        {
          "output_type": "stream",
          "name": "stderr",
          "text": [
            "WARNING:absl:Found untraced functions such as lstm_cell_14_layer_call_fn, lstm_cell_14_layer_call_and_return_conditional_losses, lstm_cell_15_layer_call_fn, lstm_cell_15_layer_call_and_return_conditional_losses while saving (showing 4 of 4). These functions will not be directly callable after loading.\n"
          ]
        },
        {
          "output_type": "stream",
          "name": "stdout",
          "text": [
            "INFO:tensorflow:Assets written to: /content/drive/MyDrive/speech-emotion-recognition-ravdess-data/speech_model_wo_kfold_1moreConv.tf/assets\n"
          ]
        },
        {
          "output_type": "stream",
          "name": "stderr",
          "text": [
            "INFO:tensorflow:Assets written to: /content/drive/MyDrive/speech-emotion-recognition-ravdess-data/speech_model_wo_kfold_1moreConv.tf/assets\n",
            "WARNING:absl:<keras.layers.recurrent.LSTMCell object at 0x7f968fe12490> has the same name 'LSTMCell' as a built-in Keras object. Consider renaming <class 'keras.layers.recurrent.LSTMCell'> to avoid naming conflicts when loading with `tf.keras.models.load_model`. If renaming is not possible, pass the object in the `custom_objects` parameter of the load function.\n",
            "WARNING:absl:<keras.layers.recurrent.LSTMCell object at 0x7f96927d8890> has the same name 'LSTMCell' as a built-in Keras object. Consider renaming <class 'keras.layers.recurrent.LSTMCell'> to avoid naming conflicts when loading with `tf.keras.models.load_model`. If renaming is not possible, pass the object in the `custom_objects` parameter of the load function.\n"
          ]
        },
        {
          "output_type": "stream",
          "name": "stdout",
          "text": [
            "\b\b\b\b\b\b\b\b\b\b\b\b\b\b\b\b\b\b\b\b\b\b\b\b\b\b\b\b\b\b\b\b\b\b\b\b\b\b\b\b\b\b\b\b\b\b\b\b\b\b\b\b\b\b\b\b\b\b\b\b\b\b\b\b\b\b\b\b\b\b\b\b\b\b\b\b\b\b\b\b\b\b\r48/48 [==============================] - 33s 695ms/step - loss: 0.7557 - accuracy: 0.7208 - val_loss: 1.1881 - val_accuracy: 0.5727 - lr: 0.0010\n",
            "Epoch 36/60\n",
            "48/48 [==============================] - ETA: 0s - loss: 0.7324 - accuracy: 0.7383"
          ]
        },
        {
          "output_type": "stream",
          "name": "stderr",
          "text": [
            "WARNING:absl:Found untraced functions such as lstm_cell_14_layer_call_fn, lstm_cell_14_layer_call_and_return_conditional_losses, lstm_cell_15_layer_call_fn, lstm_cell_15_layer_call_and_return_conditional_losses while saving (showing 4 of 4). These functions will not be directly callable after loading.\n"
          ]
        },
        {
          "output_type": "stream",
          "name": "stdout",
          "text": [
            "INFO:tensorflow:Assets written to: /content/drive/MyDrive/speech-emotion-recognition-ravdess-data/speech_model_wo_kfold_1moreConv.tf/assets\n"
          ]
        },
        {
          "output_type": "stream",
          "name": "stderr",
          "text": [
            "INFO:tensorflow:Assets written to: /content/drive/MyDrive/speech-emotion-recognition-ravdess-data/speech_model_wo_kfold_1moreConv.tf/assets\n",
            "WARNING:absl:<keras.layers.recurrent.LSTMCell object at 0x7f968fe12490> has the same name 'LSTMCell' as a built-in Keras object. Consider renaming <class 'keras.layers.recurrent.LSTMCell'> to avoid naming conflicts when loading with `tf.keras.models.load_model`. If renaming is not possible, pass the object in the `custom_objects` parameter of the load function.\n",
            "WARNING:absl:<keras.layers.recurrent.LSTMCell object at 0x7f96927d8890> has the same name 'LSTMCell' as a built-in Keras object. Consider renaming <class 'keras.layers.recurrent.LSTMCell'> to avoid naming conflicts when loading with `tf.keras.models.load_model`. If renaming is not possible, pass the object in the `custom_objects` parameter of the load function.\n"
          ]
        },
        {
          "output_type": "stream",
          "name": "stdout",
          "text": [
            "\b\b\b\b\b\b\b\b\b\b\b\b\b\b\b\b\b\b\b\b\b\b\b\b\b\b\b\b\b\b\b\b\b\b\b\b\b\b\b\b\b\b\b\b\b\b\b\b\b\b\b\b\b\b\b\b\b\b\b\b\b\b\b\b\b\b\b\b\b\b\b\b\b\b\b\b\b\b\b\b\b\b\r48/48 [==============================] - 32s 682ms/step - loss: 0.7324 - accuracy: 0.7383 - val_loss: 1.2929 - val_accuracy: 0.5529 - lr: 0.0010\n",
            "Epoch 37/60\n",
            "48/48 [==============================] - 20s 426ms/step - loss: 0.7549 - accuracy: 0.7264 - val_loss: 1.2638 - val_accuracy: 0.5747 - lr: 0.0010\n",
            "Epoch 38/60\n",
            "48/48 [==============================] - ETA: 0s - loss: 0.6806 - accuracy: 0.7545"
          ]
        },
        {
          "output_type": "stream",
          "name": "stderr",
          "text": [
            "WARNING:absl:Found untraced functions such as lstm_cell_14_layer_call_fn, lstm_cell_14_layer_call_and_return_conditional_losses, lstm_cell_15_layer_call_fn, lstm_cell_15_layer_call_and_return_conditional_losses while saving (showing 4 of 4). These functions will not be directly callable after loading.\n"
          ]
        },
        {
          "output_type": "stream",
          "name": "stdout",
          "text": [
            "INFO:tensorflow:Assets written to: /content/drive/MyDrive/speech-emotion-recognition-ravdess-data/speech_model_wo_kfold_1moreConv.tf/assets\n"
          ]
        },
        {
          "output_type": "stream",
          "name": "stderr",
          "text": [
            "INFO:tensorflow:Assets written to: /content/drive/MyDrive/speech-emotion-recognition-ravdess-data/speech_model_wo_kfold_1moreConv.tf/assets\n",
            "WARNING:absl:<keras.layers.recurrent.LSTMCell object at 0x7f968fe12490> has the same name 'LSTMCell' as a built-in Keras object. Consider renaming <class 'keras.layers.recurrent.LSTMCell'> to avoid naming conflicts when loading with `tf.keras.models.load_model`. If renaming is not possible, pass the object in the `custom_objects` parameter of the load function.\n",
            "WARNING:absl:<keras.layers.recurrent.LSTMCell object at 0x7f96927d8890> has the same name 'LSTMCell' as a built-in Keras object. Consider renaming <class 'keras.layers.recurrent.LSTMCell'> to avoid naming conflicts when loading with `tf.keras.models.load_model`. If renaming is not possible, pass the object in the `custom_objects` parameter of the load function.\n"
          ]
        },
        {
          "output_type": "stream",
          "name": "stdout",
          "text": [
            "\b\b\b\b\b\b\b\b\b\b\b\b\b\b\b\b\b\b\b\b\b\b\b\b\b\b\b\b\b\b\b\b\b\b\b\b\b\b\b\b\b\b\b\b\b\b\b\b\b\b\b\b\b\b\b\b\b\b\b\b\b\b\b\b\b\b\b\b\b\b\b\b\b\b\b\b\b\b\b\b\b\b\r48/48 [==============================] - 33s 686ms/step - loss: 0.6806 - accuracy: 0.7545 - val_loss: 1.2157 - val_accuracy: 0.5915 - lr: 0.0010\n",
            "Epoch 39/60\n",
            "48/48 [==============================] - ETA: 0s - loss: 0.6396 - accuracy: 0.7670"
          ]
        },
        {
          "output_type": "stream",
          "name": "stderr",
          "text": [
            "WARNING:absl:Found untraced functions such as lstm_cell_14_layer_call_fn, lstm_cell_14_layer_call_and_return_conditional_losses, lstm_cell_15_layer_call_fn, lstm_cell_15_layer_call_and_return_conditional_losses while saving (showing 4 of 4). These functions will not be directly callable after loading.\n"
          ]
        },
        {
          "output_type": "stream",
          "name": "stdout",
          "text": [
            "INFO:tensorflow:Assets written to: /content/drive/MyDrive/speech-emotion-recognition-ravdess-data/speech_model_wo_kfold_1moreConv.tf/assets\n"
          ]
        },
        {
          "output_type": "stream",
          "name": "stderr",
          "text": [
            "INFO:tensorflow:Assets written to: /content/drive/MyDrive/speech-emotion-recognition-ravdess-data/speech_model_wo_kfold_1moreConv.tf/assets\n",
            "WARNING:absl:<keras.layers.recurrent.LSTMCell object at 0x7f968fe12490> has the same name 'LSTMCell' as a built-in Keras object. Consider renaming <class 'keras.layers.recurrent.LSTMCell'> to avoid naming conflicts when loading with `tf.keras.models.load_model`. If renaming is not possible, pass the object in the `custom_objects` parameter of the load function.\n",
            "WARNING:absl:<keras.layers.recurrent.LSTMCell object at 0x7f96927d8890> has the same name 'LSTMCell' as a built-in Keras object. Consider renaming <class 'keras.layers.recurrent.LSTMCell'> to avoid naming conflicts when loading with `tf.keras.models.load_model`. If renaming is not possible, pass the object in the `custom_objects` parameter of the load function.\n"
          ]
        },
        {
          "output_type": "stream",
          "name": "stdout",
          "text": [
            "\b\b\b\b\b\b\b\b\b\b\b\b\b\b\b\b\b\b\b\b\b\b\b\b\b\b\b\b\b\b\b\b\b\b\b\b\b\b\b\b\b\b\b\b\b\b\b\b\b\b\b\b\b\b\b\b\b\b\b\b\b\b\b\b\b\b\b\b\b\b\b\b\b\b\b\b\b\b\b\b\b\b\r48/48 [==============================] - 32s 676ms/step - loss: 0.6396 - accuracy: 0.7670 - val_loss: 1.3284 - val_accuracy: 0.5707 - lr: 0.0010\n",
            "Epoch 40/60\n",
            "48/48 [==============================] - 22s 449ms/step - loss: 0.6654 - accuracy: 0.7634 - val_loss: 1.3324 - val_accuracy: 0.5737 - lr: 0.0010\n",
            "Epoch 41/60\n",
            "48/48 [==============================] - ETA: 0s - loss: 0.5998 - accuracy: 0.7865"
          ]
        },
        {
          "output_type": "stream",
          "name": "stderr",
          "text": [
            "WARNING:absl:Found untraced functions such as lstm_cell_14_layer_call_fn, lstm_cell_14_layer_call_and_return_conditional_losses, lstm_cell_15_layer_call_fn, lstm_cell_15_layer_call_and_return_conditional_losses while saving (showing 4 of 4). These functions will not be directly callable after loading.\n"
          ]
        },
        {
          "output_type": "stream",
          "name": "stdout",
          "text": [
            "INFO:tensorflow:Assets written to: /content/drive/MyDrive/speech-emotion-recognition-ravdess-data/speech_model_wo_kfold_1moreConv.tf/assets\n"
          ]
        },
        {
          "output_type": "stream",
          "name": "stderr",
          "text": [
            "INFO:tensorflow:Assets written to: /content/drive/MyDrive/speech-emotion-recognition-ravdess-data/speech_model_wo_kfold_1moreConv.tf/assets\n",
            "WARNING:absl:<keras.layers.recurrent.LSTMCell object at 0x7f968fe12490> has the same name 'LSTMCell' as a built-in Keras object. Consider renaming <class 'keras.layers.recurrent.LSTMCell'> to avoid naming conflicts when loading with `tf.keras.models.load_model`. If renaming is not possible, pass the object in the `custom_objects` parameter of the load function.\n",
            "WARNING:absl:<keras.layers.recurrent.LSTMCell object at 0x7f96927d8890> has the same name 'LSTMCell' as a built-in Keras object. Consider renaming <class 'keras.layers.recurrent.LSTMCell'> to avoid naming conflicts when loading with `tf.keras.models.load_model`. If renaming is not possible, pass the object in the `custom_objects` parameter of the load function.\n"
          ]
        },
        {
          "output_type": "stream",
          "name": "stdout",
          "text": [
            "\b\b\b\b\b\b\b\b\b\b\b\b\b\b\b\b\b\b\b\b\b\b\b\b\b\b\b\b\b\b\b\b\b\b\b\b\b\b\b\b\b\b\b\b\b\b\b\b\b\b\b\b\b\b\b\b\b\b\b\b\b\b\b\b\b\b\b\b\b\b\b\b\b\b\b\b\b\b\b\b\b\b\r48/48 [==============================] - 35s 736ms/step - loss: 0.5998 - accuracy: 0.7865 - val_loss: 1.3899 - val_accuracy: 0.5885 - lr: 0.0010\n",
            "Epoch 42/60\n",
            "48/48 [==============================] - 21s 442ms/step - loss: 0.6282 - accuracy: 0.7815 - val_loss: 1.2594 - val_accuracy: 0.5905 - lr: 0.0010\n",
            "Epoch 43/60\n",
            "48/48 [==============================] - ETA: 0s - loss: 0.5885 - accuracy: 0.7908"
          ]
        },
        {
          "output_type": "stream",
          "name": "stderr",
          "text": [
            "WARNING:absl:Found untraced functions such as lstm_cell_14_layer_call_fn, lstm_cell_14_layer_call_and_return_conditional_losses, lstm_cell_15_layer_call_fn, lstm_cell_15_layer_call_and_return_conditional_losses while saving (showing 4 of 4). These functions will not be directly callable after loading.\n"
          ]
        },
        {
          "output_type": "stream",
          "name": "stdout",
          "text": [
            "INFO:tensorflow:Assets written to: /content/drive/MyDrive/speech-emotion-recognition-ravdess-data/speech_model_wo_kfold_1moreConv.tf/assets\n"
          ]
        },
        {
          "output_type": "stream",
          "name": "stderr",
          "text": [
            "INFO:tensorflow:Assets written to: /content/drive/MyDrive/speech-emotion-recognition-ravdess-data/speech_model_wo_kfold_1moreConv.tf/assets\n",
            "WARNING:absl:<keras.layers.recurrent.LSTMCell object at 0x7f968fe12490> has the same name 'LSTMCell' as a built-in Keras object. Consider renaming <class 'keras.layers.recurrent.LSTMCell'> to avoid naming conflicts when loading with `tf.keras.models.load_model`. If renaming is not possible, pass the object in the `custom_objects` parameter of the load function.\n",
            "WARNING:absl:<keras.layers.recurrent.LSTMCell object at 0x7f96927d8890> has the same name 'LSTMCell' as a built-in Keras object. Consider renaming <class 'keras.layers.recurrent.LSTMCell'> to avoid naming conflicts when loading with `tf.keras.models.load_model`. If renaming is not possible, pass the object in the `custom_objects` parameter of the load function.\n"
          ]
        },
        {
          "output_type": "stream",
          "name": "stdout",
          "text": [
            "\b\b\b\b\b\b\b\b\b\b\b\b\b\b\b\b\b\b\b\b\b\b\b\b\b\b\b\b\b\b\b\b\b\b\b\b\b\b\b\b\b\b\b\b\b\b\b\b\b\b\b\b\b\b\b\b\b\b\b\b\b\b\b\b\b\b\b\b\b\b\b\b\b\b\b\b\b\b\b\b\b\b\r48/48 [==============================] - 33s 697ms/step - loss: 0.5885 - accuracy: 0.7908 - val_loss: 1.3961 - val_accuracy: 0.5836 - lr: 0.0010\n",
            "Epoch 44/60\n",
            "48/48 [==============================] - ETA: 0s - loss: 0.5302 - accuracy: 0.8112"
          ]
        },
        {
          "output_type": "stream",
          "name": "stderr",
          "text": [
            "WARNING:absl:Found untraced functions such as lstm_cell_14_layer_call_fn, lstm_cell_14_layer_call_and_return_conditional_losses, lstm_cell_15_layer_call_fn, lstm_cell_15_layer_call_and_return_conditional_losses while saving (showing 4 of 4). These functions will not be directly callable after loading.\n"
          ]
        },
        {
          "output_type": "stream",
          "name": "stdout",
          "text": [
            "INFO:tensorflow:Assets written to: /content/drive/MyDrive/speech-emotion-recognition-ravdess-data/speech_model_wo_kfold_1moreConv.tf/assets\n"
          ]
        },
        {
          "output_type": "stream",
          "name": "stderr",
          "text": [
            "INFO:tensorflow:Assets written to: /content/drive/MyDrive/speech-emotion-recognition-ravdess-data/speech_model_wo_kfold_1moreConv.tf/assets\n",
            "WARNING:absl:<keras.layers.recurrent.LSTMCell object at 0x7f968fe12490> has the same name 'LSTMCell' as a built-in Keras object. Consider renaming <class 'keras.layers.recurrent.LSTMCell'> to avoid naming conflicts when loading with `tf.keras.models.load_model`. If renaming is not possible, pass the object in the `custom_objects` parameter of the load function.\n",
            "WARNING:absl:<keras.layers.recurrent.LSTMCell object at 0x7f96927d8890> has the same name 'LSTMCell' as a built-in Keras object. Consider renaming <class 'keras.layers.recurrent.LSTMCell'> to avoid naming conflicts when loading with `tf.keras.models.load_model`. If renaming is not possible, pass the object in the `custom_objects` parameter of the load function.\n"
          ]
        },
        {
          "output_type": "stream",
          "name": "stdout",
          "text": [
            "\b\b\b\b\b\b\b\b\b\b\b\b\b\b\b\b\b\b\b\b\b\b\b\b\b\b\b\b\b\b\b\b\b\b\b\b\b\b\b\b\b\b\b\b\b\b\b\b\b\b\b\b\b\b\b\b\b\b\b\b\b\b\b\b\b\b\b\b\b\b\b\b\b\b\b\b\b\b\b\b\b\b\r48/48 [==============================] - 34s 719ms/step - loss: 0.5302 - accuracy: 0.8112 - val_loss: 1.3095 - val_accuracy: 0.6034 - lr: 0.0010\n",
            "Epoch 45/60\n",
            "48/48 [==============================] - 21s 447ms/step - loss: 0.5670 - accuracy: 0.8010 - val_loss: 1.4434 - val_accuracy: 0.5598 - lr: 0.0010\n",
            "Epoch 46/60\n",
            "48/48 [==============================] - ETA: 0s - loss: 0.5374 - accuracy: 0.8165"
          ]
        },
        {
          "output_type": "stream",
          "name": "stderr",
          "text": [
            "WARNING:absl:Found untraced functions such as lstm_cell_14_layer_call_fn, lstm_cell_14_layer_call_and_return_conditional_losses, lstm_cell_15_layer_call_fn, lstm_cell_15_layer_call_and_return_conditional_losses while saving (showing 4 of 4). These functions will not be directly callable after loading.\n"
          ]
        },
        {
          "output_type": "stream",
          "name": "stdout",
          "text": [
            "INFO:tensorflow:Assets written to: /content/drive/MyDrive/speech-emotion-recognition-ravdess-data/speech_model_wo_kfold_1moreConv.tf/assets\n"
          ]
        },
        {
          "output_type": "stream",
          "name": "stderr",
          "text": [
            "INFO:tensorflow:Assets written to: /content/drive/MyDrive/speech-emotion-recognition-ravdess-data/speech_model_wo_kfold_1moreConv.tf/assets\n",
            "WARNING:absl:<keras.layers.recurrent.LSTMCell object at 0x7f968fe12490> has the same name 'LSTMCell' as a built-in Keras object. Consider renaming <class 'keras.layers.recurrent.LSTMCell'> to avoid naming conflicts when loading with `tf.keras.models.load_model`. If renaming is not possible, pass the object in the `custom_objects` parameter of the load function.\n",
            "WARNING:absl:<keras.layers.recurrent.LSTMCell object at 0x7f96927d8890> has the same name 'LSTMCell' as a built-in Keras object. Consider renaming <class 'keras.layers.recurrent.LSTMCell'> to avoid naming conflicts when loading with `tf.keras.models.load_model`. If renaming is not possible, pass the object in the `custom_objects` parameter of the load function.\n"
          ]
        },
        {
          "output_type": "stream",
          "name": "stdout",
          "text": [
            "\b\b\b\b\b\b\b\b\b\b\b\b\b\b\b\b\b\b\b\b\b\b\b\b\b\b\b\b\b\b\b\b\b\b\b\b\b\b\b\b\b\b\b\b\b\b\b\b\b\b\b\b\b\b\b\b\b\b\b\b\b\b\b\b\b\b\b\b\b\b\b\b\b\b\b\b\b\b\b\b\b\b\r48/48 [==============================] - 33s 683ms/step - loss: 0.5374 - accuracy: 0.8165 - val_loss: 1.3056 - val_accuracy: 0.6073 - lr: 0.0010\n",
            "Epoch 47/60\n",
            "48/48 [==============================] - ETA: 0s - loss: 0.4619 - accuracy: 0.8363"
          ]
        },
        {
          "output_type": "stream",
          "name": "stderr",
          "text": [
            "WARNING:absl:Found untraced functions such as lstm_cell_14_layer_call_fn, lstm_cell_14_layer_call_and_return_conditional_losses, lstm_cell_15_layer_call_fn, lstm_cell_15_layer_call_and_return_conditional_losses while saving (showing 4 of 4). These functions will not be directly callable after loading.\n"
          ]
        },
        {
          "output_type": "stream",
          "name": "stdout",
          "text": [
            "INFO:tensorflow:Assets written to: /content/drive/MyDrive/speech-emotion-recognition-ravdess-data/speech_model_wo_kfold_1moreConv.tf/assets\n"
          ]
        },
        {
          "output_type": "stream",
          "name": "stderr",
          "text": [
            "INFO:tensorflow:Assets written to: /content/drive/MyDrive/speech-emotion-recognition-ravdess-data/speech_model_wo_kfold_1moreConv.tf/assets\n",
            "WARNING:absl:<keras.layers.recurrent.LSTMCell object at 0x7f968fe12490> has the same name 'LSTMCell' as a built-in Keras object. Consider renaming <class 'keras.layers.recurrent.LSTMCell'> to avoid naming conflicts when loading with `tf.keras.models.load_model`. If renaming is not possible, pass the object in the `custom_objects` parameter of the load function.\n",
            "WARNING:absl:<keras.layers.recurrent.LSTMCell object at 0x7f96927d8890> has the same name 'LSTMCell' as a built-in Keras object. Consider renaming <class 'keras.layers.recurrent.LSTMCell'> to avoid naming conflicts when loading with `tf.keras.models.load_model`. If renaming is not possible, pass the object in the `custom_objects` parameter of the load function.\n"
          ]
        },
        {
          "output_type": "stream",
          "name": "stdout",
          "text": [
            "\b\b\b\b\b\b\b\b\b\b\b\b\b\b\b\b\b\b\b\b\b\b\b\b\b\b\b\b\b\b\b\b\b\b\b\b\b\b\b\b\b\b\b\b\b\b\b\b\b\b\b\b\b\b\b\b\b\b\b\b\b\b\b\b\b\b\b\b\b\b\b\b\b\b\b\b\b\b\b\b\b\b\r48/48 [==============================] - 33s 697ms/step - loss: 0.4619 - accuracy: 0.8363 - val_loss: 1.4147 - val_accuracy: 0.6113 - lr: 0.0010\n",
            "Epoch 48/60\n",
            "48/48 [==============================] - 21s 439ms/step - loss: 0.4739 - accuracy: 0.8356 - val_loss: 1.3817 - val_accuracy: 0.5836 - lr: 0.0010\n",
            "Epoch 49/60\n",
            "48/48 [==============================] - 21s 439ms/step - loss: 0.5105 - accuracy: 0.8185 - val_loss: 1.3887 - val_accuracy: 0.6172 - lr: 0.0010\n",
            "Epoch 50/60\n",
            "48/48 [==============================] - ETA: 0s - loss: 0.4275 - accuracy: 0.8469"
          ]
        },
        {
          "output_type": "stream",
          "name": "stderr",
          "text": [
            "WARNING:absl:Found untraced functions such as lstm_cell_14_layer_call_fn, lstm_cell_14_layer_call_and_return_conditional_losses, lstm_cell_15_layer_call_fn, lstm_cell_15_layer_call_and_return_conditional_losses while saving (showing 4 of 4). These functions will not be directly callable after loading.\n"
          ]
        },
        {
          "output_type": "stream",
          "name": "stdout",
          "text": [
            "INFO:tensorflow:Assets written to: /content/drive/MyDrive/speech-emotion-recognition-ravdess-data/speech_model_wo_kfold_1moreConv.tf/assets\n"
          ]
        },
        {
          "output_type": "stream",
          "name": "stderr",
          "text": [
            "INFO:tensorflow:Assets written to: /content/drive/MyDrive/speech-emotion-recognition-ravdess-data/speech_model_wo_kfold_1moreConv.tf/assets\n",
            "WARNING:absl:<keras.layers.recurrent.LSTMCell object at 0x7f968fe12490> has the same name 'LSTMCell' as a built-in Keras object. Consider renaming <class 'keras.layers.recurrent.LSTMCell'> to avoid naming conflicts when loading with `tf.keras.models.load_model`. If renaming is not possible, pass the object in the `custom_objects` parameter of the load function.\n",
            "WARNING:absl:<keras.layers.recurrent.LSTMCell object at 0x7f96927d8890> has the same name 'LSTMCell' as a built-in Keras object. Consider renaming <class 'keras.layers.recurrent.LSTMCell'> to avoid naming conflicts when loading with `tf.keras.models.load_model`. If renaming is not possible, pass the object in the `custom_objects` parameter of the load function.\n"
          ]
        },
        {
          "output_type": "stream",
          "name": "stdout",
          "text": [
            "\b\b\b\b\b\b\b\b\b\b\b\b\b\b\b\b\b\b\b\b\b\b\b\b\b\b\b\b\b\b\b\b\b\b\b\b\b\b\b\b\b\b\b\b\b\b\b\b\b\b\b\b\b\b\b\b\b\b\b\b\b\b\b\b\b\b\b\b\b\b\b\b\b\b\b\b\b\b\b\b\b\b\r48/48 [==============================] - 33s 683ms/step - loss: 0.4275 - accuracy: 0.8469 - val_loss: 1.3975 - val_accuracy: 0.6133 - lr: 0.0010\n",
            "Epoch 51/60\n",
            "48/48 [==============================] - ETA: 0s - loss: 0.4151 - accuracy: 0.8604"
          ]
        },
        {
          "output_type": "stream",
          "name": "stderr",
          "text": [
            "WARNING:absl:Found untraced functions such as lstm_cell_14_layer_call_fn, lstm_cell_14_layer_call_and_return_conditional_losses, lstm_cell_15_layer_call_fn, lstm_cell_15_layer_call_and_return_conditional_losses while saving (showing 4 of 4). These functions will not be directly callable after loading.\n"
          ]
        },
        {
          "output_type": "stream",
          "name": "stdout",
          "text": [
            "INFO:tensorflow:Assets written to: /content/drive/MyDrive/speech-emotion-recognition-ravdess-data/speech_model_wo_kfold_1moreConv.tf/assets\n"
          ]
        },
        {
          "output_type": "stream",
          "name": "stderr",
          "text": [
            "INFO:tensorflow:Assets written to: /content/drive/MyDrive/speech-emotion-recognition-ravdess-data/speech_model_wo_kfold_1moreConv.tf/assets\n",
            "WARNING:absl:<keras.layers.recurrent.LSTMCell object at 0x7f968fe12490> has the same name 'LSTMCell' as a built-in Keras object. Consider renaming <class 'keras.layers.recurrent.LSTMCell'> to avoid naming conflicts when loading with `tf.keras.models.load_model`. If renaming is not possible, pass the object in the `custom_objects` parameter of the load function.\n",
            "WARNING:absl:<keras.layers.recurrent.LSTMCell object at 0x7f96927d8890> has the same name 'LSTMCell' as a built-in Keras object. Consider renaming <class 'keras.layers.recurrent.LSTMCell'> to avoid naming conflicts when loading with `tf.keras.models.load_model`. If renaming is not possible, pass the object in the `custom_objects` parameter of the load function.\n"
          ]
        },
        {
          "output_type": "stream",
          "name": "stdout",
          "text": [
            "\b\b\b\b\b\b\b\b\b\b\b\b\b\b\b\b\b\b\b\b\b\b\b\b\b\b\b\b\b\b\b\b\b\b\b\b\b\b\b\b\b\b\b\b\b\b\b\b\b\b\b\b\b\b\b\b\b\b\b\b\b\b\b\b\b\b\b\b\b\b\b\b\b\b\b\b\b\b\b\b\b\b\r48/48 [==============================] - 33s 698ms/step - loss: 0.4151 - accuracy: 0.8604 - val_loss: 1.4258 - val_accuracy: 0.5984 - lr: 0.0010\n",
            "Epoch 52/60\n",
            "48/48 [==============================] - 21s 438ms/step - loss: 0.4281 - accuracy: 0.8492 - val_loss: 1.4347 - val_accuracy: 0.6024 - lr: 0.0010\n",
            "Epoch 53/60\n",
            "48/48 [==============================] - ETA: 0s - loss: 0.3945 - accuracy: 0.8634"
          ]
        },
        {
          "output_type": "stream",
          "name": "stderr",
          "text": [
            "WARNING:absl:Found untraced functions such as lstm_cell_14_layer_call_fn, lstm_cell_14_layer_call_and_return_conditional_losses, lstm_cell_15_layer_call_fn, lstm_cell_15_layer_call_and_return_conditional_losses while saving (showing 4 of 4). These functions will not be directly callable after loading.\n"
          ]
        },
        {
          "output_type": "stream",
          "name": "stdout",
          "text": [
            "INFO:tensorflow:Assets written to: /content/drive/MyDrive/speech-emotion-recognition-ravdess-data/speech_model_wo_kfold_1moreConv.tf/assets\n"
          ]
        },
        {
          "output_type": "stream",
          "name": "stderr",
          "text": [
            "INFO:tensorflow:Assets written to: /content/drive/MyDrive/speech-emotion-recognition-ravdess-data/speech_model_wo_kfold_1moreConv.tf/assets\n",
            "WARNING:absl:<keras.layers.recurrent.LSTMCell object at 0x7f968fe12490> has the same name 'LSTMCell' as a built-in Keras object. Consider renaming <class 'keras.layers.recurrent.LSTMCell'> to avoid naming conflicts when loading with `tf.keras.models.load_model`. If renaming is not possible, pass the object in the `custom_objects` parameter of the load function.\n",
            "WARNING:absl:<keras.layers.recurrent.LSTMCell object at 0x7f96927d8890> has the same name 'LSTMCell' as a built-in Keras object. Consider renaming <class 'keras.layers.recurrent.LSTMCell'> to avoid naming conflicts when loading with `tf.keras.models.load_model`. If renaming is not possible, pass the object in the `custom_objects` parameter of the load function.\n"
          ]
        },
        {
          "output_type": "stream",
          "name": "stdout",
          "text": [
            "\b\b\b\b\b\b\b\b\b\b\b\b\b\b\b\b\b\b\b\b\b\b\b\b\b\b\b\b\b\b\b\b\b\b\b\b\b\b\b\b\b\b\b\b\b\b\b\b\b\b\b\b\b\b\b\b\b\b\b\b\b\b\b\b\b\b\b\b\b\b\b\b\b\b\b\b\b\b\b\b\b\b\r48/48 [==============================] - 34s 714ms/step - loss: 0.3945 - accuracy: 0.8634 - val_loss: 1.4723 - val_accuracy: 0.5915 - lr: 0.0010\n",
            "Epoch 54/60\n",
            "48/48 [==============================] - ETA: 0s - loss: 0.3630 - accuracy: 0.8723"
          ]
        },
        {
          "output_type": "stream",
          "name": "stderr",
          "text": [
            "WARNING:absl:Found untraced functions such as lstm_cell_14_layer_call_fn, lstm_cell_14_layer_call_and_return_conditional_losses, lstm_cell_15_layer_call_fn, lstm_cell_15_layer_call_and_return_conditional_losses while saving (showing 4 of 4). These functions will not be directly callable after loading.\n"
          ]
        },
        {
          "output_type": "stream",
          "name": "stdout",
          "text": [
            "INFO:tensorflow:Assets written to: /content/drive/MyDrive/speech-emotion-recognition-ravdess-data/speech_model_wo_kfold_1moreConv.tf/assets\n"
          ]
        },
        {
          "output_type": "stream",
          "name": "stderr",
          "text": [
            "INFO:tensorflow:Assets written to: /content/drive/MyDrive/speech-emotion-recognition-ravdess-data/speech_model_wo_kfold_1moreConv.tf/assets\n",
            "WARNING:absl:<keras.layers.recurrent.LSTMCell object at 0x7f968fe12490> has the same name 'LSTMCell' as a built-in Keras object. Consider renaming <class 'keras.layers.recurrent.LSTMCell'> to avoid naming conflicts when loading with `tf.keras.models.load_model`. If renaming is not possible, pass the object in the `custom_objects` parameter of the load function.\n",
            "WARNING:absl:<keras.layers.recurrent.LSTMCell object at 0x7f96927d8890> has the same name 'LSTMCell' as a built-in Keras object. Consider renaming <class 'keras.layers.recurrent.LSTMCell'> to avoid naming conflicts when loading with `tf.keras.models.load_model`. If renaming is not possible, pass the object in the `custom_objects` parameter of the load function.\n"
          ]
        },
        {
          "output_type": "stream",
          "name": "stdout",
          "text": [
            "\b\b\b\b\b\b\b\b\b\b\b\b\b\b\b\b\b\b\b\b\b\b\b\b\b\b\b\b\b\b\b\b\b\b\b\b\b\b\b\b\b\b\b\b\b\b\b\b\b\b\b\b\b\b\b\b\b\b\b\b\b\b\b\b\b\b\b\b\b\b\b\b\b\b\b\b\b\b\b\b\b\b\r48/48 [==============================] - 32s 666ms/step - loss: 0.3630 - accuracy: 0.8723 - val_loss: 1.5560 - val_accuracy: 0.5885 - lr: 0.0010\n",
            "Epoch 55/60\n",
            "48/48 [==============================] - ETA: 0s - loss: 0.3727 - accuracy: 0.8749"
          ]
        },
        {
          "output_type": "stream",
          "name": "stderr",
          "text": [
            "WARNING:absl:Found untraced functions such as lstm_cell_14_layer_call_fn, lstm_cell_14_layer_call_and_return_conditional_losses, lstm_cell_15_layer_call_fn, lstm_cell_15_layer_call_and_return_conditional_losses while saving (showing 4 of 4). These functions will not be directly callable after loading.\n"
          ]
        },
        {
          "output_type": "stream",
          "name": "stdout",
          "text": [
            "INFO:tensorflow:Assets written to: /content/drive/MyDrive/speech-emotion-recognition-ravdess-data/speech_model_wo_kfold_1moreConv.tf/assets\n"
          ]
        },
        {
          "output_type": "stream",
          "name": "stderr",
          "text": [
            "INFO:tensorflow:Assets written to: /content/drive/MyDrive/speech-emotion-recognition-ravdess-data/speech_model_wo_kfold_1moreConv.tf/assets\n",
            "WARNING:absl:<keras.layers.recurrent.LSTMCell object at 0x7f968fe12490> has the same name 'LSTMCell' as a built-in Keras object. Consider renaming <class 'keras.layers.recurrent.LSTMCell'> to avoid naming conflicts when loading with `tf.keras.models.load_model`. If renaming is not possible, pass the object in the `custom_objects` parameter of the load function.\n",
            "WARNING:absl:<keras.layers.recurrent.LSTMCell object at 0x7f96927d8890> has the same name 'LSTMCell' as a built-in Keras object. Consider renaming <class 'keras.layers.recurrent.LSTMCell'> to avoid naming conflicts when loading with `tf.keras.models.load_model`. If renaming is not possible, pass the object in the `custom_objects` parameter of the load function.\n"
          ]
        },
        {
          "output_type": "stream",
          "name": "stdout",
          "text": [
            "\b\b\b\b\b\b\b\b\b\b\b\b\b\b\b\b\b\b\b\b\b\b\b\b\b\b\b\b\b\b\b\b\b\b\b\b\b\b\b\b\b\b\b\b\b\b\b\b\b\b\b\b\b\b\b\b\b\b\b\b\b\b\b\b\b\b\b\b\b\b\b\b\b\b\b\b\b\b\b\b\b\b\r48/48 [==============================] - 33s 703ms/step - loss: 0.3727 - accuracy: 0.8749 - val_loss: 1.4085 - val_accuracy: 0.6231 - lr: 0.0010\n",
            "Epoch 56/60\n",
            "48/48 [==============================] - 21s 434ms/step - loss: 0.3722 - accuracy: 0.8706 - val_loss: 1.4138 - val_accuracy: 0.6172 - lr: 0.0010\n",
            "Epoch 57/60\n",
            "48/48 [==============================] - ETA: 0s - loss: 0.3262 - accuracy: 0.8894"
          ]
        },
        {
          "output_type": "stream",
          "name": "stderr",
          "text": [
            "WARNING:absl:Found untraced functions such as lstm_cell_14_layer_call_fn, lstm_cell_14_layer_call_and_return_conditional_losses, lstm_cell_15_layer_call_fn, lstm_cell_15_layer_call_and_return_conditional_losses while saving (showing 4 of 4). These functions will not be directly callable after loading.\n"
          ]
        },
        {
          "output_type": "stream",
          "name": "stdout",
          "text": [
            "INFO:tensorflow:Assets written to: /content/drive/MyDrive/speech-emotion-recognition-ravdess-data/speech_model_wo_kfold_1moreConv.tf/assets\n"
          ]
        },
        {
          "output_type": "stream",
          "name": "stderr",
          "text": [
            "INFO:tensorflow:Assets written to: /content/drive/MyDrive/speech-emotion-recognition-ravdess-data/speech_model_wo_kfold_1moreConv.tf/assets\n",
            "WARNING:absl:<keras.layers.recurrent.LSTMCell object at 0x7f968fe12490> has the same name 'LSTMCell' as a built-in Keras object. Consider renaming <class 'keras.layers.recurrent.LSTMCell'> to avoid naming conflicts when loading with `tf.keras.models.load_model`. If renaming is not possible, pass the object in the `custom_objects` parameter of the load function.\n",
            "WARNING:absl:<keras.layers.recurrent.LSTMCell object at 0x7f96927d8890> has the same name 'LSTMCell' as a built-in Keras object. Consider renaming <class 'keras.layers.recurrent.LSTMCell'> to avoid naming conflicts when loading with `tf.keras.models.load_model`. If renaming is not possible, pass the object in the `custom_objects` parameter of the load function.\n"
          ]
        },
        {
          "output_type": "stream",
          "name": "stdout",
          "text": [
            "\b\b\b\b\b\b\b\b\b\b\b\b\b\b\b\b\b\b\b\b\b\b\b\b\b\b\b\b\b\b\b\b\b\b\b\b\b\b\b\b\b\b\b\b\b\b\b\b\b\b\b\b\b\b\b\b\b\b\b\b\b\b\b\b\b\b\b\b\b\b\b\b\b\b\b\b\b\b\b\b\b\b\r48/48 [==============================] - 32s 673ms/step - loss: 0.3262 - accuracy: 0.8894 - val_loss: 1.6010 - val_accuracy: 0.6212 - lr: 0.0010\n",
            "Epoch 58/60\n",
            "48/48 [==============================] - 21s 434ms/step - loss: 0.3451 - accuracy: 0.8799 - val_loss: 1.4145 - val_accuracy: 0.6103 - lr: 0.0010\n",
            "Epoch 59/60\n",
            "48/48 [==============================] - ETA: 0s - loss: 0.2940 - accuracy: 0.8983"
          ]
        },
        {
          "output_type": "stream",
          "name": "stderr",
          "text": [
            "WARNING:absl:Found untraced functions such as lstm_cell_14_layer_call_fn, lstm_cell_14_layer_call_and_return_conditional_losses, lstm_cell_15_layer_call_fn, lstm_cell_15_layer_call_and_return_conditional_losses while saving (showing 4 of 4). These functions will not be directly callable after loading.\n"
          ]
        },
        {
          "output_type": "stream",
          "name": "stdout",
          "text": [
            "INFO:tensorflow:Assets written to: /content/drive/MyDrive/speech-emotion-recognition-ravdess-data/speech_model_wo_kfold_1moreConv.tf/assets\n"
          ]
        },
        {
          "output_type": "stream",
          "name": "stderr",
          "text": [
            "INFO:tensorflow:Assets written to: /content/drive/MyDrive/speech-emotion-recognition-ravdess-data/speech_model_wo_kfold_1moreConv.tf/assets\n",
            "WARNING:absl:<keras.layers.recurrent.LSTMCell object at 0x7f968fe12490> has the same name 'LSTMCell' as a built-in Keras object. Consider renaming <class 'keras.layers.recurrent.LSTMCell'> to avoid naming conflicts when loading with `tf.keras.models.load_model`. If renaming is not possible, pass the object in the `custom_objects` parameter of the load function.\n",
            "WARNING:absl:<keras.layers.recurrent.LSTMCell object at 0x7f96927d8890> has the same name 'LSTMCell' as a built-in Keras object. Consider renaming <class 'keras.layers.recurrent.LSTMCell'> to avoid naming conflicts when loading with `tf.keras.models.load_model`. If renaming is not possible, pass the object in the `custom_objects` parameter of the load function.\n"
          ]
        },
        {
          "output_type": "stream",
          "name": "stdout",
          "text": [
            "\b\b\b\b\b\b\b\b\b\b\b\b\b\b\b\b\b\b\b\b\b\b\b\b\b\b\b\b\b\b\b\b\b\b\b\b\b\b\b\b\b\b\b\b\b\b\b\b\b\b\b\b\b\b\b\b\b\b\b\b\b\b\b\b\b\b\b\b\b\b\b\b\b\b\b\b\b\b\b\b\b\b\r48/48 [==============================] - 33s 703ms/step - loss: 0.2940 - accuracy: 0.8983 - val_loss: 1.5234 - val_accuracy: 0.6222 - lr: 0.0010\n",
            "Epoch 60/60\n",
            "48/48 [==============================] - 21s 435ms/step - loss: 0.2888 - accuracy: 0.8970 - val_loss: 1.5743 - val_accuracy: 0.5945 - lr: 0.0010\n"
          ]
        }
      ]
    },
    {
      "cell_type": "code",
      "source": [
        "print(\"Accuracy of our model on test data : \" , model.evaluate(x_test,y_test)[1]*100 , \"%\")\n",
        "\n",
        "epochs = [i for i in range(eps)]\n",
        "fig , ax = plt.subplots(1,2)\n",
        "train_acc = history.history['accuracy']\n",
        "train_loss = history.history['loss']\n",
        "test_acc = history.history['val_accuracy']\n",
        "test_loss = history.history['val_loss']\n",
        "\n",
        "fig.set_size_inches(20,6)\n",
        "ax[0].plot(epochs , train_loss , label = 'Training Loss')\n",
        "ax[0].plot(epochs , test_loss , label = 'Testing Loss')\n",
        "ax[0].set_title('Training & Testing Loss')\n",
        "ax[0].legend()\n",
        "ax[0].set_xlabel(\"Epochs\")\n",
        "\n",
        "ax[1].plot(epochs , train_acc , label = 'Training Accuracy')\n",
        "ax[1].plot(epochs , test_acc , label = 'Testing Accuracy')\n",
        "ax[1].set_title('Training & Testing Accuracy')\n",
        "ax[1].legend()\n",
        "ax[1].set_xlabel(\"Epochs\")\n",
        "plt.show()"
      ],
      "metadata": {
        "id": "htSFS3tffmVq",
        "colab": {
          "base_uri": "https://localhost:8080/",
          "height": 439
        },
        "outputId": "3d7683be-995d-4c5c-9739-7217bb03bf6c"
      },
      "execution_count": null,
      "outputs": [
        {
          "output_type": "stream",
          "name": "stdout",
          "text": [
            "32/32 [==============================] - 2s 48ms/step - loss: 1.5743 - accuracy: 0.5945\n",
            "Accuracy of our model on test data :  59.44609045982361 %\n"
          ]
        },
        {
          "output_type": "display_data",
          "data": {
            "text/plain": [
              "<Figure size 1440x432 with 2 Axes>"
            ],
            "image/png": "[encoded data removed]"
          },
          "metadata": {
            "needs_background": "light"
          }
        }
      ]
    },
    {
      "cell_type": "code",
      "source": [
        "history = tf.keras.models.load_model(\"/content/drive/MyDrive/speech-emotion-recognition-ravdess-data/speech_model_wo_kfold_1moreConv.tf\")\n",
        "\n",
        "earlyStopping = EarlyStopping(monitor='accuracy', patience=6, verbose=0, mode='max')\n",
        "mcp_save_2 = ModelCheckpoint('/content/drive/MyDrive/speech-emotion-recognition-ravdess-data/speech_model_wo_kfold_1moreConv.tf', save_best_only=True, monitor='accuracy', \n",
        "                           mode='max', save_freq='epoch')\n",
        "inc_accuracy = ReduceLROnPlateau(monitor='accuracy', factor=0.1, patience=6, verbose=0, mode='max')\n",
        "\n",
        "history = model.fit(x_train, y_train, batch_size=64, epochs=eps, validation_data=(x_test, y_test), callbacks=[earlyStopping, mcp_save_2, inc_accuracy])"
      ],
      "metadata": {
        "colab": {
          "base_uri": "https://localhost:8080/"
        },
        "id": "KVtgMsNGIP-J",
        "outputId": "97826feb-3138-49d8-dd5a-dffdec2aece3"
      },
      "execution_count": null,
      "outputs": [
        {
          "output_type": "stream",
          "name": "stdout",
          "text": [
            "Epoch 1/60\n",
            "48/48 [==============================] - ETA: 0s - loss: 0.3456 - accuracy: 0.8809"
          ]
        },
        {
          "output_type": "stream",
          "name": "stderr",
          "text": [
            "WARNING:absl:Found untraced functions such as lstm_cell_14_layer_call_fn, lstm_cell_14_layer_call_and_return_conditional_losses, lstm_cell_15_layer_call_fn, lstm_cell_15_layer_call_and_return_conditional_losses while saving (showing 4 of 4). These functions will not be directly callable after loading.\n"
          ]
        },
        {
          "output_type": "stream",
          "name": "stdout",
          "text": [
            "INFO:tensorflow:Assets written to: /content/drive/MyDrive/speech-emotion-recognition-ravdess-data/speech_model_wo_kfold_1moreConv.tf/assets\n"
          ]
        },
        {
          "output_type": "stream",
          "name": "stderr",
          "text": [
            "INFO:tensorflow:Assets written to: /content/drive/MyDrive/speech-emotion-recognition-ravdess-data/speech_model_wo_kfold_1moreConv.tf/assets\n",
            "WARNING:absl:<keras.layers.recurrent.LSTMCell object at 0x7f968fe12490> has the same name 'LSTMCell' as a built-in Keras object. Consider renaming <class 'keras.layers.recurrent.LSTMCell'> to avoid naming conflicts when loading with `tf.keras.models.load_model`. If renaming is not possible, pass the object in the `custom_objects` parameter of the load function.\n",
            "WARNING:absl:<keras.layers.recurrent.LSTMCell object at 0x7f96927d8890> has the same name 'LSTMCell' as a built-in Keras object. Consider renaming <class 'keras.layers.recurrent.LSTMCell'> to avoid naming conflicts when loading with `tf.keras.models.load_model`. If renaming is not possible, pass the object in the `custom_objects` parameter of the load function.\n"
          ]
        },
        {
          "output_type": "stream",
          "name": "stdout",
          "text": [
            "\b\b\b\b\b\b\b\b\b\b\b\b\b\b\b\b\b\b\b\b\b\b\b\b\b\b\b\b\b\b\b\b\b\b\b\b\b\b\b\b\b\b\b\b\b\b\b\b\b\b\b\b\b\b\b\b\b\b\b\b\b\b\b\b\b\b\b\b\b\b\b\b\b\b\b\b\b\b\b\b\b\b\r48/48 [==============================] - 33s 684ms/step - loss: 0.3456 - accuracy: 0.8809 - val_loss: 1.4384 - val_accuracy: 0.6360 - lr: 0.0010\n",
            "Epoch 2/60\n",
            "48/48 [==============================] - ETA: 0s - loss: 0.2839 - accuracy: 0.9036"
          ]
        },
        {
          "output_type": "stream",
          "name": "stderr",
          "text": [
            "WARNING:absl:Found untraced functions such as lstm_cell_14_layer_call_fn, lstm_cell_14_layer_call_and_return_conditional_losses, lstm_cell_15_layer_call_fn, lstm_cell_15_layer_call_and_return_conditional_losses while saving (showing 4 of 4). These functions will not be directly callable after loading.\n"
          ]
        },
        {
          "output_type": "stream",
          "name": "stdout",
          "text": [
            "INFO:tensorflow:Assets written to: /content/drive/MyDrive/speech-emotion-recognition-ravdess-data/speech_model_wo_kfold_1moreConv.tf/assets\n"
          ]
        },
        {
          "output_type": "stream",
          "name": "stderr",
          "text": [
            "INFO:tensorflow:Assets written to: /content/drive/MyDrive/speech-emotion-recognition-ravdess-data/speech_model_wo_kfold_1moreConv.tf/assets\n",
            "WARNING:absl:<keras.layers.recurrent.LSTMCell object at 0x7f968fe12490> has the same name 'LSTMCell' as a built-in Keras object. Consider renaming <class 'keras.layers.recurrent.LSTMCell'> to avoid naming conflicts when loading with `tf.keras.models.load_model`. If renaming is not possible, pass the object in the `custom_objects` parameter of the load function.\n",
            "WARNING:absl:<keras.layers.recurrent.LSTMCell object at 0x7f96927d8890> has the same name 'LSTMCell' as a built-in Keras object. Consider renaming <class 'keras.layers.recurrent.LSTMCell'> to avoid naming conflicts when loading with `tf.keras.models.load_model`. If renaming is not possible, pass the object in the `custom_objects` parameter of the load function.\n"
          ]
        },
        {
          "output_type": "stream",
          "name": "stdout",
          "text": [
            "\b\b\b\b\b\b\b\b\b\b\b\b\b\b\b\b\b\b\b\b\b\b\b\b\b\b\b\b\b\b\b\b\b\b\b\b\b\b\b\b\b\b\b\b\b\b\b\b\b\b\b\b\b\b\b\b\b\b\b\b\b\b\b\b\b\b\b\b\b\b\b\b\b\b\b\b\b\b\b\b\b\b\r48/48 [==============================] - 33s 688ms/step - loss: 0.2839 - accuracy: 0.9036 - val_loss: 1.5527 - val_accuracy: 0.6231 - lr: 0.0010\n",
            "Epoch 3/60\n",
            "48/48 [==============================] - ETA: 0s - loss: 0.2640 - accuracy: 0.9155"
          ]
        },
        {
          "output_type": "stream",
          "name": "stderr",
          "text": [
            "WARNING:absl:Found untraced functions such as lstm_cell_14_layer_call_fn, lstm_cell_14_layer_call_and_return_conditional_losses, lstm_cell_15_layer_call_fn, lstm_cell_15_layer_call_and_return_conditional_losses while saving (showing 4 of 4). These functions will not be directly callable after loading.\n"
          ]
        },
        {
          "output_type": "stream",
          "name": "stdout",
          "text": [
            "INFO:tensorflow:Assets written to: /content/drive/MyDrive/speech-emotion-recognition-ravdess-data/speech_model_wo_kfold_1moreConv.tf/assets\n"
          ]
        },
        {
          "output_type": "stream",
          "name": "stderr",
          "text": [
            "INFO:tensorflow:Assets written to: /content/drive/MyDrive/speech-emotion-recognition-ravdess-data/speech_model_wo_kfold_1moreConv.tf/assets\n",
            "WARNING:absl:<keras.layers.recurrent.LSTMCell object at 0x7f968fe12490> has the same name 'LSTMCell' as a built-in Keras object. Consider renaming <class 'keras.layers.recurrent.LSTMCell'> to avoid naming conflicts when loading with `tf.keras.models.load_model`. If renaming is not possible, pass the object in the `custom_objects` parameter of the load function.\n",
            "WARNING:absl:<keras.layers.recurrent.LSTMCell object at 0x7f96927d8890> has the same name 'LSTMCell' as a built-in Keras object. Consider renaming <class 'keras.layers.recurrent.LSTMCell'> to avoid naming conflicts when loading with `tf.keras.models.load_model`. If renaming is not possible, pass the object in the `custom_objects` parameter of the load function.\n"
          ]
        },
        {
          "output_type": "stream",
          "name": "stdout",
          "text": [
            "\b\b\b\b\b\b\b\b\b\b\b\b\b\b\b\b\b\b\b\b\b\b\b\b\b\b\b\b\b\b\b\b\b\b\b\b\b\b\b\b\b\b\b\b\b\b\b\b\b\b\b\b\b\b\b\b\b\b\b\b\b\b\b\b\b\b\b\b\b\b\b\b\b\b\b\b\b\b\b\b\b\b\r48/48 [==============================] - 35s 729ms/step - loss: 0.2640 - accuracy: 0.9155 - val_loss: 1.6280 - val_accuracy: 0.6142 - lr: 0.0010\n",
            "Epoch 4/60\n",
            "48/48 [==============================] - ETA: 0s - loss: 0.2396 - accuracy: 0.9191"
          ]
        },
        {
          "output_type": "stream",
          "name": "stderr",
          "text": [
            "WARNING:absl:Found untraced functions such as lstm_cell_14_layer_call_fn, lstm_cell_14_layer_call_and_return_conditional_losses, lstm_cell_15_layer_call_fn, lstm_cell_15_layer_call_and_return_conditional_losses while saving (showing 4 of 4). These functions will not be directly callable after loading.\n"
          ]
        },
        {
          "output_type": "stream",
          "name": "stdout",
          "text": [
            "INFO:tensorflow:Assets written to: /content/drive/MyDrive/speech-emotion-recognition-ravdess-data/speech_model_wo_kfold_1moreConv.tf/assets\n"
          ]
        },
        {
          "output_type": "stream",
          "name": "stderr",
          "text": [
            "INFO:tensorflow:Assets written to: /content/drive/MyDrive/speech-emotion-recognition-ravdess-data/speech_model_wo_kfold_1moreConv.tf/assets\n",
            "WARNING:absl:<keras.layers.recurrent.LSTMCell object at 0x7f968fe12490> has the same name 'LSTMCell' as a built-in Keras object. Consider renaming <class 'keras.layers.recurrent.LSTMCell'> to avoid naming conflicts when loading with `tf.keras.models.load_model`. If renaming is not possible, pass the object in the `custom_objects` parameter of the load function.\n",
            "WARNING:absl:<keras.layers.recurrent.LSTMCell object at 0x7f96927d8890> has the same name 'LSTMCell' as a built-in Keras object. Consider renaming <class 'keras.layers.recurrent.LSTMCell'> to avoid naming conflicts when loading with `tf.keras.models.load_model`. If renaming is not possible, pass the object in the `custom_objects` parameter of the load function.\n"
          ]
        },
        {
          "output_type": "stream",
          "name": "stdout",
          "text": [
            "\b\b\b\b\b\b\b\b\b\b\b\b\b\b\b\b\b\b\b\b\b\b\b\b\b\b\b\b\b\b\b\b\b\b\b\b\b\b\b\b\b\b\b\b\b\b\b\b\b\b\b\b\b\b\b\b\b\b\b\b\b\b\b\b\b\b\b\b\b\b\b\b\b\b\b\b\b\b\b\b\b\b\r48/48 [==============================] - 33s 694ms/step - loss: 0.2396 - accuracy: 0.9191 - val_loss: 1.6346 - val_accuracy: 0.6340 - lr: 0.0010\n",
            "Epoch 5/60\n",
            "48/48 [==============================] - ETA: 0s - loss: 0.2446 - accuracy: 0.9218"
          ]
        },
        {
          "output_type": "stream",
          "name": "stderr",
          "text": [
            "WARNING:absl:Found untraced functions such as lstm_cell_14_layer_call_fn, lstm_cell_14_layer_call_and_return_conditional_losses, lstm_cell_15_layer_call_fn, lstm_cell_15_layer_call_and_return_conditional_losses while saving (showing 4 of 4). These functions will not be directly callable after loading.\n"
          ]
        },
        {
          "output_type": "stream",
          "name": "stdout",
          "text": [
            "INFO:tensorflow:Assets written to: /content/drive/MyDrive/speech-emotion-recognition-ravdess-data/speech_model_wo_kfold_1moreConv.tf/assets\n"
          ]
        },
        {
          "output_type": "stream",
          "name": "stderr",
          "text": [
            "INFO:tensorflow:Assets written to: /content/drive/MyDrive/speech-emotion-recognition-ravdess-data/speech_model_wo_kfold_1moreConv.tf/assets\n",
            "WARNING:absl:<keras.layers.recurrent.LSTMCell object at 0x7f968fe12490> has the same name 'LSTMCell' as a built-in Keras object. Consider renaming <class 'keras.layers.recurrent.LSTMCell'> to avoid naming conflicts when loading with `tf.keras.models.load_model`. If renaming is not possible, pass the object in the `custom_objects` parameter of the load function.\n",
            "WARNING:absl:<keras.layers.recurrent.LSTMCell object at 0x7f96927d8890> has the same name 'LSTMCell' as a built-in Keras object. Consider renaming <class 'keras.layers.recurrent.LSTMCell'> to avoid naming conflicts when loading with `tf.keras.models.load_model`. If renaming is not possible, pass the object in the `custom_objects` parameter of the load function.\n"
          ]
        },
        {
          "output_type": "stream",
          "name": "stdout",
          "text": [
            "\b\b\b\b\b\b\b\b\b\b\b\b\b\b\b\b\b\b\b\b\b\b\b\b\b\b\b\b\b\b\b\b\b\b\b\b\b\b\b\b\b\b\b\b\b\b\b\b\b\b\b\b\b\b\b\b\b\b\b\b\b\b\b\b\b\b\b\b\b\b\b\b\b\b\b\b\b\b\b\b\b\b\r48/48 [==============================] - 33s 693ms/step - loss: 0.2446 - accuracy: 0.9218 - val_loss: 1.5335 - val_accuracy: 0.6390 - lr: 0.0010\n",
            "Epoch 6/60\n",
            "48/48 [==============================] - ETA: 0s - loss: 0.2200 - accuracy: 0.9264"
          ]
        },
        {
          "output_type": "stream",
          "name": "stderr",
          "text": [
            "WARNING:absl:Found untraced functions such as lstm_cell_14_layer_call_fn, lstm_cell_14_layer_call_and_return_conditional_losses, lstm_cell_15_layer_call_fn, lstm_cell_15_layer_call_and_return_conditional_losses while saving (showing 4 of 4). These functions will not be directly callable after loading.\n"
          ]
        },
        {
          "output_type": "stream",
          "name": "stdout",
          "text": [
            "INFO:tensorflow:Assets written to: /content/drive/MyDrive/speech-emotion-recognition-ravdess-data/speech_model_wo_kfold_1moreConv.tf/assets\n"
          ]
        },
        {
          "output_type": "stream",
          "name": "stderr",
          "text": [
            "INFO:tensorflow:Assets written to: /content/drive/MyDrive/speech-emotion-recognition-ravdess-data/speech_model_wo_kfold_1moreConv.tf/assets\n",
            "WARNING:absl:<keras.layers.recurrent.LSTMCell object at 0x7f968fe12490> has the same name 'LSTMCell' as a built-in Keras object. Consider renaming <class 'keras.layers.recurrent.LSTMCell'> to avoid naming conflicts when loading with `tf.keras.models.load_model`. If renaming is not possible, pass the object in the `custom_objects` parameter of the load function.\n",
            "WARNING:absl:<keras.layers.recurrent.LSTMCell object at 0x7f96927d8890> has the same name 'LSTMCell' as a built-in Keras object. Consider renaming <class 'keras.layers.recurrent.LSTMCell'> to avoid naming conflicts when loading with `tf.keras.models.load_model`. If renaming is not possible, pass the object in the `custom_objects` parameter of the load function.\n"
          ]
        },
        {
          "output_type": "stream",
          "name": "stdout",
          "text": [
            "\b\b\b\b\b\b\b\b\b\b\b\b\b\b\b\b\b\b\b\b\b\b\b\b\b\b\b\b\b\b\b\b\b\b\b\b\b\b\b\b\b\b\b\b\b\b\b\b\b\b\b\b\b\b\b\b\b\b\b\b\b\b\b\b\b\b\b\b\b\b\b\b\b\b\b\b\b\b\b\b\b\b\r48/48 [==============================] - 33s 691ms/step - loss: 0.2200 - accuracy: 0.9264 - val_loss: 1.6910 - val_accuracy: 0.6152 - lr: 0.0010\n",
            "Epoch 7/60\n",
            "48/48 [==============================] - 21s 432ms/step - loss: 0.2247 - accuracy: 0.9251 - val_loss: 1.6218 - val_accuracy: 0.6291 - lr: 0.0010\n",
            "Epoch 8/60\n",
            "48/48 [==============================] - 21s 433ms/step - loss: 0.2535 - accuracy: 0.9182 - val_loss: 1.6822 - val_accuracy: 0.6231 - lr: 0.0010\n",
            "Epoch 9/60\n",
            "48/48 [==============================] - 21s 431ms/step - loss: 0.2784 - accuracy: 0.9053 - val_loss: 1.5279 - val_accuracy: 0.6489 - lr: 0.0010\n",
            "Epoch 10/60\n",
            "48/48 [==============================] - ETA: 0s - loss: 0.1819 - accuracy: 0.9419"
          ]
        },
        {
          "output_type": "stream",
          "name": "stderr",
          "text": [
            "WARNING:absl:Found untraced functions such as lstm_cell_14_layer_call_fn, lstm_cell_14_layer_call_and_return_conditional_losses, lstm_cell_15_layer_call_fn, lstm_cell_15_layer_call_and_return_conditional_losses while saving (showing 4 of 4). These functions will not be directly callable after loading.\n"
          ]
        },
        {
          "output_type": "stream",
          "name": "stdout",
          "text": [
            "INFO:tensorflow:Assets written to: /content/drive/MyDrive/speech-emotion-recognition-ravdess-data/speech_model_wo_kfold_1moreConv.tf/assets\n"
          ]
        },
        {
          "output_type": "stream",
          "name": "stderr",
          "text": [
            "INFO:tensorflow:Assets written to: /content/drive/MyDrive/speech-emotion-recognition-ravdess-data/speech_model_wo_kfold_1moreConv.tf/assets\n",
            "WARNING:absl:<keras.layers.recurrent.LSTMCell object at 0x7f968fe12490> has the same name 'LSTMCell' as a built-in Keras object. Consider renaming <class 'keras.layers.recurrent.LSTMCell'> to avoid naming conflicts when loading with `tf.keras.models.load_model`. If renaming is not possible, pass the object in the `custom_objects` parameter of the load function.\n",
            "WARNING:absl:<keras.layers.recurrent.LSTMCell object at 0x7f96927d8890> has the same name 'LSTMCell' as a built-in Keras object. Consider renaming <class 'keras.layers.recurrent.LSTMCell'> to avoid naming conflicts when loading with `tf.keras.models.load_model`. If renaming is not possible, pass the object in the `custom_objects` parameter of the load function.\n"
          ]
        },
        {
          "output_type": "stream",
          "name": "stdout",
          "text": [
            "\b\b\b\b\b\b\b\b\b\b\b\b\b\b\b\b\b\b\b\b\b\b\b\b\b\b\b\b\b\b\b\b\b\b\b\b\b\b\b\b\b\b\b\b\b\b\b\b\b\b\b\b\b\b\b\b\b\b\b\b\b\b\b\b\b\b\b\b\b\b\b\b\b\b\b\b\b\b\b\b\b\b\r48/48 [==============================] - 32s 678ms/step - loss: 0.1819 - accuracy: 0.9419 - val_loss: 1.7530 - val_accuracy: 0.6340 - lr: 0.0010\n",
            "Epoch 11/60\n",
            "48/48 [==============================] - 21s 433ms/step - loss: 0.2870 - accuracy: 0.9010 - val_loss: 1.5749 - val_accuracy: 0.6251 - lr: 0.0010\n",
            "Epoch 12/60\n",
            "48/48 [==============================] - 21s 437ms/step - loss: 0.2404 - accuracy: 0.9195 - val_loss: 1.6702 - val_accuracy: 0.6231 - lr: 0.0010\n",
            "Epoch 13/60\n",
            "48/48 [==============================] - 20s 425ms/step - loss: 0.1942 - accuracy: 0.9363 - val_loss: 1.5774 - val_accuracy: 0.6429 - lr: 0.0010\n",
            "Epoch 14/60\n",
            "48/48 [==============================] - ETA: 0s - loss: 0.1692 - accuracy: 0.9442"
          ]
        },
        {
          "output_type": "stream",
          "name": "stderr",
          "text": [
            "WARNING:absl:Found untraced functions such as lstm_cell_14_layer_call_fn, lstm_cell_14_layer_call_and_return_conditional_losses, lstm_cell_15_layer_call_fn, lstm_cell_15_layer_call_and_return_conditional_losses while saving (showing 4 of 4). These functions will not be directly callable after loading.\n"
          ]
        },
        {
          "output_type": "stream",
          "name": "stdout",
          "text": [
            "INFO:tensorflow:Assets written to: /content/drive/MyDrive/speech-emotion-recognition-ravdess-data/speech_model_wo_kfold_1moreConv.tf/assets\n"
          ]
        },
        {
          "output_type": "stream",
          "name": "stderr",
          "text": [
            "INFO:tensorflow:Assets written to: /content/drive/MyDrive/speech-emotion-recognition-ravdess-data/speech_model_wo_kfold_1moreConv.tf/assets\n",
            "WARNING:absl:<keras.layers.recurrent.LSTMCell object at 0x7f968fe12490> has the same name 'LSTMCell' as a built-in Keras object. Consider renaming <class 'keras.layers.recurrent.LSTMCell'> to avoid naming conflicts when loading with `tf.keras.models.load_model`. If renaming is not possible, pass the object in the `custom_objects` parameter of the load function.\n",
            "WARNING:absl:<keras.layers.recurrent.LSTMCell object at 0x7f96927d8890> has the same name 'LSTMCell' as a built-in Keras object. Consider renaming <class 'keras.layers.recurrent.LSTMCell'> to avoid naming conflicts when loading with `tf.keras.models.load_model`. If renaming is not possible, pass the object in the `custom_objects` parameter of the load function.\n"
          ]
        },
        {
          "output_type": "stream",
          "name": "stdout",
          "text": [
            "\b\b\b\b\b\b\b\b\b\b\b\b\b\b\b\b\b\b\b\b\b\b\b\b\b\b\b\b\b\b\b\b\b\b\b\b\b\b\b\b\b\b\b\b\b\b\b\b\b\b\b\b\b\b\b\b\b\b\b\b\b\b\b\b\b\b\b\b\b\b\b\b\b\b\b\b\b\b\b\b\b\b\r48/48 [==============================] - 32s 676ms/step - loss: 0.1692 - accuracy: 0.9442 - val_loss: 1.6712 - val_accuracy: 0.6380 - lr: 0.0010\n",
            "Epoch 15/60\n",
            "48/48 [==============================] - ETA: 0s - loss: 0.1525 - accuracy: 0.9479"
          ]
        },
        {
          "output_type": "stream",
          "name": "stderr",
          "text": [
            "WARNING:absl:Found untraced functions such as lstm_cell_14_layer_call_fn, lstm_cell_14_layer_call_and_return_conditional_losses, lstm_cell_15_layer_call_fn, lstm_cell_15_layer_call_and_return_conditional_losses while saving (showing 4 of 4). These functions will not be directly callable after loading.\n"
          ]
        },
        {
          "output_type": "stream",
          "name": "stdout",
          "text": [
            "INFO:tensorflow:Assets written to: /content/drive/MyDrive/speech-emotion-recognition-ravdess-data/speech_model_wo_kfold_1moreConv.tf/assets\n"
          ]
        },
        {
          "output_type": "stream",
          "name": "stderr",
          "text": [
            "INFO:tensorflow:Assets written to: /content/drive/MyDrive/speech-emotion-recognition-ravdess-data/speech_model_wo_kfold_1moreConv.tf/assets\n",
            "WARNING:absl:<keras.layers.recurrent.LSTMCell object at 0x7f968fe12490> has the same name 'LSTMCell' as a built-in Keras object. Consider renaming <class 'keras.layers.recurrent.LSTMCell'> to avoid naming conflicts when loading with `tf.keras.models.load_model`. If renaming is not possible, pass the object in the `custom_objects` parameter of the load function.\n",
            "WARNING:absl:<keras.layers.recurrent.LSTMCell object at 0x7f96927d8890> has the same name 'LSTMCell' as a built-in Keras object. Consider renaming <class 'keras.layers.recurrent.LSTMCell'> to avoid naming conflicts when loading with `tf.keras.models.load_model`. If renaming is not possible, pass the object in the `custom_objects` parameter of the load function.\n"
          ]
        },
        {
          "output_type": "stream",
          "name": "stdout",
          "text": [
            "\b\b\b\b\b\b\b\b\b\b\b\b\b\b\b\b\b\b\b\b\b\b\b\b\b\b\b\b\b\b\b\b\b\b\b\b\b\b\b\b\b\b\b\b\b\b\b\b\b\b\b\b\b\b\b\b\b\b\b\b\b\b\b\b\b\b\b\b\b\b\b\b\b\b\b\b\b\b\b\b\b\b\r48/48 [==============================] - 32s 680ms/step - loss: 0.1525 - accuracy: 0.9479 - val_loss: 1.8091 - val_accuracy: 0.6291 - lr: 0.0010\n",
            "Epoch 16/60\n",
            "48/48 [==============================] - 23s 471ms/step - loss: 0.2018 - accuracy: 0.9370 - val_loss: 1.7416 - val_accuracy: 0.6222 - lr: 0.0010\n",
            "Epoch 17/60\n",
            "48/48 [==============================] - 21s 438ms/step - loss: 0.1940 - accuracy: 0.9413 - val_loss: 1.6699 - val_accuracy: 0.6340 - lr: 0.0010\n",
            "Epoch 18/60\n",
            "48/48 [==============================] - 21s 431ms/step - loss: 0.1797 - accuracy: 0.9393 - val_loss: 1.6962 - val_accuracy: 0.6152 - lr: 0.0010\n",
            "Epoch 19/60\n",
            "48/48 [==============================] - ETA: 0s - loss: 0.1403 - accuracy: 0.9525"
          ]
        },
        {
          "output_type": "stream",
          "name": "stderr",
          "text": [
            "WARNING:absl:Found untraced functions such as lstm_cell_14_layer_call_fn, lstm_cell_14_layer_call_and_return_conditional_losses, lstm_cell_15_layer_call_fn, lstm_cell_15_layer_call_and_return_conditional_losses while saving (showing 4 of 4). These functions will not be directly callable after loading.\n"
          ]
        },
        {
          "output_type": "stream",
          "name": "stdout",
          "text": [
            "INFO:tensorflow:Assets written to: /content/drive/MyDrive/speech-emotion-recognition-ravdess-data/speech_model_wo_kfold_1moreConv.tf/assets\n"
          ]
        },
        {
          "output_type": "stream",
          "name": "stderr",
          "text": [
            "INFO:tensorflow:Assets written to: /content/drive/MyDrive/speech-emotion-recognition-ravdess-data/speech_model_wo_kfold_1moreConv.tf/assets\n",
            "WARNING:absl:<keras.layers.recurrent.LSTMCell object at 0x7f968fe12490> has the same name 'LSTMCell' as a built-in Keras object. Consider renaming <class 'keras.layers.recurrent.LSTMCell'> to avoid naming conflicts when loading with `tf.keras.models.load_model`. If renaming is not possible, pass the object in the `custom_objects` parameter of the load function.\n",
            "WARNING:absl:<keras.layers.recurrent.LSTMCell object at 0x7f96927d8890> has the same name 'LSTMCell' as a built-in Keras object. Consider renaming <class 'keras.layers.recurrent.LSTMCell'> to avoid naming conflicts when loading with `tf.keras.models.load_model`. If renaming is not possible, pass the object in the `custom_objects` parameter of the load function.\n"
          ]
        },
        {
          "output_type": "stream",
          "name": "stdout",
          "text": [
            "\b\b\b\b\b\b\b\b\b\b\b\b\b\b\b\b\b\b\b\b\b\b\b\b\b\b\b\b\b\b\b\b\b\b\b\b\b\b\b\b\b\b\b\b\b\b\b\b\b\b\b\b\b\b\b\b\b\b\b\b\b\b\b\b\b\b\b\b\b\b\b\b\b\b\b\b\b\b\b\b\b\b\r48/48 [==============================] - 33s 696ms/step - loss: 0.1403 - accuracy: 0.9525 - val_loss: 1.8152 - val_accuracy: 0.6133 - lr: 0.0010\n",
            "Epoch 20/60\n",
            "48/48 [==============================] - ETA: 0s - loss: 0.1544 - accuracy: 0.9528"
          ]
        },
        {
          "output_type": "stream",
          "name": "stderr",
          "text": [
            "WARNING:absl:Found untraced functions such as lstm_cell_14_layer_call_fn, lstm_cell_14_layer_call_and_return_conditional_losses, lstm_cell_15_layer_call_fn, lstm_cell_15_layer_call_and_return_conditional_losses while saving (showing 4 of 4). These functions will not be directly callable after loading.\n"
          ]
        },
        {
          "output_type": "stream",
          "name": "stdout",
          "text": [
            "INFO:tensorflow:Assets written to: /content/drive/MyDrive/speech-emotion-recognition-ravdess-data/speech_model_wo_kfold_1moreConv.tf/assets\n"
          ]
        },
        {
          "output_type": "stream",
          "name": "stderr",
          "text": [
            "INFO:tensorflow:Assets written to: /content/drive/MyDrive/speech-emotion-recognition-ravdess-data/speech_model_wo_kfold_1moreConv.tf/assets\n",
            "WARNING:absl:<keras.layers.recurrent.LSTMCell object at 0x7f968fe12490> has the same name 'LSTMCell' as a built-in Keras object. Consider renaming <class 'keras.layers.recurrent.LSTMCell'> to avoid naming conflicts when loading with `tf.keras.models.load_model`. If renaming is not possible, pass the object in the `custom_objects` parameter of the load function.\n",
            "WARNING:absl:<keras.layers.recurrent.LSTMCell object at 0x7f96927d8890> has the same name 'LSTMCell' as a built-in Keras object. Consider renaming <class 'keras.layers.recurrent.LSTMCell'> to avoid naming conflicts when loading with `tf.keras.models.load_model`. If renaming is not possible, pass the object in the `custom_objects` parameter of the load function.\n"
          ]
        },
        {
          "output_type": "stream",
          "name": "stdout",
          "text": [
            "\b\b\b\b\b\b\b\b\b\b\b\b\b\b\b\b\b\b\b\b\b\b\b\b\b\b\b\b\b\b\b\b\b\b\b\b\b\b\b\b\b\b\b\b\b\b\b\b\b\b\b\b\b\b\b\b\b\b\b\b\b\b\b\b\b\b\b\b\b\b\b\b\b\b\b\b\b\b\b\b\b\b\r48/48 [==============================] - 33s 686ms/step - loss: 0.1544 - accuracy: 0.9528 - val_loss: 1.7834 - val_accuracy: 0.6360 - lr: 0.0010\n",
            "Epoch 21/60\n",
            "48/48 [==============================] - ETA: 0s - loss: 0.1251 - accuracy: 0.9581"
          ]
        },
        {
          "output_type": "stream",
          "name": "stderr",
          "text": [
            "WARNING:absl:Found untraced functions such as lstm_cell_14_layer_call_fn, lstm_cell_14_layer_call_and_return_conditional_losses, lstm_cell_15_layer_call_fn, lstm_cell_15_layer_call_and_return_conditional_losses while saving (showing 4 of 4). These functions will not be directly callable after loading.\n"
          ]
        },
        {
          "output_type": "stream",
          "name": "stdout",
          "text": [
            "INFO:tensorflow:Assets written to: /content/drive/MyDrive/speech-emotion-recognition-ravdess-data/speech_model_wo_kfold_1moreConv.tf/assets\n"
          ]
        },
        {
          "output_type": "stream",
          "name": "stderr",
          "text": [
            "INFO:tensorflow:Assets written to: /content/drive/MyDrive/speech-emotion-recognition-ravdess-data/speech_model_wo_kfold_1moreConv.tf/assets\n",
            "WARNING:absl:<keras.layers.recurrent.LSTMCell object at 0x7f968fe12490> has the same name 'LSTMCell' as a built-in Keras object. Consider renaming <class 'keras.layers.recurrent.LSTMCell'> to avoid naming conflicts when loading with `tf.keras.models.load_model`. If renaming is not possible, pass the object in the `custom_objects` parameter of the load function.\n",
            "WARNING:absl:<keras.layers.recurrent.LSTMCell object at 0x7f96927d8890> has the same name 'LSTMCell' as a built-in Keras object. Consider renaming <class 'keras.layers.recurrent.LSTMCell'> to avoid naming conflicts when loading with `tf.keras.models.load_model`. If renaming is not possible, pass the object in the `custom_objects` parameter of the load function.\n"
          ]
        },
        {
          "output_type": "stream",
          "name": "stdout",
          "text": [
            "\b\b\b\b\b\b\b\b\b\b\b\b\b\b\b\b\b\b\b\b\b\b\b\b\b\b\b\b\b\b\b\b\b\b\b\b\b\b\b\b\b\b\b\b\b\b\b\b\b\b\b\b\b\b\b\b\b\b\b\b\b\b\b\b\b\b\b\b\b\b\b\b\b\b\b\b\b\b\b\b\b\b\r48/48 [==============================] - 32s 670ms/step - loss: 0.1251 - accuracy: 0.9581 - val_loss: 1.8932 - val_accuracy: 0.6073 - lr: 0.0010\n",
            "Epoch 22/60\n",
            "48/48 [==============================] - 21s 433ms/step - loss: 0.2821 - accuracy: 0.9033 - val_loss: 1.5742 - val_accuracy: 0.6192 - lr: 0.0010\n",
            "Epoch 23/60\n",
            "48/48 [==============================] - 21s 442ms/step - loss: 0.1709 - accuracy: 0.9403 - val_loss: 1.6513 - val_accuracy: 0.6360 - lr: 0.0010\n",
            "Epoch 24/60\n",
            "48/48 [==============================] - ETA: 0s - loss: 0.1129 - accuracy: 0.9584"
          ]
        },
        {
          "output_type": "stream",
          "name": "stderr",
          "text": [
            "WARNING:absl:Found untraced functions such as lstm_cell_14_layer_call_fn, lstm_cell_14_layer_call_and_return_conditional_losses, lstm_cell_15_layer_call_fn, lstm_cell_15_layer_call_and_return_conditional_losses while saving (showing 4 of 4). These functions will not be directly callable after loading.\n"
          ]
        },
        {
          "output_type": "stream",
          "name": "stdout",
          "text": [
            "INFO:tensorflow:Assets written to: /content/drive/MyDrive/speech-emotion-recognition-ravdess-data/speech_model_wo_kfold_1moreConv.tf/assets\n"
          ]
        },
        {
          "output_type": "stream",
          "name": "stderr",
          "text": [
            "INFO:tensorflow:Assets written to: /content/drive/MyDrive/speech-emotion-recognition-ravdess-data/speech_model_wo_kfold_1moreConv.tf/assets\n",
            "WARNING:absl:<keras.layers.recurrent.LSTMCell object at 0x7f968fe12490> has the same name 'LSTMCell' as a built-in Keras object. Consider renaming <class 'keras.layers.recurrent.LSTMCell'> to avoid naming conflicts when loading with `tf.keras.models.load_model`. If renaming is not possible, pass the object in the `custom_objects` parameter of the load function.\n",
            "WARNING:absl:<keras.layers.recurrent.LSTMCell object at 0x7f96927d8890> has the same name 'LSTMCell' as a built-in Keras object. Consider renaming <class 'keras.layers.recurrent.LSTMCell'> to avoid naming conflicts when loading with `tf.keras.models.load_model`. If renaming is not possible, pass the object in the `custom_objects` parameter of the load function.\n"
          ]
        },
        {
          "output_type": "stream",
          "name": "stdout",
          "text": [
            "\b\b\b\b\b\b\b\b\b\b\b\b\b\b\b\b\b\b\b\b\b\b\b\b\b\b\b\b\b\b\b\b\b\b\b\b\b\b\b\b\b\b\b\b\b\b\b\b\b\b\b\b\b\b\b\b\b\b\b\b\b\b\b\b\b\b\b\b\b\b\b\b\b\b\b\b\b\b\b\b\b\b\r48/48 [==============================] - 33s 693ms/step - loss: 0.1129 - accuracy: 0.9584 - val_loss: 1.6807 - val_accuracy: 0.6578 - lr: 0.0010\n",
            "Epoch 25/60\n",
            "48/48 [==============================] - 21s 433ms/step - loss: 0.1452 - accuracy: 0.9551 - val_loss: 1.9120 - val_accuracy: 0.6024 - lr: 0.0010\n",
            "Epoch 26/60\n",
            "48/48 [==============================] - 21s 440ms/step - loss: 0.1821 - accuracy: 0.9403 - val_loss: 1.6714 - val_accuracy: 0.6409 - lr: 0.0010\n",
            "Epoch 27/60\n",
            "48/48 [==============================] - 21s 440ms/step - loss: 0.1473 - accuracy: 0.9492 - val_loss: 1.7456 - val_accuracy: 0.6469 - lr: 0.0010\n",
            "Epoch 28/60\n",
            "48/48 [==============================] - ETA: 0s - loss: 0.1217 - accuracy: 0.9601"
          ]
        },
        {
          "output_type": "stream",
          "name": "stderr",
          "text": [
            "WARNING:absl:Found untraced functions such as lstm_cell_14_layer_call_fn, lstm_cell_14_layer_call_and_return_conditional_losses, lstm_cell_15_layer_call_fn, lstm_cell_15_layer_call_and_return_conditional_losses while saving (showing 4 of 4). These functions will not be directly callable after loading.\n"
          ]
        },
        {
          "output_type": "stream",
          "name": "stdout",
          "text": [
            "INFO:tensorflow:Assets written to: /content/drive/MyDrive/speech-emotion-recognition-ravdess-data/speech_model_wo_kfold_1moreConv.tf/assets\n"
          ]
        },
        {
          "output_type": "stream",
          "name": "stderr",
          "text": [
            "INFO:tensorflow:Assets written to: /content/drive/MyDrive/speech-emotion-recognition-ravdess-data/speech_model_wo_kfold_1moreConv.tf/assets\n",
            "WARNING:absl:<keras.layers.recurrent.LSTMCell object at 0x7f968fe12490> has the same name 'LSTMCell' as a built-in Keras object. Consider renaming <class 'keras.layers.recurrent.LSTMCell'> to avoid naming conflicts when loading with `tf.keras.models.load_model`. If renaming is not possible, pass the object in the `custom_objects` parameter of the load function.\n",
            "WARNING:absl:<keras.layers.recurrent.LSTMCell object at 0x7f96927d8890> has the same name 'LSTMCell' as a built-in Keras object. Consider renaming <class 'keras.layers.recurrent.LSTMCell'> to avoid naming conflicts when loading with `tf.keras.models.load_model`. If renaming is not possible, pass the object in the `custom_objects` parameter of the load function.\n"
          ]
        },
        {
          "output_type": "stream",
          "name": "stdout",
          "text": [
            "\b\b\b\b\b\b\b\b\b\b\b\b\b\b\b\b\b\b\b\b\b\b\b\b\b\b\b\b\b\b\b\b\b\b\b\b\b\b\b\b\b\b\b\b\b\b\b\b\b\b\b\b\b\b\b\b\b\b\b\b\b\b\b\b\b\b\b\b\b\b\b\b\b\b\b\b\b\b\b\b\b\b\r48/48 [==============================] - 33s 685ms/step - loss: 0.1217 - accuracy: 0.9601 - val_loss: 1.8202 - val_accuracy: 0.6380 - lr: 0.0010\n",
            "Epoch 29/60\n",
            "48/48 [==============================] - 22s 467ms/step - loss: 0.1612 - accuracy: 0.9498 - val_loss: 1.8915 - val_accuracy: 0.6172 - lr: 0.0010\n",
            "Epoch 30/60\n",
            "48/48 [==============================] - 21s 441ms/step - loss: 0.1628 - accuracy: 0.9525 - val_loss: 1.7452 - val_accuracy: 0.6142 - lr: 0.0010\n",
            "Epoch 31/60\n",
            "48/48 [==============================] - ETA: 0s - loss: 0.1123 - accuracy: 0.9637"
          ]
        },
        {
          "output_type": "stream",
          "name": "stderr",
          "text": [
            "WARNING:absl:Found untraced functions such as lstm_cell_14_layer_call_fn, lstm_cell_14_layer_call_and_return_conditional_losses, lstm_cell_15_layer_call_fn, lstm_cell_15_layer_call_and_return_conditional_losses while saving (showing 4 of 4). These functions will not be directly callable after loading.\n"
          ]
        },
        {
          "output_type": "stream",
          "name": "stdout",
          "text": [
            "INFO:tensorflow:Assets written to: /content/drive/MyDrive/speech-emotion-recognition-ravdess-data/speech_model_wo_kfold_1moreConv.tf/assets\n"
          ]
        },
        {
          "output_type": "stream",
          "name": "stderr",
          "text": [
            "INFO:tensorflow:Assets written to: /content/drive/MyDrive/speech-emotion-recognition-ravdess-data/speech_model_wo_kfold_1moreConv.tf/assets\n",
            "WARNING:absl:<keras.layers.recurrent.LSTMCell object at 0x7f968fe12490> has the same name 'LSTMCell' as a built-in Keras object. Consider renaming <class 'keras.layers.recurrent.LSTMCell'> to avoid naming conflicts when loading with `tf.keras.models.load_model`. If renaming is not possible, pass the object in the `custom_objects` parameter of the load function.\n",
            "WARNING:absl:<keras.layers.recurrent.LSTMCell object at 0x7f96927d8890> has the same name 'LSTMCell' as a built-in Keras object. Consider renaming <class 'keras.layers.recurrent.LSTMCell'> to avoid naming conflicts when loading with `tf.keras.models.load_model`. If renaming is not possible, pass the object in the `custom_objects` parameter of the load function.\n"
          ]
        },
        {
          "output_type": "stream",
          "name": "stdout",
          "text": [
            "\b\b\b\b\b\b\b\b\b\b\b\b\b\b\b\b\b\b\b\b\b\b\b\b\b\b\b\b\b\b\b\b\b\b\b\b\b\b\b\b\b\b\b\b\b\b\b\b\b\b\b\b\b\b\b\b\b\b\b\b\b\b\b\b\b\b\b\b\b\b\b\b\b\b\b\b\b\b\b\b\b\b\r48/48 [==============================] - 33s 692ms/step - loss: 0.1123 - accuracy: 0.9637 - val_loss: 1.8975 - val_accuracy: 0.6409 - lr: 0.0010\n",
            "Epoch 32/60\n",
            "48/48 [==============================] - ETA: 0s - loss: 0.0965 - accuracy: 0.9726"
          ]
        },
        {
          "output_type": "stream",
          "name": "stderr",
          "text": [
            "WARNING:absl:Found untraced functions such as lstm_cell_14_layer_call_fn, lstm_cell_14_layer_call_and_return_conditional_losses, lstm_cell_15_layer_call_fn, lstm_cell_15_layer_call_and_return_conditional_losses while saving (showing 4 of 4). These functions will not be directly callable after loading.\n"
          ]
        },
        {
          "output_type": "stream",
          "name": "stdout",
          "text": [
            "INFO:tensorflow:Assets written to: /content/drive/MyDrive/speech-emotion-recognition-ravdess-data/speech_model_wo_kfold_1moreConv.tf/assets\n"
          ]
        },
        {
          "output_type": "stream",
          "name": "stderr",
          "text": [
            "INFO:tensorflow:Assets written to: /content/drive/MyDrive/speech-emotion-recognition-ravdess-data/speech_model_wo_kfold_1moreConv.tf/assets\n",
            "WARNING:absl:<keras.layers.recurrent.LSTMCell object at 0x7f968fe12490> has the same name 'LSTMCell' as a built-in Keras object. Consider renaming <class 'keras.layers.recurrent.LSTMCell'> to avoid naming conflicts when loading with `tf.keras.models.load_model`. If renaming is not possible, pass the object in the `custom_objects` parameter of the load function.\n",
            "WARNING:absl:<keras.layers.recurrent.LSTMCell object at 0x7f96927d8890> has the same name 'LSTMCell' as a built-in Keras object. Consider renaming <class 'keras.layers.recurrent.LSTMCell'> to avoid naming conflicts when loading with `tf.keras.models.load_model`. If renaming is not possible, pass the object in the `custom_objects` parameter of the load function.\n"
          ]
        },
        {
          "output_type": "stream",
          "name": "stdout",
          "text": [
            "\b\b\b\b\b\b\b\b\b\b\b\b\b\b\b\b\b\b\b\b\b\b\b\b\b\b\b\b\b\b\b\b\b\b\b\b\b\b\b\b\b\b\b\b\b\b\b\b\b\b\b\b\b\b\b\b\b\b\b\b\b\b\b\b\b\b\b\b\b\b\b\b\b\b\b\b\b\b\b\b\b\b\r48/48 [==============================] - 33s 695ms/step - loss: 0.0965 - accuracy: 0.9726 - val_loss: 2.0224 - val_accuracy: 0.6508 - lr: 0.0010\n",
            "Epoch 33/60\n",
            "48/48 [==============================] - 21s 434ms/step - loss: 0.1398 - accuracy: 0.9561 - val_loss: 2.0033 - val_accuracy: 0.6212 - lr: 0.0010\n",
            "Epoch 34/60\n",
            "48/48 [==============================] - 21s 433ms/step - loss: 0.1885 - accuracy: 0.9363 - val_loss: 1.8557 - val_accuracy: 0.6320 - lr: 0.0010\n",
            "Epoch 35/60\n",
            "48/48 [==============================] - 21s 439ms/step - loss: 0.1125 - accuracy: 0.9670 - val_loss: 1.9044 - val_accuracy: 0.6350 - lr: 0.0010\n",
            "Epoch 36/60\n",
            "48/48 [==============================] - 21s 436ms/step - loss: 0.1306 - accuracy: 0.9561 - val_loss: 1.9466 - val_accuracy: 0.6231 - lr: 0.0010\n",
            "Epoch 37/60\n",
            "48/48 [==============================] - 21s 440ms/step - loss: 0.1534 - accuracy: 0.9561 - val_loss: 1.7030 - val_accuracy: 0.6380 - lr: 0.0010\n",
            "Epoch 38/60\n",
            "48/48 [==============================] - 21s 437ms/step - loss: 0.1028 - accuracy: 0.9637 - val_loss: 1.9600 - val_accuracy: 0.6251 - lr: 0.0010\n"
          ]
        }
      ]
    },
    {
      "cell_type": "code",
      "source": [
        "history = tf.keras.models.load_model(\"/content/drive/MyDrive/speech-emotion-recognition-ravdess-data/speech_model_wo_kfold_1moreConv.tf\")\n",
        "\n",
        "earlyStopping_1 = EarlyStopping(monitor='val_loss', patience=6, verbose=0, mode='min')\n",
        "mcp_save_3 = ModelCheckpoint('/content/drive/MyDrive/speech-emotion-recognition-ravdess-data/speech_model_wo_kfold_1moreConv.tf', save_best_only=True, monitor='val_loss', \n",
        "                           mode='min', save_freq='epoch')\n",
        "reduce_val_loss = ReduceLROnPlateau(monitor='val_loss', factor=0.1, patience=6, verbose=0, mode='min')\n",
        "\n",
        "history = model.fit(x_train, y_train, batch_size=64, epochs=eps, validation_data=(x_test, y_test), callbacks=[earlyStopping_1, mcp_save_3, reduce_val_loss])"
      ],
      "metadata": {
        "id": "7fyDo-aoPzKt",
        "colab": {
          "base_uri": "https://localhost:8080/"
        },
        "outputId": "2be83482-b106-4b42-e146-adca08ff694d"
      },
      "execution_count": null,
      "outputs": [
        {
          "output_type": "stream",
          "name": "stdout",
          "text": [
            "Epoch 1/60\n",
            "48/48 [==============================] - ETA: 0s - loss: 0.0702 - accuracy: 0.9802"
          ]
        },
        {
          "output_type": "stream",
          "name": "stderr",
          "text": [
            "WARNING:absl:Found untraced functions such as lstm_cell_14_layer_call_fn, lstm_cell_14_layer_call_and_return_conditional_losses, lstm_cell_15_layer_call_fn, lstm_cell_15_layer_call_and_return_conditional_losses while saving (showing 4 of 4). These functions will not be directly callable after loading.\n"
          ]
        },
        {
          "output_type": "stream",
          "name": "stdout",
          "text": [
            "INFO:tensorflow:Assets written to: /content/drive/MyDrive/speech-emotion-recognition-ravdess-data/speech_model_wo_kfold_1moreConv.tf/assets\n"
          ]
        },
        {
          "output_type": "stream",
          "name": "stderr",
          "text": [
            "INFO:tensorflow:Assets written to: /content/drive/MyDrive/speech-emotion-recognition-ravdess-data/speech_model_wo_kfold_1moreConv.tf/assets\n",
            "WARNING:absl:<keras.layers.recurrent.LSTMCell object at 0x7f968fe12490> has the same name 'LSTMCell' as a built-in Keras object. Consider renaming <class 'keras.layers.recurrent.LSTMCell'> to avoid naming conflicts when loading with `tf.keras.models.load_model`. If renaming is not possible, pass the object in the `custom_objects` parameter of the load function.\n",
            "WARNING:absl:<keras.layers.recurrent.LSTMCell object at 0x7f96927d8890> has the same name 'LSTMCell' as a built-in Keras object. Consider renaming <class 'keras.layers.recurrent.LSTMCell'> to avoid naming conflicts when loading with `tf.keras.models.load_model`. If renaming is not possible, pass the object in the `custom_objects` parameter of the load function.\n"
          ]
        },
        {
          "output_type": "stream",
          "name": "stdout",
          "text": [
            "\b\b\b\b\b\b\b\b\b\b\b\b\b\b\b\b\b\b\b\b\b\b\b\b\b\b\b\b\b\b\b\b\b\b\b\b\b\b\b\b\b\b\b\b\b\b\b\b\b\b\b\b\b\b\b\b\b\b\b\b\b\b\b\b\b\b\b\b\b\b\b\b\b\b\b\b\b\b\b\b\b\b\r48/48 [==============================] - 33s 699ms/step - loss: 0.0702 - accuracy: 0.9802 - val_loss: 1.8939 - val_accuracy: 0.6320 - lr: 1.0000e-04\n",
            "Epoch 2/60\n",
            "48/48 [==============================] - ETA: 0s - loss: 0.0409 - accuracy: 0.9908"
          ]
        },
        {
          "output_type": "stream",
          "name": "stderr",
          "text": [
            "WARNING:absl:Found untraced functions such as lstm_cell_14_layer_call_fn, lstm_cell_14_layer_call_and_return_conditional_losses, lstm_cell_15_layer_call_fn, lstm_cell_15_layer_call_and_return_conditional_losses while saving (showing 4 of 4). These functions will not be directly callable after loading.\n"
          ]
        },
        {
          "output_type": "stream",
          "name": "stdout",
          "text": [
            "INFO:tensorflow:Assets written to: /content/drive/MyDrive/speech-emotion-recognition-ravdess-data/speech_model_wo_kfold_1moreConv.tf/assets\n"
          ]
        },
        {
          "output_type": "stream",
          "name": "stderr",
          "text": [
            "INFO:tensorflow:Assets written to: /content/drive/MyDrive/speech-emotion-recognition-ravdess-data/speech_model_wo_kfold_1moreConv.tf/assets\n",
            "WARNING:absl:<keras.layers.recurrent.LSTMCell object at 0x7f968fe12490> has the same name 'LSTMCell' as a built-in Keras object. Consider renaming <class 'keras.layers.recurrent.LSTMCell'> to avoid naming conflicts when loading with `tf.keras.models.load_model`. If renaming is not possible, pass the object in the `custom_objects` parameter of the load function.\n",
            "WARNING:absl:<keras.layers.recurrent.LSTMCell object at 0x7f96927d8890> has the same name 'LSTMCell' as a built-in Keras object. Consider renaming <class 'keras.layers.recurrent.LSTMCell'> to avoid naming conflicts when loading with `tf.keras.models.load_model`. If renaming is not possible, pass the object in the `custom_objects` parameter of the load function.\n"
          ]
        },
        {
          "output_type": "stream",
          "name": "stdout",
          "text": [
            "\b\b\b\b\b\b\b\b\b\b\b\b\b\b\b\b\b\b\b\b\b\b\b\b\b\b\b\b\b\b\b\b\b\b\b\b\b\b\b\b\b\b\b\b\b\b\b\b\b\b\b\b\b\b\b\b\b\b\b\b\b\b\b\b\b\b\b\b\b\b\b\b\b\b\b\b\b\b\b\b\b\b\r48/48 [==============================] - 32s 680ms/step - loss: 0.0409 - accuracy: 0.9908 - val_loss: 1.8596 - val_accuracy: 0.6479 - lr: 1.0000e-04\n",
            "Epoch 3/60\n",
            "48/48 [==============================] - 21s 433ms/step - loss: 0.0314 - accuracy: 0.9917 - val_loss: 1.8679 - val_accuracy: 0.6469 - lr: 1.0000e-04\n",
            "Epoch 4/60\n",
            "48/48 [==============================] - 22s 461ms/step - loss: 0.0293 - accuracy: 0.9911 - val_loss: 1.8652 - val_accuracy: 0.6508 - lr: 1.0000e-04\n",
            "Epoch 5/60\n",
            "48/48 [==============================] - 21s 439ms/step - loss: 0.0304 - accuracy: 0.9917 - val_loss: 1.8783 - val_accuracy: 0.6528 - lr: 1.0000e-04\n",
            "Epoch 6/60\n",
            "48/48 [==============================] - 21s 436ms/step - loss: 0.0219 - accuracy: 0.9964 - val_loss: 1.8985 - val_accuracy: 0.6558 - lr: 1.0000e-04\n",
            "Epoch 7/60\n",
            "48/48 [==============================] - 21s 435ms/step - loss: 0.0210 - accuracy: 0.9941 - val_loss: 1.9007 - val_accuracy: 0.6657 - lr: 1.0000e-04\n",
            "Epoch 8/60\n",
            "48/48 [==============================] - 21s 436ms/step - loss: 0.0244 - accuracy: 0.9941 - val_loss: 1.9165 - val_accuracy: 0.6558 - lr: 1.0000e-04\n"
          ]
        }
      ]
    },
    {
      "cell_type": "code",
      "source": [
        "earlyStopping_2 = EarlyStopping(monitor='val_accuracy', patience=6, verbose=0, mode='max')\n",
        "mcp_save_4 = ModelCheckpoint('/content/drive/MyDrive/speech-emotion-recognition-ravdess-data/speech_model_wo_kfold_1moreConv.tf', save_best_only=True, monitor='val_accuracy', \n",
        "                           mode='max', save_freq='epoch')\n",
        "increase_val_acc = ReduceLROnPlateau(monitor='val_accuracy', factor=0.1, patience=6, verbose=0, mode='max')\n",
        "history = model.fit(x_train, y_train, batch_size=64, epochs=eps, validation_data=(x_test, y_test), callbacks=[earlyStopping_2, mcp_save_4, increase_val_acc])"
      ],
      "metadata": {
        "id": "vDoaKbDhB7YS",
        "colab": {
          "base_uri": "https://localhost:8080/"
        },
        "outputId": "f3c9be89-d75f-4d4e-a6cf-af2d1f3d0176"
      },
      "execution_count": null,
      "outputs": [
        {
          "output_type": "stream",
          "name": "stdout",
          "text": [
            "Epoch 1/60\n",
            "48/48 [==============================] - ETA: 0s - loss: 0.0144 - accuracy: 0.9977"
          ]
        },
        {
          "output_type": "stream",
          "name": "stderr",
          "text": [
            "WARNING:absl:Found untraced functions such as lstm_cell_14_layer_call_fn, lstm_cell_14_layer_call_and_return_conditional_losses, lstm_cell_15_layer_call_fn, lstm_cell_15_layer_call_and_return_conditional_losses while saving (showing 4 of 4). These functions will not be directly callable after loading.\n"
          ]
        },
        {
          "output_type": "stream",
          "name": "stdout",
          "text": [
            "INFO:tensorflow:Assets written to: /content/drive/MyDrive/speech-emotion-recognition-ravdess-data/speech_model_wo_kfold_1moreConv.tf/assets\n"
          ]
        },
        {
          "output_type": "stream",
          "name": "stderr",
          "text": [
            "INFO:tensorflow:Assets written to: /content/drive/MyDrive/speech-emotion-recognition-ravdess-data/speech_model_wo_kfold_1moreConv.tf/assets\n",
            "WARNING:absl:<keras.layers.recurrent.LSTMCell object at 0x7f968fe12490> has the same name 'LSTMCell' as a built-in Keras object. Consider renaming <class 'keras.layers.recurrent.LSTMCell'> to avoid naming conflicts when loading with `tf.keras.models.load_model`. If renaming is not possible, pass the object in the `custom_objects` parameter of the load function.\n",
            "WARNING:absl:<keras.layers.recurrent.LSTMCell object at 0x7f96927d8890> has the same name 'LSTMCell' as a built-in Keras object. Consider renaming <class 'keras.layers.recurrent.LSTMCell'> to avoid naming conflicts when loading with `tf.keras.models.load_model`. If renaming is not possible, pass the object in the `custom_objects` parameter of the load function.\n"
          ]
        },
        {
          "output_type": "stream",
          "name": "stdout",
          "text": [
            "\b\b\b\b\b\b\b\b\b\b\b\b\b\b\b\b\b\b\b\b\b\b\b\b\b\b\b\b\b\b\b\b\b\b\b\b\b\b\b\b\b\b\b\b\b\b\b\b\b\b\b\b\b\b\b\b\b\b\b\b\b\b\b\b\b\b\b\b\b\b\b\b\b\b\b\b\b\b\b\b\b\b\r48/48 [==============================] - 34s 711ms/step - loss: 0.0144 - accuracy: 0.9977 - val_loss: 1.9178 - val_accuracy: 0.6597 - lr: 1.0000e-05\n",
            "Epoch 2/60\n",
            "48/48 [==============================] - ETA: 0s - loss: 0.0206 - accuracy: 0.9957"
          ]
        },
        {
          "output_type": "stream",
          "name": "stderr",
          "text": [
            "WARNING:absl:Found untraced functions such as lstm_cell_14_layer_call_fn, lstm_cell_14_layer_call_and_return_conditional_losses, lstm_cell_15_layer_call_fn, lstm_cell_15_layer_call_and_return_conditional_losses while saving (showing 4 of 4). These functions will not be directly callable after loading.\n"
          ]
        },
        {
          "output_type": "stream",
          "name": "stdout",
          "text": [
            "INFO:tensorflow:Assets written to: /content/drive/MyDrive/speech-emotion-recognition-ravdess-data/speech_model_wo_kfold_1moreConv.tf/assets\n"
          ]
        },
        {
          "output_type": "stream",
          "name": "stderr",
          "text": [
            "INFO:tensorflow:Assets written to: /content/drive/MyDrive/speech-emotion-recognition-ravdess-data/speech_model_wo_kfold_1moreConv.tf/assets\n",
            "WARNING:absl:<keras.layers.recurrent.LSTMCell object at 0x7f968fe12490> has the same name 'LSTMCell' as a built-in Keras object. Consider renaming <class 'keras.layers.recurrent.LSTMCell'> to avoid naming conflicts when loading with `tf.keras.models.load_model`. If renaming is not possible, pass the object in the `custom_objects` parameter of the load function.\n",
            "WARNING:absl:<keras.layers.recurrent.LSTMCell object at 0x7f96927d8890> has the same name 'LSTMCell' as a built-in Keras object. Consider renaming <class 'keras.layers.recurrent.LSTMCell'> to avoid naming conflicts when loading with `tf.keras.models.load_model`. If renaming is not possible, pass the object in the `custom_objects` parameter of the load function.\n"
          ]
        },
        {
          "output_type": "stream",
          "name": "stdout",
          "text": [
            "\b\b\b\b\b\b\b\b\b\b\b\b\b\b\b\b\b\b\b\b\b\b\b\b\b\b\b\b\b\b\b\b\b\b\b\b\b\b\b\b\b\b\b\b\b\b\b\b\b\b\b\b\b\b\b\b\b\b\b\b\b\b\b\b\b\b\b\b\b\b\b\b\b\b\b\b\b\b\b\b\b\b\r48/48 [==============================] - 33s 685ms/step - loss: 0.0206 - accuracy: 0.9957 - val_loss: 1.9193 - val_accuracy: 0.6607 - lr: 1.0000e-05\n",
            "Epoch 3/60\n",
            "48/48 [==============================] - 20s 428ms/step - loss: 0.0199 - accuracy: 0.9944 - val_loss: 1.9230 - val_accuracy: 0.6597 - lr: 1.0000e-05\n",
            "Epoch 4/60\n",
            "48/48 [==============================] - 21s 429ms/step - loss: 0.0187 - accuracy: 0.9957 - val_loss: 1.9249 - val_accuracy: 0.6607 - lr: 1.0000e-05\n",
            "Epoch 5/60\n",
            "48/48 [==============================] - 20s 421ms/step - loss: 0.0184 - accuracy: 0.9950 - val_loss: 1.9267 - val_accuracy: 0.6607 - lr: 1.0000e-05\n",
            "Epoch 6/60\n",
            "48/48 [==============================] - ETA: 0s - loss: 0.0155 - accuracy: 0.9970"
          ]
        },
        {
          "output_type": "stream",
          "name": "stderr",
          "text": [
            "WARNING:absl:Found untraced functions such as lstm_cell_14_layer_call_fn, lstm_cell_14_layer_call_and_return_conditional_losses, lstm_cell_15_layer_call_fn, lstm_cell_15_layer_call_and_return_conditional_losses while saving (showing 4 of 4). These functions will not be directly callable after loading.\n"
          ]
        },
        {
          "output_type": "stream",
          "name": "stdout",
          "text": [
            "INFO:tensorflow:Assets written to: /content/drive/MyDrive/speech-emotion-recognition-ravdess-data/speech_model_wo_kfold_1moreConv.tf/assets\n"
          ]
        },
        {
          "output_type": "stream",
          "name": "stderr",
          "text": [
            "INFO:tensorflow:Assets written to: /content/drive/MyDrive/speech-emotion-recognition-ravdess-data/speech_model_wo_kfold_1moreConv.tf/assets\n",
            "WARNING:absl:<keras.layers.recurrent.LSTMCell object at 0x7f968fe12490> has the same name 'LSTMCell' as a built-in Keras object. Consider renaming <class 'keras.layers.recurrent.LSTMCell'> to avoid naming conflicts when loading with `tf.keras.models.load_model`. If renaming is not possible, pass the object in the `custom_objects` parameter of the load function.\n",
            "WARNING:absl:<keras.layers.recurrent.LSTMCell object at 0x7f96927d8890> has the same name 'LSTMCell' as a built-in Keras object. Consider renaming <class 'keras.layers.recurrent.LSTMCell'> to avoid naming conflicts when loading with `tf.keras.models.load_model`. If renaming is not possible, pass the object in the `custom_objects` parameter of the load function.\n"
          ]
        },
        {
          "output_type": "stream",
          "name": "stdout",
          "text": [
            "\b\b\b\b\b\b\b\b\b\b\b\b\b\b\b\b\b\b\b\b\b\b\b\b\b\b\b\b\b\b\b\b\b\b\b\b\b\b\b\b\b\b\b\b\b\b\b\b\b\b\b\b\b\b\b\b\b\b\b\b\b\b\b\b\b\b\b\b\b\b\b\b\b\b\b\b\b\b\b\b\b\b\r48/48 [==============================] - 32s 679ms/step - loss: 0.0155 - accuracy: 0.9970 - val_loss: 1.9277 - val_accuracy: 0.6627 - lr: 1.0000e-05\n",
            "Epoch 7/60\n",
            "48/48 [==============================] - ETA: 0s - loss: 0.0162 - accuracy: 0.9964"
          ]
        },
        {
          "output_type": "stream",
          "name": "stderr",
          "text": [
            "WARNING:absl:Found untraced functions such as lstm_cell_14_layer_call_fn, lstm_cell_14_layer_call_and_return_conditional_losses, lstm_cell_15_layer_call_fn, lstm_cell_15_layer_call_and_return_conditional_losses while saving (showing 4 of 4). These functions will not be directly callable after loading.\n"
          ]
        },
        {
          "output_type": "stream",
          "name": "stdout",
          "text": [
            "INFO:tensorflow:Assets written to: /content/drive/MyDrive/speech-emotion-recognition-ravdess-data/speech_model_wo_kfold_1moreConv.tf/assets\n"
          ]
        },
        {
          "output_type": "stream",
          "name": "stderr",
          "text": [
            "INFO:tensorflow:Assets written to: /content/drive/MyDrive/speech-emotion-recognition-ravdess-data/speech_model_wo_kfold_1moreConv.tf/assets\n",
            "WARNING:absl:<keras.layers.recurrent.LSTMCell object at 0x7f968fe12490> has the same name 'LSTMCell' as a built-in Keras object. Consider renaming <class 'keras.layers.recurrent.LSTMCell'> to avoid naming conflicts when loading with `tf.keras.models.load_model`. If renaming is not possible, pass the object in the `custom_objects` parameter of the load function.\n",
            "WARNING:absl:<keras.layers.recurrent.LSTMCell object at 0x7f96927d8890> has the same name 'LSTMCell' as a built-in Keras object. Consider renaming <class 'keras.layers.recurrent.LSTMCell'> to avoid naming conflicts when loading with `tf.keras.models.load_model`. If renaming is not possible, pass the object in the `custom_objects` parameter of the load function.\n"
          ]
        },
        {
          "output_type": "stream",
          "name": "stdout",
          "text": [
            "\b\b\b\b\b\b\b\b\b\b\b\b\b\b\b\b\b\b\b\b\b\b\b\b\b\b\b\b\b\b\b\b\b\b\b\b\b\b\b\b\b\b\b\b\b\b\b\b\b\b\b\b\b\b\b\b\b\b\b\b\b\b\b\b\b\b\b\b\b\b\b\b\b\b\b\b\b\b\b\b\b\b\r48/48 [==============================] - 32s 680ms/step - loss: 0.0162 - accuracy: 0.9964 - val_loss: 1.9292 - val_accuracy: 0.6637 - lr: 1.0000e-05\n",
            "Epoch 8/60\n",
            "48/48 [==============================] - 21s 429ms/step - loss: 0.0171 - accuracy: 0.9964 - val_loss: 1.9295 - val_accuracy: 0.6597 - lr: 1.0000e-05\n",
            "Epoch 9/60\n",
            "48/48 [==============================] - 20s 426ms/step - loss: 0.0150 - accuracy: 0.9964 - val_loss: 1.9317 - val_accuracy: 0.6607 - lr: 1.0000e-05\n",
            "Epoch 10/60\n",
            "48/48 [==============================] - 22s 466ms/step - loss: 0.0153 - accuracy: 0.9950 - val_loss: 1.9337 - val_accuracy: 0.6597 - lr: 1.0000e-05\n",
            "Epoch 11/60\n",
            "48/48 [==============================] - 21s 428ms/step - loss: 0.0150 - accuracy: 0.9964 - val_loss: 1.9348 - val_accuracy: 0.6627 - lr: 1.0000e-05\n",
            "Epoch 12/60\n",
            "48/48 [==============================] - 21s 431ms/step - loss: 0.0142 - accuracy: 0.9983 - val_loss: 1.9384 - val_accuracy: 0.6617 - lr: 1.0000e-05\n",
            "Epoch 13/60\n",
            "48/48 [==============================] - 20s 426ms/step - loss: 0.0122 - accuracy: 0.9983 - val_loss: 1.9414 - val_accuracy: 0.6627 - lr: 1.0000e-05\n"
          ]
        }
      ]
    },
    {
      "cell_type": "code",
      "source": [
        "# predicting on test data.\n",
        "pred_test = model.predict(x_test)\n",
        "y_pred = encoder.inverse_transform(pred_test)\n",
        "\n",
        "y_test_ = encoder.inverse_transform(y_test)"
      ],
      "metadata": {
        "id": "hfXIzic1fxGd"
      },
      "execution_count": null,
      "outputs": []
    },
    {
      "cell_type": "code",
      "source": [
        "df = pd.DataFrame(columns=['Predicted Labels', 'Actual Labels'])\n",
        "df['Predicted Labels'] = y_pred.flatten()\n",
        "df['Actual Labels'] = y_test_.flatten()\n",
        "\n",
        "df"
      ],
      "metadata": {
        "id": "enKI2bejfz8Q",
        "colab": {
          "base_uri": "https://localhost:8080/",
          "height": 424
        },
        "outputId": "f1166fee-742f-4387-a762-4e58b0bfa502"
      },
      "execution_count": null,
      "outputs": [
        {
          "output_type": "execute_result",
          "data": {
            "text/plain": [
              "     Predicted Labels Actual Labels\n",
              "0               angry       disgust\n",
              "1           surprised         angry\n",
              "2                 sad           sad\n",
              "3                 sad           sad\n",
              "4                calm          calm\n",
              "...               ...           ...\n",
              "1006          disgust       disgust\n",
              "1007             calm          calm\n",
              "1008          fearful       fearful\n",
              "1009          disgust         angry\n",
              "1010          disgust          calm\n",
              "\n",
              "[1011 rows x 2 columns]"
            ],
            "text/html": [
              "\n",
              "  <div id=\"df-9128bde8-cb95-4dda-9621-dcf8c9d5d240\">\n",
              "    <div class=\"colab-df-container\">\n",
              "      <div>\n",
              "<style scoped>\n",
              "    .dataframe tbody tr th:only-of-type {\n",
              "        vertical-align: middle;\n",
              "    }\n",
              "\n",
              "    .dataframe tbody tr th {\n",
              "        vertical-align: top;\n",
              "    }\n",
              "\n",
              "    .dataframe thead th {\n",
              "        text-align: right;\n",
              "    }\n",
              "</style>\n",
              "<table border=\"1\" class=\"dataframe\">\n",
              "  <thead>\n",
              "    <tr style=\"text-align: right;\">\n",
              "      <th></th>\n",
              "      <th>Predicted Labels</th>\n",
              "      <th>Actual Labels</th>\n",
              "    </tr>\n",
              "  </thead>\n",
              "  <tbody>\n",
              "    <tr>\n",
              "      <th>0</th>\n",
              "      <td>angry</td>\n",
              "      <td>disgust</td>\n",
              "    </tr>\n",
              "    <tr>\n",
              "      <th>1</th>\n",
              "      <td>surprised</td>\n",
              "      <td>angry</td>\n",
              "    </tr>\n",
              "    <tr>\n",
              "      <th>2</th>\n",
              "      <td>sad</td>\n",
              "      <td>sad</td>\n",
              "    </tr>\n",
              "    <tr>\n",
              "      <th>3</th>\n",
              "      <td>sad</td>\n",
              "      <td>sad</td>\n",
              "    </tr>\n",
              "    <tr>\n",
              "      <th>4</th>\n",
              "      <td>calm</td>\n",
              "      <td>calm</td>\n",
              "    </tr>\n",
              "    <tr>\n",
              "      <th>...</th>\n",
              "      <td>...</td>\n",
              "      <td>...</td>\n",
              "    </tr>\n",
              "    <tr>\n",
              "      <th>1006</th>\n",
              "      <td>disgust</td>\n",
              "      <td>disgust</td>\n",
              "    </tr>\n",
              "    <tr>\n",
              "      <th>1007</th>\n",
              "      <td>calm</td>\n",
              "      <td>calm</td>\n",
              "    </tr>\n",
              "    <tr>\n",
              "      <th>1008</th>\n",
              "      <td>fearful</td>\n",
              "      <td>fearful</td>\n",
              "    </tr>\n",
              "    <tr>\n",
              "      <th>1009</th>\n",
              "      <td>disgust</td>\n",
              "      <td>angry</td>\n",
              "    </tr>\n",
              "    <tr>\n",
              "      <th>1010</th>\n",
              "      <td>disgust</td>\n",
              "      <td>calm</td>\n",
              "    </tr>\n",
              "  </tbody>\n",
              "</table>\n",
              "<p>1011 rows × 2 columns</p>\n",
              "</div>\n",
              "      <button class=\"colab-df-convert\" onclick=\"convertToInteractive('df-9128bde8-cb95-4dda-9621-dcf8c9d5d240')\"\n",
              "              title=\"Convert this dataframe to an interactive table.\"\n",
              "              style=\"display:none;\">\n",
              "        \n",
              "  <svg xmlns=\"http://www.w3.org/2000/svg\" height=\"24px\"viewBox=\"0 0 24 24\"\n",
              "       width=\"24px\">\n",
              "    <path d=\"M0 0h24v24H0V0z\" fill=\"none\"/>\n",
              "    <path d=\"M18.56 5.44l.94 2.06.94-2.06 2.06-.94-2.06-.94-.94-2.06-.94 2.06-2.06.94zm-11 1L8.5 8.5l.94-2.06 2.06-.94-2.06-.94L8.5 2.5l-.94 2.06-2.06.94zm10 10l.94 2.06.94-2.06 2.06-.94-2.06-.94-.94-2.06-.94 2.06-2.06.94z\"/><path d=\"M17.41 7.96l-1.37-1.37c-.4-.4-.92-.59-1.43-.59-.52 0-1.04.2-1.43.59L10.3 9.45l-7.72 7.72c-.78.78-.78 2.05 0 2.83L4 21.41c.39.39.9.59 1.41.59.51 0 1.02-.2 1.41-.59l7.78-7.78 2.81-2.81c.8-.78.8-2.07 0-2.86zM5.41 20L4 18.59l7.72-7.72 1.47 1.35L5.41 20z\"/>\n",
              "  </svg>\n",
              "      </button>\n",
              "      \n",
              "  <style>\n",
              "    .colab-df-container {\n",
              "      display:flex;\n",
              "      flex-wrap:wrap;\n",
              "      gap: 12px;\n",
              "    }\n",
              "\n",
              "    .colab-df-convert {\n",
              "      background-color: #E8F0FE;\n",
              "      border: none;\n",
              "      border-radius: 50%;\n",
              "      cursor: pointer;\n",
              "      display: none;\n",
              "      fill: #1967D2;\n",
              "      height: 32px;\n",
              "      padding: 0 0 0 0;\n",
              "      width: 32px;\n",
              "    }\n",
              "\n",
              "    .colab-df-convert:hover {\n",
              "      background-color: #E2EBFA;\n",
              "      box-shadow: 0px 1px 2px rgba(60, 64, 67, 0.3), 0px 1px 3px 1px rgba(60, 64, 67, 0.15);\n",
              "      fill: #174EA6;\n",
              "    }\n",
              "\n",
              "    [theme=dark] .colab-df-convert {\n",
              "      background-color: #3B4455;\n",
              "      fill: #D2E3FC;\n",
              "    }\n",
              "\n",
              "    [theme=dark] .colab-df-convert:hover {\n",
              "      background-color: #434B5C;\n",
              "      box-shadow: 0px 1px 3px 1px rgba(0, 0, 0, 0.15);\n",
              "      filter: drop-shadow(0px 1px 2px rgba(0, 0, 0, 0.3));\n",
              "      fill: #FFFFFF;\n",
              "    }\n",
              "  </style>\n",
              "\n",
              "      <script>\n",
              "        const buttonEl =\n",
              "          document.querySelector('#df-9128bde8-cb95-4dda-9621-dcf8c9d5d240 button.colab-df-convert');\n",
              "        buttonEl.style.display =\n",
              "          google.colab.kernel.accessAllowed ? 'block' : 'none';\n",
              "\n",
              "        async function convertToInteractive(key) {\n",
              "          const element = document.querySelector('#df-9128bde8-cb95-4dda-9621-dcf8c9d5d240');\n",
              "          const dataTable =\n",
              "            await google.colab.kernel.invokeFunction('convertToInteractive',\n",
              "                                                     [key], {});\n",
              "          if (!dataTable) return;\n",
              "\n",
              "          const docLinkHtml = 'Like what you see? Visit the ' +\n",
              "            '<a target=\"_blank\" href=https://colab.research.google.com/notebooks/data_table.ipynb>data table notebook</a>'\n",
              "            + ' to learn more about interactive tables.';\n",
              "          element.innerHTML = '';\n",
              "          dataTable['output_type'] = 'display_data';\n",
              "          await google.colab.output.renderOutput(dataTable, element);\n",
              "          const docLink = document.createElement('div');\n",
              "          docLink.innerHTML = docLinkHtml;\n",
              "          element.appendChild(docLink);\n",
              "        }\n",
              "      </script>\n",
              "    </div>\n",
              "  </div>\n",
              "  "
            ]
          },
          "metadata": {},
          "execution_count": 72
        }
      ]
    },
    {
      "cell_type": "code",
      "source": [
        "cm = confusion_matrix(y_test_, y_pred)\n",
        "plt.figure(figsize = (12, 10))\n",
        "cm = pd.DataFrame(cm , index = [i for i in encoder.categories_] , columns = [i for i in encoder.categories_])\n",
        "sns.heatmap(cm, linecolor='white', cmap='Blues', linewidth=1, annot=True, fmt='')\n",
        "plt.title('Confusion Matrix', size=20)\n",
        "plt.xlabel('Predicted Labels', size=14)\n",
        "plt.ylabel('Actual Labels', size=14)\n",
        "plt.show()"
      ],
      "metadata": {
        "id": "wOJYEGGMgFdq",
        "colab": {
          "base_uri": "https://localhost:8080/",
          "height": 630
        },
        "outputId": "2833eaf3-63c2-46f7-dbb4-aa031db24028"
      },
      "execution_count": null,
      "outputs": [
        {
          "output_type": "display_data",
          "data": {
            "text/plain": [
              "<Figure size 864x720 with 2 Axes>"
            ],
            "image/png": "[encoded data removed]"
          },
          "metadata": {
            "needs_background": "light"
          }
        }
      ]
    },
    {
      "cell_type": "code",
      "source": [
        "print(classification_report(y_test_, y_pred))"
      ],
      "metadata": {
        "id": "FT8bw-yMgRUu",
        "colab": {
          "base_uri": "https://localhost:8080/"
        },
        "outputId": "1282f568-ffbd-45c7-e01f-5b0e6cbf382d"
      },
      "execution_count": null,
      "outputs": [
        {
          "output_type": "stream",
          "name": "stdout",
          "text": [
            "              precision    recall  f1-score   support\n",
            "\n",
            "       angry       0.73      0.63      0.67       150\n",
            "        calm       0.82      0.83      0.83       156\n",
            "     disgust       0.59      0.60      0.59       139\n",
            "     fearful       0.72      0.62      0.66       143\n",
            "       happy       0.50      0.59      0.54       140\n",
            "         sad       0.70      0.66      0.68       143\n",
            "   surprised       0.61      0.69      0.65       140\n",
            "\n",
            "    accuracy                           0.66      1011\n",
            "   macro avg       0.67      0.66      0.66      1011\n",
            "weighted avg       0.67      0.66      0.66      1011\n",
            "\n"
          ]
        }
      ]
    },
    {
      "cell_type": "code",
      "source": [
        "#loaded_model = tf.keras.models.load_model(\"/content/drive/MyDrive/speech-emotion-recognition-ravdess-data/speech_model.tf\")\n",
        "#loaded_model = model.fit(x_train, y_train, epochs=5, validation_data=(x_test, y_test), callbacks=[rlrp])\n",
        "\n",
        "model.summary()"
      ],
      "metadata": {
        "id": "nFsBN19-dyQk",
        "colab": {
          "base_uri": "https://localhost:8080/"
        },
        "outputId": "9310fa30-9ae9-4760-a5b0-64943dac3dbc"
      },
      "execution_count": null,
      "outputs": [
        {
          "output_type": "stream",
          "name": "stdout",
          "text": [
            "Model: \"sequential_1\"\n",
            "_________________________________________________________________\n",
            " Layer (type)                Output Shape              Param #   \n",
            "=================================================================\n",
            " conv1d_5 (Conv1D)           (None, 162, 256)          1536      \n",
            "                                                                 \n",
            " max_pooling1d_5 (MaxPooling  (None, 81, 256)          0         \n",
            " 1D)                                                             \n",
            "                                                                 \n",
            " conv1d_6 (Conv1D)           (None, 81, 256)           327936    \n",
            "                                                                 \n",
            " max_pooling1d_6 (MaxPooling  (None, 41, 256)          0         \n",
            " 1D)                                                             \n",
            "                                                                 \n",
            " conv1d_7 (Conv1D)           (None, 41, 128)           163968    \n",
            "                                                                 \n",
            " max_pooling1d_7 (MaxPooling  (None, 21, 128)          0         \n",
            " 1D)                                                             \n",
            "                                                                 \n",
            " dropout_2 (Dropout)         (None, 21, 128)           0         \n",
            "                                                                 \n",
            " conv1d_8 (Conv1D)           (None, 21, 64)            41024     \n",
            "                                                                 \n",
            " max_pooling1d_8 (MaxPooling  (None, 11, 64)           0         \n",
            " 1D)                                                             \n",
            "                                                                 \n",
            " conv1d_9 (Conv1D)           (None, 11, 32)            10272     \n",
            "                                                                 \n",
            " max_pooling1d_9 (MaxPooling  (None, 6, 32)            0         \n",
            " 1D)                                                             \n",
            "                                                                 \n",
            " lstm_2 (LSTM)               (None, 6, 128)            82432     \n",
            "                                                                 \n",
            " lstm_3 (LSTM)               (None, 128)               131584    \n",
            "                                                                 \n",
            " dense_2 (Dense)             (None, 32)                4128      \n",
            "                                                                 \n",
            " dropout_3 (Dropout)         (None, 32)                0         \n",
            "                                                                 \n",
            " dense_3 (Dense)             (None, 7)                 231       \n",
            "                                                                 \n",
            "=================================================================\n",
            "Total params: 763,111\n",
            "Trainable params: 763,111\n",
            "Non-trainable params: 0\n",
            "_________________________________________________________________\n"
          ]
        }
      ]
    }
  ]
}