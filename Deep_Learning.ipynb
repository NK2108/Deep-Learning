{
  "nbformat": 4,
  "nbformat_minor": 0,
  "metadata": {
    "colab": {
      "name": "Deep Learning.ipynb",
      "provenance": [],
      "collapsed_sections": [],
      "mount_file_id": "17peKjk6G2NpRltjZ7AkbZUySD_KbUU3v",
      "authorship_tag": "ABX9TyNDVFutJAo1AEe6dadvcYq/",
      "include_colab_link": true
    },
    "kernelspec": {
      "name": "python3",
      "display_name": "Python 3"
    },
    "language_info": {
      "name": "python"
    }
  },
  "cells": [
    {
      "cell_type": "markdown",
      "metadata": {
        "id": "view-in-github",
        "colab_type": "text"
      },
      "source": [
        "<a href=\"https://colab.research.google.com/github/NK2108/Deep-Learning/blob/main/Deep_Learning.ipynb\" target=\"_parent\"><img src=\"https://colab.research.google.com/assets/colab-badge.svg\" alt=\"Open In Colab\"/></a>"
      ]
    },
    {
      "cell_type": "markdown",
      "source": [
        "Deep Learning Project by Aris Kalokuris and Nikolas Katsimpras!"
      ],
      "metadata": {
        "id": "VgCKLnFl2z9n"
      }
    },
    {
      "cell_type": "code",
      "source": [
        "import librosa\n",
        "import numpy as np\n",
        "from glob import glob\n",
        "from sklearn.model_selection import train_test_split\n",
        "from sklearn.metrics import accuracy_score\n",
        "import os\n",
        "import pandas as pd\n",
        "from google.colab import drive\n",
        "import matplotlib.pyplot as plt\n"
      ],
      "metadata": {
        "id": "ylEOR4yknFyR"
      },
      "execution_count": 1,
      "outputs": []
    },
    {
      "cell_type": "code",
      "source": [
        "from google.colab import drive\n",
        "drive.mount('/content/drive')"
      ],
      "metadata": {
        "id": "MbmKzo6dvdm7",
        "colab": {
          "base_uri": "https://localhost:8080/"
        },
        "outputId": "deb81b60-c050-445e-efa9-3c20d9df6494"
      },
      "execution_count": 2,
      "outputs": [
        {
          "output_type": "stream",
          "name": "stdout",
          "text": [
            "Drive already mounted at /content/drive; to attempt to forcibly remount, call drive.mount(\"/content/drive\", force_remount=True).\n"
          ]
        }
      ]
    },
    {
      "cell_type": "code",
      "source": [
        "emotions={\n",
        "  '01':'neutral',\n",
        "  '02':'calm',\n",
        "  '03':'happy',\n",
        "  '04':'sad',\n",
        "  '05':'angry',\n",
        "  '06':'fearful',\n",
        "  '07':'disgust',\n",
        "  '08':'surprised'\n",
        "}"
      ],
      "metadata": {
        "id": "_BjT-pYoinCs"
      },
      "execution_count": 3,
      "outputs": []
    },
    {
      "cell_type": "code",
      "source": [
        "# run this cell if you want to redo the mfcc analysis and feeature creation\n",
        "# you can skip this and load the ready data\n",
        "#\n",
        "# here we exract the mfcc information for 3.1 sec with 0.5 sec offset\n",
        "file_emotion=[]\n",
        "npdata=np.ndarray(shape=(0,224,20),dtype=float)\n",
        "for smpl in (glob('drive/MyDrive/Samples/samples/*.wav')):  \n",
        "  y, sr = librosa.load(smpl, offset=0.5,duration=2.6 )\n",
        "  mfcc_np =librosa.feature.mfcc(y=y, sr=sr,n_fft =512,hop_length =256).T\n",
        "  file_name=os.path.basename(smpl)\n",
        "  emotion=emotions[file_name.split(\"-\")[2]]\n",
        "  if (mfcc_np.shape[0])!=224:\n",
        "   npdat=np.zeros((224,20),float)\n",
        "   npdat[:mfcc_np.shape[0],:mfcc_np.shape[1]] =mfcc_np\n",
        "  else:\n",
        "    npdat=mfcc_np\n",
        "  npdat=np.reshape(npdat,(-1, 224,20))\n",
        "  npdata=np.append(npdata,npdat,axis=0)\n",
        "  file_emotion.append(emotion)\n",
        "#print(npdata.shape)\n",
        "#print(npdata[299])\n",
        "np.save(os.path.join('drive/MyDrive/Deep Learning', 'npdata'), npdata)\n",
        "np.save(os.path.join('drive/MyDrive/Deep Learning', 'file_emotion'), file_emotion)"
      ],
      "metadata": {
        "id": "O_Ir2iDdp_th"
      },
      "execution_count": 9,
      "outputs": []
    },
    {
      "cell_type": "code",
      "source": [
        "# load the prepared data\n",
        "npdata=np.load('drive/MyDrive/Deep Learning/npdata.npy')\n",
        "file_emotion=np.load('drive/MyDrive/Deep Learning/file_emotion.npy')"
      ],
      "metadata": {
        "id": "2gtiuxCH2Pvi"
      },
      "execution_count": 10,
      "outputs": []
    },
    {
      "cell_type": "markdown",
      "source": [
        "# New Section"
      ],
      "metadata": {
        "id": "-IFr1XqTLCdc"
      }
    },
    {
      "cell_type": "code",
      "source": [
        "import keras\n",
        "from keras.models import Sequential, load_model\n",
        "from keras.layers import Dense, Conv1D, MaxPooling1D, Flatten, Dropout, BatchNormalization,Conv2D,MaxPooling2D\n",
        "from sklearn.preprocessing import StandardScaler, OneHotEncoder\n",
        "model_001=Sequential()\n"
      ],
      "metadata": {
        "id": "uAt4D1aomvgR"
      },
      "execution_count": 11,
      "outputs": []
    },
    {
      "cell_type": "code",
      "source": [
        "from keras.layers import Activation\n",
        "from keras.regularizers import l2"
      ],
      "metadata": {
        "id": "pqpsn08nzKcm"
      },
      "execution_count": 12,
      "outputs": []
    },
    {
      "cell_type": "code",
      "source": [
        "model_001.add(Conv2D(32, (3,3),input_shape=(224,20,1),strides=(1,1), padding='same', activation='relu'))\n",
        "model_001.add(MaxPooling2D(pool_size=(2,2)))\n",
        "model_001.add(Conv2D(32, (3,3), padding='same', activation='relu'))\n",
        "model_001.add(MaxPooling2D(pool_size=(2,2)))\n",
        "model_001.add(Conv2D(32, (3,3), padding='same', activation='relu'))\n",
        "model_001.add(MaxPooling2D(pool_size=(2,2)))\n",
        "model_001.add(Flatten())\n",
        "#model_001.add(Dense(64, kernel_regularizer=l2(0.01), bias_regularizer=l2(0.01)))\n",
        "model_001.add(Dense(64))\n",
        "#model_001.add(Dropout(0.2 ))\n",
        "model_001.add(Activation('relu'))\n",
        "model_001.add(Dense(units=8, activation='softmax'))\n",
        "model_001.compile(optimizer = 'adam' , loss = 'categorical_crossentropy' , metrics = ['accuracy'])\n",
        "model_001.summary()"
      ],
      "metadata": {
        "id": "OtoD95SImymE",
        "colab": {
          "base_uri": "https://localhost:8080/"
        },
        "outputId": "3d3d2e62-f34b-49e1-836f-f7016678b66f"
      },
      "execution_count": null,
      "outputs": [
        {
          "output_type": "stream",
          "name": "stdout",
          "text": [
            "Model: \"sequential_2\"\n",
            "_________________________________________________________________\n",
            " Layer (type)                Output Shape              Param #   \n",
            "=================================================================\n",
            " conv2d_3 (Conv2D)           (None, 224, 20, 32)       320       \n",
            "                                                                 \n",
            " max_pooling2d_3 (MaxPooling  (None, 112, 10, 32)      0         \n",
            " 2D)                                                             \n",
            "                                                                 \n",
            " conv2d_4 (Conv2D)           (None, 112, 10, 32)       9248      \n",
            "                                                                 \n",
            " max_pooling2d_4 (MaxPooling  (None, 56, 5, 32)        0         \n",
            " 2D)                                                             \n",
            "                                                                 \n",
            " conv2d_5 (Conv2D)           (None, 56, 5, 32)         9248      \n",
            "                                                                 \n",
            " max_pooling2d_5 (MaxPooling  (None, 28, 2, 32)        0         \n",
            " 2D)                                                             \n",
            "                                                                 \n",
            " flatten_1 (Flatten)         (None, 1792)              0         \n",
            "                                                                 \n",
            " dense_2 (Dense)             (None, 64)                114752    \n",
            "                                                                 \n",
            " activation_1 (Activation)   (None, 64)                0         \n",
            "                                                                 \n",
            " dense_3 (Dense)             (None, 8)                 520       \n",
            "                                                                 \n",
            "=================================================================\n",
            "Total params: 134,088\n",
            "Trainable params: 134,088\n",
            "Non-trainable params: 0\n",
            "_________________________________________________________________\n"
          ]
        }
      ]
    },
    {
      "cell_type": "code",
      "source": [
        "encoder = OneHotEncoder()\n",
        "Y = encoder.fit_transform(np.array(file_emotion).reshape(-1,1)).toarray()"
      ],
      "metadata": {
        "id": "fKQx2MKfW3rM"
      },
      "execution_count": 13,
      "outputs": []
    },
    {
      "cell_type": "code",
      "source": [
        "##remove # to resplit the train data and retrain the model\n",
        "#from sklearn.model_selection import train_test_split\n",
        "#x_train, x_test, y_train, y_test = train_test_split(npdata,Y , random_state=6, shuffle=True)\n",
        "#\n",
        "#np.save(os.path.join('drive/MyDrive/Deep Learning', 'x_train'), x_train)\n",
        "#np.save(os.path.join('drive/MyDrive/Deep Learning', 'y_train'), y_train)\n",
        "#np.save(os.path.join('drive/MyDrive/Deep Learning', 'x_test'), x_test)\n",
        "#np.save(os.path.join('drive/MyDrive/Deep Learning', 'y_test'), y_test)\n",
        "\n",
        "x_train=np.load('drive/MyDrive/Deep Learning/x_train.npy')\n",
        "y_train=np.load('drive/MyDrive/Deep Learning/y_train.npy')\n",
        "x_test=np.load('drive/MyDrive/Deep Learning/x_test.npy')\n",
        "y_test=np.load('drive/MyDrive/Deep Learning/y_test.npy')\n"
      ],
      "metadata": {
        "id": "tvYf1g1BP_4h"
      },
      "execution_count": 14,
      "outputs": []
    },
    {
      "cell_type": "code",
      "source": [
        "len( x_train),len(  y_train),len(  x_test),len(  y_test)"
      ],
      "metadata": {
        "colab": {
          "base_uri": "https://localhost:8080/"
        },
        "id": "w17NMc6rQquX",
        "outputId": "59b1576a-3aae-4f02-acc6-df152170a9ca"
      },
      "execution_count": 15,
      "outputs": [
        {
          "output_type": "execute_result",
          "data": {
            "text/plain": [
              "(1082, 1082, 361, 361)"
            ]
          },
          "metadata": {},
          "execution_count": 15
        }
      ]
    },
    {
      "cell_type": "code",
      "source": [
        "from keras.callbacks import ReduceLROnPlateau, EarlyStopping\n"
      ],
      "metadata": {
        "id": "Mq_1otZm4bmv"
      },
      "execution_count": 16,
      "outputs": []
    },
    {
      "cell_type": "code",
      "source": [
        "#\n",
        "# Run this cell if you want to retrain the model / or you have resplit the data\n",
        "\n",
        "eps=100\n",
        "rlrp = ReduceLROnPlateau(monitor='loss', factor=0.4, verbose=0, patience=3, min_lr=0.0000001)\n",
        "\n",
        "history001=model_001.fit(x_train, y_train, batch_size=64, epochs=eps, validation_data=(x_test, y_test))\n",
        "\n",
        "## or run the "
      ],
      "metadata": {
        "colab": {
          "base_uri": "https://localhost:8080/"
        },
        "id": "KmPppOZ02nuY",
        "outputId": "e9e8f255-ae11-4eab-c9fb-cd0b288c4a58"
      },
      "execution_count": 23,
      "outputs": [
        {
          "output_type": "stream",
          "name": "stdout",
          "text": [
            "Epoch 1/100\n",
            "17/17 [==============================] - 7s 369ms/step - loss: 1.1734 - accuracy: 0.7477 - val_loss: 2.5564 - val_accuracy: 0.5374\n",
            "Epoch 2/100\n",
            "17/17 [==============================] - 6s 369ms/step - loss: 0.2325 - accuracy: 0.9187 - val_loss: 2.4162 - val_accuracy: 0.5374\n",
            "Epoch 3/100\n",
            "17/17 [==============================] - 6s 363ms/step - loss: 0.0372 - accuracy: 0.9926 - val_loss: 2.7270 - val_accuracy: 0.5235\n",
            "Epoch 4/100\n",
            "17/17 [==============================] - 6s 360ms/step - loss: 0.0133 - accuracy: 1.0000 - val_loss: 2.5371 - val_accuracy: 0.5374\n",
            "Epoch 5/100\n",
            "17/17 [==============================] - 6s 357ms/step - loss: 0.0072 - accuracy: 1.0000 - val_loss: 2.5509 - val_accuracy: 0.5485\n",
            "Epoch 6/100\n",
            "17/17 [==============================] - 6s 358ms/step - loss: 0.0051 - accuracy: 1.0000 - val_loss: 2.5873 - val_accuracy: 0.5485\n",
            "Epoch 7/100\n",
            "17/17 [==============================] - 6s 359ms/step - loss: 0.0043 - accuracy: 1.0000 - val_loss: 2.6234 - val_accuracy: 0.5512\n",
            "Epoch 8/100\n",
            "17/17 [==============================] - 6s 368ms/step - loss: 0.0038 - accuracy: 1.0000 - val_loss: 2.6382 - val_accuracy: 0.5512\n",
            "Epoch 9/100\n",
            "17/17 [==============================] - 6s 361ms/step - loss: 0.0034 - accuracy: 1.0000 - val_loss: 2.6476 - val_accuracy: 0.5596\n",
            "Epoch 10/100\n",
            "17/17 [==============================] - 6s 379ms/step - loss: 0.0031 - accuracy: 1.0000 - val_loss: 2.6859 - val_accuracy: 0.5540\n",
            "Epoch 11/100\n",
            "17/17 [==============================] - 7s 389ms/step - loss: 0.0029 - accuracy: 1.0000 - val_loss: 2.6988 - val_accuracy: 0.5512\n",
            "Epoch 12/100\n",
            "17/17 [==============================] - 6s 383ms/step - loss: 0.0026 - accuracy: 1.0000 - val_loss: 2.7255 - val_accuracy: 0.5512\n",
            "Epoch 13/100\n",
            "17/17 [==============================] - 6s 364ms/step - loss: 0.0024 - accuracy: 1.0000 - val_loss: 2.7166 - val_accuracy: 0.5512\n",
            "Epoch 14/100\n",
            "17/17 [==============================] - 6s 356ms/step - loss: 0.0023 - accuracy: 1.0000 - val_loss: 2.7525 - val_accuracy: 0.5512\n",
            "Epoch 15/100\n",
            "17/17 [==============================] - 6s 360ms/step - loss: 0.0021 - accuracy: 1.0000 - val_loss: 2.7573 - val_accuracy: 0.5457\n",
            "Epoch 16/100\n",
            "17/17 [==============================] - 6s 361ms/step - loss: 0.0019 - accuracy: 1.0000 - val_loss: 2.7762 - val_accuracy: 0.5485\n",
            "Epoch 17/100\n",
            "17/17 [==============================] - 6s 362ms/step - loss: 0.0018 - accuracy: 1.0000 - val_loss: 2.7772 - val_accuracy: 0.5512\n",
            "Epoch 18/100\n",
            "17/17 [==============================] - 6s 361ms/step - loss: 0.0016 - accuracy: 1.0000 - val_loss: 2.7811 - val_accuracy: 0.5596\n",
            "Epoch 19/100\n",
            "17/17 [==============================] - 6s 363ms/step - loss: 0.0015 - accuracy: 1.0000 - val_loss: 2.7871 - val_accuracy: 0.5679\n",
            "Epoch 20/100\n",
            "17/17 [==============================] - 6s 360ms/step - loss: 0.0014 - accuracy: 1.0000 - val_loss: 2.8182 - val_accuracy: 0.5596\n",
            "Epoch 21/100\n",
            "17/17 [==============================] - 6s 358ms/step - loss: 0.0013 - accuracy: 1.0000 - val_loss: 2.8443 - val_accuracy: 0.5679\n",
            "Epoch 22/100\n",
            "17/17 [==============================] - 6s 357ms/step - loss: 0.0012 - accuracy: 1.0000 - val_loss: 2.8415 - val_accuracy: 0.5651\n",
            "Epoch 23/100\n",
            "17/17 [==============================] - 6s 357ms/step - loss: 0.0011 - accuracy: 1.0000 - val_loss: 2.8605 - val_accuracy: 0.5762\n",
            "Epoch 24/100\n",
            "17/17 [==============================] - 6s 356ms/step - loss: 0.0010 - accuracy: 1.0000 - val_loss: 2.8413 - val_accuracy: 0.5679\n",
            "Epoch 25/100\n",
            "17/17 [==============================] - 6s 351ms/step - loss: 9.2003e-04 - accuracy: 1.0000 - val_loss: 2.8432 - val_accuracy: 0.5734\n",
            "Epoch 26/100\n",
            "17/17 [==============================] - 6s 352ms/step - loss: 8.6119e-04 - accuracy: 1.0000 - val_loss: 2.8924 - val_accuracy: 0.5762\n",
            "Epoch 27/100\n",
            "17/17 [==============================] - 6s 362ms/step - loss: 7.9710e-04 - accuracy: 1.0000 - val_loss: 2.9483 - val_accuracy: 0.5762\n",
            "Epoch 28/100\n",
            "17/17 [==============================] - 6s 359ms/step - loss: 7.2996e-04 - accuracy: 1.0000 - val_loss: 2.9044 - val_accuracy: 0.5789\n",
            "Epoch 29/100\n",
            "17/17 [==============================] - 6s 357ms/step - loss: 6.8531e-04 - accuracy: 1.0000 - val_loss: 2.9171 - val_accuracy: 0.5789\n",
            "Epoch 30/100\n",
            "17/17 [==============================] - 6s 353ms/step - loss: 6.2673e-04 - accuracy: 1.0000 - val_loss: 2.9428 - val_accuracy: 0.5873\n",
            "Epoch 31/100\n",
            "17/17 [==============================] - 6s 351ms/step - loss: 6.0088e-04 - accuracy: 1.0000 - val_loss: 2.9529 - val_accuracy: 0.5789\n",
            "Epoch 32/100\n",
            "17/17 [==============================] - 6s 354ms/step - loss: 5.5687e-04 - accuracy: 1.0000 - val_loss: 2.9654 - val_accuracy: 0.5762\n",
            "Epoch 33/100\n",
            "17/17 [==============================] - 6s 356ms/step - loss: 5.1819e-04 - accuracy: 1.0000 - val_loss: 2.9650 - val_accuracy: 0.5789\n",
            "Epoch 34/100\n",
            "17/17 [==============================] - 6s 368ms/step - loss: 4.7483e-04 - accuracy: 1.0000 - val_loss: 3.0002 - val_accuracy: 0.5734\n",
            "Epoch 35/100\n",
            "17/17 [==============================] - 6s 354ms/step - loss: 4.4516e-04 - accuracy: 1.0000 - val_loss: 2.9920 - val_accuracy: 0.5679\n",
            "Epoch 36/100\n",
            "17/17 [==============================] - 6s 354ms/step - loss: 4.1596e-04 - accuracy: 1.0000 - val_loss: 2.9918 - val_accuracy: 0.5734\n",
            "Epoch 37/100\n",
            "17/17 [==============================] - 6s 354ms/step - loss: 3.8793e-04 - accuracy: 1.0000 - val_loss: 3.0585 - val_accuracy: 0.5734\n",
            "Epoch 38/100\n",
            "17/17 [==============================] - 6s 349ms/step - loss: 3.6545e-04 - accuracy: 1.0000 - val_loss: 3.0482 - val_accuracy: 0.5706\n",
            "Epoch 39/100\n",
            "17/17 [==============================] - 6s 349ms/step - loss: 3.3336e-04 - accuracy: 1.0000 - val_loss: 3.0429 - val_accuracy: 0.5706\n",
            "Epoch 40/100\n",
            "17/17 [==============================] - 6s 349ms/step - loss: 3.0954e-04 - accuracy: 1.0000 - val_loss: 3.0352 - val_accuracy: 0.5706\n",
            "Epoch 41/100\n",
            "17/17 [==============================] - 6s 347ms/step - loss: 2.8194e-04 - accuracy: 1.0000 - val_loss: 3.0687 - val_accuracy: 0.5623\n",
            "Epoch 42/100\n",
            "17/17 [==============================] - 6s 349ms/step - loss: 2.6723e-04 - accuracy: 1.0000 - val_loss: 3.0684 - val_accuracy: 0.5596\n",
            "Epoch 43/100\n",
            "17/17 [==============================] - 6s 347ms/step - loss: 2.5993e-04 - accuracy: 1.0000 - val_loss: 3.0679 - val_accuracy: 0.5623\n",
            "Epoch 44/100\n",
            "17/17 [==============================] - 6s 345ms/step - loss: 2.3925e-04 - accuracy: 1.0000 - val_loss: 3.0775 - val_accuracy: 0.5623\n",
            "Epoch 45/100\n",
            "17/17 [==============================] - 6s 351ms/step - loss: 2.2715e-04 - accuracy: 1.0000 - val_loss: 3.0838 - val_accuracy: 0.5651\n",
            "Epoch 46/100\n",
            "17/17 [==============================] - 6s 351ms/step - loss: 2.1488e-04 - accuracy: 1.0000 - val_loss: 3.1037 - val_accuracy: 0.5651\n",
            "Epoch 47/100\n",
            "17/17 [==============================] - 6s 347ms/step - loss: 1.9917e-04 - accuracy: 1.0000 - val_loss: 3.1463 - val_accuracy: 0.5734\n",
            "Epoch 48/100\n",
            "17/17 [==============================] - 6s 346ms/step - loss: 1.8975e-04 - accuracy: 1.0000 - val_loss: 3.1165 - val_accuracy: 0.5679\n",
            "Epoch 49/100\n",
            "17/17 [==============================] - 6s 350ms/step - loss: 1.8155e-04 - accuracy: 1.0000 - val_loss: 3.1174 - val_accuracy: 0.5734\n",
            "Epoch 50/100\n",
            "17/17 [==============================] - 6s 349ms/step - loss: 1.7291e-04 - accuracy: 1.0000 - val_loss: 3.1237 - val_accuracy: 0.5706\n",
            "Epoch 51/100\n",
            "17/17 [==============================] - 6s 347ms/step - loss: 1.6860e-04 - accuracy: 1.0000 - val_loss: 3.1710 - val_accuracy: 0.5651\n",
            "Epoch 52/100\n",
            "17/17 [==============================] - 6s 351ms/step - loss: 1.5905e-04 - accuracy: 1.0000 - val_loss: 3.1793 - val_accuracy: 0.5568\n",
            "Epoch 53/100\n",
            "17/17 [==============================] - 6s 355ms/step - loss: 1.5325e-04 - accuracy: 1.0000 - val_loss: 3.1366 - val_accuracy: 0.5679\n",
            "Epoch 54/100\n",
            "17/17 [==============================] - 6s 349ms/step - loss: 1.4081e-04 - accuracy: 1.0000 - val_loss: 3.1780 - val_accuracy: 0.5651\n",
            "Epoch 55/100\n",
            "17/17 [==============================] - 6s 354ms/step - loss: 1.4062e-04 - accuracy: 1.0000 - val_loss: 3.1766 - val_accuracy: 0.5706\n",
            "Epoch 56/100\n",
            "17/17 [==============================] - 6s 375ms/step - loss: 1.3848e-04 - accuracy: 1.0000 - val_loss: 3.1916 - val_accuracy: 0.5596\n",
            "Epoch 57/100\n",
            "17/17 [==============================] - 6s 366ms/step - loss: 1.3342e-04 - accuracy: 1.0000 - val_loss: 3.2290 - val_accuracy: 0.5512\n",
            "Epoch 58/100\n",
            "17/17 [==============================] - 6s 365ms/step - loss: 1.2375e-04 - accuracy: 1.0000 - val_loss: 3.2274 - val_accuracy: 0.5485\n",
            "Epoch 59/100\n",
            "17/17 [==============================] - 6s 353ms/step - loss: 1.1492e-04 - accuracy: 1.0000 - val_loss: 3.1819 - val_accuracy: 0.5596\n",
            "Epoch 60/100\n",
            "17/17 [==============================] - 6s 354ms/step - loss: 1.1241e-04 - accuracy: 1.0000 - val_loss: 3.2088 - val_accuracy: 0.5512\n",
            "Epoch 61/100\n",
            "17/17 [==============================] - 6s 350ms/step - loss: 1.0586e-04 - accuracy: 1.0000 - val_loss: 3.2233 - val_accuracy: 0.5512\n",
            "Epoch 62/100\n",
            "17/17 [==============================] - 6s 354ms/step - loss: 1.0323e-04 - accuracy: 1.0000 - val_loss: 3.2864 - val_accuracy: 0.5402\n",
            "Epoch 63/100\n",
            "17/17 [==============================] - 6s 351ms/step - loss: 9.6234e-05 - accuracy: 1.0000 - val_loss: 3.2420 - val_accuracy: 0.5568\n",
            "Epoch 64/100\n",
            "17/17 [==============================] - 6s 351ms/step - loss: 9.0829e-05 - accuracy: 1.0000 - val_loss: 3.2671 - val_accuracy: 0.5485\n",
            "Epoch 65/100\n",
            "17/17 [==============================] - 6s 353ms/step - loss: 8.9539e-05 - accuracy: 1.0000 - val_loss: 3.2731 - val_accuracy: 0.5512\n",
            "Epoch 66/100\n",
            "17/17 [==============================] - 6s 352ms/step - loss: 8.4541e-05 - accuracy: 1.0000 - val_loss: 3.2910 - val_accuracy: 0.5429\n",
            "Epoch 67/100\n",
            "17/17 [==============================] - 6s 357ms/step - loss: 8.0420e-05 - accuracy: 1.0000 - val_loss: 3.2872 - val_accuracy: 0.5512\n",
            "Epoch 68/100\n",
            "17/17 [==============================] - 6s 354ms/step - loss: 7.6846e-05 - accuracy: 1.0000 - val_loss: 3.2918 - val_accuracy: 0.5512\n",
            "Epoch 69/100\n",
            "17/17 [==============================] - 6s 354ms/step - loss: 7.5024e-05 - accuracy: 1.0000 - val_loss: 3.2951 - val_accuracy: 0.5485\n",
            "Epoch 70/100\n",
            "17/17 [==============================] - 6s 354ms/step - loss: 7.1717e-05 - accuracy: 1.0000 - val_loss: 3.3236 - val_accuracy: 0.5540\n",
            "Epoch 71/100\n",
            "17/17 [==============================] - 6s 355ms/step - loss: 6.9687e-05 - accuracy: 1.0000 - val_loss: 3.3103 - val_accuracy: 0.5457\n",
            "Epoch 72/100\n",
            "17/17 [==============================] - 6s 359ms/step - loss: 6.7022e-05 - accuracy: 1.0000 - val_loss: 3.3402 - val_accuracy: 0.5485\n",
            "Epoch 73/100\n",
            "17/17 [==============================] - 6s 356ms/step - loss: 6.4653e-05 - accuracy: 1.0000 - val_loss: 3.3195 - val_accuracy: 0.5374\n",
            "Epoch 74/100\n",
            "17/17 [==============================] - 6s 353ms/step - loss: 6.5156e-05 - accuracy: 1.0000 - val_loss: 3.3066 - val_accuracy: 0.5402\n",
            "Epoch 75/100\n",
            "17/17 [==============================] - 6s 354ms/step - loss: 6.3184e-05 - accuracy: 1.0000 - val_loss: 3.3483 - val_accuracy: 0.5402\n",
            "Epoch 76/100\n",
            "17/17 [==============================] - 6s 353ms/step - loss: 5.8403e-05 - accuracy: 1.0000 - val_loss: 3.3597 - val_accuracy: 0.5429\n",
            "Epoch 77/100\n",
            "17/17 [==============================] - 6s 353ms/step - loss: 5.5492e-05 - accuracy: 1.0000 - val_loss: 3.3887 - val_accuracy: 0.5429\n",
            "Epoch 78/100\n",
            "17/17 [==============================] - 6s 357ms/step - loss: 5.4760e-05 - accuracy: 1.0000 - val_loss: 3.3999 - val_accuracy: 0.5402\n",
            "Epoch 79/100\n",
            "17/17 [==============================] - 6s 357ms/step - loss: 5.2156e-05 - accuracy: 1.0000 - val_loss: 3.3845 - val_accuracy: 0.5429\n",
            "Epoch 80/100\n",
            "17/17 [==============================] - 6s 354ms/step - loss: 5.0009e-05 - accuracy: 1.0000 - val_loss: 3.3803 - val_accuracy: 0.5429\n",
            "Epoch 81/100\n",
            "17/17 [==============================] - 6s 356ms/step - loss: 5.0362e-05 - accuracy: 1.0000 - val_loss: 3.4014 - val_accuracy: 0.5457\n",
            "Epoch 82/100\n",
            "17/17 [==============================] - 6s 356ms/step - loss: 4.7907e-05 - accuracy: 1.0000 - val_loss: 3.4024 - val_accuracy: 0.5429\n",
            "Epoch 83/100\n",
            "17/17 [==============================] - 6s 357ms/step - loss: 4.5722e-05 - accuracy: 1.0000 - val_loss: 3.4044 - val_accuracy: 0.5429\n",
            "Epoch 84/100\n",
            "17/17 [==============================] - 6s 353ms/step - loss: 4.4296e-05 - accuracy: 1.0000 - val_loss: 3.3774 - val_accuracy: 0.5429\n",
            "Epoch 85/100\n",
            "17/17 [==============================] - 6s 353ms/step - loss: 4.3202e-05 - accuracy: 1.0000 - val_loss: 3.4271 - val_accuracy: 0.5457\n",
            "Epoch 86/100\n",
            "17/17 [==============================] - 6s 355ms/step - loss: 4.2361e-05 - accuracy: 1.0000 - val_loss: 3.4267 - val_accuracy: 0.5457\n",
            "Epoch 87/100\n",
            "17/17 [==============================] - 6s 356ms/step - loss: 4.0404e-05 - accuracy: 1.0000 - val_loss: 3.4117 - val_accuracy: 0.5346\n",
            "Epoch 88/100\n",
            "17/17 [==============================] - 6s 352ms/step - loss: 3.9324e-05 - accuracy: 1.0000 - val_loss: 3.4421 - val_accuracy: 0.5429\n",
            "Epoch 89/100\n",
            "17/17 [==============================] - 6s 353ms/step - loss: 3.8522e-05 - accuracy: 1.0000 - val_loss: 3.4448 - val_accuracy: 0.5374\n",
            "Epoch 90/100\n",
            "17/17 [==============================] - 6s 352ms/step - loss: 3.7250e-05 - accuracy: 1.0000 - val_loss: 3.4794 - val_accuracy: 0.5402\n",
            "Epoch 91/100\n",
            "17/17 [==============================] - 6s 351ms/step - loss: 3.6049e-05 - accuracy: 1.0000 - val_loss: 3.4623 - val_accuracy: 0.5429\n",
            "Epoch 92/100\n",
            "17/17 [==============================] - 6s 355ms/step - loss: 3.5146e-05 - accuracy: 1.0000 - val_loss: 3.4544 - val_accuracy: 0.5457\n",
            "Epoch 93/100\n",
            "17/17 [==============================] - 6s 354ms/step - loss: 3.3843e-05 - accuracy: 1.0000 - val_loss: 3.4776 - val_accuracy: 0.5429\n",
            "Epoch 94/100\n",
            "17/17 [==============================] - 6s 350ms/step - loss: 3.3294e-05 - accuracy: 1.0000 - val_loss: 3.4857 - val_accuracy: 0.5429\n",
            "Epoch 95/100\n",
            "17/17 [==============================] - 6s 352ms/step - loss: 3.2713e-05 - accuracy: 1.0000 - val_loss: 3.4608 - val_accuracy: 0.5485\n",
            "Epoch 96/100\n",
            "17/17 [==============================] - 6s 353ms/step - loss: 3.2223e-05 - accuracy: 1.0000 - val_loss: 3.4728 - val_accuracy: 0.5512\n",
            "Epoch 97/100\n",
            "17/17 [==============================] - 6s 353ms/step - loss: 3.0902e-05 - accuracy: 1.0000 - val_loss: 3.4974 - val_accuracy: 0.5429\n",
            "Epoch 98/100\n",
            "17/17 [==============================] - 6s 352ms/step - loss: 3.0292e-05 - accuracy: 1.0000 - val_loss: 3.4965 - val_accuracy: 0.5402\n",
            "Epoch 99/100\n",
            "17/17 [==============================] - 6s 350ms/step - loss: 2.9217e-05 - accuracy: 1.0000 - val_loss: 3.5063 - val_accuracy: 0.5429\n",
            "Epoch 100/100\n",
            "17/17 [==============================] - 6s 351ms/step - loss: 2.8802e-05 - accuracy: 1.0000 - val_loss: 3.5117 - val_accuracy: 0.5457\n"
          ]
        }
      ]
    },
    {
      "cell_type": "code",
      "source": [
        "# saving our results\n",
        "\n",
        "import pickle\n",
        "with open(\"drive/MyDrive/Deep Learning/History001\", 'wb') as file_h:\n",
        "        pickle.dump(history001.history, file_h)\n",
        "\n",
        "#and loading the results\n",
        "#history001= pickle.load(open(\"drive/MyDrive/Deep Learning/History001\", \"rb\"))\n"
      ],
      "metadata": {
        "id": "B6dEDvgzNO6Z"
      },
      "execution_count": null,
      "outputs": []
    },
    {
      "cell_type": "code",
      "source": [
        "model_001.save(\"drive/MyDrive/Deep Learning/speech_model_CNN_001.tf\", save_format='tf')"
      ],
      "metadata": {
        "id": "wqs_iO5hNF5u"
      },
      "execution_count": null,
      "outputs": []
    },
    {
      "cell_type": "code",
      "source": [
        "# if we want to skip 2 precious cells and loaded trained model\n",
        "import tensorflow as tf\n",
        "model_001 = tf.keras.models.load_model('drive/MyDrive/Deep Learning/speech_model_CNN_001.tf')"
      ],
      "metadata": {
        "id": "vLXfzc8fj0Uw"
      },
      "execution_count": null,
      "outputs": []
    },
    {
      "cell_type": "code",
      "source": [
        "print(\"Accuracy of our model on test data : \" , model_001.evaluate(x_test,y_test)[1]*100 , \"%\")\n",
        "epochs = [i for i in range(eps)]\n",
        "fig , ax = plt.subplots(1,2)\n",
        "train_acc = history001.history['accuracy']\n",
        "train_loss = history001.history['loss']\n",
        "test_acc = history001.history['val_accuracy']\n",
        "test_loss = history001.history['val_loss']\n",
        "\n",
        "fig.set_size_inches(20,6)\n",
        "ax[0].plot(epochs , train_loss , label = 'Training Loss')\n",
        "ax[0].plot(epochs , test_loss , label = 'Testing Loss')\n",
        "ax[0].set_title('Training & Testing Loss')\n",
        "ax[0].legend()\n",
        "ax[0].set_xlabel(\"Epochs\")\n",
        "\n",
        "ax[1].plot(epochs , train_acc , label = 'Training Accuracy')\n",
        "ax[1].plot(epochs , test_acc , label = 'Testing Accuracy')\n",
        "ax[1].set_title('Training & Testing Accuracy')\n",
        "ax[1].legend()\n",
        "ax[1].set_xlabel(\"Epochs\")\n",
        "plt.show()"
      ],
      "metadata": {
        "colab": {
          "base_uri": "https://localhost:8080/",
          "height": 439
        },
        "id": "RwQOzSGP05Sc",
        "outputId": "e8107ced-34bb-4b01-eaa4-d53077b24f6a"
      },
      "execution_count": 24,
      "outputs": [
        {
          "output_type": "stream",
          "name": "stdout",
          "text": [
            "12/12 [==============================] - 1s 64ms/step - loss: 3.5117 - accuracy: 0.5457\n",
            "Accuracy of our model on test data :  54.57063913345337 %\n"
          ]
        },
        {
          "output_type": "display_data",
          "data": {
            "text/plain": [
              "<Figure size 1440x432 with 2 Axes>"
            ],
            "image/png": "[encoded data removed]"
          },
          "metadata": {
            "needs_background": "light"
          }
        }
      ]
    },
    {
      "cell_type": "code",
      "source": [
        "\n",
        "\n",
        "\n"
      ],
      "metadata": {
        "colab": {
          "base_uri": "https://localhost:8080/"
        },
        "id": "vwwao6zXGh67",
        "outputId": "c1a3f6c1-ebc6-44d0-e72e-96979aa71eb9"
      },
      "execution_count": 31,
      "outputs": [
        {
          "output_type": "stream",
          "name": "stdout",
          "text": [
            "INFO:tensorflow:Assets written to: drive/MyDrive/Deep Learning/speech_model_CNN_001.tf/assets\n"
          ]
        }
      ]
    },
    {
      "cell_type": "code",
      "source": [
        "#np.save(os.path.join('drive/MyDrive/Deep Learning', 'x_train'), x_train)\n",
        "model_001.save(\"drive/MyDrive/Deep Learning/speech_model_CNN_001.tf\", save_format='tf')"
      ],
      "metadata": {
        "id": "gKM9tYPfjuXx",
        "colab": {
          "base_uri": "https://localhost:8080/"
        },
        "outputId": "1e77e88c-fe3a-4182-a747-bfac996af466"
      },
      "execution_count": null,
      "outputs": [
        {
          "output_type": "stream",
          "name": "stdout",
          "text": [
            "INFO:tensorflow:Assets written to: drive/MyDrive/Deep Learning/speech_model_CNN_001.tf/assets\n"
          ]
        }
      ]
    },
    {
      "cell_type": "code",
      "source": [
        "model_002=Sequential()\n",
        "model_002.add(Conv2D(32, (3,3),input_shape=(224,20,1),strides=(1,1), padding='same', activation='relu'))\n",
        "model_002.add(MaxPooling2D(pool_size=(2,2)))\n",
        "model_002.add(Conv2D(32, (3,3), padding='same', activation='relu'))\n",
        "model_002.add(MaxPooling2D(pool_size=(2,2)))\n",
        "model_002.add(Flatten())\n",
        "model_002.add(Dense(64))\n",
        "model_002.add(Activation('relu'))\n",
        "model_002.add(Dense(units=8, activation='softmax'))\n",
        "model_002.compile(optimizer = 'adam' , loss = 'categorical_crossentropy' , metrics = ['accuracy'])\n",
        "model_002.summary()\n",
        "#Accuracy of our model on test data :  52.63158082962036 %\n",
        "\n",
        "\n",
        "\n"
      ],
      "metadata": {
        "id": "Dsp5GgXLjvPw",
        "colab": {
          "base_uri": "https://localhost:8080/"
        },
        "outputId": "6db74435-ba4e-40bf-c264-8ed1a4fa5465"
      },
      "execution_count": null,
      "outputs": [
        {
          "output_type": "stream",
          "name": "stdout",
          "text": [
            "Model: \"sequential\"\n",
            "_________________________________________________________________\n",
            " Layer (type)                Output Shape              Param #   \n",
            "=================================================================\n",
            " conv2d (Conv2D)             (None, 224, 20, 32)       320       \n",
            "                                                                 \n",
            " max_pooling2d (MaxPooling2D  (None, 112, 10, 32)      0         \n",
            " )                                                               \n",
            "                                                                 \n",
            " conv2d_1 (Conv2D)           (None, 112, 10, 32)       9248      \n",
            "                                                                 \n",
            " max_pooling2d_1 (MaxPooling  (None, 56, 5, 32)        0         \n",
            " 2D)                                                             \n",
            "                                                                 \n",
            " conv2d_2 (Conv2D)           (None, 56, 5, 32)         9248      \n",
            "                                                                 \n",
            " max_pooling2d_2 (MaxPooling  (None, 28, 2, 32)        0         \n",
            " 2D)                                                             \n",
            "                                                                 \n",
            " flatten (Flatten)           (None, 1792)              0         \n",
            "                                                                 \n",
            " dense (Dense)               (None, 64)                114752    \n",
            "                                                                 \n",
            " activation (Activation)     (None, 64)                0         \n",
            "                                                                 \n",
            " dense_1 (Dense)             (None, 8)                 520       \n",
            "                                                                 \n",
            "=================================================================\n",
            "Total params: 134,088\n",
            "Trainable params: 134,088\n",
            "Non-trainable params: 0\n",
            "_________________________________________________________________\n"
          ]
        }
      ]
    },
    {
      "cell_type": "code",
      "source": [
        "history002=model_002.fit(x_train, y_train, batch_size=64, epochs=eps, validation_data=(x_test, y_test))\n"
      ],
      "metadata": {
        "id": "CW1X30vb05XK",
        "colab": {
          "base_uri": "https://localhost:8080/"
        },
        "outputId": "31fd1e03-7d86-4a8a-f16b-59c0c1624afd"
      },
      "execution_count": null,
      "outputs": [
        {
          "output_type": "stream",
          "name": "stdout",
          "text": [
            "Epoch 1/100\n",
            "17/17 [==============================] - 6s 332ms/step - loss: 22.6731 - accuracy: 0.1377 - val_loss: 2.3426 - val_accuracy: 0.1440\n",
            "Epoch 2/100\n",
            "17/17 [==============================] - 5s 319ms/step - loss: 2.1071 - accuracy: 0.1433 - val_loss: 2.0829 - val_accuracy: 0.1219\n",
            "Epoch 3/100\n",
            "17/17 [==============================] - 7s 446ms/step - loss: 2.0437 - accuracy: 0.1691 - val_loss: 2.0592 - val_accuracy: 0.1385\n",
            "Epoch 4/100\n",
            "17/17 [==============================] - 5s 318ms/step - loss: 2.0212 - accuracy: 0.1867 - val_loss: 2.0324 - val_accuracy: 0.1662\n",
            "Epoch 5/100\n",
            "17/17 [==============================] - 5s 321ms/step - loss: 1.9718 - accuracy: 0.2486 - val_loss: 1.9840 - val_accuracy: 0.2161\n",
            "Epoch 6/100\n",
            "17/17 [==============================] - 5s 320ms/step - loss: 1.8504 - accuracy: 0.3050 - val_loss: 1.8245 - val_accuracy: 0.2742\n",
            "Epoch 7/100\n",
            "17/17 [==============================] - 6s 378ms/step - loss: 1.5875 - accuracy: 0.4325 - val_loss: 1.6338 - val_accuracy: 0.3546\n",
            "Epoch 8/100\n",
            "17/17 [==============================] - 5s 316ms/step - loss: 1.2610 - accuracy: 0.5453 - val_loss: 1.5864 - val_accuracy: 0.3740\n",
            "Epoch 9/100\n",
            "17/17 [==============================] - 6s 378ms/step - loss: 0.9919 - accuracy: 0.6599 - val_loss: 1.6220 - val_accuracy: 0.4404\n",
            "Epoch 10/100\n",
            "17/17 [==============================] - 5s 317ms/step - loss: 0.7312 - accuracy: 0.7551 - val_loss: 1.6405 - val_accuracy: 0.4349\n",
            "Epoch 11/100\n",
            "17/17 [==============================] - 5s 321ms/step - loss: 0.4981 - accuracy: 0.8586 - val_loss: 1.6477 - val_accuracy: 0.4626\n",
            "Epoch 12/100\n",
            "17/17 [==============================] - 5s 319ms/step - loss: 0.3004 - accuracy: 0.9316 - val_loss: 1.7959 - val_accuracy: 0.4598\n",
            "Epoch 13/100\n",
            "17/17 [==============================] - 5s 317ms/step - loss: 0.1643 - accuracy: 0.9677 - val_loss: 1.8601 - val_accuracy: 0.4903\n",
            "Epoch 14/100\n",
            "17/17 [==============================] - 5s 321ms/step - loss: 0.0851 - accuracy: 0.9945 - val_loss: 2.0532 - val_accuracy: 0.4820\n",
            "Epoch 15/100\n",
            "17/17 [==============================] - 5s 319ms/step - loss: 0.0411 - accuracy: 0.9991 - val_loss: 2.2001 - val_accuracy: 0.4848\n",
            "Epoch 16/100\n",
            "17/17 [==============================] - 5s 319ms/step - loss: 0.0217 - accuracy: 1.0000 - val_loss: 2.2722 - val_accuracy: 0.4709\n",
            "Epoch 17/100\n",
            "17/17 [==============================] - 5s 319ms/step - loss: 0.0133 - accuracy: 1.0000 - val_loss: 2.3623 - val_accuracy: 0.4765\n",
            "Epoch 18/100\n",
            "17/17 [==============================] - 5s 320ms/step - loss: 0.0089 - accuracy: 1.0000 - val_loss: 2.4056 - val_accuracy: 0.4875\n",
            "Epoch 19/100\n",
            "17/17 [==============================] - 5s 318ms/step - loss: 0.0068 - accuracy: 1.0000 - val_loss: 2.4498 - val_accuracy: 0.5125\n",
            "Epoch 20/100\n",
            "17/17 [==============================] - 5s 321ms/step - loss: 0.0049 - accuracy: 1.0000 - val_loss: 2.5206 - val_accuracy: 0.5097\n",
            "Epoch 21/100\n",
            "17/17 [==============================] - 5s 319ms/step - loss: 0.0039 - accuracy: 1.0000 - val_loss: 2.5598 - val_accuracy: 0.5042\n",
            "Epoch 22/100\n",
            "17/17 [==============================] - 5s 318ms/step - loss: 0.0032 - accuracy: 1.0000 - val_loss: 2.6014 - val_accuracy: 0.5069\n",
            "Epoch 23/100\n",
            "17/17 [==============================] - 5s 318ms/step - loss: 0.0026 - accuracy: 1.0000 - val_loss: 2.6125 - val_accuracy: 0.5097\n",
            "Epoch 24/100\n",
            "17/17 [==============================] - 5s 320ms/step - loss: 0.0022 - accuracy: 1.0000 - val_loss: 2.6540 - val_accuracy: 0.5069\n",
            "Epoch 25/100\n",
            "17/17 [==============================] - 5s 320ms/step - loss: 0.0019 - accuracy: 1.0000 - val_loss: 2.6748 - val_accuracy: 0.5152\n",
            "Epoch 26/100\n",
            "17/17 [==============================] - 5s 320ms/step - loss: 0.0016 - accuracy: 1.0000 - val_loss: 2.6982 - val_accuracy: 0.5152\n",
            "Epoch 27/100\n",
            "17/17 [==============================] - 5s 318ms/step - loss: 0.0014 - accuracy: 1.0000 - val_loss: 2.7003 - val_accuracy: 0.5180\n",
            "Epoch 28/100\n",
            "17/17 [==============================] - 5s 319ms/step - loss: 0.0013 - accuracy: 1.0000 - val_loss: 2.7323 - val_accuracy: 0.5208\n",
            "Epoch 29/100\n",
            "17/17 [==============================] - 5s 318ms/step - loss: 0.0011 - accuracy: 1.0000 - val_loss: 2.7467 - val_accuracy: 0.5263\n",
            "Epoch 30/100\n",
            "17/17 [==============================] - 5s 318ms/step - loss: 0.0010 - accuracy: 1.0000 - val_loss: 2.7718 - val_accuracy: 0.5208\n",
            "Epoch 31/100\n",
            "17/17 [==============================] - 5s 320ms/step - loss: 9.0236e-04 - accuracy: 1.0000 - val_loss: 2.7796 - val_accuracy: 0.5402\n",
            "Epoch 32/100\n",
            "17/17 [==============================] - 5s 321ms/step - loss: 8.2482e-04 - accuracy: 1.0000 - val_loss: 2.8006 - val_accuracy: 0.5291\n",
            "Epoch 33/100\n",
            "17/17 [==============================] - 5s 317ms/step - loss: 7.5202e-04 - accuracy: 1.0000 - val_loss: 2.8033 - val_accuracy: 0.5263\n",
            "Epoch 34/100\n",
            "17/17 [==============================] - 5s 321ms/step - loss: 6.9521e-04 - accuracy: 1.0000 - val_loss: 2.8326 - val_accuracy: 0.5291\n",
            "Epoch 35/100\n",
            "17/17 [==============================] - 5s 319ms/step - loss: 6.4194e-04 - accuracy: 1.0000 - val_loss: 2.8388 - val_accuracy: 0.5319\n",
            "Epoch 36/100\n",
            "17/17 [==============================] - 5s 321ms/step - loss: 5.8990e-04 - accuracy: 1.0000 - val_loss: 2.8584 - val_accuracy: 0.5374\n",
            "Epoch 37/100\n",
            "17/17 [==============================] - 5s 320ms/step - loss: 5.5052e-04 - accuracy: 1.0000 - val_loss: 2.8627 - val_accuracy: 0.5291\n",
            "Epoch 38/100\n",
            "17/17 [==============================] - 5s 319ms/step - loss: 5.1146e-04 - accuracy: 1.0000 - val_loss: 2.8815 - val_accuracy: 0.5346\n",
            "Epoch 39/100\n",
            "17/17 [==============================] - 5s 322ms/step - loss: 4.8042e-04 - accuracy: 1.0000 - val_loss: 2.8852 - val_accuracy: 0.5319\n",
            "Epoch 40/100\n",
            "17/17 [==============================] - 5s 318ms/step - loss: 4.4837e-04 - accuracy: 1.0000 - val_loss: 2.8914 - val_accuracy: 0.5346\n",
            "Epoch 41/100\n",
            "17/17 [==============================] - 5s 319ms/step - loss: 4.2119e-04 - accuracy: 1.0000 - val_loss: 2.8943 - val_accuracy: 0.5374\n",
            "Epoch 42/100\n",
            "17/17 [==============================] - 5s 318ms/step - loss: 3.9526e-04 - accuracy: 1.0000 - val_loss: 2.9129 - val_accuracy: 0.5346\n",
            "Epoch 43/100\n",
            "17/17 [==============================] - 5s 319ms/step - loss: 3.7219e-04 - accuracy: 1.0000 - val_loss: 2.9214 - val_accuracy: 0.5346\n",
            "Epoch 44/100\n",
            "17/17 [==============================] - 5s 318ms/step - loss: 3.5013e-04 - accuracy: 1.0000 - val_loss: 2.9326 - val_accuracy: 0.5402\n",
            "Epoch 45/100\n",
            "17/17 [==============================] - 5s 321ms/step - loss: 3.3422e-04 - accuracy: 1.0000 - val_loss: 2.9451 - val_accuracy: 0.5319\n",
            "Epoch 46/100\n",
            "17/17 [==============================] - 5s 318ms/step - loss: 3.1339e-04 - accuracy: 1.0000 - val_loss: 2.9424 - val_accuracy: 0.5291\n",
            "Epoch 47/100\n",
            "17/17 [==============================] - 5s 319ms/step - loss: 3.0035e-04 - accuracy: 1.0000 - val_loss: 2.9546 - val_accuracy: 0.5374\n",
            "Epoch 48/100\n",
            "17/17 [==============================] - 5s 320ms/step - loss: 2.8087e-04 - accuracy: 1.0000 - val_loss: 2.9702 - val_accuracy: 0.5291\n",
            "Epoch 49/100\n",
            "17/17 [==============================] - 5s 319ms/step - loss: 2.6825e-04 - accuracy: 1.0000 - val_loss: 2.9709 - val_accuracy: 0.5346\n",
            "Epoch 50/100\n",
            "17/17 [==============================] - 5s 318ms/step - loss: 2.5267e-04 - accuracy: 1.0000 - val_loss: 2.9830 - val_accuracy: 0.5263\n",
            "Epoch 51/100\n",
            "17/17 [==============================] - 5s 320ms/step - loss: 2.4187e-04 - accuracy: 1.0000 - val_loss: 2.9903 - val_accuracy: 0.5263\n",
            "Epoch 52/100\n",
            "17/17 [==============================] - 5s 318ms/step - loss: 2.3138e-04 - accuracy: 1.0000 - val_loss: 2.9961 - val_accuracy: 0.5291\n",
            "Epoch 53/100\n",
            "17/17 [==============================] - 5s 317ms/step - loss: 2.1954e-04 - accuracy: 1.0000 - val_loss: 3.0008 - val_accuracy: 0.5291\n",
            "Epoch 54/100\n",
            "17/17 [==============================] - 5s 319ms/step - loss: 2.1185e-04 - accuracy: 1.0000 - val_loss: 3.0144 - val_accuracy: 0.5346\n",
            "Epoch 55/100\n",
            "17/17 [==============================] - 5s 318ms/step - loss: 2.0102e-04 - accuracy: 1.0000 - val_loss: 3.0123 - val_accuracy: 0.5319\n",
            "Epoch 56/100\n",
            "17/17 [==============================] - 5s 319ms/step - loss: 1.8994e-04 - accuracy: 1.0000 - val_loss: 3.0190 - val_accuracy: 0.5291\n",
            "Epoch 57/100\n",
            "17/17 [==============================] - 5s 320ms/step - loss: 1.8273e-04 - accuracy: 1.0000 - val_loss: 3.0276 - val_accuracy: 0.5291\n",
            "Epoch 58/100\n",
            "17/17 [==============================] - 5s 319ms/step - loss: 1.7409e-04 - accuracy: 1.0000 - val_loss: 3.0292 - val_accuracy: 0.5346\n",
            "Epoch 59/100\n",
            "17/17 [==============================] - 5s 321ms/step - loss: 1.6718e-04 - accuracy: 1.0000 - val_loss: 3.0383 - val_accuracy: 0.5374\n",
            "Epoch 60/100\n",
            "17/17 [==============================] - 5s 319ms/step - loss: 1.6182e-04 - accuracy: 1.0000 - val_loss: 3.0422 - val_accuracy: 0.5291\n",
            "Epoch 61/100\n",
            "17/17 [==============================] - 5s 320ms/step - loss: 1.5465e-04 - accuracy: 1.0000 - val_loss: 3.0435 - val_accuracy: 0.5319\n",
            "Epoch 62/100\n",
            "17/17 [==============================] - 5s 320ms/step - loss: 1.4880e-04 - accuracy: 1.0000 - val_loss: 3.0476 - val_accuracy: 0.5291\n",
            "Epoch 63/100\n",
            "17/17 [==============================] - 5s 319ms/step - loss: 1.4239e-04 - accuracy: 1.0000 - val_loss: 3.0635 - val_accuracy: 0.5291\n",
            "Epoch 64/100\n",
            "17/17 [==============================] - 5s 320ms/step - loss: 1.3839e-04 - accuracy: 1.0000 - val_loss: 3.0589 - val_accuracy: 0.5291\n",
            "Epoch 65/100\n",
            "17/17 [==============================] - 5s 317ms/step - loss: 1.3293e-04 - accuracy: 1.0000 - val_loss: 3.0637 - val_accuracy: 0.5319\n",
            "Epoch 66/100\n",
            "17/17 [==============================] - 5s 317ms/step - loss: 1.2801e-04 - accuracy: 1.0000 - val_loss: 3.0657 - val_accuracy: 0.5319\n",
            "Epoch 67/100\n",
            "17/17 [==============================] - 5s 320ms/step - loss: 1.2443e-04 - accuracy: 1.0000 - val_loss: 3.0760 - val_accuracy: 0.5319\n",
            "Epoch 68/100\n",
            "17/17 [==============================] - 5s 320ms/step - loss: 1.2070e-04 - accuracy: 1.0000 - val_loss: 3.0855 - val_accuracy: 0.5346\n",
            "Epoch 69/100\n",
            "17/17 [==============================] - 5s 317ms/step - loss: 1.1776e-04 - accuracy: 1.0000 - val_loss: 3.0806 - val_accuracy: 0.5346\n",
            "Epoch 70/100\n",
            "17/17 [==============================] - 5s 321ms/step - loss: 1.1211e-04 - accuracy: 1.0000 - val_loss: 3.0804 - val_accuracy: 0.5319\n",
            "Epoch 71/100\n",
            "17/17 [==============================] - 5s 318ms/step - loss: 1.0779e-04 - accuracy: 1.0000 - val_loss: 3.0867 - val_accuracy: 0.5346\n",
            "Epoch 72/100\n",
            "17/17 [==============================] - 5s 320ms/step - loss: 1.0338e-04 - accuracy: 1.0000 - val_loss: 3.0901 - val_accuracy: 0.5319\n",
            "Epoch 73/100\n",
            "17/17 [==============================] - 5s 321ms/step - loss: 9.9080e-05 - accuracy: 1.0000 - val_loss: 3.0915 - val_accuracy: 0.5346\n",
            "Epoch 74/100\n",
            "17/17 [==============================] - 5s 320ms/step - loss: 9.6137e-05 - accuracy: 1.0000 - val_loss: 3.0962 - val_accuracy: 0.5346\n",
            "Epoch 75/100\n",
            "17/17 [==============================] - 5s 317ms/step - loss: 9.2305e-05 - accuracy: 1.0000 - val_loss: 3.1056 - val_accuracy: 0.5374\n",
            "Epoch 76/100\n",
            "17/17 [==============================] - 7s 410ms/step - loss: 8.9524e-05 - accuracy: 1.0000 - val_loss: 3.1055 - val_accuracy: 0.5346\n",
            "Epoch 77/100\n",
            "17/17 [==============================] - 6s 338ms/step - loss: 8.6020e-05 - accuracy: 1.0000 - val_loss: 3.1146 - val_accuracy: 0.5402\n",
            "Epoch 78/100\n",
            "17/17 [==============================] - 5s 321ms/step - loss: 8.4014e-05 - accuracy: 1.0000 - val_loss: 3.1168 - val_accuracy: 0.5402\n",
            "Epoch 79/100\n",
            "17/17 [==============================] - 5s 320ms/step - loss: 8.0771e-05 - accuracy: 1.0000 - val_loss: 3.1123 - val_accuracy: 0.5402\n",
            "Epoch 80/100\n",
            "17/17 [==============================] - 5s 318ms/step - loss: 7.8438e-05 - accuracy: 1.0000 - val_loss: 3.1236 - val_accuracy: 0.5429\n",
            "Epoch 81/100\n",
            "17/17 [==============================] - 5s 322ms/step - loss: 7.5475e-05 - accuracy: 1.0000 - val_loss: 3.1208 - val_accuracy: 0.5429\n",
            "Epoch 82/100\n",
            "17/17 [==============================] - 5s 318ms/step - loss: 7.3351e-05 - accuracy: 1.0000 - val_loss: 3.1253 - val_accuracy: 0.5457\n",
            "Epoch 83/100\n",
            "17/17 [==============================] - 5s 318ms/step - loss: 7.1119e-05 - accuracy: 1.0000 - val_loss: 3.1318 - val_accuracy: 0.5485\n",
            "Epoch 84/100\n",
            "17/17 [==============================] - 5s 319ms/step - loss: 6.9161e-05 - accuracy: 1.0000 - val_loss: 3.1420 - val_accuracy: 0.5429\n",
            "Epoch 85/100\n",
            "17/17 [==============================] - 5s 319ms/step - loss: 6.7510e-05 - accuracy: 1.0000 - val_loss: 3.1335 - val_accuracy: 0.5457\n",
            "Epoch 86/100\n",
            "17/17 [==============================] - 5s 317ms/step - loss: 6.5320e-05 - accuracy: 1.0000 - val_loss: 3.1448 - val_accuracy: 0.5485\n",
            "Epoch 87/100\n",
            "17/17 [==============================] - 5s 319ms/step - loss: 6.3275e-05 - accuracy: 1.0000 - val_loss: 3.1398 - val_accuracy: 0.5457\n",
            "Epoch 88/100\n",
            "17/17 [==============================] - 5s 320ms/step - loss: 6.1582e-05 - accuracy: 1.0000 - val_loss: 3.1459 - val_accuracy: 0.5457\n",
            "Epoch 89/100\n",
            "17/17 [==============================] - 5s 319ms/step - loss: 5.9699e-05 - accuracy: 1.0000 - val_loss: 3.1522 - val_accuracy: 0.5485\n",
            "Epoch 90/100\n",
            "17/17 [==============================] - 5s 317ms/step - loss: 5.8182e-05 - accuracy: 1.0000 - val_loss: 3.1451 - val_accuracy: 0.5485\n",
            "Epoch 91/100\n",
            "17/17 [==============================] - 5s 318ms/step - loss: 5.6277e-05 - accuracy: 1.0000 - val_loss: 3.1582 - val_accuracy: 0.5485\n",
            "Epoch 92/100\n",
            "17/17 [==============================] - 5s 318ms/step - loss: 5.4868e-05 - accuracy: 1.0000 - val_loss: 3.1506 - val_accuracy: 0.5457\n",
            "Epoch 93/100\n",
            "17/17 [==============================] - 5s 321ms/step - loss: 5.3579e-05 - accuracy: 1.0000 - val_loss: 3.1577 - val_accuracy: 0.5485\n",
            "Epoch 94/100\n",
            "17/17 [==============================] - 5s 320ms/step - loss: 5.2184e-05 - accuracy: 1.0000 - val_loss: 3.1636 - val_accuracy: 0.5457\n",
            "Epoch 95/100\n",
            "17/17 [==============================] - 5s 322ms/step - loss: 5.0772e-05 - accuracy: 1.0000 - val_loss: 3.1672 - val_accuracy: 0.5485\n",
            "Epoch 96/100\n",
            "17/17 [==============================] - 5s 318ms/step - loss: 4.9277e-05 - accuracy: 1.0000 - val_loss: 3.1727 - val_accuracy: 0.5485\n",
            "Epoch 97/100\n",
            "17/17 [==============================] - 5s 319ms/step - loss: 4.7895e-05 - accuracy: 1.0000 - val_loss: 3.1657 - val_accuracy: 0.5457\n",
            "Epoch 98/100\n",
            "17/17 [==============================] - 5s 318ms/step - loss: 4.6843e-05 - accuracy: 1.0000 - val_loss: 3.1781 - val_accuracy: 0.5485\n",
            "Epoch 99/100\n",
            "17/17 [==============================] - 5s 320ms/step - loss: 4.5782e-05 - accuracy: 1.0000 - val_loss: 3.1710 - val_accuracy: 0.5457\n",
            "Epoch 100/100\n",
            "17/17 [==============================] - 5s 319ms/step - loss: 4.4532e-05 - accuracy: 1.0000 - val_loss: 3.1784 - val_accuracy: 0.5429\n"
          ]
        }
      ]
    },
    {
      "cell_type": "code",
      "source": [
        "print(\"Accuracy of our model on test data : \" , model_002.evaluate(x_test,y_test)[1]*100 , \"%\")\n",
        "\n",
        "epochs = [i for i in range(eps)]\n",
        "fig , ax = plt.subplots(1,2)\n",
        "train_acc_002 = history002.history['accuracy']\n",
        "train_loss_002 = history002.history['loss']\n",
        "test_acc_002 = history002.history['val_accuracy']\n",
        "test_loss_002 = history002.history['val_loss']\n",
        "\n",
        "fig.set_size_inches(20,6)\n",
        "ax[0].plot(epochs , train_loss_002 , label = 'Training Loss')\n",
        "ax[0].plot(epochs , test_loss_002 , label = 'Testing Loss')\n",
        "ax[0].set_title('Training & Testing Loss')\n",
        "ax[0].legend()\n",
        "ax[0].set_xlabel(\"Epochs\")\n",
        "\n",
        "ax[1].plot(epochs , train_acc_002 , label = 'Training Accuracy')\n",
        "ax[1].plot(epochs , test_acc_002 , label = 'Testing Accuracy')\n",
        "ax[1].set_title('Training & Testing Accuracy')\n",
        "ax[1].legend()\n",
        "ax[1].set_xlabel(\"Epochs\")\n",
        "plt.show()"
      ],
      "metadata": {
        "colab": {
          "base_uri": "https://localhost:8080/",
          "height": 440
        },
        "id": "46uTE0POEVvT",
        "outputId": "07e11366-0838-406c-d31c-4b020b14fe4b"
      },
      "execution_count": null,
      "outputs": [
        {
          "output_type": "stream",
          "name": "stdout",
          "text": [
            "12/12 [==============================] - 0s 38ms/step - loss: 3.1784 - accuracy: 0.5429\n",
            "Accuracy of our model on test data :  54.29362654685974 %\n"
          ]
        },
        {
          "output_type": "display_data",
          "data": {
            "text/plain": [
              "<Figure size 1440x432 with 2 Axes>"
            ],
            "image/png": "[encoded data removed]"
          },
          "metadata": {
            "needs_background": "light"
          }
        }
      ]
    },
    {
      "cell_type": "code",
      "source": [
        "model_002.save(\"speech_model_CNN_002.tf\", save_format='tf')"
      ],
      "metadata": {
        "colab": {
          "base_uri": "https://localhost:8080/"
        },
        "id": "ha9mVy5tEWHW",
        "outputId": "a35cfbd5-ce13-4878-ed61-2486a750027f"
      },
      "execution_count": null,
      "outputs": [
        {
          "output_type": "stream",
          "name": "stdout",
          "text": [
            "INFO:tensorflow:Assets written to: speech_model_CNN_002.tf/assets\n"
          ]
        }
      ]
    },
    {
      "cell_type": "code",
      "source": [
        "model_003=Sequential()\n",
        "model_003.add(Conv2D(32, (3,3),input_shape=(224,20,1),strides=(1,1), padding='same', activation='relu'))\n",
        "model_003.add(MaxPooling2D(pool_size=(2,2)))\n",
        "model_003.add(Conv2D(32, (3,3), padding='same', activation='relu'))\n",
        "model_003.add(MaxPooling2D(pool_size=(2,2)))\n",
        "model_003.add(Conv2D(64, (3,3), padding='same', activation='relu'))\n",
        "model_003.add(MaxPooling2D(pool_size=(2,2)))\n",
        "model_003.add(Flatten())\n",
        "model_003.add(Dense(64))\n",
        "model_003.add(Activation('relu'))\n",
        "model_003.add(Dense(units=8, activation='softmax'))\n",
        "model_003.compile(optimizer = 'adam' , loss = 'categorical_crossentropy' , metrics = ['accuracy'])\n",
        "model_003.summary()\n",
        "#Accuracy of our model on test data :  52.63158082962036 %\n",
        "\n",
        "\n",
        "\n"
      ],
      "metadata": {
        "colab": {
          "base_uri": "https://localhost:8080/"
        },
        "id": "61glNv73EWLu",
        "outputId": "d743b46b-705d-40fc-fbf4-2e516e002daf"
      },
      "execution_count": null,
      "outputs": [
        {
          "output_type": "stream",
          "name": "stdout",
          "text": [
            "Model: \"sequential_3\"\n",
            "_________________________________________________________________\n",
            " Layer (type)                Output Shape              Param #   \n",
            "=================================================================\n",
            " conv2d_8 (Conv2D)           (None, 224, 20, 32)       320       \n",
            "                                                                 \n",
            " max_pooling2d_8 (MaxPooling  (None, 112, 10, 32)      0         \n",
            " 2D)                                                             \n",
            "                                                                 \n",
            " conv2d_9 (Conv2D)           (None, 112, 10, 32)       9248      \n",
            "                                                                 \n",
            " max_pooling2d_9 (MaxPooling  (None, 56, 5, 32)        0         \n",
            " 2D)                                                             \n",
            "                                                                 \n",
            " conv2d_10 (Conv2D)          (None, 56, 5, 64)         18496     \n",
            "                                                                 \n",
            " max_pooling2d_10 (MaxPoolin  (None, 28, 2, 64)        0         \n",
            " g2D)                                                            \n",
            "                                                                 \n",
            " flatten_3 (Flatten)         (None, 3584)              0         \n",
            "                                                                 \n",
            " dense_6 (Dense)             (None, 64)                229440    \n",
            "                                                                 \n",
            " activation_3 (Activation)   (None, 64)                0         \n",
            "                                                                 \n",
            " dense_7 (Dense)             (None, 8)                 520       \n",
            "                                                                 \n",
            "=================================================================\n",
            "Total params: 258,024\n",
            "Trainable params: 258,024\n",
            "Non-trainable params: 0\n",
            "_________________________________________________________________\n"
          ]
        }
      ]
    },
    {
      "cell_type": "code",
      "source": [
        "history003=model_003.fit(x_train, y_train, batch_size=64, epochs=60, validation_data=(x_test, y_test))\n"
      ],
      "metadata": {
        "colab": {
          "base_uri": "https://localhost:8080/"
        },
        "id": "MD790rgOM9j5",
        "outputId": "76570570-40cf-4e8d-bd2a-2f86f9eccc72"
      },
      "execution_count": null,
      "outputs": [
        {
          "output_type": "stream",
          "name": "stdout",
          "text": [
            "Epoch 1/60\n",
            "17/17 [==============================] - 7s 388ms/step - loss: 26.4754 - accuracy: 0.1608 - val_loss: 2.9266 - val_accuracy: 0.1690\n",
            "Epoch 2/60\n",
            "17/17 [==============================] - 8s 501ms/step - loss: 2.2410 - accuracy: 0.1821 - val_loss: 1.9829 - val_accuracy: 0.2299\n",
            "Epoch 3/60\n",
            "17/17 [==============================] - 6s 379ms/step - loss: 1.9002 - accuracy: 0.2782 - val_loss: 1.7768 - val_accuracy: 0.3186\n",
            "Epoch 4/60\n",
            "17/17 [==============================] - 6s 381ms/step - loss: 1.6780 - accuracy: 0.3336 - val_loss: 1.7869 - val_accuracy: 0.3102\n",
            "Epoch 5/60\n",
            "17/17 [==============================] - 6s 379ms/step - loss: 1.6064 - accuracy: 0.3706 - val_loss: 1.6286 - val_accuracy: 0.3324\n",
            "Epoch 6/60\n",
            "17/17 [==============================] - 6s 380ms/step - loss: 1.5113 - accuracy: 0.4159 - val_loss: 1.6251 - val_accuracy: 0.3546\n",
            "Epoch 7/60\n",
            "17/17 [==============================] - 6s 377ms/step - loss: 1.4418 - accuracy: 0.4501 - val_loss: 1.6556 - val_accuracy: 0.3657\n",
            "Epoch 8/60\n",
            "17/17 [==============================] - 6s 376ms/step - loss: 1.3577 - accuracy: 0.4806 - val_loss: 1.6349 - val_accuracy: 0.3767\n",
            "Epoch 9/60\n",
            "17/17 [==============================] - 6s 377ms/step - loss: 1.3063 - accuracy: 0.5074 - val_loss: 1.6394 - val_accuracy: 0.3989\n",
            "Epoch 10/60\n",
            "17/17 [==============================] - 6s 379ms/step - loss: 1.1940 - accuracy: 0.5665 - val_loss: 1.3914 - val_accuracy: 0.4571\n",
            "Epoch 11/60\n",
            "17/17 [==============================] - 6s 377ms/step - loss: 1.1226 - accuracy: 0.5823 - val_loss: 1.4533 - val_accuracy: 0.4515\n",
            "Epoch 12/60\n",
            "17/17 [==============================] - 6s 376ms/step - loss: 0.9916 - accuracy: 0.6470 - val_loss: 1.3592 - val_accuracy: 0.4903\n",
            "Epoch 13/60\n",
            "17/17 [==============================] - 6s 381ms/step - loss: 0.9484 - accuracy: 0.6543 - val_loss: 1.4303 - val_accuracy: 0.4681\n",
            "Epoch 14/60\n",
            "17/17 [==============================] - 8s 496ms/step - loss: 0.8319 - accuracy: 0.7006 - val_loss: 1.3351 - val_accuracy: 0.5014\n",
            "Epoch 15/60\n",
            "17/17 [==============================] - 6s 380ms/step - loss: 0.7468 - accuracy: 0.7458 - val_loss: 1.3144 - val_accuracy: 0.5374\n",
            "Epoch 16/60\n",
            "17/17 [==============================] - 6s 379ms/step - loss: 0.6491 - accuracy: 0.7800 - val_loss: 1.5258 - val_accuracy: 0.5042\n",
            "Epoch 17/60\n",
            "17/17 [==============================] - 6s 378ms/step - loss: 0.6414 - accuracy: 0.7754 - val_loss: 1.4131 - val_accuracy: 0.5097\n",
            "Epoch 18/60\n",
            "17/17 [==============================] - 6s 380ms/step - loss: 0.5413 - accuracy: 0.8179 - val_loss: 1.4020 - val_accuracy: 0.5374\n",
            "Epoch 19/60\n",
            "17/17 [==============================] - 6s 379ms/step - loss: 0.4944 - accuracy: 0.8346 - val_loss: 1.4103 - val_accuracy: 0.5374\n",
            "Epoch 20/60\n",
            "17/17 [==============================] - 6s 379ms/step - loss: 0.4021 - accuracy: 0.8909 - val_loss: 1.3264 - val_accuracy: 0.5734\n",
            "Epoch 21/60\n",
            "17/17 [==============================] - 6s 378ms/step - loss: 0.3829 - accuracy: 0.8780 - val_loss: 1.4988 - val_accuracy: 0.5235\n",
            "Epoch 22/60\n",
            "17/17 [==============================] - 6s 381ms/step - loss: 0.3786 - accuracy: 0.8771 - val_loss: 1.4663 - val_accuracy: 0.5319\n",
            "Epoch 23/60\n",
            "17/17 [==============================] - 6s 380ms/step - loss: 0.2908 - accuracy: 0.9353 - val_loss: 1.7654 - val_accuracy: 0.5402\n",
            "Epoch 24/60\n",
            "17/17 [==============================] - 6s 381ms/step - loss: 0.2494 - accuracy: 0.9381 - val_loss: 1.5352 - val_accuracy: 0.5429\n",
            "Epoch 25/60\n",
            "17/17 [==============================] - 6s 380ms/step - loss: 0.2048 - accuracy: 0.9510 - val_loss: 1.7261 - val_accuracy: 0.5374\n",
            "Epoch 26/60\n",
            "17/17 [==============================] - 6s 379ms/step - loss: 0.1472 - accuracy: 0.9760 - val_loss: 1.5091 - val_accuracy: 0.5706\n",
            "Epoch 27/60\n",
            "17/17 [==============================] - 6s 378ms/step - loss: 0.1061 - accuracy: 0.9889 - val_loss: 1.5971 - val_accuracy: 0.5762\n",
            "Epoch 28/60\n",
            "17/17 [==============================] - 6s 378ms/step - loss: 0.0844 - accuracy: 0.9945 - val_loss: 1.5432 - val_accuracy: 0.6039\n",
            "Epoch 29/60\n",
            "17/17 [==============================] - 6s 383ms/step - loss: 0.0716 - accuracy: 0.9963 - val_loss: 1.5166 - val_accuracy: 0.6011\n",
            "Epoch 30/60\n",
            "17/17 [==============================] - 6s 380ms/step - loss: 0.0536 - accuracy: 0.9991 - val_loss: 1.7286 - val_accuracy: 0.5900\n",
            "Epoch 31/60\n",
            "17/17 [==============================] - 6s 380ms/step - loss: 0.0446 - accuracy: 0.9991 - val_loss: 1.6108 - val_accuracy: 0.6122\n",
            "Epoch 32/60\n",
            "17/17 [==============================] - 6s 382ms/step - loss: 0.0375 - accuracy: 0.9991 - val_loss: 1.7288 - val_accuracy: 0.6066\n",
            "Epoch 33/60\n",
            "17/17 [==============================] - 6s 376ms/step - loss: 0.0311 - accuracy: 0.9991 - val_loss: 1.7022 - val_accuracy: 0.6122\n",
            "Epoch 34/60\n",
            "17/17 [==============================] - 6s 382ms/step - loss: 0.0229 - accuracy: 1.0000 - val_loss: 1.7418 - val_accuracy: 0.6177\n",
            "Epoch 35/60\n",
            "17/17 [==============================] - 6s 379ms/step - loss: 0.0208 - accuracy: 1.0000 - val_loss: 1.8654 - val_accuracy: 0.6066\n",
            "Epoch 36/60\n",
            "17/17 [==============================] - 6s 377ms/step - loss: 0.0178 - accuracy: 1.0000 - val_loss: 1.8368 - val_accuracy: 0.6122\n",
            "Epoch 37/60\n",
            "17/17 [==============================] - 6s 380ms/step - loss: 0.0153 - accuracy: 1.0000 - val_loss: 1.8861 - val_accuracy: 0.6205\n",
            "Epoch 38/60\n",
            "17/17 [==============================] - 6s 378ms/step - loss: 0.0139 - accuracy: 1.0000 - val_loss: 1.9156 - val_accuracy: 0.6150\n",
            "Epoch 39/60\n",
            "17/17 [==============================] - 6s 384ms/step - loss: 0.0131 - accuracy: 1.0000 - val_loss: 1.9179 - val_accuracy: 0.6122\n",
            "Epoch 40/60\n",
            "17/17 [==============================] - 6s 378ms/step - loss: 0.0112 - accuracy: 1.0000 - val_loss: 1.9114 - val_accuracy: 0.6177\n",
            "Epoch 41/60\n",
            "17/17 [==============================] - 6s 382ms/step - loss: 0.0099 - accuracy: 1.0000 - val_loss: 2.0010 - val_accuracy: 0.6122\n",
            "Epoch 42/60\n",
            "17/17 [==============================] - 6s 382ms/step - loss: 0.0096 - accuracy: 1.0000 - val_loss: 2.0672 - val_accuracy: 0.6094\n",
            "Epoch 43/60\n",
            "17/17 [==============================] - 6s 382ms/step - loss: 0.0086 - accuracy: 1.0000 - val_loss: 2.0353 - val_accuracy: 0.6122\n",
            "Epoch 44/60\n",
            "17/17 [==============================] - 6s 378ms/step - loss: 0.0074 - accuracy: 1.0000 - val_loss: 2.0209 - val_accuracy: 0.6122\n",
            "Epoch 45/60\n",
            "17/17 [==============================] - 6s 379ms/step - loss: 0.0068 - accuracy: 1.0000 - val_loss: 2.0893 - val_accuracy: 0.6066\n",
            "Epoch 46/60\n",
            "17/17 [==============================] - 6s 379ms/step - loss: 0.0065 - accuracy: 1.0000 - val_loss: 2.1240 - val_accuracy: 0.6094\n",
            "Epoch 47/60\n",
            "17/17 [==============================] - 6s 379ms/step - loss: 0.0058 - accuracy: 1.0000 - val_loss: 2.1051 - val_accuracy: 0.6094\n",
            "Epoch 48/60\n",
            "17/17 [==============================] - 6s 381ms/step - loss: 0.0055 - accuracy: 1.0000 - val_loss: 2.1095 - val_accuracy: 0.6094\n",
            "Epoch 49/60\n",
            "17/17 [==============================] - 6s 380ms/step - loss: 0.0050 - accuracy: 1.0000 - val_loss: 2.1258 - val_accuracy: 0.6094\n",
            "Epoch 50/60\n",
            "17/17 [==============================] - 6s 382ms/step - loss: 0.0047 - accuracy: 1.0000 - val_loss: 2.1565 - val_accuracy: 0.6066\n",
            "Epoch 51/60\n",
            "17/17 [==============================] - 6s 384ms/step - loss: 0.0046 - accuracy: 1.0000 - val_loss: 2.1494 - val_accuracy: 0.6122\n",
            "Epoch 52/60\n",
            "17/17 [==============================] - 6s 377ms/step - loss: 0.0042 - accuracy: 1.0000 - val_loss: 2.2190 - val_accuracy: 0.6122\n",
            "Epoch 53/60\n",
            "17/17 [==============================] - 6s 381ms/step - loss: 0.0041 - accuracy: 1.0000 - val_loss: 2.2616 - val_accuracy: 0.6066\n",
            "Epoch 54/60\n",
            "17/17 [==============================] - 6s 380ms/step - loss: 0.0038 - accuracy: 1.0000 - val_loss: 2.2381 - val_accuracy: 0.6066\n",
            "Epoch 55/60\n",
            "17/17 [==============================] - 6s 380ms/step - loss: 0.0036 - accuracy: 1.0000 - val_loss: 2.2343 - val_accuracy: 0.6205\n",
            "Epoch 56/60\n",
            "17/17 [==============================] - 6s 382ms/step - loss: 0.0033 - accuracy: 1.0000 - val_loss: 2.2245 - val_accuracy: 0.6150\n",
            "Epoch 57/60\n",
            "17/17 [==============================] - 6s 381ms/step - loss: 0.0031 - accuracy: 1.0000 - val_loss: 2.2700 - val_accuracy: 0.6039\n",
            "Epoch 58/60\n",
            "17/17 [==============================] - 6s 383ms/step - loss: 0.0030 - accuracy: 1.0000 - val_loss: 2.2637 - val_accuracy: 0.6094\n",
            "Epoch 59/60\n",
            "17/17 [==============================] - 6s 382ms/step - loss: 0.0028 - accuracy: 1.0000 - val_loss: 2.2525 - val_accuracy: 0.6233\n",
            "Epoch 60/60\n",
            "17/17 [==============================] - 7s 391ms/step - loss: 0.0027 - accuracy: 1.0000 - val_loss: 2.2574 - val_accuracy: 0.6177\n"
          ]
        }
      ]
    },
    {
      "cell_type": "code",
      "source": [
        "eps=60\n",
        "print(\"Accuracy of our model on test data : \" , model_003.evaluate(x_test,y_test)[1]*100 , \"%\")\n",
        "\n",
        "epochs = [i for i in range(eps)]\n",
        "fig , ax = plt.subplots(1,2)\n",
        "train_acc_003 = history003.history['accuracy']\n",
        "train_loss_003 = history003.history['loss']\n",
        "test_acc_003 = history003.history['val_accuracy']\n",
        "test_loss_003 = history003.history['val_loss']\n",
        "\n",
        "fig.set_size_inches(20,6)\n",
        "ax[0].plot(epochs , train_loss_003 , label = 'Training Loss')\n",
        "ax[0].plot(epochs , test_loss_003 , label = 'Testing Loss')\n",
        "ax[0].set_title('Training & Testing Loss')\n",
        "ax[0].legend()\n",
        "ax[0].set_xlabel(\"Epochs\")\n",
        "\n",
        "ax[1].plot(epochs , train_acc_003 , label = 'Training Accuracy')\n",
        "ax[1].plot(epochs , test_acc_003 , label = 'Testing Accuracy')\n",
        "ax[1].set_title('Training & Testing Accuracy')\n",
        "ax[1].legend()\n",
        "ax[1].set_xlabel(\"Epochs\")\n",
        "plt.show()"
      ],
      "metadata": {
        "colab": {
          "base_uri": "https://localhost:8080/",
          "height": 440
        },
        "id": "-C2QfETuM9x_",
        "outputId": "986d9701-ae3f-4a93-8b06-6542432232e9"
      },
      "execution_count": null,
      "outputs": [
        {
          "output_type": "stream",
          "name": "stdout",
          "text": [
            "12/12 [==============================] - 1s 50ms/step - loss: 2.2574 - accuracy: 0.6177\n",
            "Accuracy of our model on test data :  61.77285313606262 %\n"
          ]
        },
        {
          "output_type": "display_data",
          "data": {
            "text/plain": [
              "<Figure size 1440x432 with 2 Axes>"
            ],
            "image/png": "[encoded data removed]"
          },
          "metadata": {
            "needs_background": "light"
          }
        }
      ]
    },
    {
      "cell_type": "code",
      "source": [
        "model_003.save(\"speech_model_CNN_003.tf\", save_format='tf')"
      ],
      "metadata": {
        "colab": {
          "base_uri": "https://localhost:8080/"
        },
        "id": "sMMoVfoNM-RN",
        "outputId": "ebc070b7-2e11-4c4e-bca8-8c222b6a0999"
      },
      "execution_count": null,
      "outputs": [
        {
          "output_type": "stream",
          "name": "stdout",
          "text": [
            "INFO:tensorflow:Assets written to: speech_model_CNN_003.tf/assets\n"
          ]
        }
      ]
    },
    {
      "cell_type": "code",
      "source": [
        "model_004=Sequential()\n",
        "model_004.add(Conv2D(32, (3,3),input_shape=(224,20,1),strides=(1,1), padding='same', activation='relu'))\n",
        "model_004.add(MaxPooling2D(pool_size=(2,2)))\n",
        "model_004.add(Conv2D(64, (3,3), padding='same', activation='relu'))\n",
        "model_004.add(MaxPooling2D(pool_size=(2,2)))\n",
        "model_004.add(Conv2D(64, (3,3), padding='same', activation='relu'))\n",
        "model_004.add(MaxPooling2D(pool_size=(2,2)))\n",
        "model_004.add(Conv2D(64, (3,3), padding='same', activation='relu'))\n",
        "model_004.add(MaxPooling2D(pool_size=(2,2)))\n",
        "model_004.add(Flatten())\n",
        "model_004.add(Dense(64))\n",
        "model_004.add(Activation('relu'))\n",
        "model_004.add(Dense(units=8, activation='softmax'))\n",
        "model_004.compile(optimizer = 'adam' , loss = 'categorical_crossentropy' , metrics = ['accuracy'])\n",
        "model_004.summary()"
      ],
      "metadata": {
        "colab": {
          "base_uri": "https://localhost:8080/"
        },
        "id": "-iFmumVNXPeG",
        "outputId": "45b2391f-ca5c-4a22-e711-5236a0bec649"
      },
      "execution_count": null,
      "outputs": [
        {
          "output_type": "stream",
          "name": "stdout",
          "text": [
            "Model: \"sequential_6\"\n",
            "_________________________________________________________________\n",
            " Layer (type)                Output Shape              Param #   \n",
            "=================================================================\n",
            " conv2d_19 (Conv2D)          (None, 224, 20, 32)       320       \n",
            "                                                                 \n",
            " max_pooling2d_19 (MaxPoolin  (None, 112, 10, 32)      0         \n",
            " g2D)                                                            \n",
            "                                                                 \n",
            " conv2d_20 (Conv2D)          (None, 112, 10, 64)       18496     \n",
            "                                                                 \n",
            " max_pooling2d_20 (MaxPoolin  (None, 56, 5, 64)        0         \n",
            " g2D)                                                            \n",
            "                                                                 \n",
            " conv2d_21 (Conv2D)          (None, 56, 5, 64)         36928     \n",
            "                                                                 \n",
            " max_pooling2d_21 (MaxPoolin  (None, 28, 2, 64)        0         \n",
            " g2D)                                                            \n",
            "                                                                 \n",
            " conv2d_22 (Conv2D)          (None, 28, 2, 64)         36928     \n",
            "                                                                 \n",
            " max_pooling2d_22 (MaxPoolin  (None, 14, 1, 64)        0         \n",
            " g2D)                                                            \n",
            "                                                                 \n",
            " flatten_6 (Flatten)         (None, 896)               0         \n",
            "                                                                 \n",
            " dense_12 (Dense)            (None, 64)                57408     \n",
            "                                                                 \n",
            " activation_6 (Activation)   (None, 64)                0         \n",
            "                                                                 \n",
            " dense_13 (Dense)            (None, 8)                 520       \n",
            "                                                                 \n",
            "=================================================================\n",
            "Total params: 150,600\n",
            "Trainable params: 150,600\n",
            "Non-trainable params: 0\n",
            "_________________________________________________________________\n"
          ]
        }
      ]
    },
    {
      "cell_type": "code",
      "source": [
        "history004=model_004.fit(x_train, y_train, batch_size=64, epochs=60, validation_data=(x_test, y_test))\n"
      ],
      "metadata": {
        "colab": {
          "base_uri": "https://localhost:8080/"
        },
        "id": "NyzOuSEzXPsJ",
        "outputId": "6337faa1-2f13-4ce1-c1d5-3bf911837987"
      },
      "execution_count": null,
      "outputs": [
        {
          "output_type": "stream",
          "name": "stdout",
          "text": [
            "Epoch 1/60\n",
            "17/17 [==============================] - 11s 555ms/step - loss: 9.6351 - accuracy: 0.1645 - val_loss: 2.2038 - val_accuracy: 0.1662\n",
            "Epoch 2/60\n",
            "17/17 [==============================] - 9s 548ms/step - loss: 2.0333 - accuracy: 0.2190 - val_loss: 2.0639 - val_accuracy: 0.1884\n",
            "Epoch 3/60\n",
            "17/17 [==============================] - 9s 547ms/step - loss: 1.9466 - accuracy: 0.2283 - val_loss: 1.8730 - val_accuracy: 0.2825\n",
            "Epoch 4/60\n",
            "17/17 [==============================] - 9s 546ms/step - loss: 1.8240 - accuracy: 0.2957 - val_loss: 1.8226 - val_accuracy: 0.2715\n",
            "Epoch 5/60\n",
            "17/17 [==============================] - 9s 548ms/step - loss: 1.7237 - accuracy: 0.3438 - val_loss: 1.7407 - val_accuracy: 0.3241\n",
            "Epoch 6/60\n",
            "17/17 [==============================] - 9s 547ms/step - loss: 1.6606 - accuracy: 0.3872 - val_loss: 1.7037 - val_accuracy: 0.3186\n",
            "Epoch 7/60\n",
            "17/17 [==============================] - 9s 544ms/step - loss: 1.5701 - accuracy: 0.4214 - val_loss: 1.7192 - val_accuracy: 0.3269\n",
            "Epoch 8/60\n",
            "17/17 [==============================] - 9s 544ms/step - loss: 1.6061 - accuracy: 0.4140 - val_loss: 1.6541 - val_accuracy: 0.3767\n",
            "Epoch 9/60\n",
            "17/17 [==============================] - 9s 545ms/step - loss: 1.5088 - accuracy: 0.4445 - val_loss: 1.6117 - val_accuracy: 0.3740\n",
            "Epoch 10/60\n",
            "17/17 [==============================] - 9s 543ms/step - loss: 1.4137 - accuracy: 0.4797 - val_loss: 1.5681 - val_accuracy: 0.3850\n",
            "Epoch 11/60\n",
            "17/17 [==============================] - 9s 544ms/step - loss: 1.3318 - accuracy: 0.4926 - val_loss: 1.4971 - val_accuracy: 0.4349\n",
            "Epoch 12/60\n",
            "17/17 [==============================] - 10s 602ms/step - loss: 1.2647 - accuracy: 0.5277 - val_loss: 1.5153 - val_accuracy: 0.4155\n",
            "Epoch 13/60\n",
            "17/17 [==============================] - 9s 543ms/step - loss: 1.2473 - accuracy: 0.5407 - val_loss: 1.5569 - val_accuracy: 0.4072\n",
            "Epoch 14/60\n",
            "17/17 [==============================] - 9s 543ms/step - loss: 1.2154 - accuracy: 0.5555 - val_loss: 1.4385 - val_accuracy: 0.4266\n",
            "Epoch 15/60\n",
            "17/17 [==============================] - 9s 544ms/step - loss: 1.1167 - accuracy: 0.5980 - val_loss: 1.4155 - val_accuracy: 0.4598\n",
            "Epoch 16/60\n",
            "17/17 [==============================] - 9s 547ms/step - loss: 1.0108 - accuracy: 0.6396 - val_loss: 1.3239 - val_accuracy: 0.5208\n",
            "Epoch 17/60\n",
            "17/17 [==============================] - 9s 547ms/step - loss: 0.9505 - accuracy: 0.6608 - val_loss: 1.3510 - val_accuracy: 0.5125\n",
            "Epoch 18/60\n",
            "17/17 [==============================] - 9s 549ms/step - loss: 0.8734 - accuracy: 0.7024 - val_loss: 1.3610 - val_accuracy: 0.5125\n",
            "Epoch 19/60\n",
            "17/17 [==============================] - 9s 548ms/step - loss: 0.8365 - accuracy: 0.7116 - val_loss: 1.3129 - val_accuracy: 0.5291\n",
            "Epoch 20/60\n",
            "17/17 [==============================] - 9s 547ms/step - loss: 0.7394 - accuracy: 0.7440 - val_loss: 1.3748 - val_accuracy: 0.5069\n",
            "Epoch 21/60\n",
            "17/17 [==============================] - 9s 549ms/step - loss: 0.6070 - accuracy: 0.7948 - val_loss: 1.3206 - val_accuracy: 0.5346\n",
            "Epoch 22/60\n",
            "17/17 [==============================] - 9s 546ms/step - loss: 0.6561 - accuracy: 0.7523 - val_loss: 1.6607 - val_accuracy: 0.4903\n",
            "Epoch 23/60\n",
            "17/17 [==============================] - 9s 546ms/step - loss: 0.6706 - accuracy: 0.7643 - val_loss: 1.3504 - val_accuracy: 0.5235\n",
            "Epoch 24/60\n",
            "17/17 [==============================] - 11s 673ms/step - loss: 0.5055 - accuracy: 0.8346 - val_loss: 1.2723 - val_accuracy: 0.5817\n",
            "Epoch 25/60\n",
            "17/17 [==============================] - 9s 547ms/step - loss: 0.4188 - accuracy: 0.8725 - val_loss: 1.4883 - val_accuracy: 0.5402\n",
            "Epoch 26/60\n",
            "17/17 [==============================] - 9s 548ms/step - loss: 0.3441 - accuracy: 0.8974 - val_loss: 1.3348 - val_accuracy: 0.5928\n",
            "Epoch 27/60\n",
            "17/17 [==============================] - 9s 547ms/step - loss: 0.2950 - accuracy: 0.9113 - val_loss: 1.3371 - val_accuracy: 0.5817\n",
            "Epoch 28/60\n",
            "17/17 [==============================] - 9s 545ms/step - loss: 0.2697 - accuracy: 0.9261 - val_loss: 1.7055 - val_accuracy: 0.5374\n",
            "Epoch 29/60\n",
            "17/17 [==============================] - 9s 548ms/step - loss: 0.2235 - accuracy: 0.9501 - val_loss: 1.4109 - val_accuracy: 0.6122\n",
            "Epoch 30/60\n",
            "17/17 [==============================] - 9s 548ms/step - loss: 0.1944 - accuracy: 0.9510 - val_loss: 1.6085 - val_accuracy: 0.5679\n",
            "Epoch 31/60\n",
            "17/17 [==============================] - 9s 546ms/step - loss: 0.1821 - accuracy: 0.9519 - val_loss: 1.6369 - val_accuracy: 0.5762\n",
            "Epoch 32/60\n",
            "17/17 [==============================] - 9s 551ms/step - loss: 0.1506 - accuracy: 0.9723 - val_loss: 1.5272 - val_accuracy: 0.6094\n",
            "Epoch 33/60\n",
            "17/17 [==============================] - 9s 546ms/step - loss: 0.1229 - accuracy: 0.9750 - val_loss: 1.5223 - val_accuracy: 0.6039\n",
            "Epoch 34/60\n",
            "17/17 [==============================] - 9s 544ms/step - loss: 0.1474 - accuracy: 0.9658 - val_loss: 1.8181 - val_accuracy: 0.5900\n",
            "Epoch 35/60\n",
            "17/17 [==============================] - 9s 547ms/step - loss: 0.1158 - accuracy: 0.9723 - val_loss: 1.5571 - val_accuracy: 0.6343\n",
            "Epoch 36/60\n",
            "17/17 [==============================] - 9s 547ms/step - loss: 0.0845 - accuracy: 0.9861 - val_loss: 1.7861 - val_accuracy: 0.5512\n",
            "Epoch 37/60\n",
            "17/17 [==============================] - 9s 551ms/step - loss: 0.0546 - accuracy: 0.9963 - val_loss: 1.8094 - val_accuracy: 0.6094\n",
            "Epoch 38/60\n",
            "17/17 [==============================] - 9s 547ms/step - loss: 0.0456 - accuracy: 0.9991 - val_loss: 1.7900 - val_accuracy: 0.5900\n",
            "Epoch 39/60\n",
            "17/17 [==============================] - 9s 548ms/step - loss: 0.0390 - accuracy: 0.9963 - val_loss: 1.8376 - val_accuracy: 0.6150\n",
            "Epoch 40/60\n",
            "17/17 [==============================] - 9s 547ms/step - loss: 0.0288 - accuracy: 0.9991 - val_loss: 1.8500 - val_accuracy: 0.6039\n",
            "Epoch 41/60\n",
            "17/17 [==============================] - 9s 546ms/step - loss: 0.0242 - accuracy: 0.9991 - val_loss: 1.9328 - val_accuracy: 0.6288\n",
            "Epoch 42/60\n",
            "17/17 [==============================] - 9s 547ms/step - loss: 0.0187 - accuracy: 1.0000 - val_loss: 1.9435 - val_accuracy: 0.6150\n",
            "Epoch 43/60\n",
            "17/17 [==============================] - 9s 548ms/step - loss: 0.0131 - accuracy: 1.0000 - val_loss: 1.9495 - val_accuracy: 0.6150\n",
            "Epoch 44/60\n",
            "17/17 [==============================] - 9s 549ms/step - loss: 0.0109 - accuracy: 1.0000 - val_loss: 1.9592 - val_accuracy: 0.6316\n",
            "Epoch 45/60\n",
            "17/17 [==============================] - 9s 552ms/step - loss: 0.0093 - accuracy: 1.0000 - val_loss: 1.9653 - val_accuracy: 0.6177\n",
            "Epoch 46/60\n",
            "17/17 [==============================] - 9s 547ms/step - loss: 0.0083 - accuracy: 1.0000 - val_loss: 1.9953 - val_accuracy: 0.6205\n",
            "Epoch 47/60\n",
            "17/17 [==============================] - 9s 548ms/step - loss: 0.0077 - accuracy: 1.0000 - val_loss: 2.0538 - val_accuracy: 0.6233\n",
            "Epoch 48/60\n",
            "17/17 [==============================] - 9s 548ms/step - loss: 0.0067 - accuracy: 1.0000 - val_loss: 2.0776 - val_accuracy: 0.6205\n",
            "Epoch 49/60\n",
            "17/17 [==============================] - 9s 548ms/step - loss: 0.0062 - accuracy: 1.0000 - val_loss: 2.0808 - val_accuracy: 0.6288\n",
            "Epoch 50/60\n",
            "17/17 [==============================] - 9s 549ms/step - loss: 0.0056 - accuracy: 1.0000 - val_loss: 2.1277 - val_accuracy: 0.6205\n",
            "Epoch 51/60\n",
            "17/17 [==============================] - 9s 544ms/step - loss: 0.0052 - accuracy: 1.0000 - val_loss: 2.1285 - val_accuracy: 0.6205\n",
            "Epoch 52/60\n",
            "17/17 [==============================] - 9s 542ms/step - loss: 0.0048 - accuracy: 1.0000 - val_loss: 2.1369 - val_accuracy: 0.6288\n",
            "Epoch 53/60\n",
            "17/17 [==============================] - 9s 543ms/step - loss: 0.0044 - accuracy: 1.0000 - val_loss: 2.1553 - val_accuracy: 0.6288\n",
            "Epoch 54/60\n",
            "17/17 [==============================] - 9s 540ms/step - loss: 0.0043 - accuracy: 1.0000 - val_loss: 2.1933 - val_accuracy: 0.6343\n",
            "Epoch 55/60\n",
            "17/17 [==============================] - 9s 544ms/step - loss: 0.0040 - accuracy: 1.0000 - val_loss: 2.2020 - val_accuracy: 0.6177\n",
            "Epoch 56/60\n",
            "17/17 [==============================] - 9s 542ms/step - loss: 0.0038 - accuracy: 1.0000 - val_loss: 2.2289 - val_accuracy: 0.6260\n",
            "Epoch 57/60\n",
            "17/17 [==============================] - 9s 542ms/step - loss: 0.0034 - accuracy: 1.0000 - val_loss: 2.2206 - val_accuracy: 0.6316\n",
            "Epoch 58/60\n",
            "17/17 [==============================] - 9s 545ms/step - loss: 0.0033 - accuracy: 1.0000 - val_loss: 2.2140 - val_accuracy: 0.6260\n",
            "Epoch 59/60\n",
            "17/17 [==============================] - 9s 540ms/step - loss: 0.0030 - accuracy: 1.0000 - val_loss: 2.2431 - val_accuracy: 0.6233\n",
            "Epoch 60/60\n",
            "17/17 [==============================] - 9s 542ms/step - loss: 0.0029 - accuracy: 1.0000 - val_loss: 2.2594 - val_accuracy: 0.6233\n"
          ]
        }
      ]
    },
    {
      "cell_type": "code",
      "source": [
        "\n",
        "\n",
        "print(\"Accuracy of our model on test data : \" , model_004.evaluate(x_test,y_test)[1]*100 , \"%\")\n",
        "\n",
        "epochs = [i for i in range(eps)]\n",
        "fig , ax = plt.subplots(1,2)\n",
        "train_acc_004 = history004.history['accuracy']\n",
        "train_loss_004 = history004.history['loss']\n",
        "test_acc_004 = history004.history['val_accuracy']\n",
        "test_loss_004 = history004.history['val_loss']\n",
        "\n",
        "fig.set_size_inches(20,6)\n",
        "ax[0].plot(epochs , train_loss_004 , label = 'Training Loss')\n",
        "ax[0].plot(epochs , test_loss_004 , label = 'Testing Loss')\n",
        "ax[0].set_title('Training & Testing Loss')\n",
        "ax[0].legend()\n",
        "ax[0].set_xlabel(\"Epochs\")\n",
        "\n",
        "ax[1].plot(epochs , train_acc_004 , label = 'Training Accuracy')\n",
        "ax[1].plot(epochs , test_acc_004 , label = 'Testing Accuracy')\n",
        "ax[1].set_title('Training & Testing Accuracy')\n",
        "ax[1].legend()\n",
        "ax[1].set_xlabel(\"Epochs\")\n",
        "plt.show()"
      ],
      "metadata": {
        "colab": {
          "base_uri": "https://localhost:8080/",
          "height": 440
        },
        "id": "RIPLh0nXXP26",
        "outputId": "111100f2-302d-417f-cc98-f1e532614039"
      },
      "execution_count": null,
      "outputs": [
        {
          "output_type": "stream",
          "name": "stdout",
          "text": [
            "12/12 [==============================] - 1s 68ms/step - loss: 2.2594 - accuracy: 0.6233\n",
            "Accuracy of our model on test data :  62.3268723487854 %\n"
          ]
        },
        {
          "output_type": "display_data",
          "data": {
            "text/plain": [
              "<Figure size 1440x432 with 2 Axes>"
            ],
            "image/png": "[encoded data removed]"
          },
          "metadata": {
            "needs_background": "light"
          }
        }
      ]
    },
    {
      "cell_type": "code",
      "source": [
        "model_004.save(\"speech_model_CNN_004.tf\", save_format='tf')"
      ],
      "metadata": {
        "id": "SZ-YkaTKmWp2",
        "outputId": "97029491-5d00-4baa-9292-40e2d289dd5f",
        "colab": {
          "base_uri": "https://localhost:8080/"
        }
      },
      "execution_count": null,
      "outputs": [
        {
          "output_type": "stream",
          "name": "stdout",
          "text": [
            "INFO:tensorflow:Assets written to: speech_model_CNN_004.tf/assets\n"
          ]
        }
      ]
    },
    {
      "cell_type": "code",
      "source": [
        "from sklearn.metrics import confusion_matrix, classification_report\n",
        "import seaborn as sns\n",
        "\n",
        "# predicting on test data.\n",
        "pred_test = model_004.predict(x_test)\n",
        "y_pred = encoder.inverse_transform(pred_test)\n",
        "\n",
        "y_test_ = encoder.inverse_transform(y_test)\n",
        "cm = confusion_matrix(y_test_, y_pred)\n",
        "plt.figure(figsize = (12, 10))\n",
        "cm = pd.DataFrame(cm , index = [i for i in encoder.categories_] , columns = [i for i in encoder.categories_])\n",
        "sns.heatmap(cm, linecolor='white', cmap='Blues', linewidth=1, annot=True, fmt='')\n",
        "plt.title('Confusion Matrix', size=20)\n",
        "plt.xlabel('Predicted Labels', size=14)\n",
        "plt.ylabel('Actual Labels', size=14)\n",
        "plt.show()"
      ],
      "metadata": {
        "colab": {
          "base_uri": "https://localhost:8080/",
          "height": 630
        },
        "id": "C5hwMj6-EWPv",
        "outputId": "e018422b-1332-4ef1-b545-f6efaadd79ec"
      },
      "execution_count": null,
      "outputs": [
        {
          "output_type": "display_data",
          "data": {
            "text/plain": [
              "<Figure size 864x720 with 2 Axes>"
            ],
            "image/png": "[encoded data removed]"
          },
          "metadata": {
            "needs_background": "light"
          }
        }
      ]
    },
    {
      "cell_type": "code",
      "source": [
        ""
      ],
      "metadata": {
        "id": "39KZh_upkpvT"
      },
      "execution_count": null,
      "outputs": []
    },
    {
      "cell_type": "code",
      "source": [
        ""
      ],
      "metadata": {
        "id": "ERH_rMhxkp4w"
      },
      "execution_count": null,
      "outputs": []
    },
    {
      "cell_type": "code",
      "source": [
        ""
      ],
      "metadata": {
        "id": "rl3rPBB6kqIP"
      },
      "execution_count": null,
      "outputs": []
    },
    {
      "cell_type": "code",
      "source": [
        ""
      ],
      "metadata": {
        "id": "RTWl-gK2kqVd"
      },
      "execution_count": null,
      "outputs": []
    },
    {
      "cell_type": "code",
      "source": [
        "import seaborn as sns\n",
        "import matplotlib.pylab as plt\n",
        "from itertools import cycle\n",
        "\n",
        "\n",
        "sns.set_theme(style=\"white\", palette=None)\n",
        "color_pal = plt.rcParams[\"axes.prop_cycle\"].by_key()[\"color\"]\n",
        "color_cycle = cycle(plt.rcParams[\"axes.prop_cycle\"].by_key()[\"color\"])"
      ],
      "metadata": {
        "id": "uOOz1kDT2Fah"
      },
      "execution_count": null,
      "outputs": []
    },
    {
      "cell_type": "code",
      "source": [
        "pd.Series(y).plot(figsize=(10, 5),\n",
        "                  lw=1,\n",
        "                  title='Raw Audio Example',\n",
        "                 color=color_pal[0])\n",
        "plt.show()"
      ],
      "metadata": {
        "colab": {
          "base_uri": "https://localhost:8080/",
          "height": 338
        },
        "id": "hHWvbH731zOT",
        "outputId": "377cb394-9bcc-4b45-d3a5-69b513a5d20f"
      },
      "execution_count": null,
      "outputs": [
        {
          "output_type": "display_data",
          "data": {
            "text/plain": [
              "<Figure size 720x360 with 1 Axes>"
            ],
            "image/png": "[encoded data removed]"
          },
          "metadata": {}
        }
      ]
    },
    {
      "cell_type": "code",
      "source": [
        "import librosa.display\n",
        "import IPython.display as ipd\n",
        "ipd.Audio(audio_files[0])"
      ],
      "metadata": {
        "colab": {
          "base_uri": "https://localhost:8080/",
          "height": 61
        },
        "id": "h44oumBP2kIs",
        "outputId": "c2747b36-8055-475c-b743-565d3a32d61d"
      },
      "execution_count": null,
      "outputs": [
        {
          "output_type": "execute_result",
          "data": {
            "text/plain": [
              "<IPython.lib.display.Audio object>"
            ],
            "text/html": [
              "\n",
              "                <audio controls=\"controls\" >\n",
              "                    <source src=\"data:audio/x-wav;base64,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\" type=\"audio/x-wav\" />\n",
              "                    Your browser does not support the audio element.\n",
              "                </audio>\n",
              "              "
            ]
          },
          "metadata": {},
          "execution_count": 12
        }
      ]
    },
    {
      "cell_type": "code",
      "source": [
        "result = np.array([])\n",
        "zcr = np.mean(librosa.feature.zero_crossing_rate(y=y).T, axis=0)\n",
        "result=np.hstack((result, zcr)) # stacking horizontally\n"
      ],
      "metadata": {
        "id": "b7VYfn-_DNbz"
      },
      "execution_count": null,
      "outputs": []
    },
    {
      "cell_type": "code",
      "source": [
        "crosszr= librosa.feature.zero_crossing_rate(y=y, frame_length=512, hop_length=256 )"
      ],
      "metadata": {
        "id": "_qf8-DyzUEKK"
      },
      "execution_count": null,
      "outputs": []
    },
    {
      "cell_type": "code",
      "source": [
        "print(crosszr)\n",
        "print(crosszr.shape)"
      ],
      "metadata": {
        "colab": {
          "base_uri": "https://localhost:8080/"
        },
        "id": "KUkvVB5TDh5L",
        "outputId": "1dd83e24-5b86-43a1-ad47-30c691ed707b"
      },
      "execution_count": null,
      "outputs": [
        {
          "output_type": "stream",
          "name": "stdout",
          "text": [
            "[[0.11132812 0.20898438 0.18945312 0.18359375 0.1875     0.19921875\n",
            "  0.2109375  0.21484375 0.203125   0.1953125  0.1953125  0.16015625\n",
            "  0.1484375  0.16796875 0.17773438 0.18945312 0.18359375 0.16210938\n",
            "  0.1796875  0.20507812 0.19921875 0.20117188 0.20703125 0.21875\n",
            "  0.2109375  0.20507812 0.23632812 0.23632812 0.20507812 0.19335938\n",
            "  0.20703125 0.22265625 0.23828125 0.2421875  0.22070312 0.22460938\n",
            "  0.25976562 0.24804688 0.25585938 0.25195312 0.24414062 0.23242188\n",
            "  0.20117188 0.25195312 0.28710938 0.265625   0.26953125 0.27148438\n",
            "  0.27734375 0.29101562 0.2734375  0.25390625 0.2578125  0.234375\n",
            "  0.22460938 0.24804688 0.24023438 0.2265625  0.25       0.265625\n",
            "  0.22851562 0.23242188 0.26171875 0.34765625 0.48046875 0.42382812\n",
            "  0.4296875  0.47460938 0.3984375  0.3671875  0.34765625 0.29296875\n",
            "  0.25585938 0.3515625  0.39453125 0.35546875 0.43945312 0.47460938\n",
            "  0.50390625 0.45898438 0.39648438 0.44335938 0.47851562 0.4765625\n",
            "  0.41796875 0.33398438 0.32421875 0.36132812 0.31835938 0.28515625\n",
            "  0.3046875  0.3046875  0.23828125 0.18945312 0.19921875 0.1953125\n",
            "  0.125      0.06054688 0.05664062 0.078125   0.09570312 0.11132812\n",
            "  0.10742188 0.08984375 0.08789062 0.07617188 0.06445312 0.06054688\n",
            "  0.05078125 0.06835938 0.09375    0.07421875 0.03515625 0.0234375\n",
            "  0.04492188 0.06835938 0.11523438 0.30664062 0.48632812 0.51171875\n",
            "  0.38671875 0.15820312 0.04101562 0.04101562 0.04101562 0.06445312\n",
            "  0.07226562 0.05273438 0.05273438 0.05273438 0.05078125 0.0546875\n",
            "  0.05273438 0.04882812 0.04882812 0.06640625 0.0859375  0.06640625\n",
            "  0.03125    0.01953125 0.02929688 0.06640625 0.26757812 0.40820312\n",
            "  0.31835938 0.25       0.23242188 0.24023438 0.24804688 0.25585938\n",
            "  0.22460938 0.14648438 0.07617188 0.04882812 0.06835938 0.06835938\n",
            "  0.06445312 0.0703125  0.06835938 0.06835938 0.06835938 0.05859375\n",
            "  0.05859375 0.06835938 0.06835938 0.06445312 0.06445312 0.07226562\n",
            "  0.08007812 0.07617188 0.06445312 0.06835938 0.140625   0.1875\n",
            "  0.16796875 0.12109375 0.06640625 0.08007812 0.11132812 0.10546875\n",
            "  0.10351562 0.11132812 0.0859375  0.0703125  0.078125   0.06054688\n",
            "  0.03515625 0.03320312 0.06445312 0.05273438 0.02539062 0.0234375\n",
            "  0.01757812 0.01953125 0.02929688 0.0390625  0.03320312 0.02734375\n",
            "  0.03710938 0.0546875  0.06445312 0.06054688 0.08398438 0.09179688\n",
            "  0.0859375  0.09375    0.06640625 0.06054688 0.07226562 0.05859375\n",
            "  0.07421875 0.0859375  0.07421875 0.06054688 0.06640625 0.10742188\n",
            "  0.1171875  0.06445312 0.02929688 0.0390625  0.0390625  0.02929688\n",
            "  0.03125    0.05078125 0.06835938 0.07421875 0.0625     0.04296875\n",
            "  0.07226562 0.18554688 0.14648438 0.04296875 0.04101562 0.03515625\n",
            "  0.0390625  0.04296875 0.04101562 0.04296875 0.04492188 0.04101562\n",
            "  0.0390625  0.04296875 0.046875   0.04296875 0.0390625  0.04101562\n",
            "  0.04296875 0.0390625  0.03710938 0.04101562 0.03710938 0.0390625\n",
            "  0.04492188 0.03710938 0.03320312 0.03515625 0.02539062 0.0234375\n",
            "  0.04492188 0.08789062 0.08398438 0.0625     0.04492188 0.0234375\n",
            "  0.0546875  0.06835938 0.08984375 0.22265625 0.19726562 0.17382812\n",
            "  0.203125   0.23046875 0.3203125  0.37890625 0.38085938 0.29882812\n",
            "  0.28710938 0.28710938 0.31640625 0.25585938 0.16015625 0.28710938\n",
            "  0.35546875 0.27929688 0.36132812 0.390625   0.328125   0.33398438\n",
            "  0.39648438 0.390625   0.45117188 0.48828125 0.35742188 0.32226562\n",
            "  0.33984375 0.3984375  0.4453125  0.375      0.31640625 0.36328125\n",
            "  0.37109375 0.34179688 0.37890625 0.36914062 0.3828125  0.41992188\n",
            "  0.3359375  0.29882812 0.39453125 0.4296875  0.39453125 0.41015625\n",
            "  0.37695312 0.3671875  0.453125   0.43359375 0.39648438 0.38867188\n",
            "  0.359375   0.33007812 0.37109375 0.34960938 0.29101562 0.3125\n",
            "  0.33789062 0.35351562 0.43164062 0.4765625  0.38671875 0.35546875\n",
            "  0.38867188 0.34570312 0.34765625 0.41015625 0.38671875 0.37695312\n",
            "  0.40429688 0.37304688 0.34765625 0.20117188]]\n",
            "(1, 340)\n"
          ]
        }
      ]
    },
    {
      "cell_type": "code",
      "source": [
        "\n",
        "# Chroma_stft\n",
        "stft = np.abs(librosa.stft(y))\n",
        "chroma_stft = np.mean(librosa.feature.chroma_stft(S=stft, sr=sr).T, axis=0)\n",
        "\n",
        "result = np.hstack((result, chroma_stft)) # stacking horizontally\n",
        "\n"
      ],
      "metadata": {
        "id": "dPMOmqP_DbLL"
      },
      "execution_count": null,
      "outputs": []
    },
    {
      "cell_type": "code",
      "source": [
        "stft_np= librosa.stft(y,n_fft =512,hop_length =256)\n",
        "chrom_= librosa.feature.chroma_stft(S=stft, sr=sr,n_fft =512,hop_length =256 )\n",
        "print(chrom_.shape)\n",
        "print(stft_np.shape)"
      ],
      "metadata": {
        "colab": {
          "base_uri": "https://localhost:8080/"
        },
        "id": "ct9zwwlNVKqQ",
        "outputId": "c1ae5bfe-c8dd-4551-d1dd-ef74e6d36776"
      },
      "execution_count": null,
      "outputs": [
        {
          "output_type": "stream",
          "name": "stdout",
          "text": [
            "(12, 170)\n",
            "(257, 340)\n"
          ]
        }
      ]
    },
    {
      "cell_type": "code",
      "source": [
        "# MFCC\n",
        "mfcc = np.mean(librosa.feature.mfcc(y=y, sr=sr).T, axis=0)\n",
        "result = np.hstack((result, mfcc)) # stacking horizontally\n",
        "\n"
      ],
      "metadata": {
        "id": "2AsMKG2mEFLv"
      },
      "execution_count": null,
      "outputs": []
    },
    {
      "cell_type": "code",
      "source": [
        "mfcc_np =librosa.feature.mfcc(y=y, sr=sr,n_fft =512,hop_length =256)\n",
        "print(stft_np.shape)\n",
        "print(librosa.feature.mfcc(y=y, sr=sr).shape)"
      ],
      "metadata": {
        "colab": {
          "base_uri": "https://localhost:8080/"
        },
        "id": "zMQHteDHWOz5",
        "outputId": "15648404-b152-42f4-9612-91e9ce30f576"
      },
      "execution_count": null,
      "outputs": [
        {
          "output_type": "stream",
          "name": "stdout",
          "text": [
            "(257, 340)\n",
            "(20, 170)\n"
          ]
        }
      ]
    },
    {
      "cell_type": "code",
      "source": [
        "print(result)\n",
        "print(result.shape)"
      ],
      "metadata": {
        "colab": {
          "base_uri": "https://localhost:8080/"
        },
        "id": "sLOjSq6U9pDe",
        "outputId": "26d8f19a-149a-431c-f758-27a7ebc4ce89"
      },
      "execution_count": null,
      "outputs": [
        {
          "output_type": "stream",
          "name": "stdout",
          "text": [
            "[ 1.92580997e-01  7.06520081e-01  6.84076309e-01  6.31869674e-01\n",
            "  6.60822511e-01  6.40430570e-01  6.22973979e-01  6.62257135e-01\n",
            "  7.10856199e-01  7.36505687e-01  7.57091045e-01  6.72160208e-01\n",
            "  6.42881930e-01 -6.06198120e+02  8.94327240e+01 -2.38671551e+01\n",
            "  2.77159443e+01  2.44374776e+00 -2.45262408e+00 -2.30074196e+01\n",
            " -4.49538565e+00 -1.92013416e+01 -9.69154167e+00 -9.60041332e+00\n",
            " -1.10001183e+01  1.78621328e+00 -1.27328930e+01 -5.05517602e-01\n",
            " -6.31647444e+00 -2.78767800e+00 -4.14966536e+00 -2.74403930e+00\n",
            " -2.11930084e+00]\n",
            "(33,)\n"
          ]
        }
      ]
    },
    {
      "cell_type": "code",
      "source": [
        "print(mfcc)\n",
        "print(mfcc.shape)"
      ],
      "metadata": {
        "colab": {
          "base_uri": "https://localhost:8080/"
        },
        "id": "UNquCXLz9zZU",
        "outputId": "f8357269-0fd8-411d-f20b-7573324bd68c"
      },
      "execution_count": null,
      "outputs": [
        {
          "output_type": "stream",
          "name": "stdout",
          "text": [
            "[-6.0619812e+02  8.9432724e+01 -2.3867155e+01  2.7715944e+01\n",
            "  2.4437478e+00 -2.4526241e+00 -2.3007420e+01 -4.4953856e+00\n",
            " -1.9201342e+01 -9.6915417e+00 -9.6004133e+00 -1.1000118e+01\n",
            "  1.7862133e+00 -1.2732893e+01 -5.0551760e-01 -6.3164744e+00\n",
            " -2.7876780e+00 -4.1496654e+00 -2.7440393e+00 -2.1193008e+00]\n",
            "(20,)\n"
          ]
        }
      ]
    },
    {
      "cell_type": "code",
      "source": [
        "# Root Mean Square Value\n",
        "rms = np.mean(librosa.feature.rms(y=y).T, axis=0)\n",
        "result = np.hstack((result, rms)) # stacking horizontally\n"
      ],
      "metadata": {
        "id": "SjOl0mCyEf-J"
      },
      "execution_count": null,
      "outputs": []
    },
    {
      "cell_type": "code",
      "source": [
        "rms_np = librosa.feature.rms(y=y,frame_length =512,hop_length =256)\n",
        "print(rms_np.shape)"
      ],
      "metadata": {
        "colab": {
          "base_uri": "https://localhost:8080/"
        },
        "id": "-3CEHfpTXtyq",
        "outputId": "b2a0acd0-43a6-46c8-e841-6dbf21444f97"
      },
      "execution_count": null,
      "outputs": [
        {
          "output_type": "stream",
          "name": "stdout",
          "text": [
            "(1, 340)\n"
          ]
        }
      ]
    },
    {
      "cell_type": "code",
      "source": [
        "print(rms)\n",
        "print(rms.shape)"
      ],
      "metadata": {
        "colab": {
          "base_uri": "https://localhost:8080/"
        },
        "id": "pG2OAAhs95rv",
        "outputId": "9c1ecc5c-1479-4176-c18a-9d1912fe6bd7"
      },
      "execution_count": null,
      "outputs": [
        {
          "output_type": "stream",
          "name": "stdout",
          "text": [
            "[0.00358211]\n",
            "(1,)\n"
          ]
        }
      ]
    },
    {
      "cell_type": "code",
      "source": [
        "\n",
        "# MelSpectogram\n",
        "mel = np.mean(librosa.feature.melspectrogram(y=y, sr=sr).T, axis=0)\n",
        "result = np.hstack((result, mel)) # stacking horizontally"
      ],
      "metadata": {
        "id": "DF7luMjyEpGc"
      },
      "execution_count": null,
      "outputs": []
    },
    {
      "cell_type": "code",
      "source": [
        "print(mel)\n",
        "print(mel.shape)"
      ],
      "metadata": {
        "colab": {
          "base_uri": "https://localhost:8080/"
        },
        "id": "BjgNP2BY99Lw",
        "outputId": "7891da8e-ba20-41df-d453-ea6470c5c65a"
      },
      "execution_count": null,
      "outputs": [
        {
          "output_type": "stream",
          "name": "stdout",
          "text": [
            "[2.95681548e-05 9.43526902e-06 2.75873008e-05 6.70363152e-05\n",
            " 2.82567181e-03 1.43421395e-02 2.66836956e-02 2.13610362e-02\n",
            " 1.81191396e-02 1.26073696e-02 1.47263557e-02 1.11059118e-02\n",
            " 1.85076930e-02 2.17014104e-02 5.26114628e-02 9.66847613e-02\n",
            " 5.55535927e-02 4.30691130e-02 2.86493916e-02 7.49233440e-02\n",
            " 7.24376962e-02 1.55949816e-02 1.50701357e-02 6.85167536e-02\n",
            " 4.68548574e-02 5.46111502e-02 7.86814541e-02 5.00108898e-02\n",
            " 1.06560811e-02 1.58949606e-02 5.11308014e-03 2.14506499e-03\n",
            " 2.02122075e-03 4.32178937e-03 6.96617272e-03 5.38739003e-03\n",
            " 1.45281747e-03 1.96103170e-03 3.14254826e-03 3.26149678e-03\n",
            " 5.30219497e-03 3.48059018e-03 1.21555920e-03 6.55634678e-04\n",
            " 1.34611502e-03 1.08829804e-03 1.63555809e-03 1.37524365e-03\n",
            " 6.36098557e-04 1.43006071e-03 4.97756002e-04 5.28900477e-04\n",
            " 1.66819466e-03 1.30095065e-03 4.56532580e-04 5.31056547e-04\n",
            " 7.16484094e-04 5.88704715e-04 8.80639011e-04 1.37584913e-03\n",
            " 2.31871428e-03 1.26587367e-03 1.20230112e-03 2.71607633e-03\n",
            " 2.65801651e-03 2.06122338e-03 1.12927472e-03 8.95591336e-04\n",
            " 1.67552126e-03 1.92068657e-03 2.14600889e-03 3.05737997e-03\n",
            " 3.73060070e-03 2.09786254e-03 9.15973040e-04 5.15909807e-04\n",
            " 6.29971910e-04 3.86174361e-04 2.09811769e-04 4.21603676e-04\n",
            " 4.94043401e-04 1.06606947e-03 1.11994159e-03 1.21926679e-03\n",
            " 6.03837892e-04 3.82898696e-04 2.52050435e-04 1.66561091e-04\n",
            " 1.06294341e-04 3.81701138e-05 4.06480358e-05 6.53876559e-05\n",
            " 8.25866518e-05 7.46572478e-05 5.51843950e-05 1.13495589e-04\n",
            " 5.29567660e-05 2.99146941e-05 1.55163580e-05 2.45980664e-05\n",
            " 9.68260429e-06 7.85370594e-06 9.42176212e-06 3.19226456e-05\n",
            " 5.99051891e-05 3.81952268e-05 5.41701811e-05 6.39750579e-05\n",
            " 8.85926493e-05 5.70505254e-05 8.67032650e-05 4.18666859e-05\n",
            " 2.01254679e-05 9.81653102e-06 2.05892093e-06 1.93658593e-07\n",
            " 4.42129250e-10 3.44622090e-13 1.12428357e-13 3.56644950e-14\n",
            " 1.78007057e-14 2.53914796e-14 4.27330900e-14 6.22688004e-14\n",
            " 8.04732325e-14 9.55629551e-14 1.06844126e-13 1.13738893e-13]\n",
            "(128,)\n"
          ]
        }
      ]
    },
    {
      "cell_type": "code",
      "source": [
        "\n",
        "mel_arr = librosa.feature.melspectrogram(y=y, sr=sr,hop_length=256,n_fft=512)\n",
        "#v 86817"
      ],
      "metadata": {
        "id": "4UukyjSl-RTd"
      },
      "execution_count": null,
      "outputs": []
    },
    {
      "cell_type": "markdown",
      "source": [
        ""
      ],
      "metadata": {
        "id": "3xayfS98bcUz"
      }
    },
    {
      "cell_type": "code",
      "source": [
        "print(mel_arr.shape)\n",
        "print(mel_arr)"
      ],
      "metadata": {
        "colab": {
          "base_uri": "https://localhost:8080/"
        },
        "id": "Va1GVMu_-X55",
        "outputId": "15a4efb0-ffb6-4bc3-955a-fbfc448582f4"
      },
      "execution_count": null,
      "outputs": [
        {
          "output_type": "stream",
          "name": "stdout",
          "text": [
            "(128, 340)\n",
            "[[4.08330862e-07 8.32438189e-08 4.25038316e-08 ... 2.88099464e-08\n",
            "  5.79817723e-08 2.89256596e-09]\n",
            " [8.27744771e-07 1.68747064e-07 8.61613145e-08 ... 5.84018629e-08\n",
            "  1.17537297e-07 5.86364290e-09]\n",
            " [5.15477041e-07 1.25215408e-07 1.48481405e-08 ... 5.27327160e-08\n",
            "  5.51763648e-08 3.42398843e-09]\n",
            " ...\n",
            " [2.37688927e-12 3.27142533e-20 1.95944107e-19 ... 5.72795271e-21\n",
            "  1.98945936e-20 1.46419812e-12]\n",
            " [2.74240157e-12 3.30976515e-20 1.81291818e-19 ... 3.15718219e-21\n",
            "  1.43823347e-20 1.50410402e-12]\n",
            " [2.95730671e-12 3.47899209e-20 1.77287036e-19 ... 1.75115731e-21\n",
            "  1.13604097e-20 1.52069253e-12]]\n"
          ]
        }
      ]
    },
    {
      "cell_type": "code",
      "source": [
        "import librosa.display\n",
        "import matplotlib.pyplot as plt\n",
        "librosa.display.specshow(mel_arr, y_axis='mel', fmax=8000, x_axis='time');\n",
        "plt.title('Mel Spectrogram');\n",
        "plt.colorbar(format='%-2.0f dB');"
      ],
      "metadata": {
        "colab": {
          "base_uri": "https://localhost:8080/",
          "height": 301
        },
        "id": "e2gnka43Hkv5",
        "outputId": "c2e1ca99-9ecd-4dbf-a52b-ab0c05644019"
      },
      "execution_count": null,
      "outputs": [
        {
          "output_type": "display_data",
          "data": {
            "text/plain": [
              "<Figure size 432x288 with 2 Axes>"
            ],
            "image/png": "[encoded data removed]"
          },
          "metadata": {}
        }
      ]
    },
    {
      "cell_type": "code",
      "source": [
        "print('mel_arr',mel_arr.shape)\n",
        "print('rms_np',rms_np.shape)\n",
        "print('mfcc_np',mfcc_np.shape)\n",
        "print('chrom_',chrom_.shape)\n",
        "print('stft_np',stft_np.shape)\n",
        "print('crosszr',crosszr.shape)\n"
      ],
      "metadata": {
        "colab": {
          "base_uri": "https://localhost:8080/"
        },
        "id": "lN0-Ejwx05z8",
        "outputId": "96a97cf4-0359-411c-ef7c-3758dfb2d244"
      },
      "execution_count": null,
      "outputs": [
        {
          "output_type": "stream",
          "name": "stdout",
          "text": [
            "mel_arr (128, 340)\n",
            "rms_np (1, 340)\n",
            "mfcc_np (20, 340)\n",
            "chrom_ (12, 170)\n",
            "stft_np (257, 340)\n",
            "crosszr (1, 340)\n"
          ]
        }
      ]
    },
    {
      "cell_type": "code",
      "source": [
        "feat = np.array([])\n",
        "\n",
        "zcrT = crosszr.T\n",
        "feat=zcrT.copy()\n",
        "#feat=np.column_stack((feat, zcrT)) # stacking horizontally\n"
      ],
      "metadata": {
        "id": "MGUL7H3VM7R-"
      },
      "execution_count": null,
      "outputs": []
    },
    {
      "cell_type": "code",
      "source": [
        "mel_arr\n",
        "rms_np\n",
        "mfcc_np\n",
        "chrom_\n",
        "stft_np\n",
        "crosszr"
      ],
      "metadata": {
        "id": "dotyDIwoLoF7",
        "colab": {
          "base_uri": "https://localhost:8080/"
        },
        "outputId": "7264baa7-5b62-4015-f9e1-1426e40710fe"
      },
      "execution_count": null,
      "outputs": [
        {
          "output_type": "execute_result",
          "data": {
            "text/plain": [
              "array([[0.11132812, 0.20898438, 0.18945312, 0.18359375, 0.1875    ,\n",
              "        0.19921875, 0.2109375 , 0.21484375, 0.203125  , 0.1953125 ,\n",
              "        0.1953125 , 0.16015625, 0.1484375 , 0.16796875, 0.17773438,\n",
              "        0.18945312, 0.18359375, 0.16210938, 0.1796875 , 0.20507812,\n",
              "        0.19921875, 0.20117188, 0.20703125, 0.21875   , 0.2109375 ,\n",
              "        0.20507812, 0.23632812, 0.23632812, 0.20507812, 0.19335938,\n",
              "        0.20703125, 0.22265625, 0.23828125, 0.2421875 , 0.22070312,\n",
              "        0.22460938, 0.25976562, 0.24804688, 0.25585938, 0.25195312,\n",
              "        0.24414062, 0.23242188, 0.20117188, 0.25195312, 0.28710938,\n",
              "        0.265625  , 0.26953125, 0.27148438, 0.27734375, 0.29101562,\n",
              "        0.2734375 , 0.25390625, 0.2578125 , 0.234375  , 0.22460938,\n",
              "        0.24804688, 0.24023438, 0.2265625 , 0.25      , 0.265625  ,\n",
              "        0.22851562, 0.23242188, 0.26171875, 0.34765625, 0.48046875,\n",
              "        0.42382812, 0.4296875 , 0.47460938, 0.3984375 , 0.3671875 ,\n",
              "        0.34765625, 0.29296875, 0.25585938, 0.3515625 , 0.39453125,\n",
              "        0.35546875, 0.43945312, 0.47460938, 0.50390625, 0.45898438,\n",
              "        0.39648438, 0.44335938, 0.47851562, 0.4765625 , 0.41796875,\n",
              "        0.33398438, 0.32421875, 0.36132812, 0.31835938, 0.28515625,\n",
              "        0.3046875 , 0.3046875 , 0.23828125, 0.18945312, 0.19921875,\n",
              "        0.1953125 , 0.125     , 0.06054688, 0.05664062, 0.078125  ,\n",
              "        0.09570312, 0.11132812, 0.10742188, 0.08984375, 0.08789062,\n",
              "        0.07617188, 0.06445312, 0.06054688, 0.05078125, 0.06835938,\n",
              "        0.09375   , 0.07421875, 0.03515625, 0.0234375 , 0.04492188,\n",
              "        0.06835938, 0.11523438, 0.30664062, 0.48632812, 0.51171875,\n",
              "        0.38671875, 0.15820312, 0.04101562, 0.04101562, 0.04101562,\n",
              "        0.06445312, 0.07226562, 0.05273438, 0.05273438, 0.05273438,\n",
              "        0.05078125, 0.0546875 , 0.05273438, 0.04882812, 0.04882812,\n",
              "        0.06640625, 0.0859375 , 0.06640625, 0.03125   , 0.01953125,\n",
              "        0.02929688, 0.06640625, 0.26757812, 0.40820312, 0.31835938,\n",
              "        0.25      , 0.23242188, 0.24023438, 0.24804688, 0.25585938,\n",
              "        0.22460938, 0.14648438, 0.07617188, 0.04882812, 0.06835938,\n",
              "        0.06835938, 0.06445312, 0.0703125 , 0.06835938, 0.06835938,\n",
              "        0.06835938, 0.05859375, 0.05859375, 0.06835938, 0.06835938,\n",
              "        0.06445312, 0.06445312, 0.07226562, 0.08007812, 0.07617188,\n",
              "        0.06445312, 0.06835938, 0.140625  , 0.1875    , 0.16796875,\n",
              "        0.12109375, 0.06640625, 0.08007812, 0.11132812, 0.10546875,\n",
              "        0.10351562, 0.11132812, 0.0859375 , 0.0703125 , 0.078125  ,\n",
              "        0.06054688, 0.03515625, 0.03320312, 0.06445312, 0.05273438,\n",
              "        0.02539062, 0.0234375 , 0.01757812, 0.01953125, 0.02929688,\n",
              "        0.0390625 , 0.03320312, 0.02734375, 0.03710938, 0.0546875 ,\n",
              "        0.06445312, 0.06054688, 0.08398438, 0.09179688, 0.0859375 ,\n",
              "        0.09375   , 0.06640625, 0.06054688, 0.07226562, 0.05859375,\n",
              "        0.07421875, 0.0859375 , 0.07421875, 0.06054688, 0.06640625,\n",
              "        0.10742188, 0.1171875 , 0.06445312, 0.02929688, 0.0390625 ,\n",
              "        0.0390625 , 0.02929688, 0.03125   , 0.05078125, 0.06835938,\n",
              "        0.07421875, 0.0625    , 0.04296875, 0.07226562, 0.18554688,\n",
              "        0.14648438, 0.04296875, 0.04101562, 0.03515625, 0.0390625 ,\n",
              "        0.04296875, 0.04101562, 0.04296875, 0.04492188, 0.04101562,\n",
              "        0.0390625 , 0.04296875, 0.046875  , 0.04296875, 0.0390625 ,\n",
              "        0.04101562, 0.04296875, 0.0390625 , 0.03710938, 0.04101562,\n",
              "        0.03710938, 0.0390625 , 0.04492188, 0.03710938, 0.03320312,\n",
              "        0.03515625, 0.02539062, 0.0234375 , 0.04492188, 0.08789062,\n",
              "        0.08398438, 0.0625    , 0.04492188, 0.0234375 , 0.0546875 ,\n",
              "        0.06835938, 0.08984375, 0.22265625, 0.19726562, 0.17382812,\n",
              "        0.203125  , 0.23046875, 0.3203125 , 0.37890625, 0.38085938,\n",
              "        0.29882812, 0.28710938, 0.28710938, 0.31640625, 0.25585938,\n",
              "        0.16015625, 0.28710938, 0.35546875, 0.27929688, 0.36132812,\n",
              "        0.390625  , 0.328125  , 0.33398438, 0.39648438, 0.390625  ,\n",
              "        0.45117188, 0.48828125, 0.35742188, 0.32226562, 0.33984375,\n",
              "        0.3984375 , 0.4453125 , 0.375     , 0.31640625, 0.36328125,\n",
              "        0.37109375, 0.34179688, 0.37890625, 0.36914062, 0.3828125 ,\n",
              "        0.41992188, 0.3359375 , 0.29882812, 0.39453125, 0.4296875 ,\n",
              "        0.39453125, 0.41015625, 0.37695312, 0.3671875 , 0.453125  ,\n",
              "        0.43359375, 0.39648438, 0.38867188, 0.359375  , 0.33007812,\n",
              "        0.37109375, 0.34960938, 0.29101562, 0.3125    , 0.33789062,\n",
              "        0.35351562, 0.43164062, 0.4765625 , 0.38671875, 0.35546875,\n",
              "        0.38867188, 0.34570312, 0.34765625, 0.41015625, 0.38671875,\n",
              "        0.37695312, 0.40429688, 0.37304688, 0.34765625, 0.20117188]])"
            ]
          },
          "metadata": {},
          "execution_count": 34
        }
      ]
    },
    {
      "cell_type": "code",
      "source": [
        "#feat = np.array([])\n",
        "mel_arrT\t=mel_arr.T\n",
        "rms_npT\t\t= rms_np.T\n",
        "mfcc_npT\t=mfcc_np.T\n",
        "chrom_T\t\t= chrom_.T\n",
        "stft_npT\t=stft_np.T\n",
        "crosszrT\t= crosszr.T\n",
        "\n",
        "\n",
        "feat=np.hstack((feat, mel_arrT))\n",
        "feat=np.hstack((feat, rms_npT\t))\n",
        "feat=np.hstack((feat, mfcc_npT))\n",
        "#feat=np.hstack((feat, chrom_T\t))\n",
        "feat=np.hstack((feat, stft_npT))\n",
        "feat=np.hstack((feat, crosszrT))\n",
        "\n"
      ],
      "metadata": {
        "id": "HjB2TNdhOJkD"
      },
      "execution_count": null,
      "outputs": []
    },
    {
      "cell_type": "code",
      "source": [
        "print('mel_arr',mel_arrT.shape)\n",
        "print('rms_np',rms_npT.shape)\n",
        "print('mfcc_np',mfcc_npT.shape)\n",
        "print('chrom_',chrom_T.shape)\n",
        "print('stft_np',stft_npT.shape)\n",
        "print('crosszr',crosszrT.shape)\n"
      ],
      "metadata": {
        "colab": {
          "base_uri": "https://localhost:8080/"
        },
        "id": "eUHKCOr2OgI4",
        "outputId": "1032a12e-4662-4dd2-b4e3-beee75e9e183"
      },
      "execution_count": null,
      "outputs": [
        {
          "output_type": "stream",
          "name": "stdout",
          "text": [
            "mel_arr (340, 128)\n",
            "rms_np (340, 1)\n",
            "mfcc_np (340, 20)\n",
            "chrom_ (170, 12)\n",
            "stft_np (340, 257)\n",
            "crosszr (340, 1)\n"
          ]
        }
      ]
    },
    {
      "cell_type": "code",
      "source": [
        "feet = pd.DataFrame(mel_arrT)"
      ],
      "metadata": {
        "id": "v_Gn6O2KO88Z"
      },
      "execution_count": null,
      "outputs": []
    },
    {
      "cell_type": "code",
      "source": [
        "feet['crosszr']=crosszrT"
      ],
      "metadata": {
        "id": "xMXezV5RPN8r"
      },
      "execution_count": null,
      "outputs": []
    },
    {
      "cell_type": "code",
      "source": [
        "feet.describe"
      ],
      "metadata": {
        "id": "vqlOROZxQcCQ",
        "colab": {
          "base_uri": "https://localhost:8080/"
        },
        "outputId": "9d1be6a7-e1e0-49e8-b73e-be90337e0065"
      },
      "execution_count": null,
      "outputs": [
        {
          "output_type": "execute_result",
          "data": {
            "text/plain": [
              "<bound method NDFrame.describe of                 0             1             2             3             4  \\\n",
              "0    4.083309e-07  8.277448e-07  5.154770e-07  2.647342e-07  9.646325e-07   \n",
              "1    8.324382e-08  1.687471e-07  1.252154e-07  6.430703e-08  6.699511e-08   \n",
              "2    4.250383e-08  8.616131e-08  1.484814e-08  7.625578e-09  1.839236e-07   \n",
              "3    3.322471e-07  6.735121e-07  1.646932e-07  8.458169e-08  1.446596e-07   \n",
              "4    1.599983e-06  3.243394e-06  1.267649e-07  6.510282e-08  1.266071e-07   \n",
              "..            ...           ...           ...           ...           ...   \n",
              "335  2.180382e-08  4.419945e-08  2.136129e-08  1.097054e-08  3.523980e-07   \n",
              "336  3.938071e-09  7.983029e-09  3.671919e-08  1.885792e-08  3.051851e-08   \n",
              "337  2.880995e-08  5.840186e-08  5.273272e-08  2.708201e-08  9.877431e-08   \n",
              "338  5.798177e-08  1.175373e-07  5.517636e-08  2.833699e-08  1.274030e-08   \n",
              "339  2.892566e-09  5.863643e-09  3.423988e-09  1.758462e-09  5.068577e-08   \n",
              "\n",
              "                5             6             7             8             9  \\\n",
              "0    6.086588e-07  1.266814e-06  1.441450e-06  7.703032e-07  1.650723e-06   \n",
              "1    6.085619e-08  1.272240e-07  2.535344e-07  1.354875e-07  4.482770e-07   \n",
              "2    5.964099e-08  1.224241e-07  3.397434e-07  1.815571e-07  6.793465e-07   \n",
              "3    2.215588e-07  4.650797e-07  4.463834e-07  2.385449e-07  3.493185e-07   \n",
              "4    7.517173e-08  1.563137e-07  6.666885e-08  3.562749e-08  3.752597e-07   \n",
              "..            ...           ...           ...           ...           ...   \n",
              "335  1.601109e-07  3.313576e-07  3.945493e-08  2.108451e-08  1.665947e-07   \n",
              "336  3.837021e-09  7.519204e-09  4.354638e-08  2.327096e-08  1.051005e-07   \n",
              "337  5.529074e-08  1.148648e-07  2.512785e-07  1.342819e-07  3.188225e-07   \n",
              "338  7.076209e-08  1.491778e-07  1.539102e-07  8.224882e-08  8.021424e-08   \n",
              "339  2.371070e-09  4.038415e-09  1.062899e-08  5.680076e-09  7.541161e-08   \n",
              "\n",
              "     ...           119           120           121           122  \\\n",
              "0    ...  8.287479e-13  7.968221e-14  2.220218e-13  7.242143e-13   \n",
              "1    ...  6.561630e-19  1.784039e-19  5.672681e-20  3.562439e-20   \n",
              "2    ...  1.261629e-18  5.997354e-19  3.578581e-19  2.967422e-19   \n",
              "3    ...  1.036475e-18  5.059347e-19  3.230149e-19  2.446053e-19   \n",
              "4    ...  8.463590e-18  4.819160e-18  2.825474e-18  1.793739e-18   \n",
              "..   ...           ...           ...           ...           ...   \n",
              "335  ...  5.743901e-19  2.255362e-19  9.896924e-20  4.888484e-20   \n",
              "336  ...  1.546806e-18  6.190225e-19  2.810284e-19  1.449431e-19   \n",
              "337  ...  4.350629e-19  1.775486e-19  7.860058e-20  3.887676e-20   \n",
              "338  ...  8.014781e-19  3.413046e-19  1.624094e-19  8.702523e-20   \n",
              "339  ...  6.409894e-13  8.921829e-13  1.074439e-12  1.223865e-12   \n",
              "\n",
              "              123           124           125           126           127  \\\n",
              "0    1.328658e-12  1.902046e-12  2.376889e-12  2.742402e-12  2.957307e-12   \n",
              "1    4.036146e-20  3.096238e-20  3.271425e-20  3.309765e-20  3.478992e-20   \n",
              "2    2.496501e-19  2.207487e-19  1.959441e-19  1.812918e-19  1.772870e-19   \n",
              "3    1.793909e-19  1.152554e-19  4.493319e-20  4.086495e-20  3.406671e-20   \n",
              "4    1.128252e-18  7.499528e-19  5.752984e-19  3.714776e-19  2.695292e-19   \n",
              "..            ...           ...           ...           ...           ...   \n",
              "335  2.546499e-20  1.408754e-20  8.373469e-21  5.233282e-21  3.733375e-21   \n",
              "336  8.131742e-20  4.946175e-20  3.263960e-20  2.377825e-20  1.905132e-20   \n",
              "337  1.983910e-20  1.073544e-20  5.727953e-21  3.157182e-21  1.751157e-21   \n",
              "338  4.958816e-20  3.021208e-20  1.989459e-20  1.438233e-20  1.136041e-20   \n",
              "339  1.334579e-12  1.412694e-12  1.464198e-12  1.504104e-12  1.520693e-12   \n",
              "\n",
              "      crosszr  \n",
              "0    0.111328  \n",
              "1    0.208984  \n",
              "2    0.189453  \n",
              "3    0.183594  \n",
              "4    0.187500  \n",
              "..        ...  \n",
              "335  0.376953  \n",
              "336  0.404297  \n",
              "337  0.373047  \n",
              "338  0.347656  \n",
              "339  0.201172  \n",
              "\n",
              "[340 rows x 129 columns]>"
            ]
          },
          "metadata": {},
          "execution_count": 39
        }
      ]
    },
    {
      "cell_type": "code",
      "source": [
        "#feet['mel_arr']=mel_arrT\n",
        "feet['rms_np']=rms_npT\n",
        "#feet['mfcc_np']=mfcc_npT\n",
        "#feet['chrom_']=chrom_T\n",
        "feet['stft_np']=stft_npT\n",
        "#feet['crosszr']=crosszrT"
      ],
      "metadata": {
        "colab": {
          "base_uri": "https://localhost:8080/",
          "height": 604
        },
        "id": "4fwZmePFQ3f9",
        "outputId": "e4b7c157-73bc-457b-a3fd-e8a37ce767d2"
      },
      "execution_count": null,
      "outputs": [
        {
          "output_type": "error",
          "ename": "ValueError",
          "evalue": "ignored",
          "traceback": [
            "\u001b[0;31m---------------------------------------------------------------------------\u001b[0m",
            "\u001b[0;31mKeyError\u001b[0m                                  Traceback (most recent call last)",
            "\u001b[0;32m/usr/local/lib/python3.7/dist-packages/pandas/core/indexes/base.py\u001b[0m in \u001b[0;36mget_loc\u001b[0;34m(self, key, method, tolerance)\u001b[0m\n\u001b[1;32m   3360\u001b[0m             \u001b[0;32mtry\u001b[0m\u001b[0;34m:\u001b[0m\u001b[0;34m\u001b[0m\u001b[0;34m\u001b[0m\u001b[0m\n\u001b[0;32m-> 3361\u001b[0;31m                 \u001b[0;32mreturn\u001b[0m \u001b[0mself\u001b[0m\u001b[0;34m.\u001b[0m\u001b[0m_engine\u001b[0m\u001b[0;34m.\u001b[0m\u001b[0mget_loc\u001b[0m\u001b[0;34m(\u001b[0m\u001b[0mcasted_key\u001b[0m\u001b[0;34m)\u001b[0m\u001b[0;34m\u001b[0m\u001b[0;34m\u001b[0m\u001b[0m\n\u001b[0m\u001b[1;32m   3362\u001b[0m             \u001b[0;32mexcept\u001b[0m \u001b[0mKeyError\u001b[0m \u001b[0;32mas\u001b[0m \u001b[0merr\u001b[0m\u001b[0;34m:\u001b[0m\u001b[0;34m\u001b[0m\u001b[0;34m\u001b[0m\u001b[0m\n",
            "\u001b[0;32m/usr/local/lib/python3.7/dist-packages/pandas/_libs/index.pyx\u001b[0m in \u001b[0;36mpandas._libs.index.IndexEngine.get_loc\u001b[0;34m()\u001b[0m\n",
            "\u001b[0;32m/usr/local/lib/python3.7/dist-packages/pandas/_libs/index.pyx\u001b[0m in \u001b[0;36mpandas._libs.index.IndexEngine.get_loc\u001b[0;34m()\u001b[0m\n",
            "\u001b[0;32mpandas/_libs/hashtable_class_helper.pxi\u001b[0m in \u001b[0;36mpandas._libs.hashtable.PyObjectHashTable.get_item\u001b[0;34m()\u001b[0m\n",
            "\u001b[0;32mpandas/_libs/hashtable_class_helper.pxi\u001b[0m in \u001b[0;36mpandas._libs.hashtable.PyObjectHashTable.get_item\u001b[0;34m()\u001b[0m\n",
            "\u001b[0;31mKeyError\u001b[0m: 'stft_np'",
            "\nThe above exception was the direct cause of the following exception:\n",
            "\u001b[0;31mKeyError\u001b[0m                                  Traceback (most recent call last)",
            "\u001b[0;32m/usr/local/lib/python3.7/dist-packages/pandas/core/frame.py\u001b[0m in \u001b[0;36m_set_item_mgr\u001b[0;34m(self, key, value)\u001b[0m\n\u001b[1;32m   3750\u001b[0m         \u001b[0;32mtry\u001b[0m\u001b[0;34m:\u001b[0m\u001b[0;34m\u001b[0m\u001b[0;34m\u001b[0m\u001b[0m\n\u001b[0;32m-> 3751\u001b[0;31m             \u001b[0mloc\u001b[0m \u001b[0;34m=\u001b[0m \u001b[0mself\u001b[0m\u001b[0;34m.\u001b[0m\u001b[0m_info_axis\u001b[0m\u001b[0;34m.\u001b[0m\u001b[0mget_loc\u001b[0m\u001b[0;34m(\u001b[0m\u001b[0mkey\u001b[0m\u001b[0;34m)\u001b[0m\u001b[0;34m\u001b[0m\u001b[0;34m\u001b[0m\u001b[0m\n\u001b[0m\u001b[1;32m   3752\u001b[0m         \u001b[0;32mexcept\u001b[0m \u001b[0mKeyError\u001b[0m\u001b[0;34m:\u001b[0m\u001b[0;34m\u001b[0m\u001b[0;34m\u001b[0m\u001b[0m\n",
            "\u001b[0;32m/usr/local/lib/python3.7/dist-packages/pandas/core/indexes/base.py\u001b[0m in \u001b[0;36mget_loc\u001b[0;34m(self, key, method, tolerance)\u001b[0m\n\u001b[1;32m   3362\u001b[0m             \u001b[0;32mexcept\u001b[0m \u001b[0mKeyError\u001b[0m \u001b[0;32mas\u001b[0m \u001b[0merr\u001b[0m\u001b[0;34m:\u001b[0m\u001b[0;34m\u001b[0m\u001b[0;34m\u001b[0m\u001b[0m\n\u001b[0;32m-> 3363\u001b[0;31m                 \u001b[0;32mraise\u001b[0m \u001b[0mKeyError\u001b[0m\u001b[0;34m(\u001b[0m\u001b[0mkey\u001b[0m\u001b[0;34m)\u001b[0m \u001b[0;32mfrom\u001b[0m \u001b[0merr\u001b[0m\u001b[0;34m\u001b[0m\u001b[0;34m\u001b[0m\u001b[0m\n\u001b[0m\u001b[1;32m   3364\u001b[0m \u001b[0;34m\u001b[0m\u001b[0m\n",
            "\u001b[0;31mKeyError\u001b[0m: 'stft_np'",
            "\nDuring handling of the above exception, another exception occurred:\n",
            "\u001b[0;31mValueError\u001b[0m                                Traceback (most recent call last)",
            "\u001b[0;32m<ipython-input-41-c793db162689>\u001b[0m in \u001b[0;36m<module>\u001b[0;34m()\u001b[0m\n\u001b[1;32m      3\u001b[0m \u001b[0;31m#feet['mfcc_np']=mfcc_npT\u001b[0m\u001b[0;34m\u001b[0m\u001b[0;34m\u001b[0m\u001b[0;34m\u001b[0m\u001b[0m\n\u001b[1;32m      4\u001b[0m \u001b[0;31m#feet['chrom_']=chrom_T\u001b[0m\u001b[0;34m\u001b[0m\u001b[0;34m\u001b[0m\u001b[0;34m\u001b[0m\u001b[0m\n\u001b[0;32m----> 5\u001b[0;31m \u001b[0mfeet\u001b[0m\u001b[0;34m[\u001b[0m\u001b[0;34m'stft_np'\u001b[0m\u001b[0;34m]\u001b[0m\u001b[0;34m=\u001b[0m\u001b[0mstft_npT\u001b[0m\u001b[0;34m\u001b[0m\u001b[0;34m\u001b[0m\u001b[0m\n\u001b[0m\u001b[1;32m      6\u001b[0m \u001b[0;31m#feet['crosszr']=crosszrT\u001b[0m\u001b[0;34m\u001b[0m\u001b[0;34m\u001b[0m\u001b[0;34m\u001b[0m\u001b[0m\n",
            "\u001b[0;32m/usr/local/lib/python3.7/dist-packages/pandas/core/frame.py\u001b[0m in \u001b[0;36m__setitem__\u001b[0;34m(self, key, value)\u001b[0m\n\u001b[1;32m   3610\u001b[0m         \u001b[0;32melse\u001b[0m\u001b[0;34m:\u001b[0m\u001b[0;34m\u001b[0m\u001b[0;34m\u001b[0m\u001b[0m\n\u001b[1;32m   3611\u001b[0m             \u001b[0;31m# set column\u001b[0m\u001b[0;34m\u001b[0m\u001b[0;34m\u001b[0m\u001b[0;34m\u001b[0m\u001b[0m\n\u001b[0;32m-> 3612\u001b[0;31m             \u001b[0mself\u001b[0m\u001b[0;34m.\u001b[0m\u001b[0m_set_item\u001b[0m\u001b[0;34m(\u001b[0m\u001b[0mkey\u001b[0m\u001b[0;34m,\u001b[0m \u001b[0mvalue\u001b[0m\u001b[0;34m)\u001b[0m\u001b[0;34m\u001b[0m\u001b[0;34m\u001b[0m\u001b[0m\n\u001b[0m\u001b[1;32m   3613\u001b[0m \u001b[0;34m\u001b[0m\u001b[0m\n\u001b[1;32m   3614\u001b[0m     \u001b[0;32mdef\u001b[0m \u001b[0m_setitem_slice\u001b[0m\u001b[0;34m(\u001b[0m\u001b[0mself\u001b[0m\u001b[0;34m,\u001b[0m \u001b[0mkey\u001b[0m\u001b[0;34m:\u001b[0m \u001b[0mslice\u001b[0m\u001b[0;34m,\u001b[0m \u001b[0mvalue\u001b[0m\u001b[0;34m)\u001b[0m\u001b[0;34m:\u001b[0m\u001b[0;34m\u001b[0m\u001b[0;34m\u001b[0m\u001b[0m\n",
            "\u001b[0;32m/usr/local/lib/python3.7/dist-packages/pandas/core/frame.py\u001b[0m in \u001b[0;36m_set_item\u001b[0;34m(self, key, value)\u001b[0m\n\u001b[1;32m   3795\u001b[0m                     \u001b[0mvalue\u001b[0m \u001b[0;34m=\u001b[0m \u001b[0mnp\u001b[0m\u001b[0;34m.\u001b[0m\u001b[0mtile\u001b[0m\u001b[0;34m(\u001b[0m\u001b[0mvalue\u001b[0m\u001b[0;34m,\u001b[0m \u001b[0;34m(\u001b[0m\u001b[0mlen\u001b[0m\u001b[0;34m(\u001b[0m\u001b[0mexisting_piece\u001b[0m\u001b[0;34m.\u001b[0m\u001b[0mcolumns\u001b[0m\u001b[0;34m)\u001b[0m\u001b[0;34m,\u001b[0m \u001b[0;36m1\u001b[0m\u001b[0;34m)\u001b[0m\u001b[0;34m)\u001b[0m\u001b[0;34m.\u001b[0m\u001b[0mT\u001b[0m\u001b[0;34m\u001b[0m\u001b[0;34m\u001b[0m\u001b[0m\n\u001b[1;32m   3796\u001b[0m \u001b[0;34m\u001b[0m\u001b[0m\n\u001b[0;32m-> 3797\u001b[0;31m         \u001b[0mself\u001b[0m\u001b[0;34m.\u001b[0m\u001b[0m_set_item_mgr\u001b[0m\u001b[0;34m(\u001b[0m\u001b[0mkey\u001b[0m\u001b[0;34m,\u001b[0m \u001b[0mvalue\u001b[0m\u001b[0;34m)\u001b[0m\u001b[0;34m\u001b[0m\u001b[0;34m\u001b[0m\u001b[0m\n\u001b[0m\u001b[1;32m   3798\u001b[0m \u001b[0;34m\u001b[0m\u001b[0m\n\u001b[1;32m   3799\u001b[0m     def _set_value(\n",
            "\u001b[0;32m/usr/local/lib/python3.7/dist-packages/pandas/core/frame.py\u001b[0m in \u001b[0;36m_set_item_mgr\u001b[0;34m(self, key, value)\u001b[0m\n\u001b[1;32m   3752\u001b[0m         \u001b[0;32mexcept\u001b[0m \u001b[0mKeyError\u001b[0m\u001b[0;34m:\u001b[0m\u001b[0;34m\u001b[0m\u001b[0;34m\u001b[0m\u001b[0m\n\u001b[1;32m   3753\u001b[0m             \u001b[0;31m# This item wasn't present, just insert at end\u001b[0m\u001b[0;34m\u001b[0m\u001b[0;34m\u001b[0m\u001b[0;34m\u001b[0m\u001b[0m\n\u001b[0;32m-> 3754\u001b[0;31m             \u001b[0mself\u001b[0m\u001b[0;34m.\u001b[0m\u001b[0m_mgr\u001b[0m\u001b[0;34m.\u001b[0m\u001b[0minsert\u001b[0m\u001b[0;34m(\u001b[0m\u001b[0mlen\u001b[0m\u001b[0;34m(\u001b[0m\u001b[0mself\u001b[0m\u001b[0;34m.\u001b[0m\u001b[0m_info_axis\u001b[0m\u001b[0;34m)\u001b[0m\u001b[0;34m,\u001b[0m \u001b[0mkey\u001b[0m\u001b[0;34m,\u001b[0m \u001b[0mvalue\u001b[0m\u001b[0;34m)\u001b[0m\u001b[0;34m\u001b[0m\u001b[0;34m\u001b[0m\u001b[0m\n\u001b[0m\u001b[1;32m   3755\u001b[0m         \u001b[0;32melse\u001b[0m\u001b[0;34m:\u001b[0m\u001b[0;34m\u001b[0m\u001b[0;34m\u001b[0m\u001b[0m\n\u001b[1;32m   3756\u001b[0m             \u001b[0mself\u001b[0m\u001b[0;34m.\u001b[0m\u001b[0m_iset_item_mgr\u001b[0m\u001b[0;34m(\u001b[0m\u001b[0mloc\u001b[0m\u001b[0;34m,\u001b[0m \u001b[0mvalue\u001b[0m\u001b[0;34m)\u001b[0m\u001b[0;34m\u001b[0m\u001b[0;34m\u001b[0m\u001b[0m\n",
            "\u001b[0;32m/usr/local/lib/python3.7/dist-packages/pandas/core/internals/managers.py\u001b[0m in \u001b[0;36minsert\u001b[0;34m(self, loc, item, value)\u001b[0m\n\u001b[1;32m   1160\u001b[0m             \u001b[0mvalue\u001b[0m \u001b[0;34m=\u001b[0m \u001b[0mensure_block_shape\u001b[0m\u001b[0;34m(\u001b[0m\u001b[0mvalue\u001b[0m\u001b[0;34m,\u001b[0m \u001b[0mndim\u001b[0m\u001b[0;34m=\u001b[0m\u001b[0mself\u001b[0m\u001b[0;34m.\u001b[0m\u001b[0mndim\u001b[0m\u001b[0;34m)\u001b[0m\u001b[0;34m\u001b[0m\u001b[0;34m\u001b[0m\u001b[0m\n\u001b[1;32m   1161\u001b[0m \u001b[0;34m\u001b[0m\u001b[0m\n\u001b[0;32m-> 1162\u001b[0;31m         \u001b[0mblock\u001b[0m \u001b[0;34m=\u001b[0m \u001b[0mnew_block\u001b[0m\u001b[0;34m(\u001b[0m\u001b[0mvalues\u001b[0m\u001b[0;34m=\u001b[0m\u001b[0mvalue\u001b[0m\u001b[0;34m,\u001b[0m \u001b[0mndim\u001b[0m\u001b[0;34m=\u001b[0m\u001b[0mself\u001b[0m\u001b[0;34m.\u001b[0m\u001b[0mndim\u001b[0m\u001b[0;34m,\u001b[0m \u001b[0mplacement\u001b[0m\u001b[0;34m=\u001b[0m\u001b[0mslice\u001b[0m\u001b[0;34m(\u001b[0m\u001b[0mloc\u001b[0m\u001b[0;34m,\u001b[0m \u001b[0mloc\u001b[0m \u001b[0;34m+\u001b[0m \u001b[0;36m1\u001b[0m\u001b[0;34m)\u001b[0m\u001b[0;34m)\u001b[0m\u001b[0;34m\u001b[0m\u001b[0;34m\u001b[0m\u001b[0m\n\u001b[0m\u001b[1;32m   1163\u001b[0m \u001b[0;34m\u001b[0m\u001b[0m\n\u001b[1;32m   1164\u001b[0m         \u001b[0;32mfor\u001b[0m \u001b[0mblkno\u001b[0m\u001b[0;34m,\u001b[0m \u001b[0mcount\u001b[0m \u001b[0;32min\u001b[0m \u001b[0m_fast_count_smallints\u001b[0m\u001b[0;34m(\u001b[0m\u001b[0mself\u001b[0m\u001b[0;34m.\u001b[0m\u001b[0mblknos\u001b[0m\u001b[0;34m[\u001b[0m\u001b[0mloc\u001b[0m\u001b[0;34m:\u001b[0m\u001b[0;34m]\u001b[0m\u001b[0;34m)\u001b[0m\u001b[0;34m:\u001b[0m\u001b[0;34m\u001b[0m\u001b[0;34m\u001b[0m\u001b[0m\n",
            "\u001b[0;32m/usr/local/lib/python3.7/dist-packages/pandas/core/internals/blocks.py\u001b[0m in \u001b[0;36mnew_block\u001b[0;34m(values, placement, ndim, klass)\u001b[0m\n\u001b[1;32m   1935\u001b[0m \u001b[0;34m\u001b[0m\u001b[0m\n\u001b[1;32m   1936\u001b[0m     \u001b[0mvalues\u001b[0m\u001b[0;34m,\u001b[0m \u001b[0m_\u001b[0m \u001b[0;34m=\u001b[0m \u001b[0mextract_pandas_array\u001b[0m\u001b[0;34m(\u001b[0m\u001b[0mvalues\u001b[0m\u001b[0;34m,\u001b[0m \u001b[0;32mNone\u001b[0m\u001b[0;34m,\u001b[0m \u001b[0mndim\u001b[0m\u001b[0;34m)\u001b[0m\u001b[0;34m\u001b[0m\u001b[0;34m\u001b[0m\u001b[0m\n\u001b[0;32m-> 1937\u001b[0;31m     \u001b[0mcheck_ndim\u001b[0m\u001b[0;34m(\u001b[0m\u001b[0mvalues\u001b[0m\u001b[0;34m,\u001b[0m \u001b[0mplacement\u001b[0m\u001b[0;34m,\u001b[0m \u001b[0mndim\u001b[0m\u001b[0;34m)\u001b[0m\u001b[0;34m\u001b[0m\u001b[0;34m\u001b[0m\u001b[0m\n\u001b[0m\u001b[1;32m   1938\u001b[0m \u001b[0;34m\u001b[0m\u001b[0m\n\u001b[1;32m   1939\u001b[0m     \u001b[0;32mif\u001b[0m \u001b[0mklass\u001b[0m \u001b[0;32mis\u001b[0m \u001b[0;32mNone\u001b[0m\u001b[0;34m:\u001b[0m\u001b[0;34m\u001b[0m\u001b[0;34m\u001b[0m\u001b[0m\n",
            "\u001b[0;32m/usr/local/lib/python3.7/dist-packages/pandas/core/internals/blocks.py\u001b[0m in \u001b[0;36mcheck_ndim\u001b[0;34m(values, placement, ndim)\u001b[0m\n\u001b[1;32m   1978\u001b[0m         \u001b[0;32mif\u001b[0m \u001b[0mlen\u001b[0m\u001b[0;34m(\u001b[0m\u001b[0mplacement\u001b[0m\u001b[0;34m)\u001b[0m \u001b[0;34m!=\u001b[0m \u001b[0mlen\u001b[0m\u001b[0;34m(\u001b[0m\u001b[0mvalues\u001b[0m\u001b[0;34m)\u001b[0m\u001b[0;34m:\u001b[0m\u001b[0;34m\u001b[0m\u001b[0;34m\u001b[0m\u001b[0m\n\u001b[1;32m   1979\u001b[0m             raise ValueError(\n\u001b[0;32m-> 1980\u001b[0;31m                 \u001b[0;34mf\"Wrong number of items passed {len(values)}, \"\u001b[0m\u001b[0;34m\u001b[0m\u001b[0;34m\u001b[0m\u001b[0m\n\u001b[0m\u001b[1;32m   1981\u001b[0m                 \u001b[0;34mf\"placement implies {len(placement)}\"\u001b[0m\u001b[0;34m\u001b[0m\u001b[0;34m\u001b[0m\u001b[0m\n\u001b[1;32m   1982\u001b[0m             )\n",
            "\u001b[0;31mValueError\u001b[0m: Wrong number of items passed 257, placement implies 1"
          ]
        }
      ]
    },
    {
      "cell_type": "code",
      "source": [
        "print('mel_arr',mel_arrT.shape)\n",
        "print('rms_np',rms_npT.shape)\n",
        "print('mfcc_np',mfcc_npT.shape)\n",
        "print('chrom_',chrom_T.shape)\n",
        "print('stft_np',stft_npT.shape)\n",
        "print('crosszr',crosszrT.shape)\n"
      ],
      "metadata": {
        "colab": {
          "base_uri": "https://localhost:8080/"
        },
        "outputId": "4d59ee11-4345-4145-e794-a891439257f0",
        "id": "nSfI1O5NQN2T"
      },
      "execution_count": null,
      "outputs": [
        {
          "output_type": "stream",
          "name": "stdout",
          "text": [
            "mel_arr (340, 128)\n",
            "rms_np (340, 1)\n",
            "mfcc_np (340, 20)\n",
            "chrom_ (170, 12)\n",
            "stft_np (340, 257)\n",
            "crosszr (340, 1)\n"
          ]
        }
      ]
    },
    {
      "cell_type": "code",
      "source": [
        "\n",
        "feat=np.hstack((feat, mel_arrT))"
      ],
      "metadata": {
        "id": "tT8xOyNmUKju"
      },
      "execution_count": null,
      "outputs": []
    },
    {
      "cell_type": "code",
      "source": [
        "feat=np.hstack((feat, rms_npT\t))"
      ],
      "metadata": {
        "id": "YhmfGXlbUOMs"
      },
      "execution_count": null,
      "outputs": []
    },
    {
      "cell_type": "code",
      "source": [
        "feat=np.hstack((feat, mfcc_npT))"
      ],
      "metadata": {
        "id": "tsysT-_OUR17"
      },
      "execution_count": null,
      "outputs": []
    },
    {
      "cell_type": "code",
      "source": [
        "feat=np.hstack((feat, stft_npT))"
      ],
      "metadata": {
        "id": "10MgxMFKUUag"
      },
      "execution_count": null,
      "outputs": []
    },
    {
      "cell_type": "code",
      "source": [
        "feet=pd.DataFrame(feat)"
      ],
      "metadata": {
        "id": "YqIU4LAXUX13"
      },
      "execution_count": null,
      "outputs": []
    },
    {
      "cell_type": "code",
      "source": [
        "feet.describe"
      ],
      "metadata": {
        "colab": {
          "base_uri": "https://localhost:8080/"
        },
        "id": "NerOlDdJUcwd",
        "outputId": "d6616082-5327-4299-f554-ca21fe54a706"
      },
      "execution_count": null,
      "outputs": [
        {
          "output_type": "execute_result",
          "data": {
            "text/plain": [
              "<bound method NDFrame.describe of                     0                           1    \\\n",
              "0    0.111328+0.000000j  4.083309e-07+0.000000e+00j   \n",
              "1    0.208984+0.000000j  8.324382e-08+0.000000e+00j   \n",
              "2    0.189453+0.000000j  4.250383e-08+0.000000e+00j   \n",
              "3    0.183594+0.000000j  3.322471e-07+0.000000e+00j   \n",
              "4    0.187500+0.000000j  1.599983e-06+0.000000e+00j   \n",
              "..                  ...                         ...   \n",
              "335  0.376953+0.000000j  2.180382e-08+0.000000e+00j   \n",
              "336  0.404297+0.000000j  3.938071e-09+0.000000e+00j   \n",
              "337  0.373047+0.000000j  2.880995e-08+0.000000e+00j   \n",
              "338  0.347656+0.000000j  5.798177e-08+0.000000e+00j   \n",
              "339  0.201172+0.000000j  2.892566e-09+0.000000e+00j   \n",
              "\n",
              "                            2                           3    \\\n",
              "0    8.277448e-07+0.000000e+00j  5.154770e-07+0.000000e+00j   \n",
              "1    1.687471e-07+0.000000e+00j  1.252154e-07+0.000000e+00j   \n",
              "2    8.616131e-08+0.000000e+00j  1.484814e-08+0.000000e+00j   \n",
              "3    6.735121e-07+0.000000e+00j  1.646932e-07+0.000000e+00j   \n",
              "4    3.243394e-06+0.000000e+00j  1.267649e-07+0.000000e+00j   \n",
              "..                          ...                         ...   \n",
              "335  4.419945e-08+0.000000e+00j  2.136129e-08+0.000000e+00j   \n",
              "336  7.983029e-09+0.000000e+00j  3.671919e-08+0.000000e+00j   \n",
              "337  5.840186e-08+0.000000e+00j  5.273272e-08+0.000000e+00j   \n",
              "338  1.175373e-07+0.000000e+00j  5.517636e-08+0.000000e+00j   \n",
              "339  5.863643e-09+0.000000e+00j  3.423988e-09+0.000000e+00j   \n",
              "\n",
              "                            4                           5    \\\n",
              "0    2.647342e-07+0.000000e+00j  9.646325e-07+0.000000e+00j   \n",
              "1    6.430703e-08+0.000000e+00j  6.699511e-08+0.000000e+00j   \n",
              "2    7.625578e-09+0.000000e+00j  1.839236e-07+0.000000e+00j   \n",
              "3    8.458169e-08+0.000000e+00j  1.446596e-07+0.000000e+00j   \n",
              "4    6.510282e-08+0.000000e+00j  1.266071e-07+0.000000e+00j   \n",
              "..                          ...                         ...   \n",
              "335  1.097054e-08+0.000000e+00j  3.523980e-07+0.000000e+00j   \n",
              "336  1.885792e-08+0.000000e+00j  3.051851e-08+0.000000e+00j   \n",
              "337  2.708201e-08+0.000000e+00j  9.877431e-08+0.000000e+00j   \n",
              "338  2.833699e-08+0.000000e+00j  1.274030e-08+0.000000e+00j   \n",
              "339  1.758462e-09+0.000000e+00j  5.068577e-08+0.000000e+00j   \n",
              "\n",
              "                            6                           7    \\\n",
              "0    6.086588e-07+0.000000e+00j  1.266814e-06+0.000000e+00j   \n",
              "1    6.085619e-08+0.000000e+00j  1.272240e-07+0.000000e+00j   \n",
              "2    5.964099e-08+0.000000e+00j  1.224241e-07+0.000000e+00j   \n",
              "3    2.215588e-07+0.000000e+00j  4.650797e-07+0.000000e+00j   \n",
              "4    7.517173e-08+0.000000e+00j  1.563137e-07+0.000000e+00j   \n",
              "..                          ...                         ...   \n",
              "335  1.601109e-07+0.000000e+00j  3.313576e-07+0.000000e+00j   \n",
              "336  3.837021e-09+0.000000e+00j  7.519204e-09+0.000000e+00j   \n",
              "337  5.529074e-08+0.000000e+00j  1.148648e-07+0.000000e+00j   \n",
              "338  7.076209e-08+0.000000e+00j  1.491778e-07+0.000000e+00j   \n",
              "339  2.371070e-09+0.000000e+00j  4.038415e-09+0.000000e+00j   \n",
              "\n",
              "                            8                           9    ...  \\\n",
              "0    1.441450e-06+0.000000e+00j  7.703032e-07+0.000000e+00j  ...   \n",
              "1    2.535344e-07+0.000000e+00j  1.354875e-07+0.000000e+00j  ...   \n",
              "2    3.397434e-07+0.000000e+00j  1.815571e-07+0.000000e+00j  ...   \n",
              "3    4.463834e-07+0.000000e+00j  2.385449e-07+0.000000e+00j  ...   \n",
              "4    6.666885e-08+0.000000e+00j  3.562749e-08+0.000000e+00j  ...   \n",
              "..                          ...                         ...  ...   \n",
              "335  3.945493e-08+0.000000e+00j  2.108451e-08+0.000000e+00j  ...   \n",
              "336  4.354638e-08+0.000000e+00j  2.327096e-08+0.000000e+00j  ...   \n",
              "337  2.512785e-07+0.000000e+00j  1.342819e-07+0.000000e+00j  ...   \n",
              "338  1.539102e-07+0.000000e+00j  8.224882e-08+0.000000e+00j  ...   \n",
              "339  1.062899e-08+0.000000e+00j  5.680076e-09+0.000000e+00j  ...   \n",
              "\n",
              "                            804                         805  \\\n",
              "0   -1.120034e-05-3.337310e-19j  1.126116e-05+8.131516e-20j   \n",
              "1   -1.494428e-09-4.114625e-10j -7.249619e-10+4.821530e-10j   \n",
              "2   -2.735483e-09+2.103805e-10j -2.563896e-09-5.664082e-11j   \n",
              "3   -1.780275e-09-1.017523e-09j  6.752131e-10+1.998725e-10j   \n",
              "4    3.668563e-09+2.524610e-10j  3.274248e-09+1.086939e-09j   \n",
              "..                          ...                         ...   \n",
              "335 -3.740781e-10+9.898853e-11j -3.460751e-10+2.030598e-10j   \n",
              "336 -9.933571e-10+1.466000e-10j -8.407841e-10+1.345096e-10j   \n",
              "337 -2.569978e-10+2.179290e-10j -2.194501e-10+4.186678e-11j   \n",
              "338  6.677844e-10-1.397047e-10j  7.612300e-10-1.440377e-10j   \n",
              "339  7.475559e-06+3.094361e-06j -8.096657e-06+1.130550e-09j   \n",
              "\n",
              "                            806                         807  \\\n",
              "0   -1.130547e-05-1.880413e-19j  1.135280e-05+8.131516e-20j   \n",
              "1   -1.513811e-09-1.523125e-11j -7.651869e-10-4.769229e-10j   \n",
              "2   -3.083884e-09+1.756020e-10j -2.138229e-09-8.821535e-10j   \n",
              "3   -4.559640e-11-7.555420e-10j  4.913379e-10-5.502936e-10j   \n",
              "4    2.817211e-09+8.519695e-10j  3.934749e-09+9.632175e-10j   \n",
              "..                          ...                         ...   \n",
              "335 -3.663504e-10+1.517746e-10j -4.192861e-10+3.615857e-11j   \n",
              "336 -8.755626e-10+9.759545e-11j -9.174496e-10+3.308386e-11j   \n",
              "337 -2.834072e-10+1.425015e-10j -2.151650e-10+7.233558e-11j   \n",
              "338  6.368571e-10-5.604692e-12j  6.840426e-10-1.551799e-10j   \n",
              "339  7.486866e-06-3.102323e-06j -5.732512e-06+5.734336e-06j   \n",
              "\n",
              "                            808                         809  \\\n",
              "0   -1.138382e-05+3.388132e-20j  1.141840e-05+2.168404e-19j   \n",
              "1   -1.313150e-09+6.092298e-10j -9.278432e-10-4.276603e-10j   \n",
              "2   -3.415087e-09+3.653422e-10j -1.751704e-09-6.588605e-10j   \n",
              "3   -6.241186e-10+3.209675e-10j  1.307807e-09-6.102904e-10j   \n",
              "4    2.657969e-09+2.266277e-10j  3.154010e-09+7.811980e-10j   \n",
              "..                          ...                         ...   \n",
              "335 -3.287579e-10+4.505963e-11j -3.585540e-10+1.487558e-10j   \n",
              "336 -9.082415e-10+1.152839e-10j -8.899187e-10+8.545105e-11j   \n",
              "337 -2.460464e-10+7.044813e-11j -2.447261e-10+6.080222e-11j   \n",
              "338  7.000548e-10-5.441881e-11j  6.710054e-10-4.208205e-12j   \n",
              "339  3.104677e-06-7.496151e-06j  1.263546e-09+8.116929e-06j   \n",
              "\n",
              "                            810                         811  \\\n",
              "0   -1.143618e-05+4.946672e-19j  1.145710e-05-2.812149e-19j   \n",
              "1   -8.773622e-10-1.978734e-12j -6.987456e-10+7.355461e-10j   \n",
              "2   -3.434450e-09-3.158404e-10j -1.999515e-09+7.504813e-10j   \n",
              "3   -1.653253e-09-5.368863e-13j  1.133634e-09+1.373928e-10j   \n",
              "4    3.824061e-09+2.053547e-10j  2.743528e-09+2.223666e-10j   \n",
              "..                          ...                         ...   \n",
              "335 -4.631840e-10+4.501232e-11j -2.845821e-10-4.439371e-11j   \n",
              "336 -8.399314e-10+5.356141e-11j -8.497841e-10+1.381625e-11j   \n",
              "337 -2.041742e-10+5.182084e-11j -2.464620e-10+4.980671e-11j   \n",
              "338  6.880032e-10-1.129382e-10j  5.992828e-10+6.711331e-11j   \n",
              "339 -3.107171e-06-7.501666e-06j  5.743833e-06+5.742742e-06j   \n",
              "\n",
              "                            812                         813  \n",
              "0   -1.146108e-05-6.543330e-20j  1.146879e-05+0.000000e+00j  \n",
              "1   -2.145403e-09-8.775580e-10j  1.271538e-10+0.000000e+00j  \n",
              "2   -3.400131e-09-7.184919e-12j -1.652474e-09+0.000000e+00j  \n",
              "3   -4.558929e-10-4.190595e-10j  5.951242e-10+0.000000e+00j  \n",
              "4    3.109585e-09+3.048032e-10j  3.292133e-09+0.000000e+00j  \n",
              "..                          ...                         ...  \n",
              "335 -3.647841e-10+1.368340e-10j -3.936856e-10+0.000000e+00j  \n",
              "336 -8.731179e-10-3.895496e-11j -9.191240e-10+0.000000e+00j  \n",
              "337 -2.631685e-10+3.390352e-12j -1.873290e-10+0.000000e+00j  \n",
              "338  7.285116e-10-7.287163e-11j  6.320929e-10+0.000000e+00j  \n",
              "339 -7.504183e-06-3.108422e-06j  8.124093e-06+0.000000e+00j  \n",
              "\n",
              "[340 rows x 814 columns]>"
            ]
          },
          "metadata": {},
          "execution_count": 48
        }
      ]
    },
    {
      "cell_type": "markdown",
      "source": [
        "correlated_pea_db=feet.corr(method='spearman')"
      ],
      "metadata": {
        "id": "MH11E1tJU6RO"
      }
    },
    {
      "cell_type": "markdown",
      "source": [
        "print(correlated_pea_db)"
      ],
      "metadata": {
        "id": "AuElwqNNVRfK"
      }
    },
    {
      "cell_type": "markdown",
      "source": [
        "for i in range (correlated_pea_db.shape[0]):\n",
        "    for j in range (i+1,correlated_pea_db.shape[1]) :\n",
        "        if abs(correlated_pea_db.iloc[i,j])>0.80:\n",
        "            print('_'*20)\n",
        "            print(correlated_pea_db.index[i],correlated_pea_db.columns[j],)\n",
        "            print('corelation between:',correlated_pea_db.iloc[i,j])\n",
        "           # print('corelation between:',correlated_pea_db.index[i],'and class',correlated_pea_db.iloc[i,correlated_pea_db.shape[1]-1])\n",
        "           # print('corelation between:',correlated_pea_db.columns[j],'and class',correlated_pea_db.iloc[j,correlated_pea_db.shape[1]-1])\n"
      ],
      "metadata": {
        "id": "RGGOaRtSVlIo"
      }
    },
    {
      "cell_type": "code",
      "source": [
        ""
      ],
      "metadata": {
        "id": "WaEScaU_dEXY"
      },
      "execution_count": null,
      "outputs": []
    }
  ]
}