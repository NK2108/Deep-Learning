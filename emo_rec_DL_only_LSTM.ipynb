{
  "nbformat": 4,
  "nbformat_minor": 0,
  "metadata": {
    "colab": {
      "name": "emo_rec_DL_only_LSTM.ipynb",
      "provenance": [],
      "collapsed_sections": [],
      "authorship_tag": "ABX9TyPMzwLnGPzKFZb+brY31Lx9",
      "include_colab_link": true
    },
    "kernelspec": {
      "name": "python3",
      "display_name": "Python 3"
    },
    "language_info": {
      "name": "python"
    }
  },
  "cells": [
    {
      "cell_type": "markdown",
      "metadata": {
        "id": "view-in-github",
        "colab_type": "text"
      },
      "source": [
        "<a href=\"https://colab.research.google.com/github/NK2108/Deep-Learning/blob/main/emo_rec_DL_only_LSTM.ipynb\" target=\"_parent\"><img src=\"https://colab.research.google.com/assets/colab-badge.svg\" alt=\"Open In Colab\"/></a>"
      ]
    },
    {
      "cell_type": "code",
      "execution_count": null,
      "metadata": {
        "colab": {
          "base_uri": "https://localhost:8080/"
        },
        "id": "h9my-lZ5BQ4g",
        "outputId": "40862a3c-642d-416a-e855-d2d03ad37ac1"
      },
      "outputs": [
        {
          "output_type": "stream",
          "name": "stdout",
          "text": [
            "Drive already mounted at /content/drive; to attempt to forcibly remount, call drive.mount(\"/content/drive\", force_remount=True).\n"
          ]
        }
      ],
      "source": [
        "from google.colab import drive\n",
        "drive.mount('/content/drive')"
      ]
    },
    {
      "cell_type": "code",
      "source": [
        "import pandas as pd\n",
        "import numpy as np\n",
        "\n",
        "import os, glob, pickle\n",
        "import sys\n",
        "\n",
        "import librosa\n",
        "import librosa.display\n",
        "\n",
        "import seaborn as sns\n",
        "import matplotlib.pyplot as plt\n",
        "\n",
        "from sklearn.preprocessing import StandardScaler, OneHotEncoder\n",
        "from sklearn.metrics import confusion_matrix, classification_report\n",
        "from sklearn.model_selection import train_test_split, KFold\n",
        "from IPython.display import Audio\n",
        "\n",
        "import tensorflow as tf\n",
        "import keras\n",
        "from keras.callbacks import ReduceLROnPlateau, EarlyStopping\n",
        "from keras.models import Sequential, load_model\n",
        "from keras.layers import Dense, Conv1D, MaxPooling1D, Flatten, Dropout, BatchNormalization\n",
        "from keras.utils import np_utils\n",
        "from keras.callbacks import ModelCheckpoint\n",
        "\n",
        "import warnings\n",
        "if not sys.warnoptions:\n",
        "    warnings.simplefilter(\"ignore\")\n",
        "warnings.filterwarnings(\"ignore\", category=DeprecationWarning)\n",
        "Ravdess = \"/content/drive/MyDrive/speech-emotion-recognition-ravdess-data/samples/\""
      ],
      "metadata": {
        "id": "zsJnsDX1Bcky"
      },
      "execution_count": null,
      "outputs": []
    },
    {
      "cell_type": "code",
      "source": [
        "emotions={\n",
        "  '01':'neutral',\n",
        "  '02':'calm',\n",
        "  '03':'happy',\n",
        "  '04':'sad',\n",
        "  '05':'angry',\n",
        "  '06':'fearful',\n",
        "  '07':'disgust',\n",
        "  '08':'surprised'\n",
        "}"
      ],
      "metadata": {
        "id": "DwOUC9eGBXTE"
      },
      "execution_count": null,
      "outputs": []
    },
    {
      "cell_type": "code",
      "source": [
        "file_emotion,file_path = [],[]\n",
        "\n",
        "for file in glob.glob(\"/content/drive/MyDrive/speech-emotion-recognition-ravdess-data/samples/*.wav\"):\n",
        "\n",
        "    file_name=os.path.basename(file)\n",
        "    emotion=emotions[file_name.split(\"-\")[2]]\n",
        "\n",
        "    file_emotion.append(emotion)\n",
        "    file_path.append(Ravdess+file_name)\n",
        "        \n",
        "emotion_df = pd.DataFrame(file_emotion, columns=['Emotions'])\n",
        "\n",
        "path_df = pd.DataFrame(file_path, columns=['Path'])\n",
        "Ravdess_df = pd.concat([emotion_df, path_df], axis=1)\n",
        "Ravdess_df = Ravdess_df[Ravdess_df.Emotions != 'neutral']\n",
        "Ravdess_df"
      ],
      "metadata": {
        "id": "-GIZWBFzBk_q",
        "colab": {
          "base_uri": "https://localhost:8080/",
          "height": 424
        },
        "outputId": "a273265a-90c9-46f8-a3e4-d937e8914c60"
      },
      "execution_count": null,
      "outputs": [
        {
          "output_type": "execute_result",
          "data": {
            "text/plain": [
              "     Emotions                                               Path\n",
              "1         sad  /content/drive/MyDrive/speech-emotion-recognit...\n",
              "2     disgust  /content/drive/MyDrive/speech-emotion-recognit...\n",
              "3        calm  /content/drive/MyDrive/speech-emotion-recognit...\n",
              "4       happy  /content/drive/MyDrive/speech-emotion-recognit...\n",
              "5       angry  /content/drive/MyDrive/speech-emotion-recognit...\n",
              "...       ...                                                ...\n",
              "1438    angry  /content/drive/MyDrive/speech-emotion-recognit...\n",
              "1439     calm  /content/drive/MyDrive/speech-emotion-recognit...\n",
              "1440     calm  /content/drive/MyDrive/speech-emotion-recognit...\n",
              "1441      sad  /content/drive/MyDrive/speech-emotion-recognit...\n",
              "1442  disgust  /content/drive/MyDrive/speech-emotion-recognit...\n",
              "\n",
              "[1347 rows x 2 columns]"
            ],
            "text/html": [
              "\n",
              "  <div id=\"df-8dfaff7a-455e-4674-af4b-478b5d2cf4c3\">\n",
              "    <div class=\"colab-df-container\">\n",
              "      <div>\n",
              "<style scoped>\n",
              "    .dataframe tbody tr th:only-of-type {\n",
              "        vertical-align: middle;\n",
              "    }\n",
              "\n",
              "    .dataframe tbody tr th {\n",
              "        vertical-align: top;\n",
              "    }\n",
              "\n",
              "    .dataframe thead th {\n",
              "        text-align: right;\n",
              "    }\n",
              "</style>\n",
              "<table border=\"1\" class=\"dataframe\">\n",
              "  <thead>\n",
              "    <tr style=\"text-align: right;\">\n",
              "      <th></th>\n",
              "      <th>Emotions</th>\n",
              "      <th>Path</th>\n",
              "    </tr>\n",
              "  </thead>\n",
              "  <tbody>\n",
              "    <tr>\n",
              "      <th>1</th>\n",
              "      <td>sad</td>\n",
              "      <td>/content/drive/MyDrive/speech-emotion-recognit...</td>\n",
              "    </tr>\n",
              "    <tr>\n",
              "      <th>2</th>\n",
              "      <td>disgust</td>\n",
              "      <td>/content/drive/MyDrive/speech-emotion-recognit...</td>\n",
              "    </tr>\n",
              "    <tr>\n",
              "      <th>3</th>\n",
              "      <td>calm</td>\n",
              "      <td>/content/drive/MyDrive/speech-emotion-recognit...</td>\n",
              "    </tr>\n",
              "    <tr>\n",
              "      <th>4</th>\n",
              "      <td>happy</td>\n",
              "      <td>/content/drive/MyDrive/speech-emotion-recognit...</td>\n",
              "    </tr>\n",
              "    <tr>\n",
              "      <th>5</th>\n",
              "      <td>angry</td>\n",
              "      <td>/content/drive/MyDrive/speech-emotion-recognit...</td>\n",
              "    </tr>\n",
              "    <tr>\n",
              "      <th>...</th>\n",
              "      <td>...</td>\n",
              "      <td>...</td>\n",
              "    </tr>\n",
              "    <tr>\n",
              "      <th>1438</th>\n",
              "      <td>angry</td>\n",
              "      <td>/content/drive/MyDrive/speech-emotion-recognit...</td>\n",
              "    </tr>\n",
              "    <tr>\n",
              "      <th>1439</th>\n",
              "      <td>calm</td>\n",
              "      <td>/content/drive/MyDrive/speech-emotion-recognit...</td>\n",
              "    </tr>\n",
              "    <tr>\n",
              "      <th>1440</th>\n",
              "      <td>calm</td>\n",
              "      <td>/content/drive/MyDrive/speech-emotion-recognit...</td>\n",
              "    </tr>\n",
              "    <tr>\n",
              "      <th>1441</th>\n",
              "      <td>sad</td>\n",
              "      <td>/content/drive/MyDrive/speech-emotion-recognit...</td>\n",
              "    </tr>\n",
              "    <tr>\n",
              "      <th>1442</th>\n",
              "      <td>disgust</td>\n",
              "      <td>/content/drive/MyDrive/speech-emotion-recognit...</td>\n",
              "    </tr>\n",
              "  </tbody>\n",
              "</table>\n",
              "<p>1347 rows × 2 columns</p>\n",
              "</div>\n",
              "      <button class=\"colab-df-convert\" onclick=\"convertToInteractive('df-8dfaff7a-455e-4674-af4b-478b5d2cf4c3')\"\n",
              "              title=\"Convert this dataframe to an interactive table.\"\n",
              "              style=\"display:none;\">\n",
              "        \n",
              "  <svg xmlns=\"http://www.w3.org/2000/svg\" height=\"24px\"viewBox=\"0 0 24 24\"\n",
              "       width=\"24px\">\n",
              "    <path d=\"M0 0h24v24H0V0z\" fill=\"none\"/>\n",
              "    <path d=\"M18.56 5.44l.94 2.06.94-2.06 2.06-.94-2.06-.94-.94-2.06-.94 2.06-2.06.94zm-11 1L8.5 8.5l.94-2.06 2.06-.94-2.06-.94L8.5 2.5l-.94 2.06-2.06.94zm10 10l.94 2.06.94-2.06 2.06-.94-2.06-.94-.94-2.06-.94 2.06-2.06.94z\"/><path d=\"M17.41 7.96l-1.37-1.37c-.4-.4-.92-.59-1.43-.59-.52 0-1.04.2-1.43.59L10.3 9.45l-7.72 7.72c-.78.78-.78 2.05 0 2.83L4 21.41c.39.39.9.59 1.41.59.51 0 1.02-.2 1.41-.59l7.78-7.78 2.81-2.81c.8-.78.8-2.07 0-2.86zM5.41 20L4 18.59l7.72-7.72 1.47 1.35L5.41 20z\"/>\n",
              "  </svg>\n",
              "      </button>\n",
              "      \n",
              "  <style>\n",
              "    .colab-df-container {\n",
              "      display:flex;\n",
              "      flex-wrap:wrap;\n",
              "      gap: 12px;\n",
              "    }\n",
              "\n",
              "    .colab-df-convert {\n",
              "      background-color: #E8F0FE;\n",
              "      border: none;\n",
              "      border-radius: 50%;\n",
              "      cursor: pointer;\n",
              "      display: none;\n",
              "      fill: #1967D2;\n",
              "      height: 32px;\n",
              "      padding: 0 0 0 0;\n",
              "      width: 32px;\n",
              "    }\n",
              "\n",
              "    .colab-df-convert:hover {\n",
              "      background-color: #E2EBFA;\n",
              "      box-shadow: 0px 1px 2px rgba(60, 64, 67, 0.3), 0px 1px 3px 1px rgba(60, 64, 67, 0.15);\n",
              "      fill: #174EA6;\n",
              "    }\n",
              "\n",
              "    [theme=dark] .colab-df-convert {\n",
              "      background-color: #3B4455;\n",
              "      fill: #D2E3FC;\n",
              "    }\n",
              "\n",
              "    [theme=dark] .colab-df-convert:hover {\n",
              "      background-color: #434B5C;\n",
              "      box-shadow: 0px 1px 3px 1px rgba(0, 0, 0, 0.15);\n",
              "      filter: drop-shadow(0px 1px 2px rgba(0, 0, 0, 0.3));\n",
              "      fill: #FFFFFF;\n",
              "    }\n",
              "  </style>\n",
              "\n",
              "      <script>\n",
              "        const buttonEl =\n",
              "          document.querySelector('#df-8dfaff7a-455e-4674-af4b-478b5d2cf4c3 button.colab-df-convert');\n",
              "        buttonEl.style.display =\n",
              "          google.colab.kernel.accessAllowed ? 'block' : 'none';\n",
              "\n",
              "        async function convertToInteractive(key) {\n",
              "          const element = document.querySelector('#df-8dfaff7a-455e-4674-af4b-478b5d2cf4c3');\n",
              "          const dataTable =\n",
              "            await google.colab.kernel.invokeFunction('convertToInteractive',\n",
              "                                                     [key], {});\n",
              "          if (!dataTable) return;\n",
              "\n",
              "          const docLinkHtml = 'Like what you see? Visit the ' +\n",
              "            '<a target=\"_blank\" href=https://colab.research.google.com/notebooks/data_table.ipynb>data table notebook</a>'\n",
              "            + ' to learn more about interactive tables.';\n",
              "          element.innerHTML = '';\n",
              "          dataTable['output_type'] = 'display_data';\n",
              "          await google.colab.output.renderOutput(dataTable, element);\n",
              "          const docLink = document.createElement('div');\n",
              "          docLink.innerHTML = docLinkHtml;\n",
              "          element.appendChild(docLink);\n",
              "        }\n",
              "      </script>\n",
              "    </div>\n",
              "  </div>\n",
              "  "
            ]
          },
          "metadata": {},
          "execution_count": 13
        }
      ]
    },
    {
      "cell_type": "code",
      "source": [
        "plt.title('Samples per Emotions', size=14)\n",
        "sns.countplot(Ravdess_df.Emotions)\n",
        "plt.ylabel('Count', size=12)\n",
        "plt.xlabel('Emotions', size=12)\n",
        "sns.despine(top=True, right=True, left=False, bottom=False)\n",
        "plt.show()"
      ],
      "metadata": {
        "colab": {
          "base_uri": "https://localhost:8080/",
          "height": 354
        },
        "id": "Rfopn4HfBl02",
        "outputId": "0239ac3e-41dc-49cf-f784-856347aee12f"
      },
      "execution_count": null,
      "outputs": [
        {
          "output_type": "stream",
          "name": "stderr",
          "text": [
            "/usr/local/lib/python3.7/dist-packages/seaborn/_decorators.py:43: FutureWarning: Pass the following variable as a keyword arg: x. From version 0.12, the only valid positional argument will be `data`, and passing other arguments without an explicit keyword will result in an error or misinterpretation.\n",
            "  FutureWarning\n"
          ]
        },
        {
          "output_type": "display_data",
          "data": {
            "text/plain": [
              "<Figure size 432x288 with 1 Axes>"
            ],
            "image/png": "[encoded data removed]"
          },
          "metadata": {
            "needs_background": "light"
          }
        }
      ]
    },
    {
      "cell_type": "markdown",
      "source": [
        "**Adding noise, stretch, shift, or pitch**"
      ],
      "metadata": {
        "id": "nZLSceX3acGd"
      }
    },
    {
      "cell_type": "code",
      "source": [
        "def noise(data):\n",
        "    noise_amp = 0.035*np.random.uniform()*np.amax(data)\n",
        "    data = data + noise_amp*np.random.normal(size=data.shape[0])\n",
        "    return data\n",
        "\n",
        "def stretch(data, rate=0.8):\n",
        "    return librosa.effects.time_stretch(data, rate)\n",
        "\n",
        "def shift(data):\n",
        "    shift_range = int(np.random.uniform(low=-5, high = 5)*1000)\n",
        "    return np.roll(data, shift_range)\n",
        "\n",
        "def pitch(data, sampling_rate, pitch_factor=0.7):\n",
        "    return librosa.effects.pitch_shift(data, sampling_rate, pitch_factor)\n",
        "\n",
        "path = np.array(Ravdess_df.Path)[1]\n",
        "data, sample_rate = librosa.load(path)\n"
      ],
      "metadata": {
        "id": "0ErVHKIeahFY"
      },
      "execution_count": null,
      "outputs": []
    },
    {
      "cell_type": "code",
      "source": [
        "def extract_features(data):\n",
        "    # Zero Crossing Rate: Signal-change rate\n",
        "    result = np.array([])\n",
        "    zcr = np.mean(librosa.feature.zero_crossing_rate(y=data).T, axis=0)\n",
        "    result=np.hstack((result, zcr)) # stacking horizontally\n",
        "\n",
        "    # Chroma standard Furrier transfer: represent the intensity of the twelve distinctive pitch classes\n",
        "    stft = np.abs(librosa.stft(data))\n",
        "    chroma_stft = np.mean(librosa.feature.chroma_stft(S=stft, sr=sample_rate).T, axis=0)\n",
        "    result = np.hstack((result, chroma_stft)) \n",
        "\n",
        "    # Mel Frequency Cepstral Coefficients: from a spectral representation, freq bands distributed in mel-scale\n",
        "    mfcc = np.mean(librosa.feature.mfcc(y=data, sr=sample_rate).T, axis=0)\n",
        "    result = np.hstack((result, mfcc)) \n",
        "\n",
        "    # Root Mean Square Value for each frame of sample\n",
        "    rms = np.mean(librosa.feature.rms(y=data).T, axis=0)\n",
        "    result = np.hstack((result, rms))\n",
        "\n",
        "    # MelSpectogram: visualization of the freq spectrum of a signal, mel-scale mimics how the human ear works\n",
        "    mel = np.mean(librosa.feature.melspectrogram(y=data, sr=sample_rate).T, axis=0)\n",
        "    result = np.hstack((result, mel)) \n",
        "    \n",
        "    return result\n",
        "\n",
        "def get_features(path): #first step of pre-processing\n",
        "    # duration and offset are used to take care of the no audio in start and the ending of each audio files as seen above.\n",
        "    data, sample_rate = librosa.load(path, duration=2.6, offset=0.4)\n",
        "    \n",
        "    # without augmentation\n",
        "    res1 = extract_features(data)\n",
        "    result = np.array(res1)\n",
        "    \n",
        "    # data with noise\n",
        "    noise_data = noise(data)\n",
        "    res2 = extract_features(noise_data)\n",
        "    result = np.vstack((result, res2)) \n",
        "    \n",
        "    # data with stretching and pitching\n",
        "    new_data = stretch(data)\n",
        "    data_stretch_pitch = pitch(new_data, sample_rate)\n",
        "    res3 = extract_features(data_stretch_pitch)\n",
        "    result = np.vstack((result, res3))\n",
        "    \n",
        "    return result"
      ],
      "metadata": {
        "id": "E3nVLnpoDG6b"
      },
      "execution_count": null,
      "outputs": []
    },
    {
      "cell_type": "code",
      "source": [
        "X, Y = [], []\n",
        "for path, emotion in zip(Ravdess_df.Path, Ravdess_df.Emotions):\n",
        "    feature = get_features(path)\n",
        "    for ele in feature:\n",
        "        X.append(ele)\n",
        "        # appending emotion 3 times as we have made 3 augmentation techniques on each audio file.\n",
        "        Y.append(emotion)\n",
        "\n",
        "len(X), len(Y), Ravdess_df.Path.shape"
      ],
      "metadata": {
        "colab": {
          "base_uri": "https://localhost:8080/"
        },
        "id": "_mPdPwqrYrBN",
        "outputId": "a79f0782-cf49-4085-92df-f0897dbdd398"
      },
      "execution_count": null,
      "outputs": [
        {
          "output_type": "execute_result",
          "data": {
            "text/plain": [
              "(4041, 4041, (1347,))"
            ]
          },
          "metadata": {},
          "execution_count": 18
        }
      ]
    },
    {
      "cell_type": "code",
      "source": [
        "Features = pd.DataFrame(X)\n",
        "Features['labels'] = Y\n",
        "\n",
        "Features"
      ],
      "metadata": {
        "colab": {
          "base_uri": "https://localhost:8080/",
          "height": 661
        },
        "id": "keyn62eMdhrc",
        "outputId": "03027a67-e374-4507-e0ee-b21fbac01761"
      },
      "execution_count": null,
      "outputs": [
        {
          "output_type": "execute_result",
          "data": {
            "text/plain": [
              "             0         1         2         3         4         5         6  \\\n",
              "0     0.146205  0.667742  0.650311  0.605284  0.640242  0.584214  0.554824   \n",
              "1     0.244642  0.733383  0.709812  0.699881  0.744410  0.704187  0.634433   \n",
              "2     0.145794  0.622263  0.696846  0.669922  0.648794  0.670240  0.557148   \n",
              "3     0.131553  0.511452  0.517433  0.523196  0.569519  0.541172  0.582609   \n",
              "4     0.175773  0.554984  0.552639  0.583893  0.590958  0.585796  0.573632   \n",
              "...        ...       ...       ...       ...       ...       ...       ...   \n",
              "4036  0.283207  0.568579  0.580584  0.659019  0.684547  0.642799  0.600567   \n",
              "4037  0.093481  0.468669  0.430125  0.426217  0.525552  0.577744  0.539737   \n",
              "4038  0.157022  0.601161  0.642363  0.591389  0.599222  0.567285  0.537874   \n",
              "4039  0.337093  0.836179  0.842234  0.832196  0.837614  0.773029  0.693287   \n",
              "4040  0.149487  0.555345  0.638129  0.710143  0.621567  0.592498  0.558367   \n",
              "\n",
              "             7         8         9  ...           153           154  \\\n",
              "0     0.560428  0.653882  0.703217  ...  4.851268e-12  4.311642e-12   \n",
              "1     0.605040  0.663114  0.701234  ...  5.387681e-05  5.445143e-05   \n",
              "2     0.536304  0.582282  0.706324  ...  7.884864e-12  9.023218e-12   \n",
              "3     0.571208  0.617602  0.674876  ...  1.027169e-13  9.975344e-14   \n",
              "4     0.574290  0.631031  0.677452  ...  4.691153e-07  4.557188e-07   \n",
              "...        ...       ...       ...  ...           ...           ...   \n",
              "4036  0.626884  0.784939  0.819943  ...  4.909869e-06  4.945893e-06   \n",
              "4037  0.577869  0.627450  0.773411  ...  3.919815e-12  1.799201e-12   \n",
              "4038  0.562058  0.590552  0.649399  ...  5.162014e-14  4.336369e-14   \n",
              "4039  0.698197  0.736010  0.754986  ...  1.527360e-04  1.494236e-04   \n",
              "4040  0.570863  0.632932  0.584296  ...  1.532507e-12  1.394742e-12   \n",
              "\n",
              "               155           156           157           158           159  \\\n",
              "0     3.908758e-12  3.596597e-12  3.354412e-12  3.170622e-12  3.032781e-12   \n",
              "1     5.725535e-05  5.545740e-05  5.770702e-05  5.841550e-05  5.816804e-05   \n",
              "2     6.872001e-12  6.366100e-12  5.126208e-12  4.455651e-12  4.067148e-12   \n",
              "3     9.628800e-14  9.274737e-14  8.946512e-14  8.669277e-14  8.446525e-14   \n",
              "4     4.829260e-07  4.660643e-07  4.748615e-07  4.752699e-07  4.697011e-07   \n",
              "...            ...           ...           ...           ...           ...   \n",
              "4036  4.845030e-06  4.626298e-06  4.794590e-06  5.158462e-06  5.012097e-06   \n",
              "4037  1.148143e-12  1.852405e-12  1.885976e-12  1.062264e-12  9.862020e-13   \n",
              "4038  3.761053e-14  3.341838e-14  3.030565e-14  2.803135e-14  2.636821e-14   \n",
              "4039  1.447873e-04  1.432060e-04  1.479485e-04  1.457239e-04  1.508656e-04   \n",
              "4040  1.281365e-12  9.985526e-13  9.712038e-13  9.329200e-13  9.192670e-13   \n",
              "\n",
              "               160           161   labels  \n",
              "0     2.938114e-12  2.880097e-12      sad  \n",
              "1     5.424025e-05  5.443483e-05      sad  \n",
              "2     4.626031e-12  6.272078e-12      sad  \n",
              "3     8.280891e-14  8.180561e-14  disgust  \n",
              "4     4.944736e-07  4.627677e-07  disgust  \n",
              "...            ...           ...      ...  \n",
              "4036  4.890467e-06  4.886241e-06      sad  \n",
              "4037  1.501526e-12  1.249907e-12      sad  \n",
              "4038  2.523700e-14  2.457089e-14  disgust  \n",
              "4039  1.483201e-04  1.470305e-04  disgust  \n",
              "4040  7.862846e-13  7.955981e-13  disgust  \n",
              "\n",
              "[4041 rows x 163 columns]"
            ],
            "text/html": [
              "\n",
              "  <div id=\"df-9a249330-3921-4962-b75c-ecad44ac72eb\">\n",
              "    <div class=\"colab-df-container\">\n",
              "      <div>\n",
              "<style scoped>\n",
              "    .dataframe tbody tr th:only-of-type {\n",
              "        vertical-align: middle;\n",
              "    }\n",
              "\n",
              "    .dataframe tbody tr th {\n",
              "        vertical-align: top;\n",
              "    }\n",
              "\n",
              "    .dataframe thead th {\n",
              "        text-align: right;\n",
              "    }\n",
              "</style>\n",
              "<table border=\"1\" class=\"dataframe\">\n",
              "  <thead>\n",
              "    <tr style=\"text-align: right;\">\n",
              "      <th></th>\n",
              "      <th>0</th>\n",
              "      <th>1</th>\n",
              "      <th>2</th>\n",
              "      <th>3</th>\n",
              "      <th>4</th>\n",
              "      <th>5</th>\n",
              "      <th>6</th>\n",
              "      <th>7</th>\n",
              "      <th>8</th>\n",
              "      <th>9</th>\n",
              "      <th>...</th>\n",
              "      <th>153</th>\n",
              "      <th>154</th>\n",
              "      <th>155</th>\n",
              "      <th>156</th>\n",
              "      <th>157</th>\n",
              "      <th>158</th>\n",
              "      <th>159</th>\n",
              "      <th>160</th>\n",
              "      <th>161</th>\n",
              "      <th>labels</th>\n",
              "    </tr>\n",
              "  </thead>\n",
              "  <tbody>\n",
              "    <tr>\n",
              "      <th>0</th>\n",
              "      <td>0.146205</td>\n",
              "      <td>0.667742</td>\n",
              "      <td>0.650311</td>\n",
              "      <td>0.605284</td>\n",
              "      <td>0.640242</td>\n",
              "      <td>0.584214</td>\n",
              "      <td>0.554824</td>\n",
              "      <td>0.560428</td>\n",
              "      <td>0.653882</td>\n",
              "      <td>0.703217</td>\n",
              "      <td>...</td>\n",
              "      <td>4.851268e-12</td>\n",
              "      <td>4.311642e-12</td>\n",
              "      <td>3.908758e-12</td>\n",
              "      <td>3.596597e-12</td>\n",
              "      <td>3.354412e-12</td>\n",
              "      <td>3.170622e-12</td>\n",
              "      <td>3.032781e-12</td>\n",
              "      <td>2.938114e-12</td>\n",
              "      <td>2.880097e-12</td>\n",
              "      <td>sad</td>\n",
              "    </tr>\n",
              "    <tr>\n",
              "      <th>1</th>\n",
              "      <td>0.244642</td>\n",
              "      <td>0.733383</td>\n",
              "      <td>0.709812</td>\n",
              "      <td>0.699881</td>\n",
              "      <td>0.744410</td>\n",
              "      <td>0.704187</td>\n",
              "      <td>0.634433</td>\n",
              "      <td>0.605040</td>\n",
              "      <td>0.663114</td>\n",
              "      <td>0.701234</td>\n",
              "      <td>...</td>\n",
              "      <td>5.387681e-05</td>\n",
              "      <td>5.445143e-05</td>\n",
              "      <td>5.725535e-05</td>\n",
              "      <td>5.545740e-05</td>\n",
              "      <td>5.770702e-05</td>\n",
              "      <td>5.841550e-05</td>\n",
              "      <td>5.816804e-05</td>\n",
              "      <td>5.424025e-05</td>\n",
              "      <td>5.443483e-05</td>\n",
              "      <td>sad</td>\n",
              "    </tr>\n",
              "    <tr>\n",
              "      <th>2</th>\n",
              "      <td>0.145794</td>\n",
              "      <td>0.622263</td>\n",
              "      <td>0.696846</td>\n",
              "      <td>0.669922</td>\n",
              "      <td>0.648794</td>\n",
              "      <td>0.670240</td>\n",
              "      <td>0.557148</td>\n",
              "      <td>0.536304</td>\n",
              "      <td>0.582282</td>\n",
              "      <td>0.706324</td>\n",
              "      <td>...</td>\n",
              "      <td>7.884864e-12</td>\n",
              "      <td>9.023218e-12</td>\n",
              "      <td>6.872001e-12</td>\n",
              "      <td>6.366100e-12</td>\n",
              "      <td>5.126208e-12</td>\n",
              "      <td>4.455651e-12</td>\n",
              "      <td>4.067148e-12</td>\n",
              "      <td>4.626031e-12</td>\n",
              "      <td>6.272078e-12</td>\n",
              "      <td>sad</td>\n",
              "    </tr>\n",
              "    <tr>\n",
              "      <th>3</th>\n",
              "      <td>0.131553</td>\n",
              "      <td>0.511452</td>\n",
              "      <td>0.517433</td>\n",
              "      <td>0.523196</td>\n",
              "      <td>0.569519</td>\n",
              "      <td>0.541172</td>\n",
              "      <td>0.582609</td>\n",
              "      <td>0.571208</td>\n",
              "      <td>0.617602</td>\n",
              "      <td>0.674876</td>\n",
              "      <td>...</td>\n",
              "      <td>1.027169e-13</td>\n",
              "      <td>9.975344e-14</td>\n",
              "      <td>9.628800e-14</td>\n",
              "      <td>9.274737e-14</td>\n",
              "      <td>8.946512e-14</td>\n",
              "      <td>8.669277e-14</td>\n",
              "      <td>8.446525e-14</td>\n",
              "      <td>8.280891e-14</td>\n",
              "      <td>8.180561e-14</td>\n",
              "      <td>disgust</td>\n",
              "    </tr>\n",
              "    <tr>\n",
              "      <th>4</th>\n",
              "      <td>0.175773</td>\n",
              "      <td>0.554984</td>\n",
              "      <td>0.552639</td>\n",
              "      <td>0.583893</td>\n",
              "      <td>0.590958</td>\n",
              "      <td>0.585796</td>\n",
              "      <td>0.573632</td>\n",
              "      <td>0.574290</td>\n",
              "      <td>0.631031</td>\n",
              "      <td>0.677452</td>\n",
              "      <td>...</td>\n",
              "      <td>4.691153e-07</td>\n",
              "      <td>4.557188e-07</td>\n",
              "      <td>4.829260e-07</td>\n",
              "      <td>4.660643e-07</td>\n",
              "      <td>4.748615e-07</td>\n",
              "      <td>4.752699e-07</td>\n",
              "      <td>4.697011e-07</td>\n",
              "      <td>4.944736e-07</td>\n",
              "      <td>4.627677e-07</td>\n",
              "      <td>disgust</td>\n",
              "    </tr>\n",
              "    <tr>\n",
              "      <th>...</th>\n",
              "      <td>...</td>\n",
              "      <td>...</td>\n",
              "      <td>...</td>\n",
              "      <td>...</td>\n",
              "      <td>...</td>\n",
              "      <td>...</td>\n",
              "      <td>...</td>\n",
              "      <td>...</td>\n",
              "      <td>...</td>\n",
              "      <td>...</td>\n",
              "      <td>...</td>\n",
              "      <td>...</td>\n",
              "      <td>...</td>\n",
              "      <td>...</td>\n",
              "      <td>...</td>\n",
              "      <td>...</td>\n",
              "      <td>...</td>\n",
              "      <td>...</td>\n",
              "      <td>...</td>\n",
              "      <td>...</td>\n",
              "      <td>...</td>\n",
              "    </tr>\n",
              "    <tr>\n",
              "      <th>4036</th>\n",
              "      <td>0.283207</td>\n",
              "      <td>0.568579</td>\n",
              "      <td>0.580584</td>\n",
              "      <td>0.659019</td>\n",
              "      <td>0.684547</td>\n",
              "      <td>0.642799</td>\n",
              "      <td>0.600567</td>\n",
              "      <td>0.626884</td>\n",
              "      <td>0.784939</td>\n",
              "      <td>0.819943</td>\n",
              "      <td>...</td>\n",
              "      <td>4.909869e-06</td>\n",
              "      <td>4.945893e-06</td>\n",
              "      <td>4.845030e-06</td>\n",
              "      <td>4.626298e-06</td>\n",
              "      <td>4.794590e-06</td>\n",
              "      <td>5.158462e-06</td>\n",
              "      <td>5.012097e-06</td>\n",
              "      <td>4.890467e-06</td>\n",
              "      <td>4.886241e-06</td>\n",
              "      <td>sad</td>\n",
              "    </tr>\n",
              "    <tr>\n",
              "      <th>4037</th>\n",
              "      <td>0.093481</td>\n",
              "      <td>0.468669</td>\n",
              "      <td>0.430125</td>\n",
              "      <td>0.426217</td>\n",
              "      <td>0.525552</td>\n",
              "      <td>0.577744</td>\n",
              "      <td>0.539737</td>\n",
              "      <td>0.577869</td>\n",
              "      <td>0.627450</td>\n",
              "      <td>0.773411</td>\n",
              "      <td>...</td>\n",
              "      <td>3.919815e-12</td>\n",
              "      <td>1.799201e-12</td>\n",
              "      <td>1.148143e-12</td>\n",
              "      <td>1.852405e-12</td>\n",
              "      <td>1.885976e-12</td>\n",
              "      <td>1.062264e-12</td>\n",
              "      <td>9.862020e-13</td>\n",
              "      <td>1.501526e-12</td>\n",
              "      <td>1.249907e-12</td>\n",
              "      <td>sad</td>\n",
              "    </tr>\n",
              "    <tr>\n",
              "      <th>4038</th>\n",
              "      <td>0.157022</td>\n",
              "      <td>0.601161</td>\n",
              "      <td>0.642363</td>\n",
              "      <td>0.591389</td>\n",
              "      <td>0.599222</td>\n",
              "      <td>0.567285</td>\n",
              "      <td>0.537874</td>\n",
              "      <td>0.562058</td>\n",
              "      <td>0.590552</td>\n",
              "      <td>0.649399</td>\n",
              "      <td>...</td>\n",
              "      <td>5.162014e-14</td>\n",
              "      <td>4.336369e-14</td>\n",
              "      <td>3.761053e-14</td>\n",
              "      <td>3.341838e-14</td>\n",
              "      <td>3.030565e-14</td>\n",
              "      <td>2.803135e-14</td>\n",
              "      <td>2.636821e-14</td>\n",
              "      <td>2.523700e-14</td>\n",
              "      <td>2.457089e-14</td>\n",
              "      <td>disgust</td>\n",
              "    </tr>\n",
              "    <tr>\n",
              "      <th>4039</th>\n",
              "      <td>0.337093</td>\n",
              "      <td>0.836179</td>\n",
              "      <td>0.842234</td>\n",
              "      <td>0.832196</td>\n",
              "      <td>0.837614</td>\n",
              "      <td>0.773029</td>\n",
              "      <td>0.693287</td>\n",
              "      <td>0.698197</td>\n",
              "      <td>0.736010</td>\n",
              "      <td>0.754986</td>\n",
              "      <td>...</td>\n",
              "      <td>1.527360e-04</td>\n",
              "      <td>1.494236e-04</td>\n",
              "      <td>1.447873e-04</td>\n",
              "      <td>1.432060e-04</td>\n",
              "      <td>1.479485e-04</td>\n",
              "      <td>1.457239e-04</td>\n",
              "      <td>1.508656e-04</td>\n",
              "      <td>1.483201e-04</td>\n",
              "      <td>1.470305e-04</td>\n",
              "      <td>disgust</td>\n",
              "    </tr>\n",
              "    <tr>\n",
              "      <th>4040</th>\n",
              "      <td>0.149487</td>\n",
              "      <td>0.555345</td>\n",
              "      <td>0.638129</td>\n",
              "      <td>0.710143</td>\n",
              "      <td>0.621567</td>\n",
              "      <td>0.592498</td>\n",
              "      <td>0.558367</td>\n",
              "      <td>0.570863</td>\n",
              "      <td>0.632932</td>\n",
              "      <td>0.584296</td>\n",
              "      <td>...</td>\n",
              "      <td>1.532507e-12</td>\n",
              "      <td>1.394742e-12</td>\n",
              "      <td>1.281365e-12</td>\n",
              "      <td>9.985526e-13</td>\n",
              "      <td>9.712038e-13</td>\n",
              "      <td>9.329200e-13</td>\n",
              "      <td>9.192670e-13</td>\n",
              "      <td>7.862846e-13</td>\n",
              "      <td>7.955981e-13</td>\n",
              "      <td>disgust</td>\n",
              "    </tr>\n",
              "  </tbody>\n",
              "</table>\n",
              "<p>4041 rows × 163 columns</p>\n",
              "</div>\n",
              "      <button class=\"colab-df-convert\" onclick=\"convertToInteractive('df-9a249330-3921-4962-b75c-ecad44ac72eb')\"\n",
              "              title=\"Convert this dataframe to an interactive table.\"\n",
              "              style=\"display:none;\">\n",
              "        \n",
              "  <svg xmlns=\"http://www.w3.org/2000/svg\" height=\"24px\"viewBox=\"0 0 24 24\"\n",
              "       width=\"24px\">\n",
              "    <path d=\"M0 0h24v24H0V0z\" fill=\"none\"/>\n",
              "    <path d=\"M18.56 5.44l.94 2.06.94-2.06 2.06-.94-2.06-.94-.94-2.06-.94 2.06-2.06.94zm-11 1L8.5 8.5l.94-2.06 2.06-.94-2.06-.94L8.5 2.5l-.94 2.06-2.06.94zm10 10l.94 2.06.94-2.06 2.06-.94-2.06-.94-.94-2.06-.94 2.06-2.06.94z\"/><path d=\"M17.41 7.96l-1.37-1.37c-.4-.4-.92-.59-1.43-.59-.52 0-1.04.2-1.43.59L10.3 9.45l-7.72 7.72c-.78.78-.78 2.05 0 2.83L4 21.41c.39.39.9.59 1.41.59.51 0 1.02-.2 1.41-.59l7.78-7.78 2.81-2.81c.8-.78.8-2.07 0-2.86zM5.41 20L4 18.59l7.72-7.72 1.47 1.35L5.41 20z\"/>\n",
              "  </svg>\n",
              "      </button>\n",
              "      \n",
              "  <style>\n",
              "    .colab-df-container {\n",
              "      display:flex;\n",
              "      flex-wrap:wrap;\n",
              "      gap: 12px;\n",
              "    }\n",
              "\n",
              "    .colab-df-convert {\n",
              "      background-color: #E8F0FE;\n",
              "      border: none;\n",
              "      border-radius: 50%;\n",
              "      cursor: pointer;\n",
              "      display: none;\n",
              "      fill: #1967D2;\n",
              "      height: 32px;\n",
              "      padding: 0 0 0 0;\n",
              "      width: 32px;\n",
              "    }\n",
              "\n",
              "    .colab-df-convert:hover {\n",
              "      background-color: #E2EBFA;\n",
              "      box-shadow: 0px 1px 2px rgba(60, 64, 67, 0.3), 0px 1px 3px 1px rgba(60, 64, 67, 0.15);\n",
              "      fill: #174EA6;\n",
              "    }\n",
              "\n",
              "    [theme=dark] .colab-df-convert {\n",
              "      background-color: #3B4455;\n",
              "      fill: #D2E3FC;\n",
              "    }\n",
              "\n",
              "    [theme=dark] .colab-df-convert:hover {\n",
              "      background-color: #434B5C;\n",
              "      box-shadow: 0px 1px 3px 1px rgba(0, 0, 0, 0.15);\n",
              "      filter: drop-shadow(0px 1px 2px rgba(0, 0, 0, 0.3));\n",
              "      fill: #FFFFFF;\n",
              "    }\n",
              "  </style>\n",
              "\n",
              "      <script>\n",
              "        const buttonEl =\n",
              "          document.querySelector('#df-9a249330-3921-4962-b75c-ecad44ac72eb button.colab-df-convert');\n",
              "        buttonEl.style.display =\n",
              "          google.colab.kernel.accessAllowed ? 'block' : 'none';\n",
              "\n",
              "        async function convertToInteractive(key) {\n",
              "          const element = document.querySelector('#df-9a249330-3921-4962-b75c-ecad44ac72eb');\n",
              "          const dataTable =\n",
              "            await google.colab.kernel.invokeFunction('convertToInteractive',\n",
              "                                                     [key], {});\n",
              "          if (!dataTable) return;\n",
              "\n",
              "          const docLinkHtml = 'Like what you see? Visit the ' +\n",
              "            '<a target=\"_blank\" href=https://colab.research.google.com/notebooks/data_table.ipynb>data table notebook</a>'\n",
              "            + ' to learn more about interactive tables.';\n",
              "          element.innerHTML = '';\n",
              "          dataTable['output_type'] = 'display_data';\n",
              "          await google.colab.output.renderOutput(dataTable, element);\n",
              "          const docLink = document.createElement('div');\n",
              "          docLink.innerHTML = docLinkHtml;\n",
              "          element.appendChild(docLink);\n",
              "        }\n",
              "      </script>\n",
              "    </div>\n",
              "  </div>\n",
              "  "
            ]
          },
          "metadata": {},
          "execution_count": 19
        }
      ]
    },
    {
      "cell_type": "markdown",
      "source": [
        "**Second step of Pre-Processing**"
      ],
      "metadata": {
        "id": "ednKzi1keBPi"
      }
    },
    {
      "cell_type": "code",
      "source": [
        "X = Features.iloc[: ,:-1].values\n",
        "Y = Features['labels'].values"
      ],
      "metadata": {
        "id": "7vwvKNQcd571"
      },
      "execution_count": null,
      "outputs": []
    },
    {
      "cell_type": "code",
      "source": [
        "# As this is a multiclass classification problem onehotencoding our Y.\n",
        "encoder = OneHotEncoder()\n",
        "Y = encoder.fit_transform(np.array(Y).reshape(-1,1)).toarray()"
      ],
      "metadata": {
        "id": "41PEdmOoe36V"
      },
      "execution_count": null,
      "outputs": []
    },
    {
      "cell_type": "code",
      "source": [
        "x_train, x_test, y_train, y_test = train_test_split(X, Y, random_state=6, shuffle=True)\n",
        "x_train.shape, y_train.shape, x_test.shape, y_test.shape"
      ],
      "metadata": {
        "colab": {
          "base_uri": "https://localhost:8080/"
        },
        "id": "c0jySuxse7w_",
        "outputId": "9fdda860-e944-47e3-d38e-7e0f2ff1fb96"
      },
      "execution_count": null,
      "outputs": [
        {
          "output_type": "execute_result",
          "data": {
            "text/plain": [
              "((3030, 162), (3030, 7), (1011, 162), (1011, 7))"
            ]
          },
          "metadata": {},
          "execution_count": 22
        }
      ]
    },
    {
      "cell_type": "code",
      "source": [
        "# scaling our data with sklearn's Standard scaler\n",
        "scaler = StandardScaler()\n",
        "x_train = scaler.fit_transform(x_train)\n",
        "x_test = scaler.transform(x_test)\n",
        "x_train.shape, y_train.shape, x_test.shape, y_test.shape"
      ],
      "metadata": {
        "colab": {
          "base_uri": "https://localhost:8080/"
        },
        "id": "iKqTXaVxfBAq",
        "outputId": "f149fc5b-a262-468f-921c-7ba6344ac7c1"
      },
      "execution_count": null,
      "outputs": [
        {
          "output_type": "execute_result",
          "data": {
            "text/plain": [
              "((3030, 162), (3030, 7), (1011, 162), (1011, 7))"
            ]
          },
          "metadata": {},
          "execution_count": 23
        }
      ]
    },
    {
      "cell_type": "code",
      "source": [
        "# making our data compatible to model.\n",
        "x_train = np.expand_dims(x_train, axis=2)\n",
        "x_test = np.expand_dims(x_test, axis=2)\n",
        "x_train.shape, y_train.shape, x_test.shape, y_test.shape"
      ],
      "metadata": {
        "colab": {
          "base_uri": "https://localhost:8080/"
        },
        "id": "szs1xIkYfDrA",
        "outputId": "fb060c13-980b-4323-a628-79eaf88112e6"
      },
      "execution_count": null,
      "outputs": [
        {
          "output_type": "execute_result",
          "data": {
            "text/plain": [
              "((3030, 162, 1), (3030, 7), (1011, 162, 1), (1011, 7))"
            ]
          },
          "metadata": {},
          "execution_count": 24
        }
      ]
    },
    {
      "cell_type": "markdown",
      "source": [
        "**Model deployment**"
      ],
      "metadata": {
        "id": "RSgmwMZcY_Q0"
      }
    },
    {
      "cell_type": "code",
      "source": [
        "!pip install pyyaml h5py"
      ],
      "metadata": {
        "id": "FVl6_iAShPat",
        "colab": {
          "base_uri": "https://localhost:8080/"
        },
        "outputId": "ebefb1ff-cf8e-4e36-a513-f6e29ab93edc"
      },
      "execution_count": null,
      "outputs": [
        {
          "output_type": "stream",
          "name": "stdout",
          "text": [
            "Looking in indexes: https://pypi.org/simple, https://us-python.pkg.dev/colab-wheels/public/simple/\n",
            "Requirement already satisfied: pyyaml in /usr/local/lib/python3.7/dist-packages (3.13)\n",
            "Requirement already satisfied: h5py in /usr/local/lib/python3.7/dist-packages (3.1.0)\n",
            "Requirement already satisfied: cached-property in /usr/local/lib/python3.7/dist-packages (from h5py) (1.5.2)\n",
            "Requirement already satisfied: numpy>=1.14.5 in /usr/local/lib/python3.7/dist-packages (from h5py) (1.21.6)\n"
          ]
        }
      ]
    },
    {
      "cell_type": "code",
      "source": [
        "model=Sequential()\n",
        "\n",
        "model.add(keras.layers.LSTM(128, input_shape=(x_train.shape[1], x_train.shape[2]), return_sequences=True))\n",
        "model.add(keras.layers.LSTM(128))\n",
        "model.add(Dense(units=32, activation='relu'))\n",
        "model.add(Dropout(0.2))\n",
        "\n",
        "model.add(Dense(units=7, activation='softmax'))\n",
        "model.compile(optimizer = 'adam' , loss = 'categorical_crossentropy' , metrics = ['accuracy'])\n",
        "\n",
        "model.summary()"
      ],
      "metadata": {
        "colab": {
          "base_uri": "https://localhost:8080/"
        },
        "id": "9Q7-cR2KfJxn",
        "outputId": "26893cbb-72af-4ce9-eea9-c14b91d331e4"
      },
      "execution_count": null,
      "outputs": [
        {
          "output_type": "stream",
          "name": "stdout",
          "text": [
            "Model: \"sequential\"\n",
            "_________________________________________________________________\n",
            " Layer (type)                Output Shape              Param #   \n",
            "=================================================================\n",
            " lstm (LSTM)                 (None, 162, 128)          66560     \n",
            "                                                                 \n",
            " lstm_1 (LSTM)               (None, 128)               131584    \n",
            "                                                                 \n",
            " dense (Dense)               (None, 32)                4128      \n",
            "                                                                 \n",
            " dropout (Dropout)           (None, 32)                0         \n",
            "                                                                 \n",
            " dense_1 (Dense)             (None, 7)                 231       \n",
            "                                                                 \n",
            "=================================================================\n",
            "Total params: 202,503\n",
            "Trainable params: 202,503\n",
            "Non-trainable params: 0\n",
            "_________________________________________________________________\n"
          ]
        }
      ]
    },
    {
      "cell_type": "markdown",
      "source": [
        "**Loop**"
      ],
      "metadata": {
        "id": "A7GOrq16G3mX"
      }
    },
    {
      "cell_type": "code",
      "source": [
        "model.save(\"/content/drive/MyDrive/speech-emotion-recognition-ravdess-data/speech_model_onlyLSTM.tf\", save_format='tf')"
      ],
      "metadata": {
        "id": "f44u5gPcgR1U",
        "colab": {
          "base_uri": "https://localhost:8080/"
        },
        "outputId": "2939646e-89c4-48e1-bd5f-593d808f447b"
      },
      "execution_count": null,
      "outputs": [
        {
          "output_type": "stream",
          "name": "stderr",
          "text": [
            "WARNING:absl:Found untraced functions such as lstm_cell_layer_call_fn, lstm_cell_layer_call_and_return_conditional_losses, lstm_cell_1_layer_call_fn, lstm_cell_1_layer_call_and_return_conditional_losses while saving (showing 4 of 4). These functions will not be directly callable after loading.\n"
          ]
        },
        {
          "output_type": "stream",
          "name": "stdout",
          "text": [
            "INFO:tensorflow:Assets written to: /content/drive/MyDrive/speech-emotion-recognition-ravdess-data/speech_model_onlyLSTM.tf/assets\n"
          ]
        },
        {
          "output_type": "stream",
          "name": "stderr",
          "text": [
            "INFO:tensorflow:Assets written to: /content/drive/MyDrive/speech-emotion-recognition-ravdess-data/speech_model_onlyLSTM.tf/assets\n",
            "WARNING:absl:<keras.layers.recurrent.LSTMCell object at 0x7fcd6bb52250> has the same name 'LSTMCell' as a built-in Keras object. Consider renaming <class 'keras.layers.recurrent.LSTMCell'> to avoid naming conflicts when loading with `tf.keras.models.load_model`. If renaming is not possible, pass the object in the `custom_objects` parameter of the load function.\n",
            "WARNING:absl:<keras.layers.recurrent.LSTMCell object at 0x7fcd66c65890> has the same name 'LSTMCell' as a built-in Keras object. Consider renaming <class 'keras.layers.recurrent.LSTMCell'> to avoid naming conflicts when loading with `tf.keras.models.load_model`. If renaming is not possible, pass the object in the `custom_objects` parameter of the load function.\n"
          ]
        }
      ]
    },
    {
      "cell_type": "code",
      "source": [
        "eps=60\n",
        "rlrp = ReduceLROnPlateau(monitor='loss', factor=0.4, verbose=0, patience=3, min_lr=0.0000001)\n",
        "mcp_save = ModelCheckpoint('/content/drive/MyDrive/speech-emotion-recognition-ravdess-data/speech_model_onlyLSTM.tf', save_best_only=True, monitor='accuracy', \n",
        "                           mode='max', save_freq='epoch')\n",
        "\n",
        "history=model.fit(x_train, y_train, batch_size=64, epochs=eps, validation_data=(x_test, y_test), callbacks=[rlrp, mcp_save])"
      ],
      "metadata": {
        "colab": {
          "base_uri": "https://localhost:8080/"
        },
        "id": "U1DjzlSefi4M",
        "outputId": "a3dbde82-5f21-40cd-9559-06afff4b5e9a"
      },
      "execution_count": null,
      "outputs": [
        {
          "output_type": "stream",
          "name": "stdout",
          "text": [
            "Epoch 1/60\n",
            "48/48 [==============================] - ETA: 0s - loss: 1.8844 - accuracy: 0.1908"
          ]
        },
        {
          "output_type": "stream",
          "name": "stderr",
          "text": [
            "WARNING:absl:Found untraced functions such as lstm_cell_layer_call_fn, lstm_cell_layer_call_and_return_conditional_losses, lstm_cell_1_layer_call_fn, lstm_cell_1_layer_call_and_return_conditional_losses while saving (showing 4 of 4). These functions will not be directly callable after loading.\n"
          ]
        },
        {
          "output_type": "stream",
          "name": "stdout",
          "text": [
            "INFO:tensorflow:Assets written to: /content/drive/MyDrive/speech-emotion-recognition-ravdess-data/speech_model_onlyLSTM.tf/assets\n"
          ]
        },
        {
          "output_type": "stream",
          "name": "stderr",
          "text": [
            "INFO:tensorflow:Assets written to: /content/drive/MyDrive/speech-emotion-recognition-ravdess-data/speech_model_onlyLSTM.tf/assets\n",
            "WARNING:absl:<keras.layers.recurrent.LSTMCell object at 0x7fcd6bb52250> has the same name 'LSTMCell' as a built-in Keras object. Consider renaming <class 'keras.layers.recurrent.LSTMCell'> to avoid naming conflicts when loading with `tf.keras.models.load_model`. If renaming is not possible, pass the object in the `custom_objects` parameter of the load function.\n",
            "WARNING:absl:<keras.layers.recurrent.LSTMCell object at 0x7fcd66c65890> has the same name 'LSTMCell' as a built-in Keras object. Consider renaming <class 'keras.layers.recurrent.LSTMCell'> to avoid naming conflicts when loading with `tf.keras.models.load_model`. If renaming is not possible, pass the object in the `custom_objects` parameter of the load function.\n"
          ]
        },
        {
          "output_type": "stream",
          "name": "stdout",
          "text": [
            "\b\b\b\b\b\b\b\b\b\b\b\b\b\b\b\b\b\b\b\b\b\b\b\b\b\b\b\b\b\b\b\b\b\b\b\b\b\b\b\b\b\b\b\b\b\b\b\b\b\b\b\b\b\b\b\b\b\b\b\b\b\b\b\b\b\b\b\b\b\b\b\b\b\b\b\b\b\b\b\b\b\b\r48/48 [==============================] - 58s 1s/step - loss: 1.8844 - accuracy: 0.1908 - val_loss: 1.8404 - val_accuracy: 0.2364 - lr: 0.0010\n",
            "Epoch 2/60\n",
            "48/48 [==============================] - ETA: 0s - loss: 1.8368 - accuracy: 0.2271"
          ]
        },
        {
          "output_type": "stream",
          "name": "stderr",
          "text": [
            "WARNING:absl:Found untraced functions such as lstm_cell_layer_call_fn, lstm_cell_layer_call_and_return_conditional_losses, lstm_cell_1_layer_call_fn, lstm_cell_1_layer_call_and_return_conditional_losses while saving (showing 4 of 4). These functions will not be directly callable after loading.\n"
          ]
        },
        {
          "output_type": "stream",
          "name": "stdout",
          "text": [
            "INFO:tensorflow:Assets written to: /content/drive/MyDrive/speech-emotion-recognition-ravdess-data/speech_model_onlyLSTM.tf/assets\n"
          ]
        },
        {
          "output_type": "stream",
          "name": "stderr",
          "text": [
            "INFO:tensorflow:Assets written to: /content/drive/MyDrive/speech-emotion-recognition-ravdess-data/speech_model_onlyLSTM.tf/assets\n",
            "WARNING:absl:<keras.layers.recurrent.LSTMCell object at 0x7fcd6bb52250> has the same name 'LSTMCell' as a built-in Keras object. Consider renaming <class 'keras.layers.recurrent.LSTMCell'> to avoid naming conflicts when loading with `tf.keras.models.load_model`. If renaming is not possible, pass the object in the `custom_objects` parameter of the load function.\n",
            "WARNING:absl:<keras.layers.recurrent.LSTMCell object at 0x7fcd66c65890> has the same name 'LSTMCell' as a built-in Keras object. Consider renaming <class 'keras.layers.recurrent.LSTMCell'> to avoid naming conflicts when loading with `tf.keras.models.load_model`. If renaming is not possible, pass the object in the `custom_objects` parameter of the load function.\n"
          ]
        },
        {
          "output_type": "stream",
          "name": "stdout",
          "text": [
            "\b\b\b\b\b\b\b\b\b\b\b\b\b\b\b\b\b\b\b\b\b\b\b\b\b\b\b\b\b\b\b\b\b\b\b\b\b\b\b\b\b\b\b\b\b\b\b\b\b\b\b\b\b\b\b\b\b\b\b\b\b\b\b\b\b\b\b\b\b\b\b\b\b\b\b\b\b\b\b\b\b\b\r48/48 [==============================] - 39s 808ms/step - loss: 1.8368 - accuracy: 0.2271 - val_loss: 1.8429 - val_accuracy: 0.1602 - lr: 0.0010\n",
            "Epoch 3/60\n",
            "48/48 [==============================] - ETA: 0s - loss: 1.8149 - accuracy: 0.2320"
          ]
        },
        {
          "output_type": "stream",
          "name": "stderr",
          "text": [
            "WARNING:absl:Found untraced functions such as lstm_cell_layer_call_fn, lstm_cell_layer_call_and_return_conditional_losses, lstm_cell_1_layer_call_fn, lstm_cell_1_layer_call_and_return_conditional_losses while saving (showing 4 of 4). These functions will not be directly callable after loading.\n"
          ]
        },
        {
          "output_type": "stream",
          "name": "stdout",
          "text": [
            "INFO:tensorflow:Assets written to: /content/drive/MyDrive/speech-emotion-recognition-ravdess-data/speech_model_onlyLSTM.tf/assets\n"
          ]
        },
        {
          "output_type": "stream",
          "name": "stderr",
          "text": [
            "INFO:tensorflow:Assets written to: /content/drive/MyDrive/speech-emotion-recognition-ravdess-data/speech_model_onlyLSTM.tf/assets\n",
            "WARNING:absl:<keras.layers.recurrent.LSTMCell object at 0x7fcd6bb52250> has the same name 'LSTMCell' as a built-in Keras object. Consider renaming <class 'keras.layers.recurrent.LSTMCell'> to avoid naming conflicts when loading with `tf.keras.models.load_model`. If renaming is not possible, pass the object in the `custom_objects` parameter of the load function.\n",
            "WARNING:absl:<keras.layers.recurrent.LSTMCell object at 0x7fcd66c65890> has the same name 'LSTMCell' as a built-in Keras object. Consider renaming <class 'keras.layers.recurrent.LSTMCell'> to avoid naming conflicts when loading with `tf.keras.models.load_model`. If renaming is not possible, pass the object in the `custom_objects` parameter of the load function.\n"
          ]
        },
        {
          "output_type": "stream",
          "name": "stdout",
          "text": [
            "\b\b\b\b\b\b\b\b\b\b\b\b\b\b\b\b\b\b\b\b\b\b\b\b\b\b\b\b\b\b\b\b\b\b\b\b\b\b\b\b\b\b\b\b\b\b\b\b\b\b\b\b\b\b\b\b\b\b\b\b\b\b\b\b\b\b\b\b\b\b\b\b\b\b\b\b\b\b\b\b\b\b\r48/48 [==============================] - 40s 833ms/step - loss: 1.8149 - accuracy: 0.2320 - val_loss: 1.7886 - val_accuracy: 0.2512 - lr: 0.0010\n",
            "Epoch 4/60\n",
            "48/48 [==============================] - ETA: 0s - loss: 1.8075 - accuracy: 0.2462"
          ]
        },
        {
          "output_type": "stream",
          "name": "stderr",
          "text": [
            "WARNING:absl:Found untraced functions such as lstm_cell_layer_call_fn, lstm_cell_layer_call_and_return_conditional_losses, lstm_cell_1_layer_call_fn, lstm_cell_1_layer_call_and_return_conditional_losses while saving (showing 4 of 4). These functions will not be directly callable after loading.\n"
          ]
        },
        {
          "output_type": "stream",
          "name": "stdout",
          "text": [
            "INFO:tensorflow:Assets written to: /content/drive/MyDrive/speech-emotion-recognition-ravdess-data/speech_model_onlyLSTM.tf/assets\n"
          ]
        },
        {
          "output_type": "stream",
          "name": "stderr",
          "text": [
            "INFO:tensorflow:Assets written to: /content/drive/MyDrive/speech-emotion-recognition-ravdess-data/speech_model_onlyLSTM.tf/assets\n",
            "WARNING:absl:<keras.layers.recurrent.LSTMCell object at 0x7fcd6bb52250> has the same name 'LSTMCell' as a built-in Keras object. Consider renaming <class 'keras.layers.recurrent.LSTMCell'> to avoid naming conflicts when loading with `tf.keras.models.load_model`. If renaming is not possible, pass the object in the `custom_objects` parameter of the load function.\n",
            "WARNING:absl:<keras.layers.recurrent.LSTMCell object at 0x7fcd66c65890> has the same name 'LSTMCell' as a built-in Keras object. Consider renaming <class 'keras.layers.recurrent.LSTMCell'> to avoid naming conflicts when loading with `tf.keras.models.load_model`. If renaming is not possible, pass the object in the `custom_objects` parameter of the load function.\n"
          ]
        },
        {
          "output_type": "stream",
          "name": "stdout",
          "text": [
            "\b\b\b\b\b\b\b\b\b\b\b\b\b\b\b\b\b\b\b\b\b\b\b\b\b\b\b\b\b\b\b\b\b\b\b\b\b\b\b\b\b\b\b\b\b\b\b\b\b\b\b\b\b\b\b\b\b\b\b\b\b\b\b\b\b\b\b\b\b\b\b\b\b\b\b\b\b\b\b\b\b\b\r48/48 [==============================] - 39s 812ms/step - loss: 1.8075 - accuracy: 0.2462 - val_loss: 1.7885 - val_accuracy: 0.2710 - lr: 0.0010\n",
            "Epoch 5/60\n",
            "48/48 [==============================] - ETA: 0s - loss: 1.7912 - accuracy: 0.2548"
          ]
        },
        {
          "output_type": "stream",
          "name": "stderr",
          "text": [
            "WARNING:absl:Found untraced functions such as lstm_cell_layer_call_fn, lstm_cell_layer_call_and_return_conditional_losses, lstm_cell_1_layer_call_fn, lstm_cell_1_layer_call_and_return_conditional_losses while saving (showing 4 of 4). These functions will not be directly callable after loading.\n"
          ]
        },
        {
          "output_type": "stream",
          "name": "stdout",
          "text": [
            "INFO:tensorflow:Assets written to: /content/drive/MyDrive/speech-emotion-recognition-ravdess-data/speech_model_onlyLSTM.tf/assets\n"
          ]
        },
        {
          "output_type": "stream",
          "name": "stderr",
          "text": [
            "INFO:tensorflow:Assets written to: /content/drive/MyDrive/speech-emotion-recognition-ravdess-data/speech_model_onlyLSTM.tf/assets\n",
            "WARNING:absl:<keras.layers.recurrent.LSTMCell object at 0x7fcd6bb52250> has the same name 'LSTMCell' as a built-in Keras object. Consider renaming <class 'keras.layers.recurrent.LSTMCell'> to avoid naming conflicts when loading with `tf.keras.models.load_model`. If renaming is not possible, pass the object in the `custom_objects` parameter of the load function.\n",
            "WARNING:absl:<keras.layers.recurrent.LSTMCell object at 0x7fcd66c65890> has the same name 'LSTMCell' as a built-in Keras object. Consider renaming <class 'keras.layers.recurrent.LSTMCell'> to avoid naming conflicts when loading with `tf.keras.models.load_model`. If renaming is not possible, pass the object in the `custom_objects` parameter of the load function.\n"
          ]
        },
        {
          "output_type": "stream",
          "name": "stdout",
          "text": [
            "\b\b\b\b\b\b\b\b\b\b\b\b\b\b\b\b\b\b\b\b\b\b\b\b\b\b\b\b\b\b\b\b\b\b\b\b\b\b\b\b\b\b\b\b\b\b\b\b\b\b\b\b\b\b\b\b\b\b\b\b\b\b\b\b\b\b\b\b\b\b\b\b\b\b\b\b\b\b\b\b\b\b\r48/48 [==============================] - 39s 810ms/step - loss: 1.7912 - accuracy: 0.2548 - val_loss: 1.7683 - val_accuracy: 0.2938 - lr: 0.0010\n",
            "Epoch 6/60\n",
            "48/48 [==============================] - 30s 633ms/step - loss: 1.7921 - accuracy: 0.2505 - val_loss: 1.7969 - val_accuracy: 0.2018 - lr: 0.0010\n",
            "Epoch 7/60\n",
            "48/48 [==============================] - ETA: 0s - loss: 1.7682 - accuracy: 0.2653"
          ]
        },
        {
          "output_type": "stream",
          "name": "stderr",
          "text": [
            "WARNING:absl:Found untraced functions such as lstm_cell_layer_call_fn, lstm_cell_layer_call_and_return_conditional_losses, lstm_cell_1_layer_call_fn, lstm_cell_1_layer_call_and_return_conditional_losses while saving (showing 4 of 4). These functions will not be directly callable after loading.\n"
          ]
        },
        {
          "output_type": "stream",
          "name": "stdout",
          "text": [
            "INFO:tensorflow:Assets written to: /content/drive/MyDrive/speech-emotion-recognition-ravdess-data/speech_model_onlyLSTM.tf/assets\n"
          ]
        },
        {
          "output_type": "stream",
          "name": "stderr",
          "text": [
            "INFO:tensorflow:Assets written to: /content/drive/MyDrive/speech-emotion-recognition-ravdess-data/speech_model_onlyLSTM.tf/assets\n",
            "WARNING:absl:<keras.layers.recurrent.LSTMCell object at 0x7fcd6bb52250> has the same name 'LSTMCell' as a built-in Keras object. Consider renaming <class 'keras.layers.recurrent.LSTMCell'> to avoid naming conflicts when loading with `tf.keras.models.load_model`. If renaming is not possible, pass the object in the `custom_objects` parameter of the load function.\n",
            "WARNING:absl:<keras.layers.recurrent.LSTMCell object at 0x7fcd66c65890> has the same name 'LSTMCell' as a built-in Keras object. Consider renaming <class 'keras.layers.recurrent.LSTMCell'> to avoid naming conflicts when loading with `tf.keras.models.load_model`. If renaming is not possible, pass the object in the `custom_objects` parameter of the load function.\n"
          ]
        },
        {
          "output_type": "stream",
          "name": "stdout",
          "text": [
            "\b\b\b\b\b\b\b\b\b\b\b\b\b\b\b\b\b\b\b\b\b\b\b\b\b\b\b\b\b\b\b\b\b\b\b\b\b\b\b\b\b\b\b\b\b\b\b\b\b\b\b\b\b\b\b\b\b\b\b\b\b\b\b\b\b\b\b\b\b\b\b\b\b\b\b\b\b\b\b\b\b\b\r48/48 [==============================] - 39s 814ms/step - loss: 1.7682 - accuracy: 0.2653 - val_loss: 1.7335 - val_accuracy: 0.2957 - lr: 0.0010\n",
            "Epoch 8/60\n",
            "48/48 [==============================] - ETA: 0s - loss: 1.7643 - accuracy: 0.2686"
          ]
        },
        {
          "output_type": "stream",
          "name": "stderr",
          "text": [
            "WARNING:absl:Found untraced functions such as lstm_cell_layer_call_fn, lstm_cell_layer_call_and_return_conditional_losses, lstm_cell_1_layer_call_fn, lstm_cell_1_layer_call_and_return_conditional_losses while saving (showing 4 of 4). These functions will not be directly callable after loading.\n"
          ]
        },
        {
          "output_type": "stream",
          "name": "stdout",
          "text": [
            "INFO:tensorflow:Assets written to: /content/drive/MyDrive/speech-emotion-recognition-ravdess-data/speech_model_onlyLSTM.tf/assets\n"
          ]
        },
        {
          "output_type": "stream",
          "name": "stderr",
          "text": [
            "INFO:tensorflow:Assets written to: /content/drive/MyDrive/speech-emotion-recognition-ravdess-data/speech_model_onlyLSTM.tf/assets\n",
            "WARNING:absl:<keras.layers.recurrent.LSTMCell object at 0x7fcd6bb52250> has the same name 'LSTMCell' as a built-in Keras object. Consider renaming <class 'keras.layers.recurrent.LSTMCell'> to avoid naming conflicts when loading with `tf.keras.models.load_model`. If renaming is not possible, pass the object in the `custom_objects` parameter of the load function.\n",
            "WARNING:absl:<keras.layers.recurrent.LSTMCell object at 0x7fcd66c65890> has the same name 'LSTMCell' as a built-in Keras object. Consider renaming <class 'keras.layers.recurrent.LSTMCell'> to avoid naming conflicts when loading with `tf.keras.models.load_model`. If renaming is not possible, pass the object in the `custom_objects` parameter of the load function.\n"
          ]
        },
        {
          "output_type": "stream",
          "name": "stdout",
          "text": [
            "\b\b\b\b\b\b\b\b\b\b\b\b\b\b\b\b\b\b\b\b\b\b\b\b\b\b\b\b\b\b\b\b\b\b\b\b\b\b\b\b\b\b\b\b\b\b\b\b\b\b\b\b\b\b\b\b\b\b\b\b\b\b\b\b\b\b\b\b\b\b\b\b\b\b\b\b\b\b\b\b\b\b\r48/48 [==============================] - 39s 814ms/step - loss: 1.7643 - accuracy: 0.2686 - val_loss: 1.7157 - val_accuracy: 0.2948 - lr: 0.0010\n",
            "Epoch 9/60\n",
            "48/48 [==============================] - 30s 629ms/step - loss: 1.7641 - accuracy: 0.2677 - val_loss: 1.7114 - val_accuracy: 0.2957 - lr: 0.0010\n",
            "Epoch 10/60\n",
            "48/48 [==============================] - 29s 606ms/step - loss: 1.7635 - accuracy: 0.2640 - val_loss: 1.7343 - val_accuracy: 0.3046 - lr: 0.0010\n",
            "Epoch 11/60\n",
            "48/48 [==============================] - ETA: 0s - loss: 1.7529 - accuracy: 0.2749"
          ]
        },
        {
          "output_type": "stream",
          "name": "stderr",
          "text": [
            "WARNING:absl:Found untraced functions such as lstm_cell_layer_call_fn, lstm_cell_layer_call_and_return_conditional_losses, lstm_cell_1_layer_call_fn, lstm_cell_1_layer_call_and_return_conditional_losses while saving (showing 4 of 4). These functions will not be directly callable after loading.\n"
          ]
        },
        {
          "output_type": "stream",
          "name": "stdout",
          "text": [
            "INFO:tensorflow:Assets written to: /content/drive/MyDrive/speech-emotion-recognition-ravdess-data/speech_model_onlyLSTM.tf/assets\n"
          ]
        },
        {
          "output_type": "stream",
          "name": "stderr",
          "text": [
            "INFO:tensorflow:Assets written to: /content/drive/MyDrive/speech-emotion-recognition-ravdess-data/speech_model_onlyLSTM.tf/assets\n",
            "WARNING:absl:<keras.layers.recurrent.LSTMCell object at 0x7fcd6bb52250> has the same name 'LSTMCell' as a built-in Keras object. Consider renaming <class 'keras.layers.recurrent.LSTMCell'> to avoid naming conflicts when loading with `tf.keras.models.load_model`. If renaming is not possible, pass the object in the `custom_objects` parameter of the load function.\n",
            "WARNING:absl:<keras.layers.recurrent.LSTMCell object at 0x7fcd66c65890> has the same name 'LSTMCell' as a built-in Keras object. Consider renaming <class 'keras.layers.recurrent.LSTMCell'> to avoid naming conflicts when loading with `tf.keras.models.load_model`. If renaming is not possible, pass the object in the `custom_objects` parameter of the load function.\n"
          ]
        },
        {
          "output_type": "stream",
          "name": "stdout",
          "text": [
            "\b\b\b\b\b\b\b\b\b\b\b\b\b\b\b\b\b\b\b\b\b\b\b\b\b\b\b\b\b\b\b\b\b\b\b\b\b\b\b\b\b\b\b\b\b\b\b\b\b\b\b\b\b\b\b\b\b\b\b\b\b\b\b\b\b\b\b\b\b\b\b\b\b\b\b\b\b\b\b\b\b\b\r48/48 [==============================] - 39s 816ms/step - loss: 1.7529 - accuracy: 0.2749 - val_loss: 1.8044 - val_accuracy: 0.2700 - lr: 0.0010\n",
            "Epoch 12/60\n",
            "48/48 [==============================] - 29s 611ms/step - loss: 1.7767 - accuracy: 0.2558 - val_loss: 1.7394 - val_accuracy: 0.2720 - lr: 0.0010\n",
            "Epoch 13/60\n",
            "48/48 [==============================] - 29s 606ms/step - loss: 1.7601 - accuracy: 0.2581 - val_loss: 1.7341 - val_accuracy: 0.2977 - lr: 0.0010\n",
            "Epoch 14/60\n",
            "48/48 [==============================] - ETA: 0s - loss: 1.7285 - accuracy: 0.2838"
          ]
        },
        {
          "output_type": "stream",
          "name": "stderr",
          "text": [
            "WARNING:absl:Found untraced functions such as lstm_cell_layer_call_fn, lstm_cell_layer_call_and_return_conditional_losses, lstm_cell_1_layer_call_fn, lstm_cell_1_layer_call_and_return_conditional_losses while saving (showing 4 of 4). These functions will not be directly callable after loading.\n"
          ]
        },
        {
          "output_type": "stream",
          "name": "stdout",
          "text": [
            "INFO:tensorflow:Assets written to: /content/drive/MyDrive/speech-emotion-recognition-ravdess-data/speech_model_onlyLSTM.tf/assets\n"
          ]
        },
        {
          "output_type": "stream",
          "name": "stderr",
          "text": [
            "INFO:tensorflow:Assets written to: /content/drive/MyDrive/speech-emotion-recognition-ravdess-data/speech_model_onlyLSTM.tf/assets\n",
            "WARNING:absl:<keras.layers.recurrent.LSTMCell object at 0x7fcd6bb52250> has the same name 'LSTMCell' as a built-in Keras object. Consider renaming <class 'keras.layers.recurrent.LSTMCell'> to avoid naming conflicts when loading with `tf.keras.models.load_model`. If renaming is not possible, pass the object in the `custom_objects` parameter of the load function.\n",
            "WARNING:absl:<keras.layers.recurrent.LSTMCell object at 0x7fcd66c65890> has the same name 'LSTMCell' as a built-in Keras object. Consider renaming <class 'keras.layers.recurrent.LSTMCell'> to avoid naming conflicts when loading with `tf.keras.models.load_model`. If renaming is not possible, pass the object in the `custom_objects` parameter of the load function.\n"
          ]
        },
        {
          "output_type": "stream",
          "name": "stdout",
          "text": [
            "\b\b\b\b\b\b\b\b\b\b\b\b\b\b\b\b\b\b\b\b\b\b\b\b\b\b\b\b\b\b\b\b\b\b\b\b\b\b\b\b\b\b\b\b\b\b\b\b\b\b\b\b\b\b\b\b\b\b\b\b\b\b\b\b\b\b\b\b\b\b\b\b\b\b\b\b\b\b\b\b\b\b\r48/48 [==============================] - 39s 815ms/step - loss: 1.7285 - accuracy: 0.2838 - val_loss: 1.7384 - val_accuracy: 0.2453 - lr: 0.0010\n",
            "Epoch 15/60\n",
            "48/48 [==============================] - 29s 609ms/step - loss: 1.7580 - accuracy: 0.2782 - val_loss: 1.7638 - val_accuracy: 0.2839 - lr: 0.0010\n",
            "Epoch 16/60\n",
            "48/48 [==============================] - 29s 607ms/step - loss: 1.7700 - accuracy: 0.2759 - val_loss: 1.7212 - val_accuracy: 0.2967 - lr: 0.0010\n",
            "Epoch 17/60\n",
            "48/48 [==============================] - 29s 608ms/step - loss: 1.7415 - accuracy: 0.2716 - val_loss: 1.6875 - val_accuracy: 0.3136 - lr: 0.0010\n",
            "Epoch 18/60\n",
            "48/48 [==============================] - ETA: 0s - loss: 1.7035 - accuracy: 0.3030"
          ]
        },
        {
          "output_type": "stream",
          "name": "stderr",
          "text": [
            "WARNING:absl:Found untraced functions such as lstm_cell_layer_call_fn, lstm_cell_layer_call_and_return_conditional_losses, lstm_cell_1_layer_call_fn, lstm_cell_1_layer_call_and_return_conditional_losses while saving (showing 4 of 4). These functions will not be directly callable after loading.\n"
          ]
        },
        {
          "output_type": "stream",
          "name": "stdout",
          "text": [
            "INFO:tensorflow:Assets written to: /content/drive/MyDrive/speech-emotion-recognition-ravdess-data/speech_model_onlyLSTM.tf/assets\n"
          ]
        },
        {
          "output_type": "stream",
          "name": "stderr",
          "text": [
            "INFO:tensorflow:Assets written to: /content/drive/MyDrive/speech-emotion-recognition-ravdess-data/speech_model_onlyLSTM.tf/assets\n",
            "WARNING:absl:<keras.layers.recurrent.LSTMCell object at 0x7fcd6bb52250> has the same name 'LSTMCell' as a built-in Keras object. Consider renaming <class 'keras.layers.recurrent.LSTMCell'> to avoid naming conflicts when loading with `tf.keras.models.load_model`. If renaming is not possible, pass the object in the `custom_objects` parameter of the load function.\n",
            "WARNING:absl:<keras.layers.recurrent.LSTMCell object at 0x7fcd66c65890> has the same name 'LSTMCell' as a built-in Keras object. Consider renaming <class 'keras.layers.recurrent.LSTMCell'> to avoid naming conflicts when loading with `tf.keras.models.load_model`. If renaming is not possible, pass the object in the `custom_objects` parameter of the load function.\n"
          ]
        },
        {
          "output_type": "stream",
          "name": "stdout",
          "text": [
            "\b\b\b\b\b\b\b\b\b\b\b\b\b\b\b\b\b\b\b\b\b\b\b\b\b\b\b\b\b\b\b\b\b\b\b\b\b\b\b\b\b\b\b\b\b\b\b\b\b\b\b\b\b\b\b\b\b\b\b\b\b\b\b\b\b\b\b\b\b\b\b\b\b\b\b\b\b\b\b\b\b\b\r48/48 [==============================] - 38s 798ms/step - loss: 1.7035 - accuracy: 0.3030 - val_loss: 1.6615 - val_accuracy: 0.3264 - lr: 4.0000e-04\n",
            "Epoch 19/60\n",
            "48/48 [==============================] - ETA: 0s - loss: 1.6884 - accuracy: 0.3129"
          ]
        },
        {
          "output_type": "stream",
          "name": "stderr",
          "text": [
            "WARNING:absl:Found untraced functions such as lstm_cell_layer_call_fn, lstm_cell_layer_call_and_return_conditional_losses, lstm_cell_1_layer_call_fn, lstm_cell_1_layer_call_and_return_conditional_losses while saving (showing 4 of 4). These functions will not be directly callable after loading.\n"
          ]
        },
        {
          "output_type": "stream",
          "name": "stdout",
          "text": [
            "INFO:tensorflow:Assets written to: /content/drive/MyDrive/speech-emotion-recognition-ravdess-data/speech_model_onlyLSTM.tf/assets\n"
          ]
        },
        {
          "output_type": "stream",
          "name": "stderr",
          "text": [
            "INFO:tensorflow:Assets written to: /content/drive/MyDrive/speech-emotion-recognition-ravdess-data/speech_model_onlyLSTM.tf/assets\n",
            "WARNING:absl:<keras.layers.recurrent.LSTMCell object at 0x7fcd6bb52250> has the same name 'LSTMCell' as a built-in Keras object. Consider renaming <class 'keras.layers.recurrent.LSTMCell'> to avoid naming conflicts when loading with `tf.keras.models.load_model`. If renaming is not possible, pass the object in the `custom_objects` parameter of the load function.\n",
            "WARNING:absl:<keras.layers.recurrent.LSTMCell object at 0x7fcd66c65890> has the same name 'LSTMCell' as a built-in Keras object. Consider renaming <class 'keras.layers.recurrent.LSTMCell'> to avoid naming conflicts when loading with `tf.keras.models.load_model`. If renaming is not possible, pass the object in the `custom_objects` parameter of the load function.\n"
          ]
        },
        {
          "output_type": "stream",
          "name": "stdout",
          "text": [
            "\b\b\b\b\b\b\b\b\b\b\b\b\b\b\b\b\b\b\b\b\b\b\b\b\b\b\b\b\b\b\b\b\b\b\b\b\b\b\b\b\b\b\b\b\b\b\b\b\b\b\b\b\b\b\b\b\b\b\b\b\b\b\b\b\b\b\b\b\b\b\b\b\b\b\b\b\b\b\b\b\b\b\r48/48 [==============================] - 39s 810ms/step - loss: 1.6884 - accuracy: 0.3129 - val_loss: 1.6636 - val_accuracy: 0.3274 - lr: 4.0000e-04\n",
            "Epoch 20/60\n",
            "48/48 [==============================] - ETA: 0s - loss: 1.6784 - accuracy: 0.3195"
          ]
        },
        {
          "output_type": "stream",
          "name": "stderr",
          "text": [
            "WARNING:absl:Found untraced functions such as lstm_cell_layer_call_fn, lstm_cell_layer_call_and_return_conditional_losses, lstm_cell_1_layer_call_fn, lstm_cell_1_layer_call_and_return_conditional_losses while saving (showing 4 of 4). These functions will not be directly callable after loading.\n"
          ]
        },
        {
          "output_type": "stream",
          "name": "stdout",
          "text": [
            "INFO:tensorflow:Assets written to: /content/drive/MyDrive/speech-emotion-recognition-ravdess-data/speech_model_onlyLSTM.tf/assets\n"
          ]
        },
        {
          "output_type": "stream",
          "name": "stderr",
          "text": [
            "INFO:tensorflow:Assets written to: /content/drive/MyDrive/speech-emotion-recognition-ravdess-data/speech_model_onlyLSTM.tf/assets\n",
            "WARNING:absl:<keras.layers.recurrent.LSTMCell object at 0x7fcd6bb52250> has the same name 'LSTMCell' as a built-in Keras object. Consider renaming <class 'keras.layers.recurrent.LSTMCell'> to avoid naming conflicts when loading with `tf.keras.models.load_model`. If renaming is not possible, pass the object in the `custom_objects` parameter of the load function.\n",
            "WARNING:absl:<keras.layers.recurrent.LSTMCell object at 0x7fcd66c65890> has the same name 'LSTMCell' as a built-in Keras object. Consider renaming <class 'keras.layers.recurrent.LSTMCell'> to avoid naming conflicts when loading with `tf.keras.models.load_model`. If renaming is not possible, pass the object in the `custom_objects` parameter of the load function.\n"
          ]
        },
        {
          "output_type": "stream",
          "name": "stdout",
          "text": [
            "\b\b\b\b\b\b\b\b\b\b\b\b\b\b\b\b\b\b\b\b\b\b\b\b\b\b\b\b\b\b\b\b\b\b\b\b\b\b\b\b\b\b\b\b\b\b\b\b\b\b\b\b\b\b\b\b\b\b\b\b\b\b\b\b\b\b\b\b\b\b\b\b\b\b\b\b\b\b\b\b\b\b\r48/48 [==============================] - 39s 818ms/step - loss: 1.6784 - accuracy: 0.3195 - val_loss: 1.6557 - val_accuracy: 0.3452 - lr: 4.0000e-04\n",
            "Epoch 21/60\n",
            "48/48 [==============================] - 29s 607ms/step - loss: 1.6887 - accuracy: 0.3050 - val_loss: 1.6729 - val_accuracy: 0.3314 - lr: 4.0000e-04\n",
            "Epoch 22/60\n",
            "48/48 [==============================] - 29s 605ms/step - loss: 1.6862 - accuracy: 0.3129 - val_loss: 1.6417 - val_accuracy: 0.3482 - lr: 4.0000e-04\n",
            "Epoch 23/60\n",
            "48/48 [==============================] - 29s 603ms/step - loss: 1.6658 - accuracy: 0.3132 - val_loss: 1.6399 - val_accuracy: 0.3333 - lr: 4.0000e-04\n",
            "Epoch 24/60\n",
            "48/48 [==============================] - 29s 603ms/step - loss: 1.6631 - accuracy: 0.3135 - val_loss: 1.6953 - val_accuracy: 0.3185 - lr: 4.0000e-04\n",
            "Epoch 25/60\n",
            "48/48 [==============================] - 29s 609ms/step - loss: 1.6962 - accuracy: 0.3069 - val_loss: 1.6755 - val_accuracy: 0.3205 - lr: 4.0000e-04\n",
            "Epoch 26/60\n",
            "48/48 [==============================] - ETA: 0s - loss: 1.6628 - accuracy: 0.3254"
          ]
        },
        {
          "output_type": "stream",
          "name": "stderr",
          "text": [
            "WARNING:absl:Found untraced functions such as lstm_cell_layer_call_fn, lstm_cell_layer_call_and_return_conditional_losses, lstm_cell_1_layer_call_fn, lstm_cell_1_layer_call_and_return_conditional_losses while saving (showing 4 of 4). These functions will not be directly callable after loading.\n"
          ]
        },
        {
          "output_type": "stream",
          "name": "stdout",
          "text": [
            "INFO:tensorflow:Assets written to: /content/drive/MyDrive/speech-emotion-recognition-ravdess-data/speech_model_onlyLSTM.tf/assets\n"
          ]
        },
        {
          "output_type": "stream",
          "name": "stderr",
          "text": [
            "INFO:tensorflow:Assets written to: /content/drive/MyDrive/speech-emotion-recognition-ravdess-data/speech_model_onlyLSTM.tf/assets\n",
            "WARNING:absl:<keras.layers.recurrent.LSTMCell object at 0x7fcd6bb52250> has the same name 'LSTMCell' as a built-in Keras object. Consider renaming <class 'keras.layers.recurrent.LSTMCell'> to avoid naming conflicts when loading with `tf.keras.models.load_model`. If renaming is not possible, pass the object in the `custom_objects` parameter of the load function.\n",
            "WARNING:absl:<keras.layers.recurrent.LSTMCell object at 0x7fcd66c65890> has the same name 'LSTMCell' as a built-in Keras object. Consider renaming <class 'keras.layers.recurrent.LSTMCell'> to avoid naming conflicts when loading with `tf.keras.models.load_model`. If renaming is not possible, pass the object in the `custom_objects` parameter of the load function.\n"
          ]
        },
        {
          "output_type": "stream",
          "name": "stdout",
          "text": [
            "\b\b\b\b\b\b\b\b\b\b\b\b\b\b\b\b\b\b\b\b\b\b\b\b\b\b\b\b\b\b\b\b\b\b\b\b\b\b\b\b\b\b\b\b\b\b\b\b\b\b\b\b\b\b\b\b\b\b\b\b\b\b\b\b\b\b\b\b\b\b\b\b\b\b\b\b\b\b\b\b\b\b\r48/48 [==============================] - 38s 793ms/step - loss: 1.6628 - accuracy: 0.3254 - val_loss: 1.6432 - val_accuracy: 0.3294 - lr: 4.0000e-04\n",
            "Epoch 27/60\n",
            "48/48 [==============================] - 29s 607ms/step - loss: 1.6769 - accuracy: 0.3013 - val_loss: 1.6493 - val_accuracy: 0.3482 - lr: 4.0000e-04\n",
            "Epoch 28/60\n",
            "48/48 [==============================] - 29s 601ms/step - loss: 1.6623 - accuracy: 0.3208 - val_loss: 1.6504 - val_accuracy: 0.3373 - lr: 4.0000e-04\n",
            "Epoch 29/60\n",
            "48/48 [==============================] - 29s 605ms/step - loss: 1.6564 - accuracy: 0.3231 - val_loss: 1.6492 - val_accuracy: 0.3561 - lr: 4.0000e-04\n",
            "Epoch 30/60\n",
            "48/48 [==============================] - 29s 606ms/step - loss: 1.6698 - accuracy: 0.3218 - val_loss: 1.6300 - val_accuracy: 0.3581 - lr: 4.0000e-04\n",
            "Epoch 31/60\n",
            "48/48 [==============================] - ETA: 0s - loss: 1.6434 - accuracy: 0.3287"
          ]
        },
        {
          "output_type": "stream",
          "name": "stderr",
          "text": [
            "WARNING:absl:Found untraced functions such as lstm_cell_layer_call_fn, lstm_cell_layer_call_and_return_conditional_losses, lstm_cell_1_layer_call_fn, lstm_cell_1_layer_call_and_return_conditional_losses while saving (showing 4 of 4). These functions will not be directly callable after loading.\n"
          ]
        },
        {
          "output_type": "stream",
          "name": "stdout",
          "text": [
            "INFO:tensorflow:Assets written to: /content/drive/MyDrive/speech-emotion-recognition-ravdess-data/speech_model_onlyLSTM.tf/assets\n"
          ]
        },
        {
          "output_type": "stream",
          "name": "stderr",
          "text": [
            "INFO:tensorflow:Assets written to: /content/drive/MyDrive/speech-emotion-recognition-ravdess-data/speech_model_onlyLSTM.tf/assets\n",
            "WARNING:absl:<keras.layers.recurrent.LSTMCell object at 0x7fcd6bb52250> has the same name 'LSTMCell' as a built-in Keras object. Consider renaming <class 'keras.layers.recurrent.LSTMCell'> to avoid naming conflicts when loading with `tf.keras.models.load_model`. If renaming is not possible, pass the object in the `custom_objects` parameter of the load function.\n",
            "WARNING:absl:<keras.layers.recurrent.LSTMCell object at 0x7fcd66c65890> has the same name 'LSTMCell' as a built-in Keras object. Consider renaming <class 'keras.layers.recurrent.LSTMCell'> to avoid naming conflicts when loading with `tf.keras.models.load_model`. If renaming is not possible, pass the object in the `custom_objects` parameter of the load function.\n"
          ]
        },
        {
          "output_type": "stream",
          "name": "stdout",
          "text": [
            "\b\b\b\b\b\b\b\b\b\b\b\b\b\b\b\b\b\b\b\b\b\b\b\b\b\b\b\b\b\b\b\b\b\b\b\b\b\b\b\b\b\b\b\b\b\b\b\b\b\b\b\b\b\b\b\b\b\b\b\b\b\b\b\b\b\b\b\b\b\b\b\b\b\b\b\b\b\b\b\b\b\b\r48/48 [==============================] - 39s 814ms/step - loss: 1.6434 - accuracy: 0.3287 - val_loss: 1.6400 - val_accuracy: 0.3244 - lr: 4.0000e-04\n",
            "Epoch 32/60\n",
            "48/48 [==============================] - ETA: 0s - loss: 1.6273 - accuracy: 0.3304"
          ]
        },
        {
          "output_type": "stream",
          "name": "stderr",
          "text": [
            "WARNING:absl:Found untraced functions such as lstm_cell_layer_call_fn, lstm_cell_layer_call_and_return_conditional_losses, lstm_cell_1_layer_call_fn, lstm_cell_1_layer_call_and_return_conditional_losses while saving (showing 4 of 4). These functions will not be directly callable after loading.\n"
          ]
        },
        {
          "output_type": "stream",
          "name": "stdout",
          "text": [
            "INFO:tensorflow:Assets written to: /content/drive/MyDrive/speech-emotion-recognition-ravdess-data/speech_model_onlyLSTM.tf/assets\n"
          ]
        },
        {
          "output_type": "stream",
          "name": "stderr",
          "text": [
            "INFO:tensorflow:Assets written to: /content/drive/MyDrive/speech-emotion-recognition-ravdess-data/speech_model_onlyLSTM.tf/assets\n",
            "WARNING:absl:<keras.layers.recurrent.LSTMCell object at 0x7fcd6bb52250> has the same name 'LSTMCell' as a built-in Keras object. Consider renaming <class 'keras.layers.recurrent.LSTMCell'> to avoid naming conflicts when loading with `tf.keras.models.load_model`. If renaming is not possible, pass the object in the `custom_objects` parameter of the load function.\n",
            "WARNING:absl:<keras.layers.recurrent.LSTMCell object at 0x7fcd66c65890> has the same name 'LSTMCell' as a built-in Keras object. Consider renaming <class 'keras.layers.recurrent.LSTMCell'> to avoid naming conflicts when loading with `tf.keras.models.load_model`. If renaming is not possible, pass the object in the `custom_objects` parameter of the load function.\n"
          ]
        },
        {
          "output_type": "stream",
          "name": "stdout",
          "text": [
            "\b\b\b\b\b\b\b\b\b\b\b\b\b\b\b\b\b\b\b\b\b\b\b\b\b\b\b\b\b\b\b\b\b\b\b\b\b\b\b\b\b\b\b\b\b\b\b\b\b\b\b\b\b\b\b\b\b\b\b\b\b\b\b\b\b\b\b\b\b\b\b\b\b\b\b\b\b\b\b\b\b\b\r48/48 [==============================] - 39s 809ms/step - loss: 1.6273 - accuracy: 0.3304 - val_loss: 1.6249 - val_accuracy: 0.3442 - lr: 4.0000e-04\n",
            "Epoch 33/60\n",
            "48/48 [==============================] - ETA: 0s - loss: 1.6420 - accuracy: 0.3323"
          ]
        },
        {
          "output_type": "stream",
          "name": "stderr",
          "text": [
            "WARNING:absl:Found untraced functions such as lstm_cell_layer_call_fn, lstm_cell_layer_call_and_return_conditional_losses, lstm_cell_1_layer_call_fn, lstm_cell_1_layer_call_and_return_conditional_losses while saving (showing 4 of 4). These functions will not be directly callable after loading.\n"
          ]
        },
        {
          "output_type": "stream",
          "name": "stdout",
          "text": [
            "INFO:tensorflow:Assets written to: /content/drive/MyDrive/speech-emotion-recognition-ravdess-data/speech_model_onlyLSTM.tf/assets\n"
          ]
        },
        {
          "output_type": "stream",
          "name": "stderr",
          "text": [
            "INFO:tensorflow:Assets written to: /content/drive/MyDrive/speech-emotion-recognition-ravdess-data/speech_model_onlyLSTM.tf/assets\n",
            "WARNING:absl:<keras.layers.recurrent.LSTMCell object at 0x7fcd6bb52250> has the same name 'LSTMCell' as a built-in Keras object. Consider renaming <class 'keras.layers.recurrent.LSTMCell'> to avoid naming conflicts when loading with `tf.keras.models.load_model`. If renaming is not possible, pass the object in the `custom_objects` parameter of the load function.\n",
            "WARNING:absl:<keras.layers.recurrent.LSTMCell object at 0x7fcd66c65890> has the same name 'LSTMCell' as a built-in Keras object. Consider renaming <class 'keras.layers.recurrent.LSTMCell'> to avoid naming conflicts when loading with `tf.keras.models.load_model`. If renaming is not possible, pass the object in the `custom_objects` parameter of the load function.\n"
          ]
        },
        {
          "output_type": "stream",
          "name": "stdout",
          "text": [
            "\b\b\b\b\b\b\b\b\b\b\b\b\b\b\b\b\b\b\b\b\b\b\b\b\b\b\b\b\b\b\b\b\b\b\b\b\b\b\b\b\b\b\b\b\b\b\b\b\b\b\b\b\b\b\b\b\b\b\b\b\b\b\b\b\b\b\b\b\b\b\b\b\b\b\b\b\b\b\b\b\b\b\r48/48 [==============================] - 39s 810ms/step - loss: 1.6420 - accuracy: 0.3323 - val_loss: 1.6319 - val_accuracy: 0.3521 - lr: 4.0000e-04\n",
            "Epoch 34/60\n",
            "48/48 [==============================] - 29s 604ms/step - loss: 1.6543 - accuracy: 0.3248 - val_loss: 1.6157 - val_accuracy: 0.3531 - lr: 4.0000e-04\n",
            "Epoch 35/60\n",
            "48/48 [==============================] - ETA: 0s - loss: 1.6171 - accuracy: 0.3439"
          ]
        },
        {
          "output_type": "stream",
          "name": "stderr",
          "text": [
            "WARNING:absl:Found untraced functions such as lstm_cell_layer_call_fn, lstm_cell_layer_call_and_return_conditional_losses, lstm_cell_1_layer_call_fn, lstm_cell_1_layer_call_and_return_conditional_losses while saving (showing 4 of 4). These functions will not be directly callable after loading.\n"
          ]
        },
        {
          "output_type": "stream",
          "name": "stdout",
          "text": [
            "INFO:tensorflow:Assets written to: /content/drive/MyDrive/speech-emotion-recognition-ravdess-data/speech_model_onlyLSTM.tf/assets\n"
          ]
        },
        {
          "output_type": "stream",
          "name": "stderr",
          "text": [
            "INFO:tensorflow:Assets written to: /content/drive/MyDrive/speech-emotion-recognition-ravdess-data/speech_model_onlyLSTM.tf/assets\n",
            "WARNING:absl:<keras.layers.recurrent.LSTMCell object at 0x7fcd6bb52250> has the same name 'LSTMCell' as a built-in Keras object. Consider renaming <class 'keras.layers.recurrent.LSTMCell'> to avoid naming conflicts when loading with `tf.keras.models.load_model`. If renaming is not possible, pass the object in the `custom_objects` parameter of the load function.\n",
            "WARNING:absl:<keras.layers.recurrent.LSTMCell object at 0x7fcd66c65890> has the same name 'LSTMCell' as a built-in Keras object. Consider renaming <class 'keras.layers.recurrent.LSTMCell'> to avoid naming conflicts when loading with `tf.keras.models.load_model`. If renaming is not possible, pass the object in the `custom_objects` parameter of the load function.\n"
          ]
        },
        {
          "output_type": "stream",
          "name": "stdout",
          "text": [
            "\b\b\b\b\b\b\b\b\b\b\b\b\b\b\b\b\b\b\b\b\b\b\b\b\b\b\b\b\b\b\b\b\b\b\b\b\b\b\b\b\b\b\b\b\b\b\b\b\b\b\b\b\b\b\b\b\b\b\b\b\b\b\b\b\b\b\b\b\b\b\b\b\b\b\b\b\b\b\b\b\b\b\r48/48 [==============================] - 38s 806ms/step - loss: 1.6171 - accuracy: 0.3439 - val_loss: 1.6185 - val_accuracy: 0.3541 - lr: 4.0000e-04\n",
            "Epoch 36/60\n",
            "48/48 [==============================] - 29s 605ms/step - loss: 1.6095 - accuracy: 0.3432 - val_loss: 1.6529 - val_accuracy: 0.3403 - lr: 4.0000e-04\n",
            "Epoch 37/60\n",
            "48/48 [==============================] - ETA: 0s - loss: 1.6154 - accuracy: 0.3479"
          ]
        },
        {
          "output_type": "stream",
          "name": "stderr",
          "text": [
            "WARNING:absl:Found untraced functions such as lstm_cell_layer_call_fn, lstm_cell_layer_call_and_return_conditional_losses, lstm_cell_1_layer_call_fn, lstm_cell_1_layer_call_and_return_conditional_losses while saving (showing 4 of 4). These functions will not be directly callable after loading.\n"
          ]
        },
        {
          "output_type": "stream",
          "name": "stdout",
          "text": [
            "INFO:tensorflow:Assets written to: /content/drive/MyDrive/speech-emotion-recognition-ravdess-data/speech_model_onlyLSTM.tf/assets\n"
          ]
        },
        {
          "output_type": "stream",
          "name": "stderr",
          "text": [
            "INFO:tensorflow:Assets written to: /content/drive/MyDrive/speech-emotion-recognition-ravdess-data/speech_model_onlyLSTM.tf/assets\n",
            "WARNING:absl:<keras.layers.recurrent.LSTMCell object at 0x7fcd6bb52250> has the same name 'LSTMCell' as a built-in Keras object. Consider renaming <class 'keras.layers.recurrent.LSTMCell'> to avoid naming conflicts when loading with `tf.keras.models.load_model`. If renaming is not possible, pass the object in the `custom_objects` parameter of the load function.\n",
            "WARNING:absl:<keras.layers.recurrent.LSTMCell object at 0x7fcd66c65890> has the same name 'LSTMCell' as a built-in Keras object. Consider renaming <class 'keras.layers.recurrent.LSTMCell'> to avoid naming conflicts when loading with `tf.keras.models.load_model`. If renaming is not possible, pass the object in the `custom_objects` parameter of the load function.\n"
          ]
        },
        {
          "output_type": "stream",
          "name": "stdout",
          "text": [
            "\b\b\b\b\b\b\b\b\b\b\b\b\b\b\b\b\b\b\b\b\b\b\b\b\b\b\b\b\b\b\b\b\b\b\b\b\b\b\b\b\b\b\b\b\b\b\b\b\b\b\b\b\b\b\b\b\b\b\b\b\b\b\b\b\b\b\b\b\b\b\b\b\b\b\b\b\b\b\b\b\b\b\r48/48 [==============================] - 39s 809ms/step - loss: 1.6154 - accuracy: 0.3479 - val_loss: 1.5851 - val_accuracy: 0.3729 - lr: 4.0000e-04\n",
            "Epoch 38/60\n",
            "48/48 [==============================] - 29s 606ms/step - loss: 1.6095 - accuracy: 0.3396 - val_loss: 1.6023 - val_accuracy: 0.3670 - lr: 4.0000e-04\n",
            "Epoch 39/60\n",
            "48/48 [==============================] - ETA: 0s - loss: 1.5955 - accuracy: 0.3647"
          ]
        },
        {
          "output_type": "stream",
          "name": "stderr",
          "text": [
            "WARNING:absl:Found untraced functions such as lstm_cell_layer_call_fn, lstm_cell_layer_call_and_return_conditional_losses, lstm_cell_1_layer_call_fn, lstm_cell_1_layer_call_and_return_conditional_losses while saving (showing 4 of 4). These functions will not be directly callable after loading.\n"
          ]
        },
        {
          "output_type": "stream",
          "name": "stdout",
          "text": [
            "INFO:tensorflow:Assets written to: /content/drive/MyDrive/speech-emotion-recognition-ravdess-data/speech_model_onlyLSTM.tf/assets\n"
          ]
        },
        {
          "output_type": "stream",
          "name": "stderr",
          "text": [
            "INFO:tensorflow:Assets written to: /content/drive/MyDrive/speech-emotion-recognition-ravdess-data/speech_model_onlyLSTM.tf/assets\n",
            "WARNING:absl:<keras.layers.recurrent.LSTMCell object at 0x7fcd6bb52250> has the same name 'LSTMCell' as a built-in Keras object. Consider renaming <class 'keras.layers.recurrent.LSTMCell'> to avoid naming conflicts when loading with `tf.keras.models.load_model`. If renaming is not possible, pass the object in the `custom_objects` parameter of the load function.\n",
            "WARNING:absl:<keras.layers.recurrent.LSTMCell object at 0x7fcd66c65890> has the same name 'LSTMCell' as a built-in Keras object. Consider renaming <class 'keras.layers.recurrent.LSTMCell'> to avoid naming conflicts when loading with `tf.keras.models.load_model`. If renaming is not possible, pass the object in the `custom_objects` parameter of the load function.\n"
          ]
        },
        {
          "output_type": "stream",
          "name": "stdout",
          "text": [
            "\b\b\b\b\b\b\b\b\b\b\b\b\b\b\b\b\b\b\b\b\b\b\b\b\b\b\b\b\b\b\b\b\b\b\b\b\b\b\b\b\b\b\b\b\b\b\b\b\b\b\b\b\b\b\b\b\b\b\b\b\b\b\b\b\b\b\b\b\b\b\b\b\b\b\b\b\b\b\b\b\b\b\r48/48 [==============================] - 38s 789ms/step - loss: 1.5955 - accuracy: 0.3647 - val_loss: 1.5904 - val_accuracy: 0.3729 - lr: 4.0000e-04\n",
            "Epoch 40/60\n",
            "48/48 [==============================] - 29s 604ms/step - loss: 1.6026 - accuracy: 0.3587 - val_loss: 1.5858 - val_accuracy: 0.3788 - lr: 4.0000e-04\n",
            "Epoch 41/60\n",
            "48/48 [==============================] - 29s 602ms/step - loss: 1.5876 - accuracy: 0.3647 - val_loss: 1.5873 - val_accuracy: 0.3798 - lr: 4.0000e-04\n",
            "Epoch 42/60\n",
            "48/48 [==============================] - 29s 603ms/step - loss: 1.5806 - accuracy: 0.3614 - val_loss: 1.6608 - val_accuracy: 0.3056 - lr: 4.0000e-04\n",
            "Epoch 43/60\n",
            "48/48 [==============================] - 29s 602ms/step - loss: 1.6005 - accuracy: 0.3403 - val_loss: 1.5746 - val_accuracy: 0.3759 - lr: 4.0000e-04\n",
            "Epoch 44/60\n",
            "48/48 [==============================] - 29s 606ms/step - loss: 1.5806 - accuracy: 0.3597 - val_loss: 1.6090 - val_accuracy: 0.3630 - lr: 4.0000e-04\n",
            "Epoch 45/60\n",
            "48/48 [==============================] - ETA: 0s - loss: 1.5631 - accuracy: 0.3693"
          ]
        },
        {
          "output_type": "stream",
          "name": "stderr",
          "text": [
            "WARNING:absl:Found untraced functions such as lstm_cell_layer_call_fn, lstm_cell_layer_call_and_return_conditional_losses, lstm_cell_1_layer_call_fn, lstm_cell_1_layer_call_and_return_conditional_losses while saving (showing 4 of 4). These functions will not be directly callable after loading.\n"
          ]
        },
        {
          "output_type": "stream",
          "name": "stdout",
          "text": [
            "INFO:tensorflow:Assets written to: /content/drive/MyDrive/speech-emotion-recognition-ravdess-data/speech_model_onlyLSTM.tf/assets\n"
          ]
        },
        {
          "output_type": "stream",
          "name": "stderr",
          "text": [
            "INFO:tensorflow:Assets written to: /content/drive/MyDrive/speech-emotion-recognition-ravdess-data/speech_model_onlyLSTM.tf/assets\n",
            "WARNING:absl:<keras.layers.recurrent.LSTMCell object at 0x7fcd6bb52250> has the same name 'LSTMCell' as a built-in Keras object. Consider renaming <class 'keras.layers.recurrent.LSTMCell'> to avoid naming conflicts when loading with `tf.keras.models.load_model`. If renaming is not possible, pass the object in the `custom_objects` parameter of the load function.\n",
            "WARNING:absl:<keras.layers.recurrent.LSTMCell object at 0x7fcd66c65890> has the same name 'LSTMCell' as a built-in Keras object. Consider renaming <class 'keras.layers.recurrent.LSTMCell'> to avoid naming conflicts when loading with `tf.keras.models.load_model`. If renaming is not possible, pass the object in the `custom_objects` parameter of the load function.\n"
          ]
        },
        {
          "output_type": "stream",
          "name": "stdout",
          "text": [
            "\b\b\b\b\b\b\b\b\b\b\b\b\b\b\b\b\b\b\b\b\b\b\b\b\b\b\b\b\b\b\b\b\b\b\b\b\b\b\b\b\b\b\b\b\b\b\b\b\b\b\b\b\b\b\b\b\b\b\b\b\b\b\b\b\b\b\b\b\b\b\b\b\b\b\b\b\b\b\b\b\b\b\r48/48 [==============================] - 39s 812ms/step - loss: 1.5631 - accuracy: 0.3693 - val_loss: 1.6572 - val_accuracy: 0.3452 - lr: 4.0000e-04\n",
            "Epoch 46/60\n",
            "48/48 [==============================] - ETA: 0s - loss: 1.5695 - accuracy: 0.3713"
          ]
        },
        {
          "output_type": "stream",
          "name": "stderr",
          "text": [
            "WARNING:absl:Found untraced functions such as lstm_cell_layer_call_fn, lstm_cell_layer_call_and_return_conditional_losses, lstm_cell_1_layer_call_fn, lstm_cell_1_layer_call_and_return_conditional_losses while saving (showing 4 of 4). These functions will not be directly callable after loading.\n"
          ]
        },
        {
          "output_type": "stream",
          "name": "stdout",
          "text": [
            "INFO:tensorflow:Assets written to: /content/drive/MyDrive/speech-emotion-recognition-ravdess-data/speech_model_onlyLSTM.tf/assets\n"
          ]
        },
        {
          "output_type": "stream",
          "name": "stderr",
          "text": [
            "INFO:tensorflow:Assets written to: /content/drive/MyDrive/speech-emotion-recognition-ravdess-data/speech_model_onlyLSTM.tf/assets\n",
            "WARNING:absl:<keras.layers.recurrent.LSTMCell object at 0x7fcd6bb52250> has the same name 'LSTMCell' as a built-in Keras object. Consider renaming <class 'keras.layers.recurrent.LSTMCell'> to avoid naming conflicts when loading with `tf.keras.models.load_model`. If renaming is not possible, pass the object in the `custom_objects` parameter of the load function.\n",
            "WARNING:absl:<keras.layers.recurrent.LSTMCell object at 0x7fcd66c65890> has the same name 'LSTMCell' as a built-in Keras object. Consider renaming <class 'keras.layers.recurrent.LSTMCell'> to avoid naming conflicts when loading with `tf.keras.models.load_model`. If renaming is not possible, pass the object in the `custom_objects` parameter of the load function.\n"
          ]
        },
        {
          "output_type": "stream",
          "name": "stdout",
          "text": [
            "\b\b\b\b\b\b\b\b\b\b\b\b\b\b\b\b\b\b\b\b\b\b\b\b\b\b\b\b\b\b\b\b\b\b\b\b\b\b\b\b\b\b\b\b\b\b\b\b\b\b\b\b\b\b\b\b\b\b\b\b\b\b\b\b\b\b\b\b\b\b\b\b\b\b\b\b\b\b\b\b\b\b\r48/48 [==============================] - 39s 811ms/step - loss: 1.5695 - accuracy: 0.3713 - val_loss: 1.5838 - val_accuracy: 0.3670 - lr: 4.0000e-04\n",
            "Epoch 47/60\n",
            "48/48 [==============================] - ETA: 0s - loss: 1.5526 - accuracy: 0.3733"
          ]
        },
        {
          "output_type": "stream",
          "name": "stderr",
          "text": [
            "WARNING:absl:Found untraced functions such as lstm_cell_layer_call_fn, lstm_cell_layer_call_and_return_conditional_losses, lstm_cell_1_layer_call_fn, lstm_cell_1_layer_call_and_return_conditional_losses while saving (showing 4 of 4). These functions will not be directly callable after loading.\n"
          ]
        },
        {
          "output_type": "stream",
          "name": "stdout",
          "text": [
            "INFO:tensorflow:Assets written to: /content/drive/MyDrive/speech-emotion-recognition-ravdess-data/speech_model_onlyLSTM.tf/assets\n"
          ]
        },
        {
          "output_type": "stream",
          "name": "stderr",
          "text": [
            "INFO:tensorflow:Assets written to: /content/drive/MyDrive/speech-emotion-recognition-ravdess-data/speech_model_onlyLSTM.tf/assets\n",
            "WARNING:absl:<keras.layers.recurrent.LSTMCell object at 0x7fcd6bb52250> has the same name 'LSTMCell' as a built-in Keras object. Consider renaming <class 'keras.layers.recurrent.LSTMCell'> to avoid naming conflicts when loading with `tf.keras.models.load_model`. If renaming is not possible, pass the object in the `custom_objects` parameter of the load function.\n",
            "WARNING:absl:<keras.layers.recurrent.LSTMCell object at 0x7fcd66c65890> has the same name 'LSTMCell' as a built-in Keras object. Consider renaming <class 'keras.layers.recurrent.LSTMCell'> to avoid naming conflicts when loading with `tf.keras.models.load_model`. If renaming is not possible, pass the object in the `custom_objects` parameter of the load function.\n"
          ]
        },
        {
          "output_type": "stream",
          "name": "stdout",
          "text": [
            "\b\b\b\b\b\b\b\b\b\b\b\b\b\b\b\b\b\b\b\b\b\b\b\b\b\b\b\b\b\b\b\b\b\b\b\b\b\b\b\b\b\b\b\b\b\b\b\b\b\b\b\b\b\b\b\b\b\b\b\b\b\b\b\b\b\b\b\b\b\b\b\b\b\b\b\b\b\b\b\b\b\b\r48/48 [==============================] - 38s 794ms/step - loss: 1.5526 - accuracy: 0.3733 - val_loss: 1.6014 - val_accuracy: 0.3650 - lr: 4.0000e-04\n",
            "Epoch 48/60\n",
            "48/48 [==============================] - ETA: 0s - loss: 1.5630 - accuracy: 0.3769"
          ]
        },
        {
          "output_type": "stream",
          "name": "stderr",
          "text": [
            "WARNING:absl:Found untraced functions such as lstm_cell_layer_call_fn, lstm_cell_layer_call_and_return_conditional_losses, lstm_cell_1_layer_call_fn, lstm_cell_1_layer_call_and_return_conditional_losses while saving (showing 4 of 4). These functions will not be directly callable after loading.\n"
          ]
        },
        {
          "output_type": "stream",
          "name": "stdout",
          "text": [
            "INFO:tensorflow:Assets written to: /content/drive/MyDrive/speech-emotion-recognition-ravdess-data/speech_model_onlyLSTM.tf/assets\n"
          ]
        },
        {
          "output_type": "stream",
          "name": "stderr",
          "text": [
            "INFO:tensorflow:Assets written to: /content/drive/MyDrive/speech-emotion-recognition-ravdess-data/speech_model_onlyLSTM.tf/assets\n",
            "WARNING:absl:<keras.layers.recurrent.LSTMCell object at 0x7fcd6bb52250> has the same name 'LSTMCell' as a built-in Keras object. Consider renaming <class 'keras.layers.recurrent.LSTMCell'> to avoid naming conflicts when loading with `tf.keras.models.load_model`. If renaming is not possible, pass the object in the `custom_objects` parameter of the load function.\n",
            "WARNING:absl:<keras.layers.recurrent.LSTMCell object at 0x7fcd66c65890> has the same name 'LSTMCell' as a built-in Keras object. Consider renaming <class 'keras.layers.recurrent.LSTMCell'> to avoid naming conflicts when loading with `tf.keras.models.load_model`. If renaming is not possible, pass the object in the `custom_objects` parameter of the load function.\n"
          ]
        },
        {
          "output_type": "stream",
          "name": "stdout",
          "text": [
            "\b\b\b\b\b\b\b\b\b\b\b\b\b\b\b\b\b\b\b\b\b\b\b\b\b\b\b\b\b\b\b\b\b\b\b\b\b\b\b\b\b\b\b\b\b\b\b\b\b\b\b\b\b\b\b\b\b\b\b\b\b\b\b\b\b\b\b\b\b\b\b\b\b\b\b\b\b\b\b\b\b\b\r48/48 [==============================] - 39s 814ms/step - loss: 1.5630 - accuracy: 0.3769 - val_loss: 1.5962 - val_accuracy: 0.3581 - lr: 4.0000e-04\n",
            "Epoch 49/60\n",
            "48/48 [==============================] - 29s 605ms/step - loss: 1.5584 - accuracy: 0.3752 - val_loss: 1.5730 - val_accuracy: 0.3759 - lr: 4.0000e-04\n",
            "Epoch 50/60\n",
            "48/48 [==============================] - ETA: 0s - loss: 1.5425 - accuracy: 0.3835"
          ]
        },
        {
          "output_type": "stream",
          "name": "stderr",
          "text": [
            "WARNING:absl:Found untraced functions such as lstm_cell_layer_call_fn, lstm_cell_layer_call_and_return_conditional_losses, lstm_cell_1_layer_call_fn, lstm_cell_1_layer_call_and_return_conditional_losses while saving (showing 4 of 4). These functions will not be directly callable after loading.\n"
          ]
        },
        {
          "output_type": "stream",
          "name": "stdout",
          "text": [
            "INFO:tensorflow:Assets written to: /content/drive/MyDrive/speech-emotion-recognition-ravdess-data/speech_model_onlyLSTM.tf/assets\n"
          ]
        },
        {
          "output_type": "stream",
          "name": "stderr",
          "text": [
            "INFO:tensorflow:Assets written to: /content/drive/MyDrive/speech-emotion-recognition-ravdess-data/speech_model_onlyLSTM.tf/assets\n",
            "WARNING:absl:<keras.layers.recurrent.LSTMCell object at 0x7fcd6bb52250> has the same name 'LSTMCell' as a built-in Keras object. Consider renaming <class 'keras.layers.recurrent.LSTMCell'> to avoid naming conflicts when loading with `tf.keras.models.load_model`. If renaming is not possible, pass the object in the `custom_objects` parameter of the load function.\n",
            "WARNING:absl:<keras.layers.recurrent.LSTMCell object at 0x7fcd66c65890> has the same name 'LSTMCell' as a built-in Keras object. Consider renaming <class 'keras.layers.recurrent.LSTMCell'> to avoid naming conflicts when loading with `tf.keras.models.load_model`. If renaming is not possible, pass the object in the `custom_objects` parameter of the load function.\n"
          ]
        },
        {
          "output_type": "stream",
          "name": "stdout",
          "text": [
            "\b\b\b\b\b\b\b\b\b\b\b\b\b\b\b\b\b\b\b\b\b\b\b\b\b\b\b\b\b\b\b\b\b\b\b\b\b\b\b\b\b\b\b\b\b\b\b\b\b\b\b\b\b\b\b\b\b\b\b\b\b\b\b\b\b\b\b\b\b\b\b\b\b\b\b\b\b\b\b\b\b\b\r48/48 [==============================] - 38s 803ms/step - loss: 1.5425 - accuracy: 0.3835 - val_loss: 1.6035 - val_accuracy: 0.3591 - lr: 4.0000e-04\n",
            "Epoch 51/60\n",
            "48/48 [==============================] - ETA: 0s - loss: 1.5312 - accuracy: 0.3904"
          ]
        },
        {
          "output_type": "stream",
          "name": "stderr",
          "text": [
            "WARNING:absl:Found untraced functions such as lstm_cell_layer_call_fn, lstm_cell_layer_call_and_return_conditional_losses, lstm_cell_1_layer_call_fn, lstm_cell_1_layer_call_and_return_conditional_losses while saving (showing 4 of 4). These functions will not be directly callable after loading.\n"
          ]
        },
        {
          "output_type": "stream",
          "name": "stdout",
          "text": [
            "INFO:tensorflow:Assets written to: /content/drive/MyDrive/speech-emotion-recognition-ravdess-data/speech_model_onlyLSTM.tf/assets\n"
          ]
        },
        {
          "output_type": "stream",
          "name": "stderr",
          "text": [
            "INFO:tensorflow:Assets written to: /content/drive/MyDrive/speech-emotion-recognition-ravdess-data/speech_model_onlyLSTM.tf/assets\n",
            "WARNING:absl:<keras.layers.recurrent.LSTMCell object at 0x7fcd6bb52250> has the same name 'LSTMCell' as a built-in Keras object. Consider renaming <class 'keras.layers.recurrent.LSTMCell'> to avoid naming conflicts when loading with `tf.keras.models.load_model`. If renaming is not possible, pass the object in the `custom_objects` parameter of the load function.\n",
            "WARNING:absl:<keras.layers.recurrent.LSTMCell object at 0x7fcd66c65890> has the same name 'LSTMCell' as a built-in Keras object. Consider renaming <class 'keras.layers.recurrent.LSTMCell'> to avoid naming conflicts when loading with `tf.keras.models.load_model`. If renaming is not possible, pass the object in the `custom_objects` parameter of the load function.\n"
          ]
        },
        {
          "output_type": "stream",
          "name": "stdout",
          "text": [
            "\b\b\b\b\b\b\b\b\b\b\b\b\b\b\b\b\b\b\b\b\b\b\b\b\b\b\b\b\b\b\b\b\b\b\b\b\b\b\b\b\b\b\b\b\b\b\b\b\b\b\b\b\b\b\b\b\b\b\b\b\b\b\b\b\b\b\b\b\b\b\b\b\b\b\b\b\b\b\b\b\b\b\r48/48 [==============================] - 38s 804ms/step - loss: 1.5312 - accuracy: 0.3904 - val_loss: 1.6656 - val_accuracy: 0.3403 - lr: 4.0000e-04\n",
            "Epoch 52/60\n",
            "48/48 [==============================] - ETA: 0s - loss: 1.5334 - accuracy: 0.3934"
          ]
        },
        {
          "output_type": "stream",
          "name": "stderr",
          "text": [
            "WARNING:absl:Found untraced functions such as lstm_cell_layer_call_fn, lstm_cell_layer_call_and_return_conditional_losses, lstm_cell_1_layer_call_fn, lstm_cell_1_layer_call_and_return_conditional_losses while saving (showing 4 of 4). These functions will not be directly callable after loading.\n"
          ]
        },
        {
          "output_type": "stream",
          "name": "stdout",
          "text": [
            "INFO:tensorflow:Assets written to: /content/drive/MyDrive/speech-emotion-recognition-ravdess-data/speech_model_onlyLSTM.tf/assets\n"
          ]
        },
        {
          "output_type": "stream",
          "name": "stderr",
          "text": [
            "INFO:tensorflow:Assets written to: /content/drive/MyDrive/speech-emotion-recognition-ravdess-data/speech_model_onlyLSTM.tf/assets\n",
            "WARNING:absl:<keras.layers.recurrent.LSTMCell object at 0x7fcd6bb52250> has the same name 'LSTMCell' as a built-in Keras object. Consider renaming <class 'keras.layers.recurrent.LSTMCell'> to avoid naming conflicts when loading with `tf.keras.models.load_model`. If renaming is not possible, pass the object in the `custom_objects` parameter of the load function.\n",
            "WARNING:absl:<keras.layers.recurrent.LSTMCell object at 0x7fcd66c65890> has the same name 'LSTMCell' as a built-in Keras object. Consider renaming <class 'keras.layers.recurrent.LSTMCell'> to avoid naming conflicts when loading with `tf.keras.models.load_model`. If renaming is not possible, pass the object in the `custom_objects` parameter of the load function.\n"
          ]
        },
        {
          "output_type": "stream",
          "name": "stdout",
          "text": [
            "\b\b\b\b\b\b\b\b\b\b\b\b\b\b\b\b\b\b\b\b\b\b\b\b\b\b\b\b\b\b\b\b\b\b\b\b\b\b\b\b\b\b\b\b\b\b\b\b\b\b\b\b\b\b\b\b\b\b\b\b\b\b\b\b\b\b\b\b\b\b\b\b\b\b\b\b\b\b\b\b\b\b\r48/48 [==============================] - 38s 804ms/step - loss: 1.5334 - accuracy: 0.3934 - val_loss: 1.5737 - val_accuracy: 0.3818 - lr: 4.0000e-04\n",
            "Epoch 53/60\n",
            "48/48 [==============================] - 29s 606ms/step - loss: 1.5215 - accuracy: 0.3901 - val_loss: 1.5592 - val_accuracy: 0.3719 - lr: 4.0000e-04\n",
            "Epoch 54/60\n",
            "48/48 [==============================] - ETA: 0s - loss: 1.5248 - accuracy: 0.3941"
          ]
        },
        {
          "output_type": "stream",
          "name": "stderr",
          "text": [
            "WARNING:absl:Found untraced functions such as lstm_cell_layer_call_fn, lstm_cell_layer_call_and_return_conditional_losses, lstm_cell_1_layer_call_fn, lstm_cell_1_layer_call_and_return_conditional_losses while saving (showing 4 of 4). These functions will not be directly callable after loading.\n"
          ]
        },
        {
          "output_type": "stream",
          "name": "stdout",
          "text": [
            "INFO:tensorflow:Assets written to: /content/drive/MyDrive/speech-emotion-recognition-ravdess-data/speech_model_onlyLSTM.tf/assets\n"
          ]
        },
        {
          "output_type": "stream",
          "name": "stderr",
          "text": [
            "INFO:tensorflow:Assets written to: /content/drive/MyDrive/speech-emotion-recognition-ravdess-data/speech_model_onlyLSTM.tf/assets\n",
            "WARNING:absl:<keras.layers.recurrent.LSTMCell object at 0x7fcd6bb52250> has the same name 'LSTMCell' as a built-in Keras object. Consider renaming <class 'keras.layers.recurrent.LSTMCell'> to avoid naming conflicts when loading with `tf.keras.models.load_model`. If renaming is not possible, pass the object in the `custom_objects` parameter of the load function.\n",
            "WARNING:absl:<keras.layers.recurrent.LSTMCell object at 0x7fcd66c65890> has the same name 'LSTMCell' as a built-in Keras object. Consider renaming <class 'keras.layers.recurrent.LSTMCell'> to avoid naming conflicts when loading with `tf.keras.models.load_model`. If renaming is not possible, pass the object in the `custom_objects` parameter of the load function.\n"
          ]
        },
        {
          "output_type": "stream",
          "name": "stdout",
          "text": [
            "\b\b\b\b\b\b\b\b\b\b\b\b\b\b\b\b\b\b\b\b\b\b\b\b\b\b\b\b\b\b\b\b\b\b\b\b\b\b\b\b\b\b\b\b\b\b\b\b\b\b\b\b\b\b\b\b\b\b\b\b\b\b\b\b\b\b\b\b\b\b\b\b\b\b\b\b\b\b\b\b\b\b\r48/48 [==============================] - 38s 804ms/step - loss: 1.5248 - accuracy: 0.3941 - val_loss: 1.5766 - val_accuracy: 0.3709 - lr: 4.0000e-04\n",
            "Epoch 55/60\n",
            "48/48 [==============================] - ETA: 0s - loss: 1.5159 - accuracy: 0.3947"
          ]
        },
        {
          "output_type": "stream",
          "name": "stderr",
          "text": [
            "WARNING:absl:Found untraced functions such as lstm_cell_layer_call_fn, lstm_cell_layer_call_and_return_conditional_losses, lstm_cell_1_layer_call_fn, lstm_cell_1_layer_call_and_return_conditional_losses while saving (showing 4 of 4). These functions will not be directly callable after loading.\n"
          ]
        },
        {
          "output_type": "stream",
          "name": "stdout",
          "text": [
            "INFO:tensorflow:Assets written to: /content/drive/MyDrive/speech-emotion-recognition-ravdess-data/speech_model_onlyLSTM.tf/assets\n"
          ]
        },
        {
          "output_type": "stream",
          "name": "stderr",
          "text": [
            "INFO:tensorflow:Assets written to: /content/drive/MyDrive/speech-emotion-recognition-ravdess-data/speech_model_onlyLSTM.tf/assets\n",
            "WARNING:absl:<keras.layers.recurrent.LSTMCell object at 0x7fcd6bb52250> has the same name 'LSTMCell' as a built-in Keras object. Consider renaming <class 'keras.layers.recurrent.LSTMCell'> to avoid naming conflicts when loading with `tf.keras.models.load_model`. If renaming is not possible, pass the object in the `custom_objects` parameter of the load function.\n",
            "WARNING:absl:<keras.layers.recurrent.LSTMCell object at 0x7fcd66c65890> has the same name 'LSTMCell' as a built-in Keras object. Consider renaming <class 'keras.layers.recurrent.LSTMCell'> to avoid naming conflicts when loading with `tf.keras.models.load_model`. If renaming is not possible, pass the object in the `custom_objects` parameter of the load function.\n"
          ]
        },
        {
          "output_type": "stream",
          "name": "stdout",
          "text": [
            "\b\b\b\b\b\b\b\b\b\b\b\b\b\b\b\b\b\b\b\b\b\b\b\b\b\b\b\b\b\b\b\b\b\b\b\b\b\b\b\b\b\b\b\b\b\b\b\b\b\b\b\b\b\b\b\b\b\b\b\b\b\b\b\b\b\b\b\b\b\b\b\b\b\b\b\b\b\b\b\b\b\b\r48/48 [==============================] - 38s 805ms/step - loss: 1.5159 - accuracy: 0.3947 - val_loss: 1.5712 - val_accuracy: 0.3769 - lr: 4.0000e-04\n",
            "Epoch 56/60\n",
            "48/48 [==============================] - 29s 604ms/step - loss: 1.4999 - accuracy: 0.3927 - val_loss: 1.5733 - val_accuracy: 0.3689 - lr: 4.0000e-04\n",
            "Epoch 57/60\n",
            "48/48 [==============================] - 29s 603ms/step - loss: 1.5446 - accuracy: 0.3805 - val_loss: 1.5669 - val_accuracy: 0.3699 - lr: 4.0000e-04\n",
            "Epoch 58/60\n",
            "48/48 [==============================] - 29s 603ms/step - loss: 1.4978 - accuracy: 0.3921 - val_loss: 1.5357 - val_accuracy: 0.3838 - lr: 4.0000e-04\n",
            "Epoch 59/60\n",
            "48/48 [==============================] - ETA: 0s - loss: 1.4830 - accuracy: 0.4086"
          ]
        },
        {
          "output_type": "stream",
          "name": "stderr",
          "text": [
            "WARNING:absl:Found untraced functions such as lstm_cell_layer_call_fn, lstm_cell_layer_call_and_return_conditional_losses, lstm_cell_1_layer_call_fn, lstm_cell_1_layer_call_and_return_conditional_losses while saving (showing 4 of 4). These functions will not be directly callable after loading.\n"
          ]
        },
        {
          "output_type": "stream",
          "name": "stdout",
          "text": [
            "INFO:tensorflow:Assets written to: /content/drive/MyDrive/speech-emotion-recognition-ravdess-data/speech_model_onlyLSTM.tf/assets\n"
          ]
        },
        {
          "output_type": "stream",
          "name": "stderr",
          "text": [
            "INFO:tensorflow:Assets written to: /content/drive/MyDrive/speech-emotion-recognition-ravdess-data/speech_model_onlyLSTM.tf/assets\n",
            "WARNING:absl:<keras.layers.recurrent.LSTMCell object at 0x7fcd6bb52250> has the same name 'LSTMCell' as a built-in Keras object. Consider renaming <class 'keras.layers.recurrent.LSTMCell'> to avoid naming conflicts when loading with `tf.keras.models.load_model`. If renaming is not possible, pass the object in the `custom_objects` parameter of the load function.\n",
            "WARNING:absl:<keras.layers.recurrent.LSTMCell object at 0x7fcd66c65890> has the same name 'LSTMCell' as a built-in Keras object. Consider renaming <class 'keras.layers.recurrent.LSTMCell'> to avoid naming conflicts when loading with `tf.keras.models.load_model`. If renaming is not possible, pass the object in the `custom_objects` parameter of the load function.\n"
          ]
        },
        {
          "output_type": "stream",
          "name": "stdout",
          "text": [
            "\b\b\b\b\b\b\b\b\b\b\b\b\b\b\b\b\b\b\b\b\b\b\b\b\b\b\b\b\b\b\b\b\b\b\b\b\b\b\b\b\b\b\b\b\b\b\b\b\b\b\b\b\b\b\b\b\b\b\b\b\b\b\b\b\b\b\b\b\b\b\b\b\b\b\b\b\b\b\b\b\b\b\r48/48 [==============================] - 39s 808ms/step - loss: 1.4830 - accuracy: 0.4086 - val_loss: 1.5541 - val_accuracy: 0.3670 - lr: 4.0000e-04\n",
            "Epoch 60/60\n",
            "48/48 [==============================] - 29s 603ms/step - loss: 1.4878 - accuracy: 0.4043 - val_loss: 1.5457 - val_accuracy: 0.3907 - lr: 4.0000e-04\n"
          ]
        }
      ]
    },
    {
      "cell_type": "code",
      "source": [
        "print(\"Accuracy of our model on test data : \" , model.evaluate(x_test,y_test)[1]*100 , \"%\")\n",
        "\n",
        "epochs = [i for i in range(eps)]\n",
        "fig , ax = plt.subplots(1,2)\n",
        "train_acc = history.history['accuracy']\n",
        "train_loss = history.history['loss']\n",
        "test_acc = history.history['val_accuracy']\n",
        "test_loss = history.history['val_loss']\n",
        "\n",
        "fig.set_size_inches(20,6)\n",
        "ax[0].plot(epochs , train_loss , label = 'Training Loss')\n",
        "ax[0].plot(epochs , test_loss , label = 'Testing Loss')\n",
        "ax[0].set_title('Training & Testing Loss')\n",
        "ax[0].legend()\n",
        "ax[0].set_xlabel(\"Epochs\")\n",
        "\n",
        "ax[1].plot(epochs , train_acc , label = 'Training Accuracy')\n",
        "ax[1].plot(epochs , test_acc , label = 'Testing Accuracy')\n",
        "ax[1].set_title('Training & Testing Accuracy')\n",
        "ax[1].legend()\n",
        "ax[1].set_xlabel(\"Epochs\")\n",
        "plt.show()"
      ],
      "metadata": {
        "id": "htSFS3tffmVq",
        "colab": {
          "base_uri": "https://localhost:8080/",
          "height": 439
        },
        "outputId": "0f9587e9-8296-4302-978c-452ac1d49717"
      },
      "execution_count": null,
      "outputs": [
        {
          "output_type": "stream",
          "name": "stdout",
          "text": [
            "32/32 [==============================] - 3s 88ms/step - loss: 1.5457 - accuracy: 0.3907\n",
            "Accuracy of our model on test data :  39.07022774219513 %\n"
          ]
        },
        {
          "output_type": "display_data",
          "data": {
            "text/plain": [
              "<Figure size 1440x432 with 2 Axes>"
            ],
            "image/png": "[encoded data removed]"
          },
          "metadata": {
            "needs_background": "light"
          }
        }
      ]
    },
    {
      "cell_type": "code",
      "source": [
        "history = tf.keras.models.load_model(\"/content/drive/MyDrive/speech-emotion-recognition-ravdess-data/speech_model_onlyLSTM.tf\")\n",
        "\n",
        "earlyStopping = EarlyStopping(monitor='accuracy', patience=6, verbose=0, mode='max')\n",
        "mcp_save_2 = ModelCheckpoint('/content/drive/MyDrive/speech-emotion-recognition-ravdess-data/speech_model_onlyLSTM.tf', save_best_only=True, monitor='accuracy', \n",
        "                           mode='max', save_freq='epoch')\n",
        "inc_accuracy = ReduceLROnPlateau(monitor='accuracy', factor=0.1, patience=6, verbose=0, mode='max')\n",
        "\n",
        "history = model.fit(x_train, y_train, batch_size=64, epochs=eps, validation_data=(x_test, y_test), callbacks=[earlyStopping, mcp_save_2, inc_accuracy])"
      ],
      "metadata": {
        "colab": {
          "base_uri": "https://localhost:8080/"
        },
        "id": "KVtgMsNGIP-J",
        "outputId": "62fd3faf-4e0d-439d-b7ff-c9a7705263a1"
      },
      "execution_count": null,
      "outputs": [
        {
          "output_type": "stream",
          "name": "stdout",
          "text": [
            "Epoch 1/60\n",
            "48/48 [==============================] - ETA: 0s - loss: 1.4846 - accuracy: 0.4046"
          ]
        },
        {
          "output_type": "stream",
          "name": "stderr",
          "text": [
            "WARNING:absl:Found untraced functions such as lstm_cell_layer_call_fn, lstm_cell_layer_call_and_return_conditional_losses, lstm_cell_1_layer_call_fn, lstm_cell_1_layer_call_and_return_conditional_losses while saving (showing 4 of 4). These functions will not be directly callable after loading.\n"
          ]
        },
        {
          "output_type": "stream",
          "name": "stdout",
          "text": [
            "INFO:tensorflow:Assets written to: /content/drive/MyDrive/speech-emotion-recognition-ravdess-data/speech_model_onlyLSTM.tf/assets\n"
          ]
        },
        {
          "output_type": "stream",
          "name": "stderr",
          "text": [
            "INFO:tensorflow:Assets written to: /content/drive/MyDrive/speech-emotion-recognition-ravdess-data/speech_model_onlyLSTM.tf/assets\n",
            "WARNING:absl:<keras.layers.recurrent.LSTMCell object at 0x7fcd6bb52250> has the same name 'LSTMCell' as a built-in Keras object. Consider renaming <class 'keras.layers.recurrent.LSTMCell'> to avoid naming conflicts when loading with `tf.keras.models.load_model`. If renaming is not possible, pass the object in the `custom_objects` parameter of the load function.\n",
            "WARNING:absl:<keras.layers.recurrent.LSTMCell object at 0x7fcd66c65890> has the same name 'LSTMCell' as a built-in Keras object. Consider renaming <class 'keras.layers.recurrent.LSTMCell'> to avoid naming conflicts when loading with `tf.keras.models.load_model`. If renaming is not possible, pass the object in the `custom_objects` parameter of the load function.\n"
          ]
        },
        {
          "output_type": "stream",
          "name": "stdout",
          "text": [
            "\b\b\b\b\b\b\b\b\b\b\b\b\b\b\b\b\b\b\b\b\b\b\b\b\b\b\b\b\b\b\b\b\b\b\b\b\b\b\b\b\b\b\b\b\b\b\b\b\b\b\b\b\b\b\b\b\b\b\b\b\b\b\b\b\b\b\b\b\b\b\b\b\b\b\b\b\b\b\b\b\b\b\r48/48 [==============================] - 38s 799ms/step - loss: 1.4846 - accuracy: 0.4046 - val_loss: 1.5544 - val_accuracy: 0.3749 - lr: 4.0000e-04\n",
            "Epoch 2/60\n",
            "48/48 [==============================] - ETA: 0s - loss: 1.4846 - accuracy: 0.4083"
          ]
        },
        {
          "output_type": "stream",
          "name": "stderr",
          "text": [
            "WARNING:absl:Found untraced functions such as lstm_cell_layer_call_fn, lstm_cell_layer_call_and_return_conditional_losses, lstm_cell_1_layer_call_fn, lstm_cell_1_layer_call_and_return_conditional_losses while saving (showing 4 of 4). These functions will not be directly callable after loading.\n"
          ]
        },
        {
          "output_type": "stream",
          "name": "stdout",
          "text": [
            "INFO:tensorflow:Assets written to: /content/drive/MyDrive/speech-emotion-recognition-ravdess-data/speech_model_onlyLSTM.tf/assets\n"
          ]
        },
        {
          "output_type": "stream",
          "name": "stderr",
          "text": [
            "INFO:tensorflow:Assets written to: /content/drive/MyDrive/speech-emotion-recognition-ravdess-data/speech_model_onlyLSTM.tf/assets\n",
            "WARNING:absl:<keras.layers.recurrent.LSTMCell object at 0x7fcd6bb52250> has the same name 'LSTMCell' as a built-in Keras object. Consider renaming <class 'keras.layers.recurrent.LSTMCell'> to avoid naming conflicts when loading with `tf.keras.models.load_model`. If renaming is not possible, pass the object in the `custom_objects` parameter of the load function.\n",
            "WARNING:absl:<keras.layers.recurrent.LSTMCell object at 0x7fcd66c65890> has the same name 'LSTMCell' as a built-in Keras object. Consider renaming <class 'keras.layers.recurrent.LSTMCell'> to avoid naming conflicts when loading with `tf.keras.models.load_model`. If renaming is not possible, pass the object in the `custom_objects` parameter of the load function.\n"
          ]
        },
        {
          "output_type": "stream",
          "name": "stdout",
          "text": [
            "\b\b\b\b\b\b\b\b\b\b\b\b\b\b\b\b\b\b\b\b\b\b\b\b\b\b\b\b\b\b\b\b\b\b\b\b\b\b\b\b\b\b\b\b\b\b\b\b\b\b\b\b\b\b\b\b\b\b\b\b\b\b\b\b\b\b\b\b\b\b\b\b\b\b\b\b\b\b\b\b\b\b\r48/48 [==============================] - 38s 804ms/step - loss: 1.4846 - accuracy: 0.4083 - val_loss: 1.5557 - val_accuracy: 0.3798 - lr: 4.0000e-04\n",
            "Epoch 3/60\n",
            "48/48 [==============================] - ETA: 0s - loss: 1.4744 - accuracy: 0.4102"
          ]
        },
        {
          "output_type": "stream",
          "name": "stderr",
          "text": [
            "WARNING:absl:Found untraced functions such as lstm_cell_layer_call_fn, lstm_cell_layer_call_and_return_conditional_losses, lstm_cell_1_layer_call_fn, lstm_cell_1_layer_call_and_return_conditional_losses while saving (showing 4 of 4). These functions will not be directly callable after loading.\n"
          ]
        },
        {
          "output_type": "stream",
          "name": "stdout",
          "text": [
            "INFO:tensorflow:Assets written to: /content/drive/MyDrive/speech-emotion-recognition-ravdess-data/speech_model_onlyLSTM.tf/assets\n"
          ]
        },
        {
          "output_type": "stream",
          "name": "stderr",
          "text": [
            "INFO:tensorflow:Assets written to: /content/drive/MyDrive/speech-emotion-recognition-ravdess-data/speech_model_onlyLSTM.tf/assets\n",
            "WARNING:absl:<keras.layers.recurrent.LSTMCell object at 0x7fcd6bb52250> has the same name 'LSTMCell' as a built-in Keras object. Consider renaming <class 'keras.layers.recurrent.LSTMCell'> to avoid naming conflicts when loading with `tf.keras.models.load_model`. If renaming is not possible, pass the object in the `custom_objects` parameter of the load function.\n",
            "WARNING:absl:<keras.layers.recurrent.LSTMCell object at 0x7fcd66c65890> has the same name 'LSTMCell' as a built-in Keras object. Consider renaming <class 'keras.layers.recurrent.LSTMCell'> to avoid naming conflicts when loading with `tf.keras.models.load_model`. If renaming is not possible, pass the object in the `custom_objects` parameter of the load function.\n"
          ]
        },
        {
          "output_type": "stream",
          "name": "stdout",
          "text": [
            "\b\b\b\b\b\b\b\b\b\b\b\b\b\b\b\b\b\b\b\b\b\b\b\b\b\b\b\b\b\b\b\b\b\b\b\b\b\b\b\b\b\b\b\b\b\b\b\b\b\b\b\b\b\b\b\b\b\b\b\b\b\b\b\b\b\b\b\b\b\b\b\b\b\b\b\b\b\b\b\b\b\b\r48/48 [==============================] - 38s 806ms/step - loss: 1.4744 - accuracy: 0.4102 - val_loss: 1.5430 - val_accuracy: 0.3808 - lr: 4.0000e-04\n",
            "Epoch 4/60\n",
            "48/48 [==============================] - 29s 604ms/step - loss: 1.4637 - accuracy: 0.4102 - val_loss: 1.5473 - val_accuracy: 0.3887 - lr: 4.0000e-04\n",
            "Epoch 5/60\n",
            "48/48 [==============================] - ETA: 0s - loss: 1.4452 - accuracy: 0.4142"
          ]
        },
        {
          "output_type": "stream",
          "name": "stderr",
          "text": [
            "WARNING:absl:Found untraced functions such as lstm_cell_layer_call_fn, lstm_cell_layer_call_and_return_conditional_losses, lstm_cell_1_layer_call_fn, lstm_cell_1_layer_call_and_return_conditional_losses while saving (showing 4 of 4). These functions will not be directly callable after loading.\n"
          ]
        },
        {
          "output_type": "stream",
          "name": "stdout",
          "text": [
            "INFO:tensorflow:Assets written to: /content/drive/MyDrive/speech-emotion-recognition-ravdess-data/speech_model_onlyLSTM.tf/assets\n"
          ]
        },
        {
          "output_type": "stream",
          "name": "stderr",
          "text": [
            "INFO:tensorflow:Assets written to: /content/drive/MyDrive/speech-emotion-recognition-ravdess-data/speech_model_onlyLSTM.tf/assets\n",
            "WARNING:absl:<keras.layers.recurrent.LSTMCell object at 0x7fcd6bb52250> has the same name 'LSTMCell' as a built-in Keras object. Consider renaming <class 'keras.layers.recurrent.LSTMCell'> to avoid naming conflicts when loading with `tf.keras.models.load_model`. If renaming is not possible, pass the object in the `custom_objects` parameter of the load function.\n",
            "WARNING:absl:<keras.layers.recurrent.LSTMCell object at 0x7fcd66c65890> has the same name 'LSTMCell' as a built-in Keras object. Consider renaming <class 'keras.layers.recurrent.LSTMCell'> to avoid naming conflicts when loading with `tf.keras.models.load_model`. If renaming is not possible, pass the object in the `custom_objects` parameter of the load function.\n"
          ]
        },
        {
          "output_type": "stream",
          "name": "stdout",
          "text": [
            "\b\b\b\b\b\b\b\b\b\b\b\b\b\b\b\b\b\b\b\b\b\b\b\b\b\b\b\b\b\b\b\b\b\b\b\b\b\b\b\b\b\b\b\b\b\b\b\b\b\b\b\b\b\b\b\b\b\b\b\b\b\b\b\b\b\b\b\b\b\b\b\b\b\b\b\b\b\b\b\b\b\b\r48/48 [==============================] - 38s 804ms/step - loss: 1.4452 - accuracy: 0.4142 - val_loss: 1.5490 - val_accuracy: 0.3937 - lr: 4.0000e-04\n",
            "Epoch 6/60\n",
            "48/48 [==============================] - 29s 602ms/step - loss: 1.4725 - accuracy: 0.4040 - val_loss: 1.5427 - val_accuracy: 0.3867 - lr: 4.0000e-04\n",
            "Epoch 7/60\n",
            "48/48 [==============================] - ETA: 0s - loss: 1.4531 - accuracy: 0.4188"
          ]
        },
        {
          "output_type": "stream",
          "name": "stderr",
          "text": [
            "WARNING:absl:Found untraced functions such as lstm_cell_layer_call_fn, lstm_cell_layer_call_and_return_conditional_losses, lstm_cell_1_layer_call_fn, lstm_cell_1_layer_call_and_return_conditional_losses while saving (showing 4 of 4). These functions will not be directly callable after loading.\n"
          ]
        },
        {
          "output_type": "stream",
          "name": "stdout",
          "text": [
            "INFO:tensorflow:Assets written to: /content/drive/MyDrive/speech-emotion-recognition-ravdess-data/speech_model_onlyLSTM.tf/assets\n"
          ]
        },
        {
          "output_type": "stream",
          "name": "stderr",
          "text": [
            "INFO:tensorflow:Assets written to: /content/drive/MyDrive/speech-emotion-recognition-ravdess-data/speech_model_onlyLSTM.tf/assets\n",
            "WARNING:absl:<keras.layers.recurrent.LSTMCell object at 0x7fcd6bb52250> has the same name 'LSTMCell' as a built-in Keras object. Consider renaming <class 'keras.layers.recurrent.LSTMCell'> to avoid naming conflicts when loading with `tf.keras.models.load_model`. If renaming is not possible, pass the object in the `custom_objects` parameter of the load function.\n",
            "WARNING:absl:<keras.layers.recurrent.LSTMCell object at 0x7fcd66c65890> has the same name 'LSTMCell' as a built-in Keras object. Consider renaming <class 'keras.layers.recurrent.LSTMCell'> to avoid naming conflicts when loading with `tf.keras.models.load_model`. If renaming is not possible, pass the object in the `custom_objects` parameter of the load function.\n"
          ]
        },
        {
          "output_type": "stream",
          "name": "stdout",
          "text": [
            "\b\b\b\b\b\b\b\b\b\b\b\b\b\b\b\b\b\b\b\b\b\b\b\b\b\b\b\b\b\b\b\b\b\b\b\b\b\b\b\b\b\b\b\b\b\b\b\b\b\b\b\b\b\b\b\b\b\b\b\b\b\b\b\b\b\b\b\b\b\b\b\b\b\b\b\b\b\b\b\b\b\b\r48/48 [==============================] - 38s 789ms/step - loss: 1.4531 - accuracy: 0.4188 - val_loss: 1.5311 - val_accuracy: 0.3907 - lr: 4.0000e-04\n",
            "Epoch 8/60\n",
            "48/48 [==============================] - ETA: 0s - loss: 1.4526 - accuracy: 0.4241"
          ]
        },
        {
          "output_type": "stream",
          "name": "stderr",
          "text": [
            "WARNING:absl:Found untraced functions such as lstm_cell_layer_call_fn, lstm_cell_layer_call_and_return_conditional_losses, lstm_cell_1_layer_call_fn, lstm_cell_1_layer_call_and_return_conditional_losses while saving (showing 4 of 4). These functions will not be directly callable after loading.\n"
          ]
        },
        {
          "output_type": "stream",
          "name": "stdout",
          "text": [
            "INFO:tensorflow:Assets written to: /content/drive/MyDrive/speech-emotion-recognition-ravdess-data/speech_model_onlyLSTM.tf/assets\n"
          ]
        },
        {
          "output_type": "stream",
          "name": "stderr",
          "text": [
            "INFO:tensorflow:Assets written to: /content/drive/MyDrive/speech-emotion-recognition-ravdess-data/speech_model_onlyLSTM.tf/assets\n",
            "WARNING:absl:<keras.layers.recurrent.LSTMCell object at 0x7fcd6bb52250> has the same name 'LSTMCell' as a built-in Keras object. Consider renaming <class 'keras.layers.recurrent.LSTMCell'> to avoid naming conflicts when loading with `tf.keras.models.load_model`. If renaming is not possible, pass the object in the `custom_objects` parameter of the load function.\n",
            "WARNING:absl:<keras.layers.recurrent.LSTMCell object at 0x7fcd66c65890> has the same name 'LSTMCell' as a built-in Keras object. Consider renaming <class 'keras.layers.recurrent.LSTMCell'> to avoid naming conflicts when loading with `tf.keras.models.load_model`. If renaming is not possible, pass the object in the `custom_objects` parameter of the load function.\n"
          ]
        },
        {
          "output_type": "stream",
          "name": "stdout",
          "text": [
            "\b\b\b\b\b\b\b\b\b\b\b\b\b\b\b\b\b\b\b\b\b\b\b\b\b\b\b\b\b\b\b\b\b\b\b\b\b\b\b\b\b\b\b\b\b\b\b\b\b\b\b\b\b\b\b\b\b\b\b\b\b\b\b\b\b\b\b\b\b\b\b\b\b\b\b\b\b\b\b\b\b\b\r48/48 [==============================] - 38s 806ms/step - loss: 1.4526 - accuracy: 0.4241 - val_loss: 1.5288 - val_accuracy: 0.3927 - lr: 4.0000e-04\n",
            "Epoch 9/60\n",
            "48/48 [==============================] - 29s 607ms/step - loss: 1.4420 - accuracy: 0.4162 - val_loss: 1.5213 - val_accuracy: 0.3917 - lr: 4.0000e-04\n",
            "Epoch 10/60\n",
            "48/48 [==============================] - 29s 603ms/step - loss: 1.4327 - accuracy: 0.4231 - val_loss: 1.5347 - val_accuracy: 0.3976 - lr: 4.0000e-04\n",
            "Epoch 11/60\n",
            "48/48 [==============================] - 29s 604ms/step - loss: 1.4394 - accuracy: 0.4218 - val_loss: 1.5367 - val_accuracy: 0.3986 - lr: 4.0000e-04\n",
            "Epoch 12/60\n",
            "48/48 [==============================] - ETA: 0s - loss: 1.4263 - accuracy: 0.4317"
          ]
        },
        {
          "output_type": "stream",
          "name": "stderr",
          "text": [
            "WARNING:absl:Found untraced functions such as lstm_cell_layer_call_fn, lstm_cell_layer_call_and_return_conditional_losses, lstm_cell_1_layer_call_fn, lstm_cell_1_layer_call_and_return_conditional_losses while saving (showing 4 of 4). These functions will not be directly callable after loading.\n"
          ]
        },
        {
          "output_type": "stream",
          "name": "stdout",
          "text": [
            "INFO:tensorflow:Assets written to: /content/drive/MyDrive/speech-emotion-recognition-ravdess-data/speech_model_onlyLSTM.tf/assets\n"
          ]
        },
        {
          "output_type": "stream",
          "name": "stderr",
          "text": [
            "INFO:tensorflow:Assets written to: /content/drive/MyDrive/speech-emotion-recognition-ravdess-data/speech_model_onlyLSTM.tf/assets\n",
            "WARNING:absl:<keras.layers.recurrent.LSTMCell object at 0x7fcd6bb52250> has the same name 'LSTMCell' as a built-in Keras object. Consider renaming <class 'keras.layers.recurrent.LSTMCell'> to avoid naming conflicts when loading with `tf.keras.models.load_model`. If renaming is not possible, pass the object in the `custom_objects` parameter of the load function.\n",
            "WARNING:absl:<keras.layers.recurrent.LSTMCell object at 0x7fcd66c65890> has the same name 'LSTMCell' as a built-in Keras object. Consider renaming <class 'keras.layers.recurrent.LSTMCell'> to avoid naming conflicts when loading with `tf.keras.models.load_model`. If renaming is not possible, pass the object in the `custom_objects` parameter of the load function.\n"
          ]
        },
        {
          "output_type": "stream",
          "name": "stdout",
          "text": [
            "\b\b\b\b\b\b\b\b\b\b\b\b\b\b\b\b\b\b\b\b\b\b\b\b\b\b\b\b\b\b\b\b\b\b\b\b\b\b\b\b\b\b\b\b\b\b\b\b\b\b\b\b\b\b\b\b\b\b\b\b\b\b\b\b\b\b\b\b\b\b\b\b\b\b\b\b\b\b\b\b\b\b\r48/48 [==============================] - 38s 806ms/step - loss: 1.4263 - accuracy: 0.4317 - val_loss: 1.5279 - val_accuracy: 0.3917 - lr: 4.0000e-04\n",
            "Epoch 13/60\n",
            "48/48 [==============================] - ETA: 0s - loss: 1.4019 - accuracy: 0.4409"
          ]
        },
        {
          "output_type": "stream",
          "name": "stderr",
          "text": [
            "WARNING:absl:Found untraced functions such as lstm_cell_layer_call_fn, lstm_cell_layer_call_and_return_conditional_losses, lstm_cell_1_layer_call_fn, lstm_cell_1_layer_call_and_return_conditional_losses while saving (showing 4 of 4). These functions will not be directly callable after loading.\n"
          ]
        },
        {
          "output_type": "stream",
          "name": "stdout",
          "text": [
            "INFO:tensorflow:Assets written to: /content/drive/MyDrive/speech-emotion-recognition-ravdess-data/speech_model_onlyLSTM.tf/assets\n"
          ]
        },
        {
          "output_type": "stream",
          "name": "stderr",
          "text": [
            "INFO:tensorflow:Assets written to: /content/drive/MyDrive/speech-emotion-recognition-ravdess-data/speech_model_onlyLSTM.tf/assets\n",
            "WARNING:absl:<keras.layers.recurrent.LSTMCell object at 0x7fcd6bb52250> has the same name 'LSTMCell' as a built-in Keras object. Consider renaming <class 'keras.layers.recurrent.LSTMCell'> to avoid naming conflicts when loading with `tf.keras.models.load_model`. If renaming is not possible, pass the object in the `custom_objects` parameter of the load function.\n",
            "WARNING:absl:<keras.layers.recurrent.LSTMCell object at 0x7fcd66c65890> has the same name 'LSTMCell' as a built-in Keras object. Consider renaming <class 'keras.layers.recurrent.LSTMCell'> to avoid naming conflicts when loading with `tf.keras.models.load_model`. If renaming is not possible, pass the object in the `custom_objects` parameter of the load function.\n"
          ]
        },
        {
          "output_type": "stream",
          "name": "stdout",
          "text": [
            "\b\b\b\b\b\b\b\b\b\b\b\b\b\b\b\b\b\b\b\b\b\b\b\b\b\b\b\b\b\b\b\b\b\b\b\b\b\b\b\b\b\b\b\b\b\b\b\b\b\b\b\b\b\b\b\b\b\b\b\b\b\b\b\b\b\b\b\b\b\b\b\b\b\b\b\b\b\b\b\b\b\b\r48/48 [==============================] - 38s 804ms/step - loss: 1.4019 - accuracy: 0.4409 - val_loss: 1.6305 - val_accuracy: 0.3739 - lr: 4.0000e-04\n",
            "Epoch 14/60\n",
            "48/48 [==============================] - 29s 603ms/step - loss: 1.4078 - accuracy: 0.4409 - val_loss: 1.5513 - val_accuracy: 0.3996 - lr: 4.0000e-04\n",
            "Epoch 15/60\n",
            "48/48 [==============================] - 29s 603ms/step - loss: 1.4383 - accuracy: 0.4337 - val_loss: 1.6051 - val_accuracy: 0.3739 - lr: 4.0000e-04\n",
            "Epoch 16/60\n",
            "48/48 [==============================] - 29s 603ms/step - loss: 1.4203 - accuracy: 0.4333 - val_loss: 1.5314 - val_accuracy: 0.4085 - lr: 4.0000e-04\n",
            "Epoch 17/60\n",
            "48/48 [==============================] - ETA: 0s - loss: 1.3949 - accuracy: 0.4462"
          ]
        },
        {
          "output_type": "stream",
          "name": "stderr",
          "text": [
            "WARNING:absl:Found untraced functions such as lstm_cell_layer_call_fn, lstm_cell_layer_call_and_return_conditional_losses, lstm_cell_1_layer_call_fn, lstm_cell_1_layer_call_and_return_conditional_losses while saving (showing 4 of 4). These functions will not be directly callable after loading.\n"
          ]
        },
        {
          "output_type": "stream",
          "name": "stdout",
          "text": [
            "INFO:tensorflow:Assets written to: /content/drive/MyDrive/speech-emotion-recognition-ravdess-data/speech_model_onlyLSTM.tf/assets\n"
          ]
        },
        {
          "output_type": "stream",
          "name": "stderr",
          "text": [
            "INFO:tensorflow:Assets written to: /content/drive/MyDrive/speech-emotion-recognition-ravdess-data/speech_model_onlyLSTM.tf/assets\n",
            "WARNING:absl:<keras.layers.recurrent.LSTMCell object at 0x7fcd6bb52250> has the same name 'LSTMCell' as a built-in Keras object. Consider renaming <class 'keras.layers.recurrent.LSTMCell'> to avoid naming conflicts when loading with `tf.keras.models.load_model`. If renaming is not possible, pass the object in the `custom_objects` parameter of the load function.\n",
            "WARNING:absl:<keras.layers.recurrent.LSTMCell object at 0x7fcd66c65890> has the same name 'LSTMCell' as a built-in Keras object. Consider renaming <class 'keras.layers.recurrent.LSTMCell'> to avoid naming conflicts when loading with `tf.keras.models.load_model`. If renaming is not possible, pass the object in the `custom_objects` parameter of the load function.\n"
          ]
        },
        {
          "output_type": "stream",
          "name": "stdout",
          "text": [
            "\b\b\b\b\b\b\b\b\b\b\b\b\b\b\b\b\b\b\b\b\b\b\b\b\b\b\b\b\b\b\b\b\b\b\b\b\b\b\b\b\b\b\b\b\b\b\b\b\b\b\b\b\b\b\b\b\b\b\b\b\b\b\b\b\b\b\b\b\b\b\b\b\b\b\b\b\b\b\b\b\b\b\r48/48 [==============================] - 38s 794ms/step - loss: 1.3949 - accuracy: 0.4462 - val_loss: 1.5508 - val_accuracy: 0.3848 - lr: 4.0000e-04\n",
            "Epoch 18/60\n",
            "48/48 [==============================] - 29s 601ms/step - loss: 1.4061 - accuracy: 0.4409 - val_loss: 1.5346 - val_accuracy: 0.4006 - lr: 4.0000e-04\n",
            "Epoch 19/60\n",
            "48/48 [==============================] - ETA: 0s - loss: 1.3720 - accuracy: 0.4498"
          ]
        },
        {
          "output_type": "stream",
          "name": "stderr",
          "text": [
            "WARNING:absl:Found untraced functions such as lstm_cell_layer_call_fn, lstm_cell_layer_call_and_return_conditional_losses, lstm_cell_1_layer_call_fn, lstm_cell_1_layer_call_and_return_conditional_losses while saving (showing 4 of 4). These functions will not be directly callable after loading.\n"
          ]
        },
        {
          "output_type": "stream",
          "name": "stdout",
          "text": [
            "INFO:tensorflow:Assets written to: /content/drive/MyDrive/speech-emotion-recognition-ravdess-data/speech_model_onlyLSTM.tf/assets\n"
          ]
        },
        {
          "output_type": "stream",
          "name": "stderr",
          "text": [
            "INFO:tensorflow:Assets written to: /content/drive/MyDrive/speech-emotion-recognition-ravdess-data/speech_model_onlyLSTM.tf/assets\n",
            "WARNING:absl:<keras.layers.recurrent.LSTMCell object at 0x7fcd6bb52250> has the same name 'LSTMCell' as a built-in Keras object. Consider renaming <class 'keras.layers.recurrent.LSTMCell'> to avoid naming conflicts when loading with `tf.keras.models.load_model`. If renaming is not possible, pass the object in the `custom_objects` parameter of the load function.\n",
            "WARNING:absl:<keras.layers.recurrent.LSTMCell object at 0x7fcd66c65890> has the same name 'LSTMCell' as a built-in Keras object. Consider renaming <class 'keras.layers.recurrent.LSTMCell'> to avoid naming conflicts when loading with `tf.keras.models.load_model`. If renaming is not possible, pass the object in the `custom_objects` parameter of the load function.\n"
          ]
        },
        {
          "output_type": "stream",
          "name": "stdout",
          "text": [
            "\b\b\b\b\b\b\b\b\b\b\b\b\b\b\b\b\b\b\b\b\b\b\b\b\b\b\b\b\b\b\b\b\b\b\b\b\b\b\b\b\b\b\b\b\b\b\b\b\b\b\b\b\b\b\b\b\b\b\b\b\b\b\b\b\b\b\b\b\b\b\b\b\b\b\b\b\b\b\b\b\b\b\r48/48 [==============================] - 39s 813ms/step - loss: 1.3720 - accuracy: 0.4498 - val_loss: 1.5917 - val_accuracy: 0.3947 - lr: 4.0000e-04\n",
            "Epoch 20/60\n",
            "48/48 [==============================] - 29s 607ms/step - loss: 1.4084 - accuracy: 0.4469 - val_loss: 1.5244 - val_accuracy: 0.3996 - lr: 4.0000e-04\n",
            "Epoch 21/60\n",
            "48/48 [==============================] - ETA: 0s - loss: 1.3532 - accuracy: 0.4667"
          ]
        },
        {
          "output_type": "stream",
          "name": "stderr",
          "text": [
            "WARNING:absl:Found untraced functions such as lstm_cell_layer_call_fn, lstm_cell_layer_call_and_return_conditional_losses, lstm_cell_1_layer_call_fn, lstm_cell_1_layer_call_and_return_conditional_losses while saving (showing 4 of 4). These functions will not be directly callable after loading.\n"
          ]
        },
        {
          "output_type": "stream",
          "name": "stdout",
          "text": [
            "INFO:tensorflow:Assets written to: /content/drive/MyDrive/speech-emotion-recognition-ravdess-data/speech_model_onlyLSTM.tf/assets\n"
          ]
        },
        {
          "output_type": "stream",
          "name": "stderr",
          "text": [
            "INFO:tensorflow:Assets written to: /content/drive/MyDrive/speech-emotion-recognition-ravdess-data/speech_model_onlyLSTM.tf/assets\n",
            "WARNING:absl:<keras.layers.recurrent.LSTMCell object at 0x7fcd6bb52250> has the same name 'LSTMCell' as a built-in Keras object. Consider renaming <class 'keras.layers.recurrent.LSTMCell'> to avoid naming conflicts when loading with `tf.keras.models.load_model`. If renaming is not possible, pass the object in the `custom_objects` parameter of the load function.\n",
            "WARNING:absl:<keras.layers.recurrent.LSTMCell object at 0x7fcd66c65890> has the same name 'LSTMCell' as a built-in Keras object. Consider renaming <class 'keras.layers.recurrent.LSTMCell'> to avoid naming conflicts when loading with `tf.keras.models.load_model`. If renaming is not possible, pass the object in the `custom_objects` parameter of the load function.\n"
          ]
        },
        {
          "output_type": "stream",
          "name": "stdout",
          "text": [
            "\b\b\b\b\b\b\b\b\b\b\b\b\b\b\b\b\b\b\b\b\b\b\b\b\b\b\b\b\b\b\b\b\b\b\b\b\b\b\b\b\b\b\b\b\b\b\b\b\b\b\b\b\b\b\b\b\b\b\b\b\b\b\b\b\b\b\b\b\b\b\b\b\b\b\b\b\b\b\b\b\b\b\r48/48 [==============================] - 38s 804ms/step - loss: 1.3532 - accuracy: 0.4667 - val_loss: 1.5513 - val_accuracy: 0.3907 - lr: 4.0000e-04\n",
            "Epoch 22/60\n",
            "48/48 [==============================] - 29s 604ms/step - loss: 1.3886 - accuracy: 0.4432 - val_loss: 1.5246 - val_accuracy: 0.3966 - lr: 4.0000e-04\n",
            "Epoch 23/60\n",
            "48/48 [==============================] - 29s 603ms/step - loss: 1.3597 - accuracy: 0.4640 - val_loss: 1.5275 - val_accuracy: 0.4085 - lr: 4.0000e-04\n",
            "Epoch 24/60\n",
            "48/48 [==============================] - 29s 600ms/step - loss: 1.3465 - accuracy: 0.4660 - val_loss: 1.4963 - val_accuracy: 0.4184 - lr: 4.0000e-04\n",
            "Epoch 25/60\n",
            "48/48 [==============================] - ETA: 0s - loss: 1.3363 - accuracy: 0.4736"
          ]
        },
        {
          "output_type": "stream",
          "name": "stderr",
          "text": [
            "WARNING:absl:Found untraced functions such as lstm_cell_layer_call_fn, lstm_cell_layer_call_and_return_conditional_losses, lstm_cell_1_layer_call_fn, lstm_cell_1_layer_call_and_return_conditional_losses while saving (showing 4 of 4). These functions will not be directly callable after loading.\n"
          ]
        },
        {
          "output_type": "stream",
          "name": "stdout",
          "text": [
            "INFO:tensorflow:Assets written to: /content/drive/MyDrive/speech-emotion-recognition-ravdess-data/speech_model_onlyLSTM.tf/assets\n"
          ]
        },
        {
          "output_type": "stream",
          "name": "stderr",
          "text": [
            "INFO:tensorflow:Assets written to: /content/drive/MyDrive/speech-emotion-recognition-ravdess-data/speech_model_onlyLSTM.tf/assets\n",
            "WARNING:absl:<keras.layers.recurrent.LSTMCell object at 0x7fcd6bb52250> has the same name 'LSTMCell' as a built-in Keras object. Consider renaming <class 'keras.layers.recurrent.LSTMCell'> to avoid naming conflicts when loading with `tf.keras.models.load_model`. If renaming is not possible, pass the object in the `custom_objects` parameter of the load function.\n",
            "WARNING:absl:<keras.layers.recurrent.LSTMCell object at 0x7fcd66c65890> has the same name 'LSTMCell' as a built-in Keras object. Consider renaming <class 'keras.layers.recurrent.LSTMCell'> to avoid naming conflicts when loading with `tf.keras.models.load_model`. If renaming is not possible, pass the object in the `custom_objects` parameter of the load function.\n"
          ]
        },
        {
          "output_type": "stream",
          "name": "stdout",
          "text": [
            "\b\b\b\b\b\b\b\b\b\b\b\b\b\b\b\b\b\b\b\b\b\b\b\b\b\b\b\b\b\b\b\b\b\b\b\b\b\b\b\b\b\b\b\b\b\b\b\b\b\b\b\b\b\b\b\b\b\b\b\b\b\b\b\b\b\b\b\b\b\b\b\b\b\b\b\b\b\b\b\b\b\b\r48/48 [==============================] - 38s 806ms/step - loss: 1.3363 - accuracy: 0.4736 - val_loss: 1.4964 - val_accuracy: 0.4045 - lr: 4.0000e-04\n",
            "Epoch 26/60\n",
            "48/48 [==============================] - 29s 606ms/step - loss: 1.3615 - accuracy: 0.4551 - val_loss: 1.5636 - val_accuracy: 0.3798 - lr: 4.0000e-04\n",
            "Epoch 27/60\n",
            "48/48 [==============================] - 29s 602ms/step - loss: 1.3389 - accuracy: 0.4723 - val_loss: 1.4929 - val_accuracy: 0.4135 - lr: 4.0000e-04\n",
            "Epoch 28/60\n",
            "48/48 [==============================] - 29s 607ms/step - loss: 1.3448 - accuracy: 0.4620 - val_loss: 1.5150 - val_accuracy: 0.4065 - lr: 4.0000e-04\n",
            "Epoch 29/60\n",
            "48/48 [==============================] - ETA: 0s - loss: 1.3295 - accuracy: 0.4779"
          ]
        },
        {
          "output_type": "stream",
          "name": "stderr",
          "text": [
            "WARNING:absl:Found untraced functions such as lstm_cell_layer_call_fn, lstm_cell_layer_call_and_return_conditional_losses, lstm_cell_1_layer_call_fn, lstm_cell_1_layer_call_and_return_conditional_losses while saving (showing 4 of 4). These functions will not be directly callable after loading.\n"
          ]
        },
        {
          "output_type": "stream",
          "name": "stdout",
          "text": [
            "INFO:tensorflow:Assets written to: /content/drive/MyDrive/speech-emotion-recognition-ravdess-data/speech_model_onlyLSTM.tf/assets\n"
          ]
        },
        {
          "output_type": "stream",
          "name": "stderr",
          "text": [
            "INFO:tensorflow:Assets written to: /content/drive/MyDrive/speech-emotion-recognition-ravdess-data/speech_model_onlyLSTM.tf/assets\n",
            "WARNING:absl:<keras.layers.recurrent.LSTMCell object at 0x7fcd6bb52250> has the same name 'LSTMCell' as a built-in Keras object. Consider renaming <class 'keras.layers.recurrent.LSTMCell'> to avoid naming conflicts when loading with `tf.keras.models.load_model`. If renaming is not possible, pass the object in the `custom_objects` parameter of the load function.\n",
            "WARNING:absl:<keras.layers.recurrent.LSTMCell object at 0x7fcd66c65890> has the same name 'LSTMCell' as a built-in Keras object. Consider renaming <class 'keras.layers.recurrent.LSTMCell'> to avoid naming conflicts when loading with `tf.keras.models.load_model`. If renaming is not possible, pass the object in the `custom_objects` parameter of the load function.\n"
          ]
        },
        {
          "output_type": "stream",
          "name": "stdout",
          "text": [
            "\b\b\b\b\b\b\b\b\b\b\b\b\b\b\b\b\b\b\b\b\b\b\b\b\b\b\b\b\b\b\b\b\b\b\b\b\b\b\b\b\b\b\b\b\b\b\b\b\b\b\b\b\b\b\b\b\b\b\b\b\b\b\b\b\b\b\b\b\b\b\b\b\b\b\b\b\b\b\b\b\b\b\r48/48 [==============================] - 38s 792ms/step - loss: 1.3295 - accuracy: 0.4779 - val_loss: 1.5405 - val_accuracy: 0.4125 - lr: 4.0000e-04\n",
            "Epoch 30/60\n",
            "48/48 [==============================] - ETA: 0s - loss: 1.3073 - accuracy: 0.4825"
          ]
        },
        {
          "output_type": "stream",
          "name": "stderr",
          "text": [
            "WARNING:absl:Found untraced functions such as lstm_cell_layer_call_fn, lstm_cell_layer_call_and_return_conditional_losses, lstm_cell_1_layer_call_fn, lstm_cell_1_layer_call_and_return_conditional_losses while saving (showing 4 of 4). These functions will not be directly callable after loading.\n"
          ]
        },
        {
          "output_type": "stream",
          "name": "stdout",
          "text": [
            "INFO:tensorflow:Assets written to: /content/drive/MyDrive/speech-emotion-recognition-ravdess-data/speech_model_onlyLSTM.tf/assets\n"
          ]
        },
        {
          "output_type": "stream",
          "name": "stderr",
          "text": [
            "INFO:tensorflow:Assets written to: /content/drive/MyDrive/speech-emotion-recognition-ravdess-data/speech_model_onlyLSTM.tf/assets\n",
            "WARNING:absl:<keras.layers.recurrent.LSTMCell object at 0x7fcd6bb52250> has the same name 'LSTMCell' as a built-in Keras object. Consider renaming <class 'keras.layers.recurrent.LSTMCell'> to avoid naming conflicts when loading with `tf.keras.models.load_model`. If renaming is not possible, pass the object in the `custom_objects` parameter of the load function.\n",
            "WARNING:absl:<keras.layers.recurrent.LSTMCell object at 0x7fcd66c65890> has the same name 'LSTMCell' as a built-in Keras object. Consider renaming <class 'keras.layers.recurrent.LSTMCell'> to avoid naming conflicts when loading with `tf.keras.models.load_model`. If renaming is not possible, pass the object in the `custom_objects` parameter of the load function.\n"
          ]
        },
        {
          "output_type": "stream",
          "name": "stdout",
          "text": [
            "\b\b\b\b\b\b\b\b\b\b\b\b\b\b\b\b\b\b\b\b\b\b\b\b\b\b\b\b\b\b\b\b\b\b\b\b\b\b\b\b\b\b\b\b\b\b\b\b\b\b\b\b\b\b\b\b\b\b\b\b\b\b\b\b\b\b\b\b\b\b\b\b\b\b\b\b\b\b\b\b\b\b\r48/48 [==============================] - 39s 814ms/step - loss: 1.3073 - accuracy: 0.4825 - val_loss: 1.5115 - val_accuracy: 0.4204 - lr: 4.0000e-04\n",
            "Epoch 31/60\n",
            "48/48 [==============================] - 29s 608ms/step - loss: 1.3258 - accuracy: 0.4815 - val_loss: 1.5289 - val_accuracy: 0.4065 - lr: 4.0000e-04\n",
            "Epoch 32/60\n",
            "48/48 [==============================] - ETA: 0s - loss: 1.2979 - accuracy: 0.4845"
          ]
        },
        {
          "output_type": "stream",
          "name": "stderr",
          "text": [
            "WARNING:absl:Found untraced functions such as lstm_cell_layer_call_fn, lstm_cell_layer_call_and_return_conditional_losses, lstm_cell_1_layer_call_fn, lstm_cell_1_layer_call_and_return_conditional_losses while saving (showing 4 of 4). These functions will not be directly callable after loading.\n"
          ]
        },
        {
          "output_type": "stream",
          "name": "stdout",
          "text": [
            "INFO:tensorflow:Assets written to: /content/drive/MyDrive/speech-emotion-recognition-ravdess-data/speech_model_onlyLSTM.tf/assets\n"
          ]
        },
        {
          "output_type": "stream",
          "name": "stderr",
          "text": [
            "INFO:tensorflow:Assets written to: /content/drive/MyDrive/speech-emotion-recognition-ravdess-data/speech_model_onlyLSTM.tf/assets\n",
            "WARNING:absl:<keras.layers.recurrent.LSTMCell object at 0x7fcd6bb52250> has the same name 'LSTMCell' as a built-in Keras object. Consider renaming <class 'keras.layers.recurrent.LSTMCell'> to avoid naming conflicts when loading with `tf.keras.models.load_model`. If renaming is not possible, pass the object in the `custom_objects` parameter of the load function.\n",
            "WARNING:absl:<keras.layers.recurrent.LSTMCell object at 0x7fcd66c65890> has the same name 'LSTMCell' as a built-in Keras object. Consider renaming <class 'keras.layers.recurrent.LSTMCell'> to avoid naming conflicts when loading with `tf.keras.models.load_model`. If renaming is not possible, pass the object in the `custom_objects` parameter of the load function.\n"
          ]
        },
        {
          "output_type": "stream",
          "name": "stdout",
          "text": [
            "\b\b\b\b\b\b\b\b\b\b\b\b\b\b\b\b\b\b\b\b\b\b\b\b\b\b\b\b\b\b\b\b\b\b\b\b\b\b\b\b\b\b\b\b\b\b\b\b\b\b\b\b\b\b\b\b\b\b\b\b\b\b\b\b\b\b\b\b\b\b\b\b\b\b\b\b\b\b\b\b\b\b\r48/48 [==============================] - 39s 810ms/step - loss: 1.2979 - accuracy: 0.4845 - val_loss: 1.5211 - val_accuracy: 0.4214 - lr: 4.0000e-04\n",
            "Epoch 33/60\n",
            "48/48 [==============================] - ETA: 0s - loss: 1.2939 - accuracy: 0.4881"
          ]
        },
        {
          "output_type": "stream",
          "name": "stderr",
          "text": [
            "WARNING:absl:Found untraced functions such as lstm_cell_layer_call_fn, lstm_cell_layer_call_and_return_conditional_losses, lstm_cell_1_layer_call_fn, lstm_cell_1_layer_call_and_return_conditional_losses while saving (showing 4 of 4). These functions will not be directly callable after loading.\n"
          ]
        },
        {
          "output_type": "stream",
          "name": "stdout",
          "text": [
            "INFO:tensorflow:Assets written to: /content/drive/MyDrive/speech-emotion-recognition-ravdess-data/speech_model_onlyLSTM.tf/assets\n"
          ]
        },
        {
          "output_type": "stream",
          "name": "stderr",
          "text": [
            "INFO:tensorflow:Assets written to: /content/drive/MyDrive/speech-emotion-recognition-ravdess-data/speech_model_onlyLSTM.tf/assets\n",
            "WARNING:absl:<keras.layers.recurrent.LSTMCell object at 0x7fcd6bb52250> has the same name 'LSTMCell' as a built-in Keras object. Consider renaming <class 'keras.layers.recurrent.LSTMCell'> to avoid naming conflicts when loading with `tf.keras.models.load_model`. If renaming is not possible, pass the object in the `custom_objects` parameter of the load function.\n",
            "WARNING:absl:<keras.layers.recurrent.LSTMCell object at 0x7fcd66c65890> has the same name 'LSTMCell' as a built-in Keras object. Consider renaming <class 'keras.layers.recurrent.LSTMCell'> to avoid naming conflicts when loading with `tf.keras.models.load_model`. If renaming is not possible, pass the object in the `custom_objects` parameter of the load function.\n"
          ]
        },
        {
          "output_type": "stream",
          "name": "stdout",
          "text": [
            "\b\b\b\b\b\b\b\b\b\b\b\b\b\b\b\b\b\b\b\b\b\b\b\b\b\b\b\b\b\b\b\b\b\b\b\b\b\b\b\b\b\b\b\b\b\b\b\b\b\b\b\b\b\b\b\b\b\b\b\b\b\b\b\b\b\b\b\b\b\b\b\b\b\b\b\b\b\b\b\b\b\b\r48/48 [==============================] - 38s 807ms/step - loss: 1.2939 - accuracy: 0.4881 - val_loss: 1.5162 - val_accuracy: 0.4293 - lr: 4.0000e-04\n",
            "Epoch 34/60\n",
            "48/48 [==============================] - 29s 602ms/step - loss: 1.3281 - accuracy: 0.4769 - val_loss: 1.5377 - val_accuracy: 0.4322 - lr: 4.0000e-04\n",
            "Epoch 35/60\n",
            "48/48 [==============================] - 29s 603ms/step - loss: 1.3133 - accuracy: 0.4825 - val_loss: 1.5484 - val_accuracy: 0.4105 - lr: 4.0000e-04\n",
            "Epoch 36/60\n",
            "48/48 [==============================] - ETA: 0s - loss: 1.2757 - accuracy: 0.5007"
          ]
        },
        {
          "output_type": "stream",
          "name": "stderr",
          "text": [
            "WARNING:absl:Found untraced functions such as lstm_cell_layer_call_fn, lstm_cell_layer_call_and_return_conditional_losses, lstm_cell_1_layer_call_fn, lstm_cell_1_layer_call_and_return_conditional_losses while saving (showing 4 of 4). These functions will not be directly callable after loading.\n"
          ]
        },
        {
          "output_type": "stream",
          "name": "stdout",
          "text": [
            "INFO:tensorflow:Assets written to: /content/drive/MyDrive/speech-emotion-recognition-ravdess-data/speech_model_onlyLSTM.tf/assets\n"
          ]
        },
        {
          "output_type": "stream",
          "name": "stderr",
          "text": [
            "INFO:tensorflow:Assets written to: /content/drive/MyDrive/speech-emotion-recognition-ravdess-data/speech_model_onlyLSTM.tf/assets\n",
            "WARNING:absl:<keras.layers.recurrent.LSTMCell object at 0x7fcd6bb52250> has the same name 'LSTMCell' as a built-in Keras object. Consider renaming <class 'keras.layers.recurrent.LSTMCell'> to avoid naming conflicts when loading with `tf.keras.models.load_model`. If renaming is not possible, pass the object in the `custom_objects` parameter of the load function.\n",
            "WARNING:absl:<keras.layers.recurrent.LSTMCell object at 0x7fcd66c65890> has the same name 'LSTMCell' as a built-in Keras object. Consider renaming <class 'keras.layers.recurrent.LSTMCell'> to avoid naming conflicts when loading with `tf.keras.models.load_model`. If renaming is not possible, pass the object in the `custom_objects` parameter of the load function.\n"
          ]
        },
        {
          "output_type": "stream",
          "name": "stdout",
          "text": [
            "\b\b\b\b\b\b\b\b\b\b\b\b\b\b\b\b\b\b\b\b\b\b\b\b\b\b\b\b\b\b\b\b\b\b\b\b\b\b\b\b\b\b\b\b\b\b\b\b\b\b\b\b\b\b\b\b\b\b\b\b\b\b\b\b\b\b\b\b\b\b\b\b\b\b\b\b\b\b\b\b\b\b\r48/48 [==============================] - 38s 802ms/step - loss: 1.2757 - accuracy: 0.5007 - val_loss: 1.5273 - val_accuracy: 0.4164 - lr: 4.0000e-04\n",
            "Epoch 37/60\n",
            "48/48 [==============================] - 29s 603ms/step - loss: 1.2801 - accuracy: 0.4891 - val_loss: 1.5144 - val_accuracy: 0.4273 - lr: 4.0000e-04\n",
            "Epoch 38/60\n",
            "48/48 [==============================] - 29s 603ms/step - loss: 1.2691 - accuracy: 0.4947 - val_loss: 1.5262 - val_accuracy: 0.4154 - lr: 4.0000e-04\n",
            "Epoch 39/60\n",
            "48/48 [==============================] - ETA: 0s - loss: 1.2575 - accuracy: 0.5036"
          ]
        },
        {
          "output_type": "stream",
          "name": "stderr",
          "text": [
            "WARNING:absl:Found untraced functions such as lstm_cell_layer_call_fn, lstm_cell_layer_call_and_return_conditional_losses, lstm_cell_1_layer_call_fn, lstm_cell_1_layer_call_and_return_conditional_losses while saving (showing 4 of 4). These functions will not be directly callable after loading.\n"
          ]
        },
        {
          "output_type": "stream",
          "name": "stdout",
          "text": [
            "INFO:tensorflow:Assets written to: /content/drive/MyDrive/speech-emotion-recognition-ravdess-data/speech_model_onlyLSTM.tf/assets\n"
          ]
        },
        {
          "output_type": "stream",
          "name": "stderr",
          "text": [
            "INFO:tensorflow:Assets written to: /content/drive/MyDrive/speech-emotion-recognition-ravdess-data/speech_model_onlyLSTM.tf/assets\n",
            "WARNING:absl:<keras.layers.recurrent.LSTMCell object at 0x7fcd6bb52250> has the same name 'LSTMCell' as a built-in Keras object. Consider renaming <class 'keras.layers.recurrent.LSTMCell'> to avoid naming conflicts when loading with `tf.keras.models.load_model`. If renaming is not possible, pass the object in the `custom_objects` parameter of the load function.\n",
            "WARNING:absl:<keras.layers.recurrent.LSTMCell object at 0x7fcd66c65890> has the same name 'LSTMCell' as a built-in Keras object. Consider renaming <class 'keras.layers.recurrent.LSTMCell'> to avoid naming conflicts when loading with `tf.keras.models.load_model`. If renaming is not possible, pass the object in the `custom_objects` parameter of the load function.\n"
          ]
        },
        {
          "output_type": "stream",
          "name": "stdout",
          "text": [
            "\b\b\b\b\b\b\b\b\b\b\b\b\b\b\b\b\b\b\b\b\b\b\b\b\b\b\b\b\b\b\b\b\b\b\b\b\b\b\b\b\b\b\b\b\b\b\b\b\b\b\b\b\b\b\b\b\b\b\b\b\b\b\b\b\b\b\b\b\b\b\b\b\b\b\b\b\b\b\b\b\b\b\r48/48 [==============================] - 38s 790ms/step - loss: 1.2575 - accuracy: 0.5036 - val_loss: 1.5878 - val_accuracy: 0.3947 - lr: 4.0000e-04\n",
            "Epoch 40/60\n",
            "48/48 [==============================] - 29s 605ms/step - loss: 1.2791 - accuracy: 0.4908 - val_loss: 1.5100 - val_accuracy: 0.4402 - lr: 4.0000e-04\n",
            "Epoch 41/60\n",
            "48/48 [==============================] - ETA: 0s - loss: 1.2503 - accuracy: 0.5109"
          ]
        },
        {
          "output_type": "stream",
          "name": "stderr",
          "text": [
            "WARNING:absl:Found untraced functions such as lstm_cell_layer_call_fn, lstm_cell_layer_call_and_return_conditional_losses, lstm_cell_1_layer_call_fn, lstm_cell_1_layer_call_and_return_conditional_losses while saving (showing 4 of 4). These functions will not be directly callable after loading.\n"
          ]
        },
        {
          "output_type": "stream",
          "name": "stdout",
          "text": [
            "INFO:tensorflow:Assets written to: /content/drive/MyDrive/speech-emotion-recognition-ravdess-data/speech_model_onlyLSTM.tf/assets\n"
          ]
        },
        {
          "output_type": "stream",
          "name": "stderr",
          "text": [
            "INFO:tensorflow:Assets written to: /content/drive/MyDrive/speech-emotion-recognition-ravdess-data/speech_model_onlyLSTM.tf/assets\n",
            "WARNING:absl:<keras.layers.recurrent.LSTMCell object at 0x7fcd6bb52250> has the same name 'LSTMCell' as a built-in Keras object. Consider renaming <class 'keras.layers.recurrent.LSTMCell'> to avoid naming conflicts when loading with `tf.keras.models.load_model`. If renaming is not possible, pass the object in the `custom_objects` parameter of the load function.\n",
            "WARNING:absl:<keras.layers.recurrent.LSTMCell object at 0x7fcd66c65890> has the same name 'LSTMCell' as a built-in Keras object. Consider renaming <class 'keras.layers.recurrent.LSTMCell'> to avoid naming conflicts when loading with `tf.keras.models.load_model`. If renaming is not possible, pass the object in the `custom_objects` parameter of the load function.\n"
          ]
        },
        {
          "output_type": "stream",
          "name": "stdout",
          "text": [
            "\b\b\b\b\b\b\b\b\b\b\b\b\b\b\b\b\b\b\b\b\b\b\b\b\b\b\b\b\b\b\b\b\b\b\b\b\b\b\b\b\b\b\b\b\b\b\b\b\b\b\b\b\b\b\b\b\b\b\b\b\b\b\b\b\b\b\b\b\b\b\b\b\b\b\b\b\b\b\b\b\b\b\r48/48 [==============================] - 39s 809ms/step - loss: 1.2503 - accuracy: 0.5109 - val_loss: 1.5475 - val_accuracy: 0.4085 - lr: 4.0000e-04\n",
            "Epoch 42/60\n",
            "48/48 [==============================] - 29s 606ms/step - loss: 1.2819 - accuracy: 0.4980 - val_loss: 1.5672 - val_accuracy: 0.4144 - lr: 4.0000e-04\n",
            "Epoch 43/60\n",
            "48/48 [==============================] - 29s 606ms/step - loss: 1.2426 - accuracy: 0.5083 - val_loss: 1.5866 - val_accuracy: 0.3996 - lr: 4.0000e-04\n",
            "Epoch 44/60\n",
            "48/48 [==============================] - ETA: 0s - loss: 1.2432 - accuracy: 0.5168"
          ]
        },
        {
          "output_type": "stream",
          "name": "stderr",
          "text": [
            "WARNING:absl:Found untraced functions such as lstm_cell_layer_call_fn, lstm_cell_layer_call_and_return_conditional_losses, lstm_cell_1_layer_call_fn, lstm_cell_1_layer_call_and_return_conditional_losses while saving (showing 4 of 4). These functions will not be directly callable after loading.\n"
          ]
        },
        {
          "output_type": "stream",
          "name": "stdout",
          "text": [
            "INFO:tensorflow:Assets written to: /content/drive/MyDrive/speech-emotion-recognition-ravdess-data/speech_model_onlyLSTM.tf/assets\n"
          ]
        },
        {
          "output_type": "stream",
          "name": "stderr",
          "text": [
            "INFO:tensorflow:Assets written to: /content/drive/MyDrive/speech-emotion-recognition-ravdess-data/speech_model_onlyLSTM.tf/assets\n",
            "WARNING:absl:<keras.layers.recurrent.LSTMCell object at 0x7fcd6bb52250> has the same name 'LSTMCell' as a built-in Keras object. Consider renaming <class 'keras.layers.recurrent.LSTMCell'> to avoid naming conflicts when loading with `tf.keras.models.load_model`. If renaming is not possible, pass the object in the `custom_objects` parameter of the load function.\n",
            "WARNING:absl:<keras.layers.recurrent.LSTMCell object at 0x7fcd66c65890> has the same name 'LSTMCell' as a built-in Keras object. Consider renaming <class 'keras.layers.recurrent.LSTMCell'> to avoid naming conflicts when loading with `tf.keras.models.load_model`. If renaming is not possible, pass the object in the `custom_objects` parameter of the load function.\n"
          ]
        },
        {
          "output_type": "stream",
          "name": "stdout",
          "text": [
            "\b\b\b\b\b\b\b\b\b\b\b\b\b\b\b\b\b\b\b\b\b\b\b\b\b\b\b\b\b\b\b\b\b\b\b\b\b\b\b\b\b\b\b\b\b\b\b\b\b\b\b\b\b\b\b\b\b\b\b\b\b\b\b\b\b\b\b\b\b\b\b\b\b\b\b\b\b\b\b\b\b\b\r48/48 [==============================] - 39s 809ms/step - loss: 1.2432 - accuracy: 0.5168 - val_loss: 1.5180 - val_accuracy: 0.4253 - lr: 4.0000e-04\n",
            "Epoch 45/60\n",
            "48/48 [==============================] - ETA: 0s - loss: 1.2293 - accuracy: 0.5231"
          ]
        },
        {
          "output_type": "stream",
          "name": "stderr",
          "text": [
            "WARNING:absl:Found untraced functions such as lstm_cell_layer_call_fn, lstm_cell_layer_call_and_return_conditional_losses, lstm_cell_1_layer_call_fn, lstm_cell_1_layer_call_and_return_conditional_losses while saving (showing 4 of 4). These functions will not be directly callable after loading.\n"
          ]
        },
        {
          "output_type": "stream",
          "name": "stdout",
          "text": [
            "INFO:tensorflow:Assets written to: /content/drive/MyDrive/speech-emotion-recognition-ravdess-data/speech_model_onlyLSTM.tf/assets\n"
          ]
        },
        {
          "output_type": "stream",
          "name": "stderr",
          "text": [
            "INFO:tensorflow:Assets written to: /content/drive/MyDrive/speech-emotion-recognition-ravdess-data/speech_model_onlyLSTM.tf/assets\n",
            "WARNING:absl:<keras.layers.recurrent.LSTMCell object at 0x7fcd6bb52250> has the same name 'LSTMCell' as a built-in Keras object. Consider renaming <class 'keras.layers.recurrent.LSTMCell'> to avoid naming conflicts when loading with `tf.keras.models.load_model`. If renaming is not possible, pass the object in the `custom_objects` parameter of the load function.\n",
            "WARNING:absl:<keras.layers.recurrent.LSTMCell object at 0x7fcd66c65890> has the same name 'LSTMCell' as a built-in Keras object. Consider renaming <class 'keras.layers.recurrent.LSTMCell'> to avoid naming conflicts when loading with `tf.keras.models.load_model`. If renaming is not possible, pass the object in the `custom_objects` parameter of the load function.\n"
          ]
        },
        {
          "output_type": "stream",
          "name": "stdout",
          "text": [
            "\b\b\b\b\b\b\b\b\b\b\b\b\b\b\b\b\b\b\b\b\b\b\b\b\b\b\b\b\b\b\b\b\b\b\b\b\b\b\b\b\b\b\b\b\b\b\b\b\b\b\b\b\b\b\b\b\b\b\b\b\b\b\b\b\b\b\b\b\b\b\b\b\b\b\b\b\b\b\b\b\b\b\r48/48 [==============================] - 38s 804ms/step - loss: 1.2293 - accuracy: 0.5231 - val_loss: 1.5707 - val_accuracy: 0.4144 - lr: 4.0000e-04\n",
            "Epoch 46/60\n",
            "48/48 [==============================] - 29s 605ms/step - loss: 1.2395 - accuracy: 0.5109 - val_loss: 1.5113 - val_accuracy: 0.4322 - lr: 4.0000e-04\n",
            "Epoch 47/60\n",
            "48/48 [==============================] - 29s 604ms/step - loss: 1.2626 - accuracy: 0.5053 - val_loss: 1.5787 - val_accuracy: 0.4075 - lr: 4.0000e-04\n",
            "Epoch 48/60\n",
            "48/48 [==============================] - 29s 602ms/step - loss: 1.2473 - accuracy: 0.5112 - val_loss: 1.5448 - val_accuracy: 0.3947 - lr: 4.0000e-04\n",
            "Epoch 49/60\n",
            "48/48 [==============================] - 29s 605ms/step - loss: 1.2460 - accuracy: 0.5102 - val_loss: 1.5004 - val_accuracy: 0.4293 - lr: 4.0000e-04\n",
            "Epoch 50/60\n",
            "48/48 [==============================] - 29s 605ms/step - loss: 1.1958 - accuracy: 0.5228 - val_loss: 1.5195 - val_accuracy: 0.4224 - lr: 4.0000e-04\n",
            "Epoch 51/60\n",
            "48/48 [==============================] - ETA: 0s - loss: 1.2135 - accuracy: 0.5274"
          ]
        },
        {
          "output_type": "stream",
          "name": "stderr",
          "text": [
            "WARNING:absl:Found untraced functions such as lstm_cell_layer_call_fn, lstm_cell_layer_call_and_return_conditional_losses, lstm_cell_1_layer_call_fn, lstm_cell_1_layer_call_and_return_conditional_losses while saving (showing 4 of 4). These functions will not be directly callable after loading.\n"
          ]
        },
        {
          "output_type": "stream",
          "name": "stdout",
          "text": [
            "INFO:tensorflow:Assets written to: /content/drive/MyDrive/speech-emotion-recognition-ravdess-data/speech_model_onlyLSTM.tf/assets\n"
          ]
        },
        {
          "output_type": "stream",
          "name": "stderr",
          "text": [
            "INFO:tensorflow:Assets written to: /content/drive/MyDrive/speech-emotion-recognition-ravdess-data/speech_model_onlyLSTM.tf/assets\n",
            "WARNING:absl:<keras.layers.recurrent.LSTMCell object at 0x7fcd6bb52250> has the same name 'LSTMCell' as a built-in Keras object. Consider renaming <class 'keras.layers.recurrent.LSTMCell'> to avoid naming conflicts when loading with `tf.keras.models.load_model`. If renaming is not possible, pass the object in the `custom_objects` parameter of the load function.\n",
            "WARNING:absl:<keras.layers.recurrent.LSTMCell object at 0x7fcd66c65890> has the same name 'LSTMCell' as a built-in Keras object. Consider renaming <class 'keras.layers.recurrent.LSTMCell'> to avoid naming conflicts when loading with `tf.keras.models.load_model`. If renaming is not possible, pass the object in the `custom_objects` parameter of the load function.\n"
          ]
        },
        {
          "output_type": "stream",
          "name": "stdout",
          "text": [
            "\b\b\b\b\b\b\b\b\b\b\b\b\b\b\b\b\b\b\b\b\b\b\b\b\b\b\b\b\b\b\b\b\b\b\b\b\b\b\b\b\b\b\b\b\b\b\b\b\b\b\b\b\b\b\b\b\b\b\b\b\b\b\b\b\b\b\b\b\b\b\b\b\b\b\b\b\b\b\b\b\b\b\r48/48 [==============================] - 38s 806ms/step - loss: 1.2135 - accuracy: 0.5274 - val_loss: 1.6148 - val_accuracy: 0.3996 - lr: 4.0000e-04\n",
            "Epoch 52/60\n",
            "48/48 [==============================] - 29s 603ms/step - loss: 1.2232 - accuracy: 0.5218 - val_loss: 1.5461 - val_accuracy: 0.4273 - lr: 4.0000e-04\n",
            "Epoch 53/60\n",
            "48/48 [==============================] - ETA: 0s - loss: 1.1826 - accuracy: 0.5452"
          ]
        },
        {
          "output_type": "stream",
          "name": "stderr",
          "text": [
            "WARNING:absl:Found untraced functions such as lstm_cell_layer_call_fn, lstm_cell_layer_call_and_return_conditional_losses, lstm_cell_1_layer_call_fn, lstm_cell_1_layer_call_and_return_conditional_losses while saving (showing 4 of 4). These functions will not be directly callable after loading.\n"
          ]
        },
        {
          "output_type": "stream",
          "name": "stdout",
          "text": [
            "INFO:tensorflow:Assets written to: /content/drive/MyDrive/speech-emotion-recognition-ravdess-data/speech_model_onlyLSTM.tf/assets\n"
          ]
        },
        {
          "output_type": "stream",
          "name": "stderr",
          "text": [
            "INFO:tensorflow:Assets written to: /content/drive/MyDrive/speech-emotion-recognition-ravdess-data/speech_model_onlyLSTM.tf/assets\n",
            "WARNING:absl:<keras.layers.recurrent.LSTMCell object at 0x7fcd6bb52250> has the same name 'LSTMCell' as a built-in Keras object. Consider renaming <class 'keras.layers.recurrent.LSTMCell'> to avoid naming conflicts when loading with `tf.keras.models.load_model`. If renaming is not possible, pass the object in the `custom_objects` parameter of the load function.\n",
            "WARNING:absl:<keras.layers.recurrent.LSTMCell object at 0x7fcd66c65890> has the same name 'LSTMCell' as a built-in Keras object. Consider renaming <class 'keras.layers.recurrent.LSTMCell'> to avoid naming conflicts when loading with `tf.keras.models.load_model`. If renaming is not possible, pass the object in the `custom_objects` parameter of the load function.\n"
          ]
        },
        {
          "output_type": "stream",
          "name": "stdout",
          "text": [
            "\b\b\b\b\b\b\b\b\b\b\b\b\b\b\b\b\b\b\b\b\b\b\b\b\b\b\b\b\b\b\b\b\b\b\b\b\b\b\b\b\b\b\b\b\b\b\b\b\b\b\b\b\b\b\b\b\b\b\b\b\b\b\b\b\b\b\b\b\b\b\b\b\b\b\b\b\b\b\b\b\b\b\r48/48 [==============================] - 38s 790ms/step - loss: 1.1826 - accuracy: 0.5452 - val_loss: 1.5462 - val_accuracy: 0.4293 - lr: 4.0000e-04\n",
            "Epoch 54/60\n",
            "48/48 [==============================] - 29s 604ms/step - loss: 1.1827 - accuracy: 0.5330 - val_loss: 1.5397 - val_accuracy: 0.4184 - lr: 4.0000e-04\n",
            "Epoch 55/60\n",
            "48/48 [==============================] - 29s 603ms/step - loss: 1.1766 - accuracy: 0.5347 - val_loss: 1.5836 - val_accuracy: 0.4065 - lr: 4.0000e-04\n",
            "Epoch 56/60\n",
            "48/48 [==============================] - 29s 602ms/step - loss: 1.2159 - accuracy: 0.5201 - val_loss: 1.5345 - val_accuracy: 0.4144 - lr: 4.0000e-04\n",
            "Epoch 57/60\n",
            "48/48 [==============================] - 29s 604ms/step - loss: 1.1661 - accuracy: 0.5406 - val_loss: 1.5438 - val_accuracy: 0.4283 - lr: 4.0000e-04\n",
            "Epoch 58/60\n",
            "48/48 [==============================] - 29s 603ms/step - loss: 1.1652 - accuracy: 0.5422 - val_loss: 1.5721 - val_accuracy: 0.4243 - lr: 4.0000e-04\n",
            "Epoch 59/60\n",
            "48/48 [==============================] - ETA: 0s - loss: 1.1675 - accuracy: 0.5518"
          ]
        },
        {
          "output_type": "stream",
          "name": "stderr",
          "text": [
            "WARNING:absl:Found untraced functions such as lstm_cell_layer_call_fn, lstm_cell_layer_call_and_return_conditional_losses, lstm_cell_1_layer_call_fn, lstm_cell_1_layer_call_and_return_conditional_losses while saving (showing 4 of 4). These functions will not be directly callable after loading.\n"
          ]
        },
        {
          "output_type": "stream",
          "name": "stdout",
          "text": [
            "INFO:tensorflow:Assets written to: /content/drive/MyDrive/speech-emotion-recognition-ravdess-data/speech_model_onlyLSTM.tf/assets\n"
          ]
        },
        {
          "output_type": "stream",
          "name": "stderr",
          "text": [
            "INFO:tensorflow:Assets written to: /content/drive/MyDrive/speech-emotion-recognition-ravdess-data/speech_model_onlyLSTM.tf/assets\n",
            "WARNING:absl:<keras.layers.recurrent.LSTMCell object at 0x7fcd6bb52250> has the same name 'LSTMCell' as a built-in Keras object. Consider renaming <class 'keras.layers.recurrent.LSTMCell'> to avoid naming conflicts when loading with `tf.keras.models.load_model`. If renaming is not possible, pass the object in the `custom_objects` parameter of the load function.\n",
            "WARNING:absl:<keras.layers.recurrent.LSTMCell object at 0x7fcd66c65890> has the same name 'LSTMCell' as a built-in Keras object. Consider renaming <class 'keras.layers.recurrent.LSTMCell'> to avoid naming conflicts when loading with `tf.keras.models.load_model`. If renaming is not possible, pass the object in the `custom_objects` parameter of the load function.\n"
          ]
        },
        {
          "output_type": "stream",
          "name": "stdout",
          "text": [
            "\b\b\b\b\b\b\b\b\b\b\b\b\b\b\b\b\b\b\b\b\b\b\b\b\b\b\b\b\b\b\b\b\b\b\b\b\b\b\b\b\b\b\b\b\b\b\b\b\b\b\b\b\b\b\b\b\b\b\b\b\b\b\b\b\b\b\b\b\b\b\b\b\b\b\b\b\b\b\b\b\b\b\r48/48 [==============================] - 39s 814ms/step - loss: 1.1675 - accuracy: 0.5518 - val_loss: 1.5437 - val_accuracy: 0.4283 - lr: 4.0000e-04\n",
            "Epoch 60/60\n",
            "48/48 [==============================] - ETA: 0s - loss: 1.1525 - accuracy: 0.5574"
          ]
        },
        {
          "output_type": "stream",
          "name": "stderr",
          "text": [
            "WARNING:absl:Found untraced functions such as lstm_cell_layer_call_fn, lstm_cell_layer_call_and_return_conditional_losses, lstm_cell_1_layer_call_fn, lstm_cell_1_layer_call_and_return_conditional_losses while saving (showing 4 of 4). These functions will not be directly callable after loading.\n"
          ]
        },
        {
          "output_type": "stream",
          "name": "stdout",
          "text": [
            "INFO:tensorflow:Assets written to: /content/drive/MyDrive/speech-emotion-recognition-ravdess-data/speech_model_onlyLSTM.tf/assets\n"
          ]
        },
        {
          "output_type": "stream",
          "name": "stderr",
          "text": [
            "INFO:tensorflow:Assets written to: /content/drive/MyDrive/speech-emotion-recognition-ravdess-data/speech_model_onlyLSTM.tf/assets\n",
            "WARNING:absl:<keras.layers.recurrent.LSTMCell object at 0x7fcd6bb52250> has the same name 'LSTMCell' as a built-in Keras object. Consider renaming <class 'keras.layers.recurrent.LSTMCell'> to avoid naming conflicts when loading with `tf.keras.models.load_model`. If renaming is not possible, pass the object in the `custom_objects` parameter of the load function.\n",
            "WARNING:absl:<keras.layers.recurrent.LSTMCell object at 0x7fcd66c65890> has the same name 'LSTMCell' as a built-in Keras object. Consider renaming <class 'keras.layers.recurrent.LSTMCell'> to avoid naming conflicts when loading with `tf.keras.models.load_model`. If renaming is not possible, pass the object in the `custom_objects` parameter of the load function.\n"
          ]
        },
        {
          "output_type": "stream",
          "name": "stdout",
          "text": [
            "\b\b\b\b\b\b\b\b\b\b\b\b\b\b\b\b\b\b\b\b\b\b\b\b\b\b\b\b\b\b\b\b\b\b\b\b\b\b\b\b\b\b\b\b\b\b\b\b\b\b\b\b\b\b\b\b\b\b\b\b\b\b\b\b\b\b\b\b\b\b\b\b\b\b\b\b\b\b\b\b\b\b\r48/48 [==============================] - 38s 803ms/step - loss: 1.1525 - accuracy: 0.5574 - val_loss: 1.5627 - val_accuracy: 0.4174 - lr: 4.0000e-04\n"
          ]
        }
      ]
    },
    {
      "cell_type": "code",
      "source": [
        "history = tf.keras.models.load_model(\"/content/drive/MyDrive/speech-emotion-recognition-ravdess-data/speech_model_onlyLSTM.tf\")\n",
        "\n",
        "earlyStopping_1 = EarlyStopping(monitor='val_loss', patience=6, verbose=0, mode='min')\n",
        "mcp_save_3 = ModelCheckpoint('/content/drive/MyDrive/speech-emotion-recognition-ravdess-data/speech_model_onlyLSTM.tf', save_best_only=True, monitor='val_loss', \n",
        "                           mode='min', save_freq='epoch')\n",
        "reduce_val_loss = ReduceLROnPlateau(monitor='val_loss', factor=0.1, patience=6, verbose=0, mode='min')\n",
        "\n",
        "history = model.fit(x_train, y_train, batch_size=64, epochs=eps, validation_data=(x_test, y_test), callbacks=[earlyStopping_1, mcp_save_3, reduce_val_loss])"
      ],
      "metadata": {
        "id": "7fyDo-aoPzKt",
        "colab": {
          "base_uri": "https://localhost:8080/"
        },
        "outputId": "96fc8b9a-aa2c-461e-b482-dcc22e7f58eb"
      },
      "execution_count": null,
      "outputs": [
        {
          "output_type": "stream",
          "name": "stdout",
          "text": [
            "Epoch 1/60\n",
            "48/48 [==============================] - ETA: 0s - loss: 1.1908 - accuracy: 0.5370"
          ]
        },
        {
          "output_type": "stream",
          "name": "stderr",
          "text": [
            "WARNING:absl:Found untraced functions such as lstm_cell_layer_call_fn, lstm_cell_layer_call_and_return_conditional_losses, lstm_cell_1_layer_call_fn, lstm_cell_1_layer_call_and_return_conditional_losses while saving (showing 4 of 4). These functions will not be directly callable after loading.\n"
          ]
        },
        {
          "output_type": "stream",
          "name": "stdout",
          "text": [
            "INFO:tensorflow:Assets written to: /content/drive/MyDrive/speech-emotion-recognition-ravdess-data/speech_model_onlyLSTM.tf/assets\n"
          ]
        },
        {
          "output_type": "stream",
          "name": "stderr",
          "text": [
            "INFO:tensorflow:Assets written to: /content/drive/MyDrive/speech-emotion-recognition-ravdess-data/speech_model_onlyLSTM.tf/assets\n",
            "WARNING:absl:<keras.layers.recurrent.LSTMCell object at 0x7fcd6bb52250> has the same name 'LSTMCell' as a built-in Keras object. Consider renaming <class 'keras.layers.recurrent.LSTMCell'> to avoid naming conflicts when loading with `tf.keras.models.load_model`. If renaming is not possible, pass the object in the `custom_objects` parameter of the load function.\n",
            "WARNING:absl:<keras.layers.recurrent.LSTMCell object at 0x7fcd66c65890> has the same name 'LSTMCell' as a built-in Keras object. Consider renaming <class 'keras.layers.recurrent.LSTMCell'> to avoid naming conflicts when loading with `tf.keras.models.load_model`. If renaming is not possible, pass the object in the `custom_objects` parameter of the load function.\n"
          ]
        },
        {
          "output_type": "stream",
          "name": "stdout",
          "text": [
            "\b\b\b\b\b\b\b\b\b\b\b\b\b\b\b\b\b\b\b\b\b\b\b\b\b\b\b\b\b\b\b\b\b\b\b\b\b\b\b\b\b\b\b\b\b\b\b\b\b\b\b\b\b\b\b\b\b\b\b\b\b\b\b\b\b\b\b\b\b\b\b\b\b\b\b\b\b\b\b\b\b\b\r48/48 [==============================] - 38s 801ms/step - loss: 1.1908 - accuracy: 0.5370 - val_loss: 1.5783 - val_accuracy: 0.4204 - lr: 4.0000e-04\n",
            "Epoch 2/60\n",
            "48/48 [==============================] - ETA: 0s - loss: 1.1579 - accuracy: 0.5495"
          ]
        },
        {
          "output_type": "stream",
          "name": "stderr",
          "text": [
            "WARNING:absl:Found untraced functions such as lstm_cell_layer_call_fn, lstm_cell_layer_call_and_return_conditional_losses, lstm_cell_1_layer_call_fn, lstm_cell_1_layer_call_and_return_conditional_losses while saving (showing 4 of 4). These functions will not be directly callable after loading.\n"
          ]
        },
        {
          "output_type": "stream",
          "name": "stdout",
          "text": [
            "INFO:tensorflow:Assets written to: /content/drive/MyDrive/speech-emotion-recognition-ravdess-data/speech_model_onlyLSTM.tf/assets\n"
          ]
        },
        {
          "output_type": "stream",
          "name": "stderr",
          "text": [
            "INFO:tensorflow:Assets written to: /content/drive/MyDrive/speech-emotion-recognition-ravdess-data/speech_model_onlyLSTM.tf/assets\n",
            "WARNING:absl:<keras.layers.recurrent.LSTMCell object at 0x7fcd6bb52250> has the same name 'LSTMCell' as a built-in Keras object. Consider renaming <class 'keras.layers.recurrent.LSTMCell'> to avoid naming conflicts when loading with `tf.keras.models.load_model`. If renaming is not possible, pass the object in the `custom_objects` parameter of the load function.\n",
            "WARNING:absl:<keras.layers.recurrent.LSTMCell object at 0x7fcd66c65890> has the same name 'LSTMCell' as a built-in Keras object. Consider renaming <class 'keras.layers.recurrent.LSTMCell'> to avoid naming conflicts when loading with `tf.keras.models.load_model`. If renaming is not possible, pass the object in the `custom_objects` parameter of the load function.\n"
          ]
        },
        {
          "output_type": "stream",
          "name": "stdout",
          "text": [
            "\b\b\b\b\b\b\b\b\b\b\b\b\b\b\b\b\b\b\b\b\b\b\b\b\b\b\b\b\b\b\b\b\b\b\b\b\b\b\b\b\b\b\b\b\b\b\b\b\b\b\b\b\b\b\b\b\b\b\b\b\b\b\b\b\b\b\b\b\b\b\b\b\b\b\b\b\b\b\b\b\b\b\r48/48 [==============================] - 38s 806ms/step - loss: 1.1579 - accuracy: 0.5495 - val_loss: 1.5677 - val_accuracy: 0.4085 - lr: 4.0000e-04\n",
            "Epoch 3/60\n",
            "48/48 [==============================] - 29s 603ms/step - loss: 1.1242 - accuracy: 0.5700 - val_loss: 1.5678 - val_accuracy: 0.4293 - lr: 4.0000e-04\n",
            "Epoch 4/60\n",
            "48/48 [==============================] - 29s 599ms/step - loss: 1.1649 - accuracy: 0.5419 - val_loss: 1.6004 - val_accuracy: 0.4026 - lr: 4.0000e-04\n",
            "Epoch 5/60\n",
            "48/48 [==============================] - 29s 602ms/step - loss: 1.1328 - accuracy: 0.5571 - val_loss: 1.6245 - val_accuracy: 0.4362 - lr: 4.0000e-04\n",
            "Epoch 6/60\n",
            "48/48 [==============================] - 29s 599ms/step - loss: 1.1136 - accuracy: 0.5650 - val_loss: 1.5873 - val_accuracy: 0.4154 - lr: 4.0000e-04\n",
            "Epoch 7/60\n",
            "48/48 [==============================] - 29s 598ms/step - loss: 1.1578 - accuracy: 0.5495 - val_loss: 1.6062 - val_accuracy: 0.4214 - lr: 4.0000e-04\n",
            "Epoch 8/60\n",
            "48/48 [==============================] - 29s 603ms/step - loss: 1.1521 - accuracy: 0.5459 - val_loss: 1.6308 - val_accuracy: 0.4243 - lr: 4.0000e-04\n"
          ]
        }
      ]
    },
    {
      "cell_type": "code",
      "source": [
        "history = tf.keras.models.load_model(\"/content/drive/MyDrive/speech-emotion-recognition-ravdess-data/speech_model_onlyLSTM.tf\")\n",
        "\n",
        "earlyStopping_2 = EarlyStopping(monitor='val_accuracy', patience=6, verbose=0, mode='max')\n",
        "mcp_save_4 = ModelCheckpoint('/content/drive/MyDrive/speech-emotion-recognition-ravdess-data/speech_model_onlyLSTM.tf', save_best_only=True, monitor='val_accuracy', \n",
        "                           mode='max', save_freq='epoch')\n",
        "increase_val_acc = ReduceLROnPlateau(monitor='val_accuracy', factor=0.1, patience=6, verbose=0, mode='max')\n",
        "history = model.fit(x_train, y_train, batch_size=64, epochs=eps, validation_data=(x_test, y_test), callbacks=[earlyStopping_2, mcp_save_4, increase_val_acc])"
      ],
      "metadata": {
        "id": "vDoaKbDhB7YS",
        "colab": {
          "base_uri": "https://localhost:8080/"
        },
        "outputId": "919f07fb-a8f7-4f26-8ef6-6799dc2dabfa"
      },
      "execution_count": null,
      "outputs": [
        {
          "output_type": "stream",
          "name": "stdout",
          "text": [
            "Epoch 1/60\n",
            "48/48 [==============================] - ETA: 0s - loss: 1.0614 - accuracy: 0.6003"
          ]
        },
        {
          "output_type": "stream",
          "name": "stderr",
          "text": [
            "WARNING:absl:Found untraced functions such as lstm_cell_layer_call_fn, lstm_cell_layer_call_and_return_conditional_losses, lstm_cell_1_layer_call_fn, lstm_cell_1_layer_call_and_return_conditional_losses while saving (showing 4 of 4). These functions will not be directly callable after loading.\n"
          ]
        },
        {
          "output_type": "stream",
          "name": "stdout",
          "text": [
            "INFO:tensorflow:Assets written to: /content/drive/MyDrive/speech-emotion-recognition-ravdess-data/speech_model_onlyLSTM.tf/assets\n"
          ]
        },
        {
          "output_type": "stream",
          "name": "stderr",
          "text": [
            "INFO:tensorflow:Assets written to: /content/drive/MyDrive/speech-emotion-recognition-ravdess-data/speech_model_onlyLSTM.tf/assets\n",
            "WARNING:absl:<keras.layers.recurrent.LSTMCell object at 0x7fcd6bb52250> has the same name 'LSTMCell' as a built-in Keras object. Consider renaming <class 'keras.layers.recurrent.LSTMCell'> to avoid naming conflicts when loading with `tf.keras.models.load_model`. If renaming is not possible, pass the object in the `custom_objects` parameter of the load function.\n",
            "WARNING:absl:<keras.layers.recurrent.LSTMCell object at 0x7fcd66c65890> has the same name 'LSTMCell' as a built-in Keras object. Consider renaming <class 'keras.layers.recurrent.LSTMCell'> to avoid naming conflicts when loading with `tf.keras.models.load_model`. If renaming is not possible, pass the object in the `custom_objects` parameter of the load function.\n"
          ]
        },
        {
          "output_type": "stream",
          "name": "stdout",
          "text": [
            "\b\b\b\b\b\b\b\b\b\b\b\b\b\b\b\b\b\b\b\b\b\b\b\b\b\b\b\b\b\b\b\b\b\b\b\b\b\b\b\b\b\b\b\b\b\b\b\b\b\b\b\b\b\b\b\b\b\b\b\b\b\b\b\b\b\b\b\b\b\b\b\b\b\b\b\b\b\b\b\b\b\b\r48/48 [==============================] - 39s 812ms/step - loss: 1.0614 - accuracy: 0.6003 - val_loss: 1.5763 - val_accuracy: 0.4293 - lr: 4.0000e-05\n",
            "Epoch 2/60\n",
            "48/48 [==============================] - ETA: 0s - loss: 1.0276 - accuracy: 0.6142"
          ]
        },
        {
          "output_type": "stream",
          "name": "stderr",
          "text": [
            "WARNING:absl:Found untraced functions such as lstm_cell_layer_call_fn, lstm_cell_layer_call_and_return_conditional_losses, lstm_cell_1_layer_call_fn, lstm_cell_1_layer_call_and_return_conditional_losses while saving (showing 4 of 4). These functions will not be directly callable after loading.\n"
          ]
        },
        {
          "output_type": "stream",
          "name": "stdout",
          "text": [
            "INFO:tensorflow:Assets written to: /content/drive/MyDrive/speech-emotion-recognition-ravdess-data/speech_model_onlyLSTM.tf/assets\n"
          ]
        },
        {
          "output_type": "stream",
          "name": "stderr",
          "text": [
            "INFO:tensorflow:Assets written to: /content/drive/MyDrive/speech-emotion-recognition-ravdess-data/speech_model_onlyLSTM.tf/assets\n",
            "WARNING:absl:<keras.layers.recurrent.LSTMCell object at 0x7fcd6bb52250> has the same name 'LSTMCell' as a built-in Keras object. Consider renaming <class 'keras.layers.recurrent.LSTMCell'> to avoid naming conflicts when loading with `tf.keras.models.load_model`. If renaming is not possible, pass the object in the `custom_objects` parameter of the load function.\n",
            "WARNING:absl:<keras.layers.recurrent.LSTMCell object at 0x7fcd66c65890> has the same name 'LSTMCell' as a built-in Keras object. Consider renaming <class 'keras.layers.recurrent.LSTMCell'> to avoid naming conflicts when loading with `tf.keras.models.load_model`. If renaming is not possible, pass the object in the `custom_objects` parameter of the load function.\n"
          ]
        },
        {
          "output_type": "stream",
          "name": "stdout",
          "text": [
            "\b\b\b\b\b\b\b\b\b\b\b\b\b\b\b\b\b\b\b\b\b\b\b\b\b\b\b\b\b\b\b\b\b\b\b\b\b\b\b\b\b\b\b\b\b\b\b\b\b\b\b\b\b\b\b\b\b\b\b\b\b\b\b\b\b\b\b\b\b\b\b\b\b\b\b\b\b\b\b\b\b\b\r48/48 [==============================] - 39s 809ms/step - loss: 1.0276 - accuracy: 0.6142 - val_loss: 1.5764 - val_accuracy: 0.4322 - lr: 4.0000e-05\n",
            "Epoch 3/60\n",
            "48/48 [==============================] - ETA: 0s - loss: 1.0092 - accuracy: 0.6224"
          ]
        },
        {
          "output_type": "stream",
          "name": "stderr",
          "text": [
            "WARNING:absl:Found untraced functions such as lstm_cell_layer_call_fn, lstm_cell_layer_call_and_return_conditional_losses, lstm_cell_1_layer_call_fn, lstm_cell_1_layer_call_and_return_conditional_losses while saving (showing 4 of 4). These functions will not be directly callable after loading.\n"
          ]
        },
        {
          "output_type": "stream",
          "name": "stdout",
          "text": [
            "INFO:tensorflow:Assets written to: /content/drive/MyDrive/speech-emotion-recognition-ravdess-data/speech_model_onlyLSTM.tf/assets\n"
          ]
        },
        {
          "output_type": "stream",
          "name": "stderr",
          "text": [
            "INFO:tensorflow:Assets written to: /content/drive/MyDrive/speech-emotion-recognition-ravdess-data/speech_model_onlyLSTM.tf/assets\n",
            "WARNING:absl:<keras.layers.recurrent.LSTMCell object at 0x7fcd6bb52250> has the same name 'LSTMCell' as a built-in Keras object. Consider renaming <class 'keras.layers.recurrent.LSTMCell'> to avoid naming conflicts when loading with `tf.keras.models.load_model`. If renaming is not possible, pass the object in the `custom_objects` parameter of the load function.\n",
            "WARNING:absl:<keras.layers.recurrent.LSTMCell object at 0x7fcd66c65890> has the same name 'LSTMCell' as a built-in Keras object. Consider renaming <class 'keras.layers.recurrent.LSTMCell'> to avoid naming conflicts when loading with `tf.keras.models.load_model`. If renaming is not possible, pass the object in the `custom_objects` parameter of the load function.\n"
          ]
        },
        {
          "output_type": "stream",
          "name": "stdout",
          "text": [
            "\b\b\b\b\b\b\b\b\b\b\b\b\b\b\b\b\b\b\b\b\b\b\b\b\b\b\b\b\b\b\b\b\b\b\b\b\b\b\b\b\b\b\b\b\b\b\b\b\b\b\b\b\b\b\b\b\b\b\b\b\b\b\b\b\b\b\b\b\b\b\b\b\b\b\b\b\b\b\b\b\b\b\r48/48 [==============================] - 38s 790ms/step - loss: 1.0092 - accuracy: 0.6224 - val_loss: 1.5817 - val_accuracy: 0.4332 - lr: 4.0000e-05\n",
            "Epoch 4/60\n",
            "48/48 [==============================] - ETA: 0s - loss: 1.0037 - accuracy: 0.6228"
          ]
        },
        {
          "output_type": "stream",
          "name": "stderr",
          "text": [
            "WARNING:absl:Found untraced functions such as lstm_cell_layer_call_fn, lstm_cell_layer_call_and_return_conditional_losses, lstm_cell_1_layer_call_fn, lstm_cell_1_layer_call_and_return_conditional_losses while saving (showing 4 of 4). These functions will not be directly callable after loading.\n"
          ]
        },
        {
          "output_type": "stream",
          "name": "stdout",
          "text": [
            "INFO:tensorflow:Assets written to: /content/drive/MyDrive/speech-emotion-recognition-ravdess-data/speech_model_onlyLSTM.tf/assets\n"
          ]
        },
        {
          "output_type": "stream",
          "name": "stderr",
          "text": [
            "INFO:tensorflow:Assets written to: /content/drive/MyDrive/speech-emotion-recognition-ravdess-data/speech_model_onlyLSTM.tf/assets\n",
            "WARNING:absl:<keras.layers.recurrent.LSTMCell object at 0x7fcd6bb52250> has the same name 'LSTMCell' as a built-in Keras object. Consider renaming <class 'keras.layers.recurrent.LSTMCell'> to avoid naming conflicts when loading with `tf.keras.models.load_model`. If renaming is not possible, pass the object in the `custom_objects` parameter of the load function.\n",
            "WARNING:absl:<keras.layers.recurrent.LSTMCell object at 0x7fcd66c65890> has the same name 'LSTMCell' as a built-in Keras object. Consider renaming <class 'keras.layers.recurrent.LSTMCell'> to avoid naming conflicts when loading with `tf.keras.models.load_model`. If renaming is not possible, pass the object in the `custom_objects` parameter of the load function.\n"
          ]
        },
        {
          "output_type": "stream",
          "name": "stdout",
          "text": [
            "\b\b\b\b\b\b\b\b\b\b\b\b\b\b\b\b\b\b\b\b\b\b\b\b\b\b\b\b\b\b\b\b\b\b\b\b\b\b\b\b\b\b\b\b\b\b\b\b\b\b\b\b\b\b\b\b\b\b\b\b\b\b\b\b\b\b\b\b\b\b\b\b\b\b\b\b\b\b\b\b\b\b\r48/48 [==============================] - 39s 813ms/step - loss: 1.0037 - accuracy: 0.6228 - val_loss: 1.5786 - val_accuracy: 0.4342 - lr: 4.0000e-05\n",
            "Epoch 5/60\n",
            "48/48 [==============================] - 29s 603ms/step - loss: 0.9979 - accuracy: 0.6231 - val_loss: 1.5927 - val_accuracy: 0.4283 - lr: 4.0000e-05\n",
            "Epoch 6/60\n",
            "48/48 [==============================] - 29s 599ms/step - loss: 0.9958 - accuracy: 0.6228 - val_loss: 1.5911 - val_accuracy: 0.4322 - lr: 4.0000e-05\n",
            "Epoch 7/60\n",
            "48/48 [==============================] - 29s 604ms/step - loss: 0.9882 - accuracy: 0.6257 - val_loss: 1.5957 - val_accuracy: 0.4263 - lr: 4.0000e-05\n",
            "Epoch 8/60\n",
            "48/48 [==============================] - 29s 608ms/step - loss: 0.9904 - accuracy: 0.6307 - val_loss: 1.5894 - val_accuracy: 0.4263 - lr: 4.0000e-05\n",
            "Epoch 9/60\n",
            "48/48 [==============================] - 29s 608ms/step - loss: 0.9806 - accuracy: 0.6343 - val_loss: 1.5972 - val_accuracy: 0.4273 - lr: 4.0000e-05\n",
            "Epoch 10/60\n",
            "48/48 [==============================] - ETA: 0s - loss: 0.9773 - accuracy: 0.6347"
          ]
        },
        {
          "output_type": "stream",
          "name": "stderr",
          "text": [
            "WARNING:absl:Found untraced functions such as lstm_cell_layer_call_fn, lstm_cell_layer_call_and_return_conditional_losses, lstm_cell_1_layer_call_fn, lstm_cell_1_layer_call_and_return_conditional_losses while saving (showing 4 of 4). These functions will not be directly callable after loading.\n"
          ]
        },
        {
          "output_type": "stream",
          "name": "stdout",
          "text": [
            "INFO:tensorflow:Assets written to: /content/drive/MyDrive/speech-emotion-recognition-ravdess-data/speech_model_onlyLSTM.tf/assets\n"
          ]
        },
        {
          "output_type": "stream",
          "name": "stderr",
          "text": [
            "INFO:tensorflow:Assets written to: /content/drive/MyDrive/speech-emotion-recognition-ravdess-data/speech_model_onlyLSTM.tf/assets\n",
            "WARNING:absl:<keras.layers.recurrent.LSTMCell object at 0x7fcd6bb52250> has the same name 'LSTMCell' as a built-in Keras object. Consider renaming <class 'keras.layers.recurrent.LSTMCell'> to avoid naming conflicts when loading with `tf.keras.models.load_model`. If renaming is not possible, pass the object in the `custom_objects` parameter of the load function.\n",
            "WARNING:absl:<keras.layers.recurrent.LSTMCell object at 0x7fcd66c65890> has the same name 'LSTMCell' as a built-in Keras object. Consider renaming <class 'keras.layers.recurrent.LSTMCell'> to avoid naming conflicts when loading with `tf.keras.models.load_model`. If renaming is not possible, pass the object in the `custom_objects` parameter of the load function.\n"
          ]
        },
        {
          "output_type": "stream",
          "name": "stdout",
          "text": [
            "\b\b\b\b\b\b\b\b\b\b\b\b\b\b\b\b\b\b\b\b\b\b\b\b\b\b\b\b\b\b\b\b\b\b\b\b\b\b\b\b\b\b\b\b\b\b\b\b\b\b\b\b\b\b\b\b\b\b\b\b\b\b\b\b\b\b\b\b\b\b\b\b\b\b\b\b\b\b\b\b\b\b\r48/48 [==============================] - 39s 815ms/step - loss: 0.9773 - accuracy: 0.6347 - val_loss: 1.5976 - val_accuracy: 0.4441 - lr: 4.0000e-05\n",
            "Epoch 11/60\n",
            "48/48 [==============================] - 29s 608ms/step - loss: 0.9680 - accuracy: 0.6366 - val_loss: 1.6017 - val_accuracy: 0.4273 - lr: 4.0000e-05\n",
            "Epoch 12/60\n",
            "48/48 [==============================] - 29s 605ms/step - loss: 0.9698 - accuracy: 0.6436 - val_loss: 1.6199 - val_accuracy: 0.4233 - lr: 4.0000e-05\n",
            "Epoch 13/60\n",
            "48/48 [==============================] - 29s 606ms/step - loss: 0.9601 - accuracy: 0.6446 - val_loss: 1.6107 - val_accuracy: 0.4352 - lr: 4.0000e-05\n",
            "Epoch 14/60\n",
            "48/48 [==============================] - 29s 606ms/step - loss: 0.9635 - accuracy: 0.6482 - val_loss: 1.6229 - val_accuracy: 0.4253 - lr: 4.0000e-05\n",
            "Epoch 15/60\n",
            "48/48 [==============================] - 29s 605ms/step - loss: 0.9589 - accuracy: 0.6389 - val_loss: 1.6262 - val_accuracy: 0.4382 - lr: 4.0000e-05\n",
            "Epoch 16/60\n",
            "48/48 [==============================] - 29s 606ms/step - loss: 0.9559 - accuracy: 0.6446 - val_loss: 1.6361 - val_accuracy: 0.4352 - lr: 4.0000e-05\n"
          ]
        }
      ]
    },
    {
      "cell_type": "code",
      "source": [
        "# predicting on test data.\n",
        "pred_test = model.predict(x_test)\n",
        "y_pred = encoder.inverse_transform(pred_test)\n",
        "\n",
        "y_test_ = encoder.inverse_transform(y_test)"
      ],
      "metadata": {
        "id": "hfXIzic1fxGd"
      },
      "execution_count": null,
      "outputs": []
    },
    {
      "cell_type": "code",
      "source": [
        "df = pd.DataFrame(columns=['Predicted Labels', 'Actual Labels'])\n",
        "df['Predicted Labels'] = y_pred.flatten()\n",
        "df['Actual Labels'] = y_test_.flatten()\n",
        "\n",
        "df"
      ],
      "metadata": {
        "id": "enKI2bejfz8Q",
        "colab": {
          "base_uri": "https://localhost:8080/",
          "height": 505
        },
        "outputId": "03d7056d-45ec-4591-b543-6e357f871103"
      },
      "execution_count": null,
      "outputs": [
        {
          "output_type": "execute_result",
          "data": {
            "text/plain": [
              "     Predicted Labels Actual Labels\n",
              "0             fearful       disgust\n",
              "1             fearful         angry\n",
              "2           surprised           sad\n",
              "3             fearful           sad\n",
              "4                calm          calm\n",
              "...               ...           ...\n",
              "1006          disgust       disgust\n",
              "1007             calm          calm\n",
              "1008        surprised       fearful\n",
              "1009          disgust         angry\n",
              "1010             calm          calm\n",
              "\n",
              "[1011 rows x 2 columns]"
            ],
            "text/html": [
              "\n",
              "  <div id=\"df-07a1de8c-df39-4cea-bfc4-5d8c29bb4d49\">\n",
              "    <div class=\"colab-df-container\">\n",
              "      <div>\n",
              "<style scoped>\n",
              "    .dataframe tbody tr th:only-of-type {\n",
              "        vertical-align: middle;\n",
              "    }\n",
              "\n",
              "    .dataframe tbody tr th {\n",
              "        vertical-align: top;\n",
              "    }\n",
              "\n",
              "    .dataframe thead th {\n",
              "        text-align: right;\n",
              "    }\n",
              "</style>\n",
              "<table border=\"1\" class=\"dataframe\">\n",
              "  <thead>\n",
              "    <tr style=\"text-align: right;\">\n",
              "      <th></th>\n",
              "      <th>Predicted Labels</th>\n",
              "      <th>Actual Labels</th>\n",
              "    </tr>\n",
              "  </thead>\n",
              "  <tbody>\n",
              "    <tr>\n",
              "      <th>0</th>\n",
              "      <td>fearful</td>\n",
              "      <td>disgust</td>\n",
              "    </tr>\n",
              "    <tr>\n",
              "      <th>1</th>\n",
              "      <td>fearful</td>\n",
              "      <td>angry</td>\n",
              "    </tr>\n",
              "    <tr>\n",
              "      <th>2</th>\n",
              "      <td>surprised</td>\n",
              "      <td>sad</td>\n",
              "    </tr>\n",
              "    <tr>\n",
              "      <th>3</th>\n",
              "      <td>fearful</td>\n",
              "      <td>sad</td>\n",
              "    </tr>\n",
              "    <tr>\n",
              "      <th>4</th>\n",
              "      <td>calm</td>\n",
              "      <td>calm</td>\n",
              "    </tr>\n",
              "    <tr>\n",
              "      <th>...</th>\n",
              "      <td>...</td>\n",
              "      <td>...</td>\n",
              "    </tr>\n",
              "    <tr>\n",
              "      <th>1006</th>\n",
              "      <td>disgust</td>\n",
              "      <td>disgust</td>\n",
              "    </tr>\n",
              "    <tr>\n",
              "      <th>1007</th>\n",
              "      <td>calm</td>\n",
              "      <td>calm</td>\n",
              "    </tr>\n",
              "    <tr>\n",
              "      <th>1008</th>\n",
              "      <td>surprised</td>\n",
              "      <td>fearful</td>\n",
              "    </tr>\n",
              "    <tr>\n",
              "      <th>1009</th>\n",
              "      <td>disgust</td>\n",
              "      <td>angry</td>\n",
              "    </tr>\n",
              "    <tr>\n",
              "      <th>1010</th>\n",
              "      <td>calm</td>\n",
              "      <td>calm</td>\n",
              "    </tr>\n",
              "  </tbody>\n",
              "</table>\n",
              "<p>1011 rows × 2 columns</p>\n",
              "</div>\n",
              "      <button class=\"colab-df-convert\" onclick=\"convertToInteractive('df-07a1de8c-df39-4cea-bfc4-5d8c29bb4d49')\"\n",
              "              title=\"Convert this dataframe to an interactive table.\"\n",
              "              style=\"display:none;\">\n",
              "        \n",
              "  <svg xmlns=\"http://www.w3.org/2000/svg\" height=\"24px\"viewBox=\"0 0 24 24\"\n",
              "       width=\"24px\">\n",
              "    <path d=\"M0 0h24v24H0V0z\" fill=\"none\"/>\n",
              "    <path d=\"M18.56 5.44l.94 2.06.94-2.06 2.06-.94-2.06-.94-.94-2.06-.94 2.06-2.06.94zm-11 1L8.5 8.5l.94-2.06 2.06-.94-2.06-.94L8.5 2.5l-.94 2.06-2.06.94zm10 10l.94 2.06.94-2.06 2.06-.94-2.06-.94-.94-2.06-.94 2.06-2.06.94z\"/><path d=\"M17.41 7.96l-1.37-1.37c-.4-.4-.92-.59-1.43-.59-.52 0-1.04.2-1.43.59L10.3 9.45l-7.72 7.72c-.78.78-.78 2.05 0 2.83L4 21.41c.39.39.9.59 1.41.59.51 0 1.02-.2 1.41-.59l7.78-7.78 2.81-2.81c.8-.78.8-2.07 0-2.86zM5.41 20L4 18.59l7.72-7.72 1.47 1.35L5.41 20z\"/>\n",
              "  </svg>\n",
              "      </button>\n",
              "      \n",
              "  <style>\n",
              "    .colab-df-container {\n",
              "      display:flex;\n",
              "      flex-wrap:wrap;\n",
              "      gap: 12px;\n",
              "    }\n",
              "\n",
              "    .colab-df-convert {\n",
              "      background-color: #E8F0FE;\n",
              "      border: none;\n",
              "      border-radius: 50%;\n",
              "      cursor: pointer;\n",
              "      display: none;\n",
              "      fill: #1967D2;\n",
              "      height: 32px;\n",
              "      padding: 0 0 0 0;\n",
              "      width: 32px;\n",
              "    }\n",
              "\n",
              "    .colab-df-convert:hover {\n",
              "      background-color: #E2EBFA;\n",
              "      box-shadow: 0px 1px 2px rgba(60, 64, 67, 0.3), 0px 1px 3px 1px rgba(60, 64, 67, 0.15);\n",
              "      fill: #174EA6;\n",
              "    }\n",
              "\n",
              "    [theme=dark] .colab-df-convert {\n",
              "      background-color: #3B4455;\n",
              "      fill: #D2E3FC;\n",
              "    }\n",
              "\n",
              "    [theme=dark] .colab-df-convert:hover {\n",
              "      background-color: #434B5C;\n",
              "      box-shadow: 0px 1px 3px 1px rgba(0, 0, 0, 0.15);\n",
              "      filter: drop-shadow(0px 1px 2px rgba(0, 0, 0, 0.3));\n",
              "      fill: #FFFFFF;\n",
              "    }\n",
              "  </style>\n",
              "\n",
              "      <script>\n",
              "        const buttonEl =\n",
              "          document.querySelector('#df-07a1de8c-df39-4cea-bfc4-5d8c29bb4d49 button.colab-df-convert');\n",
              "        buttonEl.style.display =\n",
              "          google.colab.kernel.accessAllowed ? 'block' : 'none';\n",
              "\n",
              "        async function convertToInteractive(key) {\n",
              "          const element = document.querySelector('#df-07a1de8c-df39-4cea-bfc4-5d8c29bb4d49');\n",
              "          const dataTable =\n",
              "            await google.colab.kernel.invokeFunction('convertToInteractive',\n",
              "                                                     [key], {});\n",
              "          if (!dataTable) return;\n",
              "\n",
              "          const docLinkHtml = 'Like what you see? Visit the ' +\n",
              "            '<a target=\"_blank\" href=https://colab.research.google.com/notebooks/data_table.ipynb>data table notebook</a>'\n",
              "            + ' to learn more about interactive tables.';\n",
              "          element.innerHTML = '';\n",
              "          dataTable['output_type'] = 'display_data';\n",
              "          await google.colab.output.renderOutput(dataTable, element);\n",
              "          const docLink = document.createElement('div');\n",
              "          docLink.innerHTML = docLinkHtml;\n",
              "          element.appendChild(docLink);\n",
              "        }\n",
              "      </script>\n",
              "    </div>\n",
              "  </div>\n",
              "  "
            ]
          },
          "metadata": {},
          "execution_count": 34
        }
      ]
    },
    {
      "cell_type": "code",
      "source": [
        "cm = confusion_matrix(y_test_, y_pred)\n",
        "plt.figure(figsize = (12, 10))\n",
        "cm = pd.DataFrame(cm , index = [i for i in encoder.categories_] , columns = [i for i in encoder.categories_])\n",
        "sns.heatmap(cm, linecolor='white', cmap='Blues', linewidth=1, annot=True, fmt='')\n",
        "plt.title('Confusion Matrix', size=20)\n",
        "plt.xlabel('Predicted Labels', size=14)\n",
        "plt.ylabel('Actual Labels', size=14)\n",
        "plt.show()"
      ],
      "metadata": {
        "id": "wOJYEGGMgFdq",
        "colab": {
          "base_uri": "https://localhost:8080/",
          "height": 54
        },
        "outputId": "b4f6c9b0-ce46-49a8-880a-d7ce3f1da164"
      },
      "execution_count": null,
      "outputs": [
        {
          "output_type": "display_data",
          "data": {
            "text/plain": [
              "<Figure size 864x720 with 2 Axes>"
            ],
            "image/png": "[encoded data removed]"
          },
          "metadata": {
            "needs_background": "light"
          }
        }
      ]
    },
    {
      "cell_type": "code",
      "source": [
        "print(classification_report(y_test_, y_pred))"
      ],
      "metadata": {
        "id": "FT8bw-yMgRUu",
        "colab": {
          "base_uri": "https://localhost:8080/"
        },
        "outputId": "eaa1a988-3dc8-4aed-911d-c454dc56fc44"
      },
      "execution_count": null,
      "outputs": [
        {
          "output_type": "stream",
          "name": "stdout",
          "text": [
            "              precision    recall  f1-score   support\n",
            "\n",
            "       angry       0.62      0.52      0.57       150\n",
            "        calm       0.57      0.67      0.61       156\n",
            "     disgust       0.43      0.43      0.43       139\n",
            "     fearful       0.38      0.24      0.30       143\n",
            "       happy       0.35      0.36      0.35       140\n",
            "         sad       0.32      0.37      0.35       143\n",
            "   surprised       0.36      0.43      0.39       140\n",
            "\n",
            "    accuracy                           0.44      1011\n",
            "   macro avg       0.43      0.43      0.43      1011\n",
            "weighted avg       0.44      0.44      0.43      1011\n",
            "\n"
          ]
        }
      ]
    },
    {
      "cell_type": "code",
      "source": [
        "model.summary()"
      ],
      "metadata": {
        "id": "nFsBN19-dyQk",
        "colab": {
          "base_uri": "https://localhost:8080/"
        },
        "outputId": "3471de69-6974-4763-a3dd-83a4c291d000"
      },
      "execution_count": null,
      "outputs": [
        {
          "output_type": "stream",
          "name": "stdout",
          "text": [
            "Model: \"sequential\"\n",
            "_________________________________________________________________\n",
            " Layer (type)                Output Shape              Param #   \n",
            "=================================================================\n",
            " lstm (LSTM)                 (None, 162, 128)          66560     \n",
            "                                                                 \n",
            " lstm_1 (LSTM)               (None, 128)               131584    \n",
            "                                                                 \n",
            " dense (Dense)               (None, 32)                4128      \n",
            "                                                                 \n",
            " dropout (Dropout)           (None, 32)                0         \n",
            "                                                                 \n",
            " dense_1 (Dense)             (None, 7)                 231       \n",
            "                                                                 \n",
            "=================================================================\n",
            "Total params: 202,503\n",
            "Trainable params: 202,503\n",
            "Non-trainable params: 0\n",
            "_________________________________________________________________\n"
          ]
        }
      ]
    }
  ]
}